{
  "nbformat": 4,
  "nbformat_minor": 0,
  "metadata": {
    "colab": {
      "name": "Untitled48.ipynb",
      "provenance": [],
      "authorship_tag": "ABX9TyMyCG4y4/x0kRVPa2bRsrBI",
      "include_colab_link": true
    },
    "kernelspec": {
      "name": "python3",
      "display_name": "Python 3"
    }
  },
  "cells": [
    {
      "cell_type": "markdown",
      "metadata": {
        "id": "view-in-github",
        "colab_type": "text"
      },
      "source": [
        "<a href=\"https://colab.research.google.com/github/JuanM-GG/sistemas-dinamicos-Python/blob/main/EXERCISE_2_2.ipynb\" target=\"_parent\"><img src=\"https://colab.research.google.com/assets/colab-badge.svg\" alt=\"Open In Colab\"/></a>"
      ]
    },
    {
      "cell_type": "markdown",
      "metadata": {
        "id": "e8odW9J0P_yl"
      },
      "source": [
        "Title: Exercise 2.2 \r\n",
        "\r\n",
        "Author: Juan Manuel G.G\r\n",
        "\r\n",
        "Date: February 2021"
      ]
    },
    {
      "cell_type": "markdown",
      "metadata": {
        "id": "0D0a_Mh3QPiA"
      },
      "source": [
        "### 1. Process description\r\n",
        "\r\n",
        "A completely stirred-tank heating process is used to heat an incoming stream whose flow rate varies. The heating rate from this coil and the volume are both constant. Heat losses to the ambient occur and the ambient temperature (Ta) and the incoming stream's temperature can both vary  "
      ]
    },
    {
      "cell_type": "markdown",
      "metadata": {
        "id": "9tg_-6IaQxaW"
      },
      "source": [
        "### 2. Assumptions \r\n",
        "\r\n",
        "* Constant density \r\n",
        "* Constant Cp\r\n",
        "* U, the overall heat transfer coefficient, is constant "
      ]
    },
    {
      "cell_type": "markdown",
      "metadata": {
        "id": "bGQcY3ZtReW0"
      },
      "source": [
        "### 3. Scheme of the process \r\n",
        "\r\n",
        "![Imagen2.png](data:image/png;base64,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)"
      ]
    },
    {
      "cell_type": "markdown",
      "metadata": {
        "id": "iaQz7LHjTZ99"
      },
      "source": [
        "### 4. Analysis"
      ]
    },
    {
      "cell_type": "markdown",
      "metadata": {
        "id": "_BIQZlzbTdEo"
      },
      "source": [
        "#### Establish the model \r\n",
        "\r\n",
        "Energy balance \r\n",
        "\r\n",
        "$$\\frac{dH}{dt} = w(\\hat{H}_i - \\hat{H}) + Q - UA_s(T-Ta)$$\r\n",
        "\r\n",
        "$$\r\n",
        "C_p \\rho V\\frac{dT}{dt} = wC_p(T_i - T) + Q - UA_s(T-Ta) \\tag{1}\r\n",
        "$$"
      ]
    },
    {
      "cell_type": "markdown",
      "metadata": {
        "id": "XpYvNj9xUEqd"
      },
      "source": [
        "#### Degrees of freedom analysis\r\n",
        "\r\n",
        "State variables: T (1)\r\n",
        "Equations: 1 DE (1)\r\n",
        "Degrees of freedom: 1 - 1 = 0\r\n",
        "Inputs: w, Ti, Q, Ta \r\n",
        "Parameters: Cp, $\\rho$, As, U\r\n"
      ]
    },
    {
      "cell_type": "markdown",
      "metadata": {
        "id": "ip344np_UZhK"
      },
      "source": [
        "#### Steady state \r\n",
        "\r\n",
        "Equating (1) to zero we get \r\n",
        "\r\n",
        "$$\r\n",
        "wC_p(T_i - T) + Q - UA_s(T-T_a) = 0\r\n",
        "$$\r\n",
        "\r\n",
        "$$\r\n",
        "T = \\frac{wC_pT_i + Q + UA_s T_a}{wC_p + UA_s} \\tag{2}\r\n",
        "$$"
      ]
    },
    {
      "cell_type": "code",
      "metadata": {
        "id": "5s6kHGTHP-JF"
      },
      "source": [
        "import sympy as sp"
      ],
      "execution_count": 4,
      "outputs": []
    },
    {
      "cell_type": "code",
      "metadata": {
        "id": "nJiy6XouVAce"
      },
      "source": [
        "w, Cp, Ti, T, Q, UAs, Ta = sp.symbols(\"w, Cp, Ti, T, Q, UAs, Ta\")"
      ],
      "execution_count": 5,
      "outputs": []
    },
    {
      "cell_type": "code",
      "metadata": {
        "id": "DAjJ0UU5VMmu"
      },
      "source": [
        "eq = sp.Eq(w*Cp*(Ti-T)+Q-UAs*(T-Ta), 0)"
      ],
      "execution_count": 6,
      "outputs": []
    },
    {
      "cell_type": "code",
      "metadata": {
        "colab": {
          "base_uri": "https://localhost:8080/"
        },
        "id": "pT3P1RW6VX6t",
        "outputId": "1ced46fc-5d7c-434e-ab28-dcaaa45043b0"
      },
      "source": [
        "sp.solve(eq,T)"
      ],
      "execution_count": 7,
      "outputs": [
        {
          "output_type": "execute_result",
          "data": {
            "text/plain": [
              "[(Cp*Ti*w + Q + Ta*UAs)/(Cp*w + UAs)]"
            ]
          },
          "metadata": {
            "tags": []
          },
          "execution_count": 7
        }
      ]
    },
    {
      "cell_type": "markdown",
      "metadata": {
        "id": "AsLeWuu4VkCQ"
      },
      "source": [
        "#### Simulation "
      ]
    },
    {
      "cell_type": "code",
      "metadata": {
        "id": "Ol1aZcx-VajV"
      },
      "source": [
        "import numpy as np\r\n",
        "import matplotlib.pyplot as plt\r\n",
        "from scipy.integrate import odeint "
      ],
      "execution_count": 8,
      "outputs": []
    },
    {
      "cell_type": "code",
      "metadata": {
        "id": "J8c3tQspVswX"
      },
      "source": [
        "# establish the model \r\n",
        "def heater(s,t,p,u):\r\n",
        "\r\n",
        "    # state variables \r\n",
        "    T = s[0]\r\n",
        "\r\n",
        "    # input variables\r\n",
        "    w = u[0]\r\n",
        "    Ti = u[1]\r\n",
        "    Q = u[2]\r\n",
        "    Ta = u[3]\r\n",
        "\r\n",
        "    # parameters \r\n",
        "    Cp = p[0]\r\n",
        "    rho = p[1]\r\n",
        "    UAs = p[2]\r\n",
        "    V = p[3]\r\n",
        "\r\n",
        "    # energy balance\r\n",
        "    dTdt = 1/(Cp*rho*V)*(w*Cp*(Ti-T) + Q - UAs*(T-Ta))\r\n",
        "\r\n",
        "    return dTdt"
      ],
      "execution_count": 15,
      "outputs": []
    },
    {
      "cell_type": "code",
      "metadata": {
        "id": "xLt06nBKWWt_"
      },
      "source": [
        "# establish parameters\r\n",
        "p = [4186, 1000, 500, 10]\r\n",
        "\r\n",
        "# establish inputs\r\n",
        "u = [10, 320,150,280]\r\n",
        "\r\n",
        "# establish initial conditions \r\n",
        "s = [200]\r\n",
        "\r\n",
        "# set integration time \r\n",
        "time = np.linspace(0,5000,100)"
      ],
      "execution_count": 28,
      "outputs": []
    },
    {
      "cell_type": "code",
      "metadata": {
        "id": "pCKt3_LBXSp-"
      },
      "source": [
        "# solve ODEs\r\n",
        "out = odeint(heater, s, time, args=(p,u))"
      ],
      "execution_count": 29,
      "outputs": []
    },
    {
      "cell_type": "code",
      "metadata": {
        "colab": {
          "base_uri": "https://localhost:8080/",
          "height": 282
        },
        "id": "HuYbADu_XZZD",
        "outputId": "96b0b4df-a13f-4152-c7a1-96e81046a9a3"
      },
      "source": [
        "plt.plot(time,out)"
      ],
      "execution_count": 30,
      "outputs": [
        {
          "output_type": "execute_result",
          "data": {
            "text/plain": [
              "[<matplotlib.lines.Line2D at 0x7f9383565dd8>]"
            ]
          },
          "metadata": {
            "tags": []
          },
          "execution_count": 30
        },
        {
          "output_type": "display_data",
          "data": {
            "image/png": "[encoded data removed]",
            "text/plain": [
              "<Figure size 432x288 with 1 Axes>"
            ]
          },
          "metadata": {
            "tags": [],
            "needs_background": "light"
          }
        }
      ]
    },
    {
      "cell_type": "code",
      "metadata": {
        "id": "bVeY-VbWXnC1"
      },
      "source": [
        "def steady_state(p,u):\r\n",
        "\r\n",
        "    # input variables\r\n",
        "    w = u[0]\r\n",
        "    Ti = u[1]\r\n",
        "    Q = u[2]\r\n",
        "    Ta = u[3]\r\n",
        "\r\n",
        "    # parameters \r\n",
        "    Cp = p[0]\r\n",
        "    UAs = p[2]\r\n",
        "\r\n",
        "    T = (w*Cp*Ti + Q + UAs*Ta)/(w*Cp + UAs)\r\n",
        "\r\n",
        "    return T"
      ],
      "execution_count": 31,
      "outputs": []
    },
    {
      "cell_type": "code",
      "metadata": {
        "colab": {
          "base_uri": "https://localhost:8080/"
        },
        "id": "9HkoZvLqYOWO",
        "outputId": "70abd287-dc44-4d06-c148-73122f30d3cf"
      },
      "source": [
        "steady_state(p,u)"
      ],
      "execution_count": 32,
      "outputs": [
        {
          "output_type": "execute_result",
          "data": {
            "text/plain": [
              "319.53139754485363"
            ]
          },
          "metadata": {
            "tags": []
          },
          "execution_count": 32
        }
      ]
    },
    {
      "cell_type": "markdown",
      "metadata": {
        "id": "RRPdK3QkYhhC"
      },
      "source": [
        "What happend if Ti change during the simulation \r\n",
        "\r\n",
        "What happend if w variaes during the simulation "
      ]
    },
    {
      "cell_type": "code",
      "metadata": {
        "id": "Cgalyeo3YQB7"
      },
      "source": [
        "# variable inputs\r\n",
        "w = np.ones(len(time))*10\r\n",
        "w[50:75] = 50\r\n",
        "Ti = np.ones(len(time))*320\r\n",
        "#Ti[50:75] = 400"
      ],
      "execution_count": 80,
      "outputs": []
    },
    {
      "cell_type": "code",
      "metadata": {
        "id": "iE2Gr1uIY6wH"
      },
      "source": [
        "# vectors to save state \r\n",
        "T = np.ones(len(time))*200\r\n",
        "# establish initial conditions \r\n",
        "s = [200]"
      ],
      "execution_count": 81,
      "outputs": []
    },
    {
      "cell_type": "code",
      "metadata": {
        "id": "-uemN4yHZGC8"
      },
      "source": [
        "for i in range(len(time)-1):\r\n",
        "    # update time \r\n",
        "    ts = [time[i], time[i+1]]\r\n",
        "    # update w\r\n",
        "    u[0] = w[i+1]\r\n",
        "    #update Ti\r\n",
        "    u[1] = Ti[i+1]\r\n",
        "    # simulate the model \r\n",
        "    out = odeint(heater, s, ts, args = (p,u))\r\n",
        "    # save results \r\n",
        "    T[i+1] = out[-1][0]\r\n",
        "    # update initial conditions \r\n",
        "    s = out[-1][0]"
      ],
      "execution_count": 82,
      "outputs": []
    },
    {
      "cell_type": "code",
      "metadata": {
        "colab": {
          "base_uri": "https://localhost:8080/",
          "height": 282
        },
        "id": "6lJE1UAWZLKE",
        "outputId": "409f4ea5-75c1-4583-dcdb-e398eaa82a09"
      },
      "source": [
        "plt.plot(time, T)"
      ],
      "execution_count": 83,
      "outputs": [
        {
          "output_type": "execute_result",
          "data": {
            "text/plain": [
              "[<matplotlib.lines.Line2D at 0x7f9383181860>]"
            ]
          },
          "metadata": {
            "tags": []
          },
          "execution_count": 83
        },
        {
          "output_type": "display_data",
          "data": {
            "image/png": "[encoded data removed]",
            "text/plain": [
              "<Figure size 432x288 with 1 Axes>"
            ]
          },
          "metadata": {
            "tags": [],
            "needs_background": "light"
          }
        }
      ]
    },
    {
      "cell_type": "code",
      "metadata": {
        "colab": {
          "base_uri": "https://localhost:8080/",
          "height": 282
        },
        "id": "hcT781f7aZp9",
        "outputId": "9740d071-9674-4df8-c9d9-2bc0733125b1"
      },
      "source": [
        "plt.plot(time, Ti)"
      ],
      "execution_count": 79,
      "outputs": [
        {
          "output_type": "execute_result",
          "data": {
            "text/plain": [
              "[<matplotlib.lines.Line2D at 0x7f9383f2add8>]"
            ]
          },
          "metadata": {
            "tags": []
          },
          "execution_count": 79
        },
        {
          "output_type": "display_data",
          "data": {
            "image/png": "[encoded data removed]",
            "text/plain": [
              "<Figure size 432x288 with 1 Axes>"
            ]
          },
          "metadata": {
            "tags": [],
            "needs_background": "light"
          }
        }
      ]
    },
    {
      "cell_type": "code",
      "metadata": {
        "id": "jzGu5UzrbrU8"
      },
      "source": [
        ""
      ],
      "execution_count": null,
      "outputs": []
    }
  ]
}