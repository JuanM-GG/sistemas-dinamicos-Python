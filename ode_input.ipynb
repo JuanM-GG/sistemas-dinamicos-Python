{
  "nbformat": 4,
  "nbformat_minor": 0,
  "metadata": {
    "colab": {
      "name": "Untitled9.ipynb",
      "provenance": [],
      "authorship_tag": "ABX9TyPXqQ9Z5Zo8kv9edlk9X0ZV",
      "include_colab_link": true
    },
    "kernelspec": {
      "name": "python3",
      "display_name": "Python 3"
    }
  },
  "cells": [
    {
      "cell_type": "markdown",
      "metadata": {
        "id": "view-in-github",
        "colab_type": "text"
      },
      "source": [
        "<a href=\"https://colab.research.google.com/github/JuanM-GG/Control-with-python-/blob/main/ode_input.ipynb\" target=\"_parent\"><img src=\"https://colab.research.google.com/assets/colab-badge.svg\" alt=\"Open In Colab\"/></a>"
      ]
    },
    {
      "cell_type": "markdown",
      "metadata": {
        "id": "rJ8-8TiO-UFU"
      },
      "source": [
        "Título: ODE with input\r\n",
        "\r\n",
        "Name: Juna Manuel G.G\r\n",
        "\r\n",
        "Date: december 8, 2020"
      ]
    },
    {
      "cell_type": "markdown",
      "metadata": {
        "id": "YwObj5b5-vWx"
      },
      "source": [
        "Import libraries"
      ]
    },
    {
      "cell_type": "code",
      "metadata": {
        "id": "1zhFT-5Y-uwd"
      },
      "source": [
        "import numpy as np\r\n",
        "import matplotlib.pyplot as plt\r\n",
        "from scipy.integrate import odeint"
      ],
      "execution_count": 47,
      "outputs": []
    },
    {
      "cell_type": "markdown",
      "metadata": {
        "id": "Z2tLDjOL-daG"
      },
      "source": [
        "Establish the model"
      ]
    },
    {
      "cell_type": "code",
      "metadata": {
        "id": "y1MEkNND-cbX"
      },
      "source": [
        "def firstorder(y, t, K, u):\r\n",
        "\r\n",
        "  tau = 5.0\r\n",
        "\r\n",
        "  dydt = (-y+K*u)/tau\r\n",
        "\r\n",
        "  return dydt"
      ],
      "execution_count": 54,
      "outputs": []
    },
    {
      "cell_type": "markdown",
      "metadata": {
        "id": "9ljbX5p3-89s"
      },
      "source": [
        "Set integration time"
      ]
    },
    {
      "cell_type": "code",
      "metadata": {
        "id": "nDN_YmVJ_Ax4"
      },
      "source": [
        "t = np.linspace(0,10,11)"
      ],
      "execution_count": 48,
      "outputs": []
    },
    {
      "cell_type": "markdown",
      "metadata": {
        "id": "YRqygKz4_IVQ"
      },
      "source": [
        "Set parameters"
      ]
    },
    {
      "cell_type": "code",
      "metadata": {
        "id": "MnCIQb-X_EOE"
      },
      "source": [
        "K = 2.0\r\n",
        "\r\n",
        "u = np.zeros(len(t))\r\n",
        "u[3:] = 10\r\n"
      ],
      "execution_count": 51,
      "outputs": []
    },
    {
      "cell_type": "markdown",
      "metadata": {
        "id": "C0mZrn-K_UUe"
      },
      "source": [
        "Set initial conditions"
      ]
    },
    {
      "cell_type": "code",
      "metadata": {
        "id": "zDlY2WSl_Ey9"
      },
      "source": [
        "y0 = 0"
      ],
      "execution_count": 104,
      "outputs": []
    },
    {
      "cell_type": "markdown",
      "metadata": {
        "id": "qXp-RJED_eXd"
      },
      "source": [
        "Solve ODE considering different values of u"
      ]
    },
    {
      "cell_type": "code",
      "metadata": {
        "id": "w8TlWNwb_YZy"
      },
      "source": [
        "ys = np.zeros(len(t))\r\n",
        "for i in range(len(t)-1): # el -1 es por t[i+1] \r\n",
        "  ts = [t[i], t[i+1]]\r\n",
        "  y = odeint(firstorder, y0, ts, args= (K,u[i]))\r\n",
        "\r\n",
        "  y0 = y[1]\r\n",
        "  ys[i+1] = y0\r\n"
      ],
      "execution_count": 105,
      "outputs": []
    },
    {
      "cell_type": "markdown",
      "metadata": {
        "id": "YD4X2s3iAKWB"
      },
      "source": [
        "Show results"
      ]
    },
    {
      "cell_type": "code",
      "metadata": {
        "colab": {
          "base_uri": "https://localhost:8080/",
          "height": 296
        },
        "id": "gOMP1Fxm__eh",
        "outputId": "19406d88-8402-426e-8795-c4a423aa5dc1"
      },
      "source": [
        "plt.plot(t, ys, \"r-\")\r\n",
        "plt.plot(t, u, \"b--\")\r\n",
        "plt.xlabel(\"time\")\r\n",
        "plt.legend([\"y(t)\", \"u(t)\"])\r\n",
        "plt.show"
      ],
      "execution_count": 106,
      "outputs": [
        {
          "output_type": "execute_result",
          "data": {
            "text/plain": [
              "<function matplotlib.pyplot.show>"
            ]
          },
          "metadata": {
            "tags": []
          },
          "execution_count": 106
        },
        {
          "output_type": "display_data",
          "data": {
            "image/png": "[encoded data removed]",
            "text/plain": [
              "<Figure size 432x288 with 1 Axes>"
            ]
          },
          "metadata": {
            "tags": [],
            "needs_background": "light"
          }
        }
      ]
    },
    {
      "cell_type": "code",
      "metadata": {
        "colab": {
          "base_uri": "https://localhost:8080/"
        },
        "id": "urOKJ3fMAjb9",
        "outputId": "15cb3a04-5c99-4e14-9526-cfc1c6326c21"
      },
      "source": [
        "ys = np.zeros(len(t))\r\n",
        "ys"
      ],
      "execution_count": 73,
      "outputs": [
        {
          "output_type": "execute_result",
          "data": {
            "text/plain": [
              "array([0., 0., 0., 0., 0., 0., 0., 0., 0., 0., 0.])"
            ]
          },
          "metadata": {
            "tags": []
          },
          "execution_count": 73
        }
      ]
    },
    {
      "cell_type": "code",
      "metadata": {
        "colab": {
          "base_uri": "https://localhost:8080/"
        },
        "id": "lVHe2rO8A8xa",
        "outputId": "b0e79197-4fde-41f9-942f-acbf9e1f937b"
      },
      "source": [
        ""
      ],
      "execution_count": 98,
      "outputs": [
        {
          "output_type": "stream",
          "text": [
            "0\n",
            "1\n",
            "2\n"
          ],
          "name": "stdout"
        }
      ]
    }
  ]
}