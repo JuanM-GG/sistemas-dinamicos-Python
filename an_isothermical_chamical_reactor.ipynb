{
  "nbformat": 4,
  "nbformat_minor": 0,
  "metadata": {
    "colab": {
      "name": "Untitled31.ipynb",
      "provenance": [],
      "authorship_tag": "ABX9TyMNDRuZ118ra76OxnfLT/VV",
      "include_colab_link": true
    },
    "kernelspec": {
      "name": "python3",
      "display_name": "Python 3"
    }
  },
  "cells": [
    {
      "cell_type": "markdown",
      "metadata": {
        "id": "view-in-github",
        "colab_type": "text"
      },
      "source": [
        "<a href=\"https://colab.research.google.com/github/JuanM-GG/sistemas-dinamicos-Python/blob/main/an_isothermical_chamical_reactor.ipynb\" target=\"_parent\"><img src=\"https://colab.research.google.com/assets/colab-badge.svg\" alt=\"Open In Colab\"/></a>"
      ]
    },
    {
      "cell_type": "markdown",
      "metadata": {
        "id": "OUYF94p5wIaL"
      },
      "source": [
        "Title: An Isothermal Chemical Reactor \r\n",
        "\r\n",
        "Author: JM\r\n",
        "\r\n",
        "Date: december 2020 "
      ]
    },
    {
      "cell_type": "markdown",
      "metadata": {
        "id": "a74-NhpIwZCG"
      },
      "source": [
        "Assume that two chemical species, A and B, are in a solvent feedstream entering a liquid-phase chemical reactor that is maintained at a constant temperature. The two species react irreversibly to form a third species, P. Find the reactor concentration of each species as a function of time. \r\n",
        "\r\n",
        "![Imagen1.png](data:image/png;base64,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)"
      ]
    },
    {
      "cell_type": "markdown",
      "metadata": {
        "id": "virekFO7wyaV"
      },
      "source": [
        "Assume that the stoichiometric equation for this reaction is \r\n",
        "\r\n",
        "$$ A + B \\rightarrow 2P$$"
      ]
    },
    {
      "cell_type": "markdown",
      "metadata": {
        "id": "MQmuglF1xHxZ"
      },
      "source": [
        "### Overall Material Balance \r\n",
        "The overal material balance is (since the tank is perfectly mixed)\r\n",
        "\r\n",
        "$$\\frac{d(V \\rho)}{dt} = F_{i} \\rho - F \\rho$$ \r\n",
        "\r\n",
        "Assumption: The liquid phase density, $\\rho$, is not a function of concentration. The tank (and outlet) density is then equal to the inlet density, so:\r\n",
        "\r\n",
        "$$\\rho_{i} = \\rho$$\r\n",
        "\r\n",
        "$$\\frac{dV}{dt} = F_{i} - F$$\r\n",
        "\r\n"
      ]
    },
    {
      "cell_type": "markdown",
      "metadata": {
        "id": "Ah0CWyTQx-xX"
      },
      "source": [
        "### Component Meterial Balances\r\n",
        "\r\n",
        "It is convenient to work in molar units when writing component balances, particularly if chemical reactions are involved. Let $C_{A}, C_{B}$, and $C_{P}$ represent the molar concentrations of $A, B$, and $P$ (moles/volume).\r\n",
        "\r\n",
        "The component material balance equations are (assuming no component $P$ is in the feed to the reactor):\r\n",
        "\r\n",
        "$$\\frac{d(VC_{A})}{dt} = F_{i}C_{Ai} - FC_{A} + Vr_{A}$$\r\n",
        "\r\n",
        "$$\\frac{d(VC_{B})}{dt} = F_{i}C_{Bi} - FC_{B} + Vr_{B}$$\r\n",
        "\r\n",
        "$$\\frac{d(VC_{P})}{dt} = - FC_{P} + Vr_{P}$$\r\n",
        "\r\n",
        "Where $r_{A}, r_{B}$, and $r_{P}$ represent the rate of generation of species $A, B$, and $P$ per unit volume, and $C_{Ai}$ and $C_{Bi}$ represent the inlet concentrations of species $A$ and $B$. Assume that the rate of reaction of A per unit volume is second-order and a function of the concentration of both $A$ and $B$. The reaction rate can be written\r\n",
        "\r\n",
        "$$r_{A} = -kC_{A}C_{B}$$\r\n",
        "\r\n",
        "where k is the reaction rate constant and the minus sign indicates that A is consumed in the reaction. Each mole of A reacts with one mole of B (from the stoichiometric equation) and produces two moles of P, so the rates of generation of B and P (per unit volume) are: \r\n",
        "\r\n",
        "$$r_{B} = -kC_{A}C_{B}$$\r\n",
        "\r\n",
        "$$r_{P} = 2kC_{A}C_{B}$$\r\n",
        "\r\n",
        "Considering this the balance equations are: \r\n",
        "\r\n",
        "$$\\frac{dC_{A}}{dt} = \\frac{F_{i}}{V} (C_{Ai} - C_{A}) - kC_{A}C_{B} $$\r\n",
        "\r\n",
        "$$\\frac{dC_{B}}{dt} = \\frac{F_{i}}{V} (C_{Bi} - C_{B}) - kC_{A}C_{B} $$\r\n",
        "\r\n",
        "$$\\frac{dC_{P}}{dt} = -\\frac{F_{i}}{V} C_{P} + 2kC_{A}C_{B} $$"
      ]
    },
    {
      "cell_type": "markdown",
      "metadata": {
        "id": "aXQKsuu11FTM"
      },
      "source": [
        "This model consists of four differential equations and, therefore, four state variables $(V, C_{A}, C_{B}, C_{P})$."
      ]
    },
    {
      "cell_type": "code",
      "metadata": {
        "id": "_B4IWIjSwV9d"
      },
      "source": [
        "# import libraries\r\n",
        "import numpy as np \r\n",
        "import matplotlib.pyplot as plt\r\n",
        "from scipy.integrate import odeint"
      ],
      "execution_count": 130,
      "outputs": []
    },
    {
      "cell_type": "code",
      "metadata": {
        "id": "qnenU0l82SdT"
      },
      "source": [
        "# Establish model \r\n",
        "def my_model(s, t, qi):\r\n",
        "\r\n",
        "  # parameters\r\n",
        "  k = 0.01 \r\n",
        "\r\n",
        "  # state variables\r\n",
        "  V = s[0] # L\r\n",
        "  ca = s[1] # mol/L\r\n",
        "  cb = s[2] # mol/L\r\n",
        "  cp = s[3] # mol/L\r\n",
        "\r\n",
        "  # inputs\r\n",
        "  cai = 20 # mol/L \r\n",
        "  cbi = 30 # mol/L\r\n",
        "  q = 0.5 # L\r\n",
        "  # qi # L\r\n",
        "\r\n",
        "  # material balance\r\n",
        "  dVdt = qi - q\r\n",
        "  # species balance\r\n",
        "  dcadt = qi/V*(cai - ca) - k*ca*cb\r\n",
        "  dcbdt = qi/V*(cbi - cb) - k*ca*cb\r\n",
        "  dcpdt = -qi/V*cp + 2*k*ca*cb\r\n",
        "\r\n",
        "  return [dVdt, dcadt, dcbdt, dcpdt]"
      ],
      "execution_count": 201,
      "outputs": []
    },
    {
      "cell_type": "code",
      "metadata": {
        "id": "R-T1oP8c3als"
      },
      "source": [
        "# initial conditions\r\n",
        "V0 = 2\r\n",
        "ca0 = 20\r\n",
        "cb0 = 30\r\n",
        "cp0 = 0\r\n",
        "s = [V0, ca0, cb0, cp0]"
      ],
      "execution_count": 202,
      "outputs": []
    },
    {
      "cell_type": "code",
      "metadata": {
        "id": "AL_Pn1yM3pp5"
      },
      "source": [
        "# integration time\r\n",
        "t = np.linspace(0,100,1000)"
      ],
      "execution_count": 203,
      "outputs": []
    },
    {
      "cell_type": "code",
      "metadata": {
        "id": "cqFj4Dkm3vZ6"
      },
      "source": [
        "# inflow\r\n",
        "Fi = np.ones(len(t))*0.5\r\n",
        "Fi[500:750] = 1"
      ],
      "execution_count": 204,
      "outputs": []
    },
    {
      "cell_type": "code",
      "metadata": {
        "id": "95oulCtc364a"
      },
      "source": [
        "# vectors for saving state\r\n",
        "V = np.ones(len(t))*V0 \r\n",
        "ca = np.ones(len(t))*ca0\r\n",
        "cb = np.ones(len(t))*cb0\r\n",
        "cp = np.ones(len(t))*cp0"
      ],
      "execution_count": 205,
      "outputs": []
    },
    {
      "cell_type": "code",
      "metadata": {
        "id": "1FEIsm3Y4MEU"
      },
      "source": [
        "for i in range(len(t)-1):\r\n",
        "  # update time span\r\n",
        "  ts = [t[i], t[i+1]]\r\n",
        "  # solve ODEs\r\n",
        "  out = odeint(my_model,s,ts,args=(Fi[i+1],))\r\n",
        "  # Guardar resultados\r\n",
        "  V[i+1] = out[-1][0]\r\n",
        "  ca[i+1] = out[-1][1]\r\n",
        "  cb[i+1]  = out[-1][2]\r\n",
        "  cp[i+1]  = out[-1][3]\r\n",
        "  # Ajustar condiciones iniciales para el siguiente ciclo\r\n",
        "  s = out[-1]"
      ],
      "execution_count": 206,
      "outputs": []
    },
    {
      "cell_type": "code",
      "metadata": {
        "colab": {
          "base_uri": "https://localhost:8080/",
          "height": 296
        },
        "id": "gHbCz5GTBH-K",
        "outputId": "7896243f-0563-410a-cd04-6b092157feee"
      },
      "source": [
        "plt.plot(t,cp,\"g:\",label = \"C_P\")\r\n",
        "plt.xlabel(\"Time\")\r\n",
        "plt.ylabel(\"Concentration (mol/L)\")\r\n",
        "plt.legend(loc = \"best\")"
      ],
      "execution_count": 207,
      "outputs": [
        {
          "output_type": "execute_result",
          "data": {
            "text/plain": [
              "<matplotlib.legend.Legend at 0x7f3ff1ac4438>"
            ]
          },
          "metadata": {
            "tags": []
          },
          "execution_count": 207
        },
        {
          "output_type": "display_data",
          "data": {
            "image/png": "[encoded data removed]",
            "text/plain": [
              "<Figure size 432x288 with 1 Axes>"
            ]
          },
          "metadata": {
            "tags": [],
            "needs_background": "light"
          }
        }
      ]
    },
    {
      "cell_type": "code",
      "metadata": {
        "colab": {
          "base_uri": "https://localhost:8080/",
          "height": 296
        },
        "id": "wVIUlrfZBUiv",
        "outputId": "7bfc7b1d-1492-42ea-981e-5dd6e6642ceb"
      },
      "source": [
        "plt.plot(t,ca,\"r--\",label = \"C_A\")\r\n",
        "plt.xlabel(\"Time\")\r\n",
        "plt.ylabel(\"Concentration (mol/L)\")\r\n",
        "plt.legend(loc = \"best\")"
      ],
      "execution_count": 208,
      "outputs": [
        {
          "output_type": "execute_result",
          "data": {
            "text/plain": [
              "<matplotlib.legend.Legend at 0x7f3ff1a5ef28>"
            ]
          },
          "metadata": {
            "tags": []
          },
          "execution_count": 208
        },
        {
          "output_type": "display_data",
          "data": {
            "image/png": "[encoded data removed]",
            "text/plain": [
              "<Figure size 432x288 with 1 Axes>"
            ]
          },
          "metadata": {
            "tags": [],
            "needs_background": "light"
          }
        }
      ]
    },
    {
      "cell_type": "code",
      "metadata": {
        "colab": {
          "base_uri": "https://localhost:8080/",
          "height": 296
        },
        "id": "U2do8T0rFQ5b",
        "outputId": "62e7687d-fa7d-4f24-a6f0-382c2117595e"
      },
      "source": [
        "plt.plot(t,cb,\"b-\",label = \"C_B\")\r\n",
        "plt.xlabel(\"Time\")\r\n",
        "plt.ylabel(\"Concentration (mol/L)\")\r\n",
        "plt.legend(loc = \"best\")"
      ],
      "execution_count": 209,
      "outputs": [
        {
          "output_type": "execute_result",
          "data": {
            "text/plain": [
              "<matplotlib.legend.Legend at 0x7f3ff1a8fd68>"
            ]
          },
          "metadata": {
            "tags": []
          },
          "execution_count": 209
        },
        {
          "output_type": "display_data",
          "data": {
            "image/png": "[encoded data removed]",
            "text/plain": [
              "<Figure size 432x288 with 1 Axes>"
            ]
          },
          "metadata": {
            "tags": [],
            "needs_background": "light"
          }
        }
      ]
    },
    {
      "cell_type": "code",
      "metadata": {
        "colab": {
          "base_uri": "https://localhost:8080/",
          "height": 282
        },
        "id": "FP8eFfKiFXcE",
        "outputId": "51cc5a95-719c-4dd5-85d9-6fa54b61f65e"
      },
      "source": [
        "plt.plot(t,Fi)"
      ],
      "execution_count": 210,
      "outputs": [
        {
          "output_type": "execute_result",
          "data": {
            "text/plain": [
              "[<matplotlib.lines.Line2D at 0x7f3ff1924438>]"
            ]
          },
          "metadata": {
            "tags": []
          },
          "execution_count": 210
        },
        {
          "output_type": "display_data",
          "data": {
            "image/png": "[encoded data removed]",
            "text/plain": [
              "<Figure size 432x288 with 1 Axes>"
            ]
          },
          "metadata": {
            "tags": [],
            "needs_background": "light"
          }
        }
      ]
    },
    {
      "cell_type": "code",
      "metadata": {
        "id": "D_oOQM9lF7bF"
      },
      "source": [
        ""
      ],
      "execution_count": null,
      "outputs": []
    }
  ]
}