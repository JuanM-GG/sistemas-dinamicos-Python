{
  "nbformat": 4,
  "nbformat_minor": 0,
  "metadata": {
    "colab": {
      "name": "Untitled36.ipynb",
      "provenance": [],
      "authorship_tag": "ABX9TyNAag6aFJoCrwKUXzfTwN5O",
      "include_colab_link": true
    },
    "kernelspec": {
      "name": "python3",
      "display_name": "Python 3"
    }
  },
  "cells": [
    {
      "cell_type": "markdown",
      "metadata": {
        "id": "view-in-github",
        "colab_type": "text"
      },
      "source": [
        "<a href=\"https://colab.research.google.com/github/JuanM-GG/sistemas-dinamicos-Python/blob/main/puntos_equilibrio_inhibicion_sustrato.ipynb\" target=\"_parent\"><img src=\"https://colab.research.google.com/assets/colab-badge.svg\" alt=\"Open In Colab\"/></a>"
      ]
    },
    {
      "cell_type": "markdown",
      "metadata": {
        "id": "PqVf5382eCJ1"
      },
      "source": [
        "Título: Puntos de equilibrio modelo Inhibición por sustrato \r\n",
        "\r\n",
        "Nombre: JM\r\n",
        "\r\n",
        "Fecha: diciembre 2020"
      ]
    },
    {
      "cell_type": "markdown",
      "metadata": {
        "id": "ljackhEO6CQD"
      },
      "source": [
        "### Obtener puntos de equilibrio "
      ]
    },
    {
      "cell_type": "code",
      "metadata": {
        "id": "Fp1VU9FwSBP8"
      },
      "source": [
        "import sympy as sp "
      ],
      "execution_count": 1,
      "outputs": []
    },
    {
      "cell_type": "code",
      "metadata": {
        "id": "kAy7EvXZSDoq"
      },
      "source": [
        "mu_max, ks, ki, D, sf, Y = sp.symbols(\"mu_max, ks, ki, D, sf, Y\")"
      ],
      "execution_count": 2,
      "outputs": []
    },
    {
      "cell_type": "code",
      "metadata": {
        "id": "f1tjruY6SSAH"
      },
      "source": [
        "s, x = sp.symbols(\"s, x\")"
      ],
      "execution_count": 3,
      "outputs": []
    },
    {
      "cell_type": "markdown",
      "metadata": {
        "id": "pw-qg_swYYin"
      },
      "source": [
        "Obtener $s_{ss}$"
      ]
    },
    {
      "cell_type": "code",
      "metadata": {
        "id": "loBDoKXnSMrC"
      },
      "source": [
        "eq1 = sp.Eq(ki*s**2 + (1- mu_max/D)*s + ks,0)"
      ],
      "execution_count": 4,
      "outputs": []
    },
    {
      "cell_type": "code",
      "metadata": {
        "colab": {
          "base_uri": "https://localhost:8080/"
        },
        "id": "YWJ4X9ApSqpy",
        "outputId": "40d96360-7680-428c-828a-dd73f049f79c"
      },
      "source": [
        "sp.solve(eq1, s)"
      ],
      "execution_count": 5,
      "outputs": [
        {
          "output_type": "execute_result",
          "data": {
            "text/plain": [
              "[(-D + mu_max - sqrt(-4*D**2*ki*ks + D**2 - 2*D*mu_max + mu_max**2))/(2*D*ki),\n",
              " (-D + mu_max + sqrt(-4*D**2*ki*ks + D**2 - 2*D*mu_max + mu_max**2))/(2*D*ki)]"
            ]
          },
          "metadata": {
            "tags": []
          },
          "execution_count": 5
        }
      ]
    },
    {
      "cell_type": "code",
      "metadata": {
        "id": "ZKkUJcZUYGH7"
      },
      "source": [
        "s_ss = sp.symbols(\"s_ss\")"
      ],
      "execution_count": 6,
      "outputs": []
    },
    {
      "cell_type": "markdown",
      "metadata": {
        "id": "46F6jQbFYeB1"
      },
      "source": [
        "Ontener $x_{ss}$"
      ]
    },
    {
      "cell_type": "code",
      "metadata": {
        "id": "WRQMvj9MYWs_"
      },
      "source": [
        "eq2 = sp.Eq(D*(sf - s_ss) - (1/Y)*mu_max*x,0)"
      ],
      "execution_count": 7,
      "outputs": []
    },
    {
      "cell_type": "code",
      "metadata": {
        "id": "-Sk_SqGHYrpx",
        "colab": {
          "base_uri": "https://localhost:8080/"
        },
        "outputId": "116b9683-0bf3-4611-b75b-120837922ca5"
      },
      "source": [
        "sp.solve(eq2, x)"
      ],
      "execution_count": 8,
      "outputs": [
        {
          "output_type": "execute_result",
          "data": {
            "text/plain": [
              "[D*Y*(-s_ss + sf)/mu_max]"
            ]
          },
          "metadata": {
            "tags": []
          },
          "execution_count": 8
        }
      ]
    },
    {
      "cell_type": "markdown",
      "metadata": {
        "id": "1Bg3NK9Q6SAg"
      },
      "source": [
        "### Obtener matriz Jaconiana "
      ]
    },
    {
      "cell_type": "code",
      "metadata": {
        "id": "p9NOAW5UXoGq"
      },
      "source": [
        "dfdx = sp.diff(mu_max*(s/(ks + s + ki*s**2))*x - D*x,x)\r\n",
        "dfds = sp.diff(mu_max*(s/(ks + s + ki*s**2))*x - D*x,s)\r\n",
        "dgdx = sp.diff(-mu_max/Y*(s/(ks + s + ki*s**2))*x + D*(sf - s),x)\r\n",
        "dgds = sp.diff(-mu_max/Y*(s/(ks + s + ki*s**2))*x + D*(sf - s),s)"
      ],
      "execution_count": 9,
      "outputs": []
    },
    {
      "cell_type": "code",
      "metadata": {
        "id": "-9iLYTi_6Z2c",
        "outputId": "08d9f084-29e9-444d-d590-35d1c968023c",
        "colab": {
          "base_uri": "https://localhost:8080/"
        }
      },
      "source": [
        "print(\"dfdx = \",dfdx)\r\n",
        "print(\"dfds = \",sp.factor(dfds))\r\n",
        "print(\"dgdx = \",sp.factor(dgdx))\r\n",
        "print(\"dgds = \",dgds)"
      ],
      "execution_count": 18,
      "outputs": [
        {
          "output_type": "stream",
          "text": [
            "dfdx =  -D + mu_max*s/(ki*s**2 + ks + s)\n",
            "dfds =  -mu_max*x*(ki*s**2 - ks)/(ki*s**2 + ks + s)**2\n",
            "dgdx =  -mu_max*s/(Y*(ki*s**2 + ks + s))\n",
            "dgds =  -D - mu_max*s*x*(-2*ki*s - 1)/(Y*(ki*s**2 + ks + s)**2) - mu_max*x/(Y*(ki*s**2 + ks + s))\n"
          ],
          "name": "stdout"
        }
      ]
    },
    {
      "cell_type": "code",
      "metadata": {
        "id": "q5spgl2Q6dEk"
      },
      "source": [
        "def my_jacobi(x,s):\r\n",
        "\r\n",
        "  dfdx = mu_max*s/(ki*s**2 + ks + s) - D\r\n",
        "  dfds = mu_max*x*(ks - ki*s**2)/(ks + s + ki*s**2)**2\r\n",
        "  dgdx = - mu_max*s/(Y*(ki*s**2 + ks + s))\r\n",
        "  dgds = -D - (1/Y)*mu_max*x*(ks - ki*s**2)/(ks + s + ki*s**2)**2\r\n",
        "\r\n",
        "  A = sp.Matrix([[dfdx, dfds],[dgdx, dgds]])\r\n",
        "\r\n",
        "  return A"
      ],
      "execution_count": 19,
      "outputs": []
    },
    {
      "cell_type": "code",
      "metadata": {
        "id": "73OkPTnm_GiU",
        "outputId": "ca3e3e23-cc39-452c-8bc8-5340caf75f93",
        "colab": {
          "base_uri": "https://localhost:8080/"
        }
      },
      "source": [
        "my_jacobi(0,sf)"
      ],
      "execution_count": 20,
      "outputs": [
        {
          "output_type": "execute_result",
          "data": {
            "text/plain": [
              "Matrix([\n",
              "[-D + mu_max*sf/(ki*sf**2 + ks + sf),  0],\n",
              "[-mu_max*sf/(Y*(ki*sf**2 + ks + sf)), -D]])"
            ]
          },
          "metadata": {
            "tags": []
          },
          "execution_count": 20
        }
      ]
    },
    {
      "cell_type": "code",
      "metadata": {
        "id": "OI8dm-7l_Kxk"
      },
      "source": [
        ""
      ],
      "execution_count": null,
      "outputs": []
    }
  ]
}