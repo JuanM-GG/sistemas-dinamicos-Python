{
  "nbformat": 4,
  "nbformat_minor": 0,
  "metadata": {
    "colab": {
      "name": "Untitled31.ipynb",
      "provenance": [],
      "authorship_tag": "ABX9TyPurFgY7HiiS2MhrcYmxUec",
      "include_colab_link": true
    },
    "kernelspec": {
      "name": "python3",
      "display_name": "Python 3"
    }
  },
  "cells": [
    {
      "cell_type": "markdown",
      "metadata": {
        "id": "view-in-github",
        "colab_type": "text"
      },
      "source": [
        "<a href=\"https://colab.research.google.com/github/JuanM-GG/sistemas-dinamicos-Python/blob/main/an_isothermal_chemical_reactor_with_two_reactions.ipynb\" target=\"_parent\"><img src=\"https://colab.research.google.com/assets/colab-badge.svg\" alt=\"Open In Colab\"/></a>"
      ]
    },
    {
      "cell_type": "markdown",
      "metadata": {
        "id": "OUYF94p5wIaL"
      },
      "source": [
        "Title: An Isothermal Chemical Reactor with two reactions\r\n",
        "\r\n",
        "Author: JM\r\n",
        "\r\n",
        "Date: december 2020 "
      ]
    },
    {
      "cell_type": "markdown",
      "metadata": {
        "id": "a74-NhpIwZCG"
      },
      "source": [
        "\r\n",
        "Extend the model developed in Example 2.2 (isothermal with first-order kinetics) to handle multiple reaction (assume a constant volume reactor).\r\n",
        "\r\n",
        "$$A + B \\rightarrow 2P$$\r\n",
        "\r\n",
        "$$2A + P \\rightarrow Q$$\r\n",
        "\r\n",
        "Assume that no P is fed to the reactor. Assume that the reaction rate (generation) of A per unit volume for reaction 1 is characterizedd by expression\r\n",
        "\r\n",
        "$$r_{A} = -k_{1}C_{A}C_{B}$$\r\n",
        "\r\n",
        "where the minus sign indicated that A is consumed in reaction 1. Assume that the reaction rate (generation) of A per unit volume for reaction 2 is characterized by the expression\r\n",
        "\r\n",
        "$$r_{A} = -k_{2}C_{A}C_{B}$$\r\n",
        "\r\n",
        "If the concentrations are expressed in gmol/liter and the volume in liters. waht are the units of the reaction rate constant?\r\n",
        "\r\n",
        "If it is desirable to know the concentration of component Q, how many equations must be solved? If our concern id only with P, how many equations must be solved? Explain."
      ]
    },
    {
      "cell_type": "markdown",
      "metadata": {
        "id": "virekFO7wyaV"
      },
      "source": [
        "Assume that the stoichiometric equation for this reaction is \r\n",
        "\r\n",
        "$$ A + B \\rightarrow 2P$$"
      ]
    },
    {
      "cell_type": "markdown",
      "metadata": {
        "id": "RUokZq0BDGJ_"
      },
      "source": [
        "Units of reaction rate constant \r\n",
        "\r\n",
        "$gmol/(time*liters)$ = $units * (gmol^2/(liters*time)) \\hspace{0.5cm} \\rightarrow \\hspace{0.5cm}units = liters/(gmol*time)$"
      ]
    },
    {
      "cell_type": "markdown",
      "metadata": {
        "id": "trtL5iR3D9YL"
      },
      "source": [
        "If you want to know the concentration of Q  at time t, you will need four equations. But if you are interested in know only the concentration of P you need to write three equations. "
      ]
    },
    {
      "cell_type": "code",
      "metadata": {
        "id": "kYNqUpZYEfjn"
      },
      "source": [
        "import numpy as np\r\n",
        "import matplotlib.pyplot as plt\r\n",
        "from scipy.integrate import odeint "
      ],
      "execution_count": 1,
      "outputs": []
    },
    {
      "cell_type": "code",
      "metadata": {
        "id": "1MDak0VZEuKW"
      },
      "source": [
        "# Establish model \r\n",
        "def model(s,t,parms,u):\r\n",
        "\r\n",
        "  # state variables\r\n",
        "  V = s[0]\r\n",
        "  a = s[1]\r\n",
        "  b = s[2]\r\n",
        "  p = s[3]\r\n",
        "  q = s[4]\r\n",
        "\r\n",
        "  # parameters\r\n",
        "  k1 = parms[0]\r\n",
        "  k2 = parms[1] \r\n",
        "\r\n",
        "  # inputs\r\n",
        "  Fin = u[0]\r\n",
        "  F = u[1]\r\n",
        "  ain = u[2]\r\n",
        "  bin = u[3]\r\n",
        "\r\n",
        "  # material balance\r\n",
        "  dVdt = Fin - F\r\n",
        "\r\n",
        "  # reaction rates\r\n",
        "  ra1 = -k1*a*b\r\n",
        "  rb1 = ra1\r\n",
        "  rp1 = 2*k1*a*b\r\n",
        "  ra2 = -k2*a*p\r\n",
        "  rp2 = ra2/2\r\n",
        "  rq2 = k2*a*p\r\n",
        "\r\n",
        "  # species balance\r\n",
        "  dadt = Fin/V*(ain-a) + ra1 + ra2\r\n",
        "  dbdt = Fin/V*(bin-b) + rb1 \r\n",
        "  dpdt = -Fin/V*p + rp1 + rp2\r\n",
        "  dqdt = -Fin/V*q + rq2\r\n",
        "\r\n",
        "  return [dVdt,dadt,dbdt,dpdt,dqdt]"
      ],
      "execution_count": 25,
      "outputs": []
    },
    {
      "cell_type": "code",
      "metadata": {
        "id": "frU_DXBGG2Hl"
      },
      "source": [
        "# establish parameters \r\n",
        "k1 = 0.01\r\n",
        "k2 = 0.005\r\n",
        "parms = [k1,k2]"
      ],
      "execution_count": 26,
      "outputs": []
    },
    {
      "cell_type": "code",
      "metadata": {
        "id": "Bx2qvaR2HU5l"
      },
      "source": [
        "# integration time\r\n",
        "t = np.linspace(0,100,1000)"
      ],
      "execution_count": 27,
      "outputs": []
    },
    {
      "cell_type": "code",
      "metadata": {
        "id": "NaLwolfGHHUY"
      },
      "source": [
        "# establish inputs \r\n",
        "F = 0.5\r\n",
        "ain = 20\r\n",
        "bin = 30\r\n",
        "Fin = np.ones(len(t))*0.5\r\n",
        "Fin[500:750] = 1"
      ],
      "execution_count": 28,
      "outputs": []
    },
    {
      "cell_type": "code",
      "metadata": {
        "id": "N4iKezZTHeau"
      },
      "source": [
        "# initial conditions \r\n",
        "V0 = 5\r\n",
        "a0 = 20\r\n",
        "b0 = 30\r\n",
        "p0 = 0\r\n",
        "q0 = 0\r\n",
        "s = [V0,a0,b0,p0,q0]"
      ],
      "execution_count": 29,
      "outputs": []
    },
    {
      "cell_type": "code",
      "metadata": {
        "id": "q9sAfaVHHg6Y"
      },
      "source": [
        "# vectors for saving sate\r\n",
        "V = np.ones(len(t))*V0\r\n",
        "a = np.ones(len(t))*a0\r\n",
        "b = np.ones(len(t))*b0\r\n",
        "p = np.ones(len(t))*p0\r\n",
        "q = np.ones(len(t))*q0"
      ],
      "execution_count": 30,
      "outputs": []
    },
    {
      "cell_type": "code",
      "metadata": {
        "id": "THh_PWT8H429"
      },
      "source": [
        "for i in range(len(t)-1):\r\n",
        "  # update time span\r\n",
        "  ts = [t[i],t[i+1]]\r\n",
        "  #update input\r\n",
        "  u = [Fin[i+1],F,ain,bin]\r\n",
        "  # solve ODEs\r\n",
        "  out = odeint(model,s,ts,args=(parms,u))\r\n",
        "  # save sate\r\n",
        "  V[i+1] = out[-1][0]\r\n",
        "  a[i+1] = out[-1][1]\r\n",
        "  b[i+1] = out[-1][2]\r\n",
        "  p[i+1] = out[-1][3]\r\n",
        "  q[i+1] = out[-1][4]\r\n",
        "  # update initial conditions\r\n",
        "  s = out[-1]"
      ],
      "execution_count": 32,
      "outputs": []
    },
    {
      "cell_type": "code",
      "metadata": {
        "colab": {
          "base_uri": "https://localhost:8080/",
          "height": 296
        },
        "id": "ak5q_8jdJbQg",
        "outputId": "41738b89-d732-478d-fe54-bd5b42fda340"
      },
      "source": [
        "# show results \r\n",
        "plt.plot(t,Fin)\r\n",
        "plt.xlabel(\"Time (min)\")\r\n",
        "plt.ylabel(\"Fin (L/min)\")"
      ],
      "execution_count": 34,
      "outputs": [
        {
          "output_type": "execute_result",
          "data": {
            "text/plain": [
              "Text(0, 0.5, 'Fin (L/min)')"
            ]
          },
          "metadata": {
            "tags": []
          },
          "execution_count": 34
        },
        {
          "output_type": "display_data",
          "data": {
            "image/png": "[encoded data removed]",
            "text/plain": [
              "<Figure size 432x288 with 1 Axes>"
            ]
          },
          "metadata": {
            "tags": [],
            "needs_background": "light"
          }
        }
      ]
    },
    {
      "cell_type": "code",
      "metadata": {
        "colab": {
          "base_uri": "https://localhost:8080/",
          "height": 296
        },
        "id": "3z9thKF9JpIB",
        "outputId": "b4504e38-3e0d-4c25-a51a-0dd89cf3bd11"
      },
      "source": [
        "plt.plot(t,a,label=\"C_A\")\r\n",
        "plt.plot(t,b,label=\"C_B\")\r\n",
        "plt.plot(t,p,label=\"C_P\")\r\n",
        "plt.plot(t,q,label=\"C_Q\")\r\n",
        "plt.xlabel(\"Time (min)\")\r\n",
        "plt.ylabel(\"Concentration (mol/L*min)\")\r\n",
        "plt.legend(loc = \"best\")"
      ],
      "execution_count": 37,
      "outputs": [
        {
          "output_type": "execute_result",
          "data": {
            "text/plain": [
              "<matplotlib.legend.Legend at 0x7feccc074f28>"
            ]
          },
          "metadata": {
            "tags": []
          },
          "execution_count": 37
        },
        {
          "output_type": "display_data",
          "data": {
            "image/png": "[encoded data removed]",
            "text/plain": [
              "<Figure size 432x288 with 1 Axes>"
            ]
          },
          "metadata": {
            "tags": [],
            "needs_background": "light"
          }
        }
      ]
    },
    {
      "cell_type": "code",
      "metadata": {
        "id": "NVL31eurJ1NI"
      },
      "source": [
        ""
      ],
      "execution_count": null,
      "outputs": []
    }
  ]
}