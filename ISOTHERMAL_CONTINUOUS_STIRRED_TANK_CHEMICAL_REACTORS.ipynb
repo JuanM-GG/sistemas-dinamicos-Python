{
  "nbformat": 4,
  "nbformat_minor": 0,
  "metadata": {
    "colab": {
      "name": "Untitled64.ipynb",
      "provenance": [],
      "authorship_tag": "ABX9TyO9ThNCyA20dvzT//xEyrNc",
      "include_colab_link": true
    },
    "kernelspec": {
      "name": "python3",
      "display_name": "Python 3"
    }
  },
  "cells": [
    {
      "cell_type": "markdown",
      "metadata": {
        "id": "view-in-github",
        "colab_type": "text"
      },
      "source": [
        "<a href=\"https://colab.research.google.com/github/JuanM-GG/sistemas-dinamicos-Python/blob/main/ISOTHERMAL_CONTINUOUS_STIRRED_TANK_CHEMICAL_REACTORS.ipynb\" target=\"_parent\"><img src=\"https://colab.research.google.com/assets/colab-badge.svg\" alt=\"Open In Colab\"/></a>"
      ]
    },
    {
      "cell_type": "markdown",
      "metadata": {
        "id": "s6PWh2WjZwzd"
      },
      "source": [
        "Title: ISOTHERMAL CONTINUOUS STIRRED TANK CHEMICAL REACTORS\r\n",
        "\r\n",
        "Name: Juan Manuel G.G\r\n",
        "\r\n",
        "Date: February 2021"
      ]
    },
    {
      "cell_type": "markdown",
      "metadata": {
        "id": "ZOw71264aIxO"
      },
      "source": [
        "## Objetives\r\n",
        "\r\n",
        "* Determine the steady-state behavior of an isothermal CSTR (number of steady-states)\r\n",
        "\r\n",
        "* Determine the stability of a particular steady-state\r\n",
        "\r\n",
        "* Find the state-space and transfer function form of a linearized CSTR model at a particular steady-state\r\n",
        "\r\n",
        "* Show that steady-state gains calculated from the steady-state equations are consistent with the transfer funcion gains "
      ]
    },
    {
      "cell_type": "markdown",
      "metadata": {
        "id": "gddaiTWXao_A"
      },
      "source": [
        "## Introduction \r\n",
        "\r\n",
        "Chemical reactors arc generally the most important unit operations in a chemical plant. Chemical reactors come in many forms, but two of the most common idealizations are the continuous stirred tank reactor (CSTR) and the plug flow reactor (PFR). These two types serve as limiting hounds for the behavior of many operating reactors. The CSTR is often used in dynamic modeling studies, because it can be modeled as a lumped parameter system. A dynamic model of a plug flow reactor consists of partial differential equations (also know as a distributed parameter system)\r\n",
        "\r\n",
        "In this module we will assume that the reactor is operating at a constant temperature (it is isothermal), so we do not need an energy balance (and can also assume that the reaction rate parameters are constant). In addition, we will assume that the volume is constant.\r\n",
        "\r\n",
        "\r\n"
      ]
    },
    {
      "cell_type": "markdown",
      "metadata": {
        "id": "OD8iTKLObZgh"
      },
      "source": [
        "## First-order irreversible reaction "
      ]
    },
    {
      "cell_type": "markdown",
      "metadata": {
        "id": "5nwtuPubbniT"
      },
      "source": [
        "### 1. Process description \r\n",
        "\r\n",
        "Consider a single irreversible reaction A $\\rightarrow$ B. Assume that the rate of reaction per unit volume is first-order with respect to the concentration of A:\r\n",
        "\r\n",
        "$$\r\n",
        "\\text{molar rate of reaction of A per unit volume} =  r_A = kC_A\r\n",
        "$$\r\n",
        "\r\n",
        "Each mole of A reacted creates a mole of B, so we have the following relationship for the rate of formation of B:\r\n",
        "\r\n",
        "$$\r\n",
        "\\text{molar rate of formation of B per unit volume} = r_B = kC_A\r\n",
        "$$"
      ]
    },
    {
      "cell_type": "markdown",
      "metadata": {
        "id": "sMNdIxTWcdkD"
      },
      "source": [
        "### 2. Assumptions \r\n",
        "\r\n",
        "* Constant volume\r\n",
        "\r\n",
        "* Constant temperature \r\n",
        "\r\n",
        "* Perfect mixing \r\n",
        "\r\n",
        "* Constant kinetic parameters "
      ]
    },
    {
      "cell_type": "markdown",
      "metadata": {
        "id": "Le-2nYy2ctVW"
      },
      "source": [
        "### 3. Establish the model \r\n",
        "\r\n",
        "Component material balance on A\r\n",
        "\r\n",
        "$$\r\n",
        "\\text{rate of accumulation = in by flow - out by flow - out by reaction} \r\n",
        "$$\r\n",
        "\r\n",
        "$$\r\n",
        "\\frac{d(VC_A)}{dt} = F C_{Af} -FC_A - V_ k C_A\r\n",
        "$$\r\n",
        "\r\n",
        "where $k$ is the reaction rate constant. Since $V$ is constant:\r\n",
        "\r\n",
        "$$\r\n",
        "\\frac{dC_A}{dt} = \\frac{F}{A}C_{Af} - \\frac{F}{V}C_A - k C_A\r\n",
        "$$\r\n",
        "\r\n",
        "which we can write as:\r\n",
        "\r\n",
        "$$\r\n",
        "\\frac{dC_A}{dt} = \\frac{F}{V}C_{Af} - \\left(\\frac{F}{V} + k\\right)C_A \\tag{1}\r\n",
        "$$\r\n",
        "\r\n",
        "Component material balance on B\r\n",
        "\r\n",
        "It is natural to assume that there is no B in the feedstream, which yields the following modeling equation:\r\n",
        "\r\n",
        "$$\r\n",
        "\\frac{d(VC_B)}{dt} = -FC_B + V k C_A\r\n",
        "$$\r\n",
        "\r\n",
        "where again, k is the reaction rate constant. Since $V$ is constant\r\n",
        "\r\n",
        "$$\r\n",
        "\\frac{dC_B}{dt} = - \\frac{F}{V}C_B + k C_A \\tag{2}\r\n",
        "$$"
      ]
    },
    {
      "cell_type": "markdown",
      "metadata": {
        "id": "Stf2DmghhHKX"
      },
      "source": [
        "### Steady-State Behavior \r\n",
        "\r\n",
        "$$\r\n",
        "C_{As} = \\frac{\\frac{F_s}{V}C_{Af}}{\\frac{F_s}{V} + k} \\tag{3}\r\n",
        "$$\r\n",
        "\r\n",
        "$$\r\n",
        "\\frac{\\partial C_{As}}{\\partial \\frac{F_s}{V}} = \\frac{kC_{Afs}}{ \\left(\\frac{kV}{F_s} + k\\right)^2} \\tag{4}\r\n",
        "$$\r\n",
        "\r\n",
        "$$\r\n",
        "\\frac{\\partial C_{As}}{\\partial C_{Afs}} = \\frac{\\frac{kV}{F_s}}{\\frac{kV}{F_s} + 1} \\tag{5}\r\n",
        "$$\r\n"
      ]
    },
    {
      "cell_type": "code",
      "metadata": {
        "id": "DZU0wG2aiuxE"
      },
      "source": [
        "# import libraries\r\n",
        "import numpy as np\r\n",
        "import matplotlib.pyplot as plt\r\n",
        "from scipy.integrate import odeint "
      ],
      "execution_count": 3,
      "outputs": []
    },
    {
      "cell_type": "code",
      "metadata": {
        "id": "Rp6mhCxTcsUK"
      },
      "source": [
        "def Ca_Caf(D):\r\n",
        "\r\n",
        "    Ca_Caf = D/(D + k)\r\n",
        "    Cb_Caf = 1 - Ca_Caf\r\n",
        "\r\n",
        "    return [Ca_Caf, Cb_Caf]"
      ],
      "execution_count": 59,
      "outputs": []
    },
    {
      "cell_type": "code",
      "metadata": {
        "id": "_qdVVtK-iq7a"
      },
      "source": [
        "k = 0.2\r\n",
        "D = np.linspace(0,10,100)\r\n",
        "Conc = Ca_Caf(D)"
      ],
      "execution_count": 60,
      "outputs": []
    },
    {
      "cell_type": "code",
      "metadata": {
        "colab": {
          "base_uri": "https://localhost:8080/",
          "height": 296
        },
        "id": "meNCT-1Si9lR",
        "outputId": "75df37b2-754f-43f7-dde1-875d08c583db"
      },
      "source": [
        "plt.plot(D, Conc[0], D, Conc[1])\r\n",
        "plt.xlabel(\"D (1/min)\")\r\n",
        "plt.legend([\"CA/CAf\",\"CB/CAf\"])"
      ],
      "execution_count": 61,
      "outputs": [
        {
          "output_type": "execute_result",
          "data": {
            "text/plain": [
              "<matplotlib.legend.Legend at 0x7f96580a1940>"
            ]
          },
          "metadata": {
            "tags": []
          },
          "execution_count": 61
        },
        {
          "output_type": "display_data",
          "data": {
            "image/png": "[encoded data removed]",
            "text/plain": [
              "<Figure size 432x288 with 1 Axes>"
            ]
          },
          "metadata": {
            "tags": [],
            "needs_background": "light"
          }
        }
      ]
    },
    {
      "cell_type": "markdown",
      "metadata": {
        "id": "ktp-R4WnjzVR"
      },
      "source": [
        "Figure 1. Dimensionless concentration of A and B as a function of D"
      ]
    },
    {
      "cell_type": "markdown",
      "metadata": {
        "id": "npxlSWGVkCyi"
      },
      "source": [
        "### Dynamic Behavior\r\n",
        "\r\n",
        "The state space model (by linearizing (1) and (2)) is then:\r\n",
        "\r\n",
        "$$\r\n",
        "\\frac{dx_1}{dt} = - \\left(\\frac{F_s}{V} + k\\right)x_1 + (C_{Afs} - C_{As})u_1 + \\frac{F_s}{V}u_2 \\tag{6}\r\n",
        "$$\r\n",
        "\r\n",
        "$$\r\n",
        "\\frac{dx_2}{dt} = kx_1 + \\left(-\\frac{F_s}{V}\\right)x_2 - C_{Bs}u_1 \\tag{7}\r\n",
        "$$"
      ]
    },
    {
      "cell_type": "markdown",
      "metadata": {
        "id": "vn_7pO_klCEV"
      },
      "source": [
        "### Numerical example \r\n",
        "\r\n",
        "Consider a system with the following parameters and steady-state values:\r\n",
        "\r\n",
        "$$\\frac{F_s}{V} = D = 0.2\\ \\text{min}^{-1}$$\r\n",
        "\r\n",
        "$$k = 0.2\\ \\text{min}^{-1}$$\r\n",
        "\r\n",
        "$$C_{Afs} = 1.0\\ \\frac{\\text{gmol}}{\\text{liter}}$$\r\n",
        "\r\n",
        "which yields the following state-space model:\r\n",
        "\r\n",
        "$$\r\n",
        "\\begin{bmatrix}\r\n",
        "\\frac{dx_1}{dt}  \\\\\r\n",
        "\\frac{dx_2}{dt}  \r\n",
        "\\end{bmatrix} = \r\n",
        "\r\n",
        "\\begin{bmatrix}\r\n",
        "-0.4 & 0 \\\\\r\n",
        "0.2 & -0.2\r\n",
        "\\end{bmatrix}\r\n",
        "\r\n",
        "\\begin{bmatrix}\r\n",
        "x_1  \\\\\r\n",
        "x_2  \r\n",
        "\\end{bmatrix}\r\n",
        "\r\n",
        "+\r\n",
        "\r\n",
        "\\begin{bmatrix}\r\n",
        "0.5 & 0.2 \\\\\r\n",
        "-0.5 & 0 \r\n",
        "\\end{bmatrix}\r\n",
        "\r\n",
        "\\begin{bmatrix}\r\n",
        "u_1  \\\\\r\n",
        "u_2  \r\n",
        "\\end{bmatrix}\r\n",
        "$$"
      ]
    },
    {
      "cell_type": "code",
      "metadata": {
        "id": "G9w9OZ5AjAIZ"
      },
      "source": [
        "# write dynamic model \r\n",
        "def reactor(s,t,u):\r\n",
        "\r\n",
        "    # state variables\r\n",
        "    ## nonlinear model \r\n",
        "    ca = s[0]\r\n",
        "    cb = s[1]\r\n",
        "    ## linear model\r\n",
        "    cal = s[2]\r\n",
        "    cbl = s[3]\r\n",
        "\r\n",
        "    # inputs\r\n",
        "    D = u[0]\r\n",
        "    caf = u[1]\r\n",
        "\r\n",
        "    # prameters\r\n",
        "    # k (1/min)\r\n",
        "    \r\n",
        "    # component material balance on A\r\n",
        "    ## nonlinear \r\n",
        "    dcadt = D*(caf - ca) - k*ca\r\n",
        "    dcbdt = - D*cb + k*ca\r\n",
        "    ## linear \r\n",
        "    dcaldt = -0.4*(cal - cas) + 0.5*(D - Ds) + 0.2*(caf - cafs)\r\n",
        "    dcbldt = 0.2*(cal - cas) - 0.2*(cbl - cbs) - 0.5*(D - Ds)\r\n",
        "\r\n",
        "    return [dcadt, dcbdt, dcaldt, dcbldt]"
      ],
      "execution_count": 157,
      "outputs": []
    },
    {
      "cell_type": "code",
      "metadata": {
        "id": "jAzqDnQaol1R"
      },
      "source": [
        "# nominal values \r\n",
        "## inputs\r\n",
        "Ds = 0.2 # 1/min\r\n",
        "cafs = 1.0 # gmol/min\r\n",
        "## parameter\r\n",
        "k = 0.2 # 1/min"
      ],
      "execution_count": 158,
      "outputs": []
    },
    {
      "cell_type": "code",
      "metadata": {
        "colab": {
          "base_uri": "https://localhost:8080/"
        },
        "id": "e_LzJ-_Oq4gH",
        "outputId": "f4e7aa6d-8403-48cc-cf3d-71d4c636d321"
      },
      "source": [
        "# steady state concentration \r\n",
        "Ca_Caf(Ds)"
      ],
      "execution_count": 159,
      "outputs": [
        {
          "output_type": "execute_result",
          "data": {
            "text/plain": [
              "[0.5, 0.5]"
            ]
          },
          "metadata": {
            "tags": []
          },
          "execution_count": 159
        }
      ]
    },
    {
      "cell_type": "code",
      "metadata": {
        "id": "nR1tUaT8rDka"
      },
      "source": [
        "cas = 0.5*cafs\r\n",
        "cbs = 0.5*cafs"
      ],
      "execution_count": 160,
      "outputs": []
    },
    {
      "cell_type": "code",
      "metadata": {
        "id": "FwCgJ9KRpRgP"
      },
      "source": [
        "# initial conditions \r\n",
        "s = [0.5, 0.5, 0.5, 0.5]"
      ],
      "execution_count": 161,
      "outputs": []
    },
    {
      "cell_type": "code",
      "metadata": {
        "id": "ocpUQDdppK9-"
      },
      "source": [
        "# integration time \r\n",
        "time = np.linspace(0,20,100)"
      ],
      "execution_count": 162,
      "outputs": []
    },
    {
      "cell_type": "markdown",
      "metadata": {
        "id": "grlS7LmpvkXG"
      },
      "source": [
        "#### Simulate with constant inputs"
      ]
    },
    {
      "cell_type": "code",
      "metadata": {
        "id": "iv4RBaXUvosc"
      },
      "source": [
        "u = [Ds+0.01, cafs]\r\n",
        "out = odeint(reactor, s, time, args=(u,))\r\n",
        "ca = out[:,0]\r\n",
        "cb = out[:,1]\r\n",
        "cal = out[:,2]\r\n",
        "cbl = out[:,3]"
      ],
      "execution_count": 163,
      "outputs": []
    },
    {
      "cell_type": "code",
      "metadata": {
        "colab": {
          "base_uri": "https://localhost:8080/",
          "height": 296
        },
        "id": "PZ_1Rx70wBDq",
        "outputId": "e3b025fa-7244-4afa-b710-9a884bbdea61"
      },
      "source": [
        "plt.plot(time, ca,time, cb,time, cal,time, cbl)\r\n",
        "plt.xlabel(\"Time (min)\")\r\n",
        "plt.ylabel(\"Concentration (gmol/L)\")\r\n",
        "plt.legend([\"CA\",\"CB\",\"CAl\",\"CBl\"])"
      ],
      "execution_count": 165,
      "outputs": [
        {
          "output_type": "execute_result",
          "data": {
            "text/plain": [
              "<matplotlib.legend.Legend at 0x7f965729e3c8>"
            ]
          },
          "metadata": {
            "tags": []
          },
          "execution_count": 165
        },
        {
          "output_type": "display_data",
          "data": {
            "image/png": "[encoded data removed]",
            "text/plain": [
              "<Figure size 432x288 with 1 Axes>"
            ]
          },
          "metadata": {
            "tags": [],
            "needs_background": "light"
          }
        }
      ]
    },
    {
      "cell_type": "code",
      "metadata": {
        "id": "a0zRM5n3o16m"
      },
      "source": [
        "# establish inputs \r\n",
        "D = np.ones(len(time))*Ds + 0.2 # small step change in D\r\n",
        "caf = np.ones(len(time))*cafs"
      ],
      "execution_count": 170,
      "outputs": []
    },
    {
      "cell_type": "code",
      "metadata": {
        "id": "xR7_SnJxpGVo"
      },
      "source": [
        "# vectors to save states \r\n",
        "ca = np.ones(len(time))*s[0]\r\n",
        "cb = np.ones(len(time))*s[0]\r\n",
        "cal = np.ones(len(time))*s[1]\r\n",
        "cbl = np.ones(len(time))*s[1]\r\n"
      ],
      "execution_count": 171,
      "outputs": []
    },
    {
      "cell_type": "code",
      "metadata": {
        "id": "F4QrQHSQpkis"
      },
      "source": [
        "s = [0.5,0.5,0.5,0.5] # reset initial conditions \r\n",
        "# for cycle to simulate with different inputs \r\n",
        "for i in range(len(time)-1):\r\n",
        "\r\n",
        "    # update time span \r\n",
        "    ts = [time[i], time[i+1]]\r\n",
        "\r\n",
        "    # update inputs\r\n",
        "    u = [D[i+1], caf[i+1]]\r\n",
        "\r\n",
        "    # solve ODEs\r\n",
        "    out = odeint(reactor, s, ts, args=(u,))\r\n",
        "\r\n",
        "    # save states\r\n",
        "    ca[i+1] = out[-1][0]\r\n",
        "    cb[i+1] = out[-1][1]\r\n",
        "    cal[i+1] = out[-1][2]\r\n",
        "    cbl[i+1] = out[-1][3]\r\n",
        "\r\n",
        "    # update initial conditions \r\n",
        "    s = out[-1]"
      ],
      "execution_count": 172,
      "outputs": []
    },
    {
      "cell_type": "code",
      "metadata": {
        "colab": {
          "base_uri": "https://localhost:8080/",
          "height": 296
        },
        "id": "58vwg56jqadF",
        "outputId": "4542d1c1-b7f4-4da6-c721-f871002d9c6d"
      },
      "source": [
        "plt.plot(time, ca,time, cb,time, cal,time, cbl)\r\n",
        "plt.xlabel(\"Time (min)\")\r\n",
        "plt.ylabel(\"Concentration (gmol/L)\")\r\n",
        "plt.legend([\"CA\",\"CB\",\"CAl\",\"CBl\"])"
      ],
      "execution_count": 173,
      "outputs": [
        {
          "output_type": "execute_result",
          "data": {
            "text/plain": [
              "<matplotlib.legend.Legend at 0x7f96571a2a58>"
            ]
          },
          "metadata": {
            "tags": []
          },
          "execution_count": 173
        },
        {
          "output_type": "display_data",
          "data": {
            "image/png": "[encoded data removed]",
            "text/plain": [
              "<Figure size 432x288 with 1 Axes>"
            ]
          },
          "metadata": {
            "tags": [],
            "needs_background": "light"
          }
        }
      ]
    },
    {
      "cell_type": "code",
      "metadata": {
        "id": "obafPfAkrLBN"
      },
      "source": [
        "A = np.matrix([[-0.4, 0], [0.2, -0.2]])"
      ],
      "execution_count": 186,
      "outputs": []
    },
    {
      "cell_type": "code",
      "metadata": {
        "id": "AyK_9Kii1e7i"
      },
      "source": [
        "eigenval, eigenvect = np.linalg.eig(A)"
      ],
      "execution_count": 187,
      "outputs": []
    },
    {
      "cell_type": "code",
      "metadata": {
        "colab": {
          "base_uri": "https://localhost:8080/"
        },
        "id": "SofhKIPr1oTh",
        "outputId": "a9225daa-469b-4c13-afa0-0ff4ec3aaea3"
      },
      "source": [
        "print(\"eigenvalues:\", eigenval)"
      ],
      "execution_count": 188,
      "outputs": [
        {
          "output_type": "stream",
          "text": [
            "eigenvalues: [-0.2 -0.4]\n"
          ],
          "name": "stdout"
        }
      ]
    },
    {
      "cell_type": "code",
      "metadata": {
        "colab": {
          "base_uri": "https://localhost:8080/"
        },
        "id": "e8qz_6GS1_35",
        "outputId": "7d5b4369-8692-4cc1-b67d-6dfa5087a623"
      },
      "source": [
        "print(\"eigenvectors:\")\r\n",
        "print(eigenvect)"
      ],
      "execution_count": 189,
      "outputs": [
        {
          "output_type": "stream",
          "text": [
            "eigenvectors:\n",
            "[[ 0.          0.70710678]\n",
            " [ 1.         -0.70710678]]\n"
          ],
          "name": "stdout"
        }
      ]
    },
    {
      "cell_type": "markdown",
      "metadata": {
        "id": "si6rR7jv2Hdt"
      },
      "source": [
        "These results indicate that an initial perturbation in the second state variable (concentration of B) will respond slowly, while an equal magnitude pertubation in both state variables will respond twice as fast."
      ]
    },
    {
      "cell_type": "markdown",
      "metadata": {
        "id": "NVCMNN0d7YdR"
      },
      "source": [
        "### Van De Vusse Reaction \r\n",
        "\r\n",
        "Often reaction shceme will exhibit a maximun in the concentration of product versus flowrate curve. Here we will consider such a reaction. It turns out that this type of system can have significantly different input/output characteristics, depending on the operating condition chosen. Consider the reaction scheme consisting of the following irreversible reactions: \r\n",
        "\r\n",
        "$$A \\rightarrow B \\rightarrow C$$\r\n",
        "\r\n",
        "$$ 2A \\rightarrow D $$"
      ]
    },
    {
      "cell_type": "markdown",
      "metadata": {
        "id": "vCGsN_G28CwZ"
      },
      "source": [
        "### Modeling equations \r\n",
        "\r\n",
        "Overall Material Balance\r\n",
        "\r\n",
        "Assuming constant density and cosntant volume:\r\n",
        "\r\n",
        "$$\r\n",
        "\\frac{dV}{dt} = 0 \\hspace{1cm} \\text{and} \\hspace{1cm} F = F_i\r\n",
        "$$\r\n",
        "\r\n",
        "Component A Balance\r\n",
        "\r\n",
        "the balance on A is:\r\n",
        "\r\n",
        "$$\r\n",
        "\\text{accumulation = in by flow - out by flow - out by reaction 1 - out by reaction 2}\r\n",
        "$$\r\n",
        "\r\n",
        "$$\r\n",
        "\\frac{d(VC_A)}{dt} = F(C_{Af} - C_A) - Vk_1C_A - Vk_3C_A^2 \r\n",
        "$$\r\n",
        "\r\n",
        "Since V is constant: \r\n",
        "\r\n",
        "$$\r\n",
        "\\frac{dC_A}{dt} = \\frac{F}{V}(C_{Af} - C_A) - k_1C_A - k_3C_A^2 \\tag{1}\r\n",
        "$$\r\n",
        "\r\n",
        "Component B Balance\r\n",
        "\r\n",
        "Similarly, we can write:\r\n",
        "\r\n",
        "$$\r\n",
        "\\frac{dC_B}{dt} = - \\frac{F}{V}C_B + k_1C_A - k_2C_B \\tag{2}\r\n",
        "$$\r\n",
        "\r\n",
        "Component C Balance\r\n",
        "\r\n",
        "Also, for component C:\r\n",
        "\r\n",
        "$$\r\n",
        "\\frac{dC_c}{dt} = - \\frac{F}{V}C_c + k_2 C_B \\tag{3}\r\n",
        "$$\r\n",
        "\r\n",
        "Component D Balance \r\n",
        "\r\n",
        "$$\r\n",
        "\\frac{dC_D}{dt} = - \\frac{F}{V}C_D + \\frac{1}{2}k_3C_A^{2} \\tag{4}\r\n",
        "$$\r\n"
      ]
    },
    {
      "cell_type": "markdown",
      "metadata": {
        "id": "Yjf5MU3a9tI1"
      },
      "source": [
        "### Steady state \r\n",
        "\r\n",
        "Solving for (1) and (2) we find a quadratic equation in C_{As}:"
      ]
    },
    {
      "cell_type": "code",
      "metadata": {
        "id": "8PjBN7Zb2Fgm"
      },
      "source": [
        "import sympy as sp "
      ],
      "execution_count": 190,
      "outputs": []
    },
    {
      "cell_type": "code",
      "metadata": {
        "id": "HJ_ECeJ3961e"
      },
      "source": [
        "F, V, Caf, Ca, k1, k3, Cb, k2 = sp.symbols(\"F, V, Caf, Ca, k1, k3, Cb, k2\") "
      ],
      "execution_count": 191,
      "outputs": []
    },
    {
      "cell_type": "code",
      "metadata": {
        "id": "i3VMQ0PN-GhT"
      },
      "source": [
        "eq1 = sp.Eq(F/V*(Caf - Ca) - k1*Ca - k3*Ca**2,0)\r\n",
        "eq2 = sp.Eq(-F/V*Cb + k1*Ca - k2*Cb,0)"
      ],
      "execution_count": 192,
      "outputs": []
    },
    {
      "cell_type": "code",
      "metadata": {
        "colab": {
          "base_uri": "https://localhost:8080/"
        },
        "id": "7VNNu2-E-Vp0",
        "outputId": "8d59d49b-b616-4c8f-df31-2463bc919ff7"
      },
      "source": [
        "sp.solve(eq1, Ca)"
      ],
      "execution_count": 194,
      "outputs": [
        {
          "output_type": "execute_result",
          "data": {
            "text/plain": [
              "[(-F - V*k1 + sqrt(4*Caf*F*V*k3 + F**2 + 2*F*V*k1 + V**2*k1**2))/(2*V*k3),\n",
              " -(F + V*k1 + sqrt(4*Caf*F*V*k3 + F**2 + 2*F*V*k1 + V**2*k1**2))/(2*V*k3)]"
            ]
          },
          "metadata": {
            "tags": []
          },
          "execution_count": 194
        }
      ]
    },
    {
      "cell_type": "code",
      "metadata": {
        "colab": {
          "base_uri": "https://localhost:8080/"
        },
        "id": "sB_CsCPE-Zuz",
        "outputId": "d77a253b-1e1f-4ed7-acd7-11852f623c8f"
      },
      "source": [
        "sp.solve(eq2, Cb)"
      ],
      "execution_count": 195,
      "outputs": [
        {
          "output_type": "execute_result",
          "data": {
            "text/plain": [
              "[Ca*V*k1/(F + V*k2)]"
            ]
          },
          "metadata": {
            "tags": []
          },
          "execution_count": 195
        }
      ]
    },
    {
      "cell_type": "markdown",
      "metadata": {
        "id": "_6b7wq5--pBs"
      },
      "source": [
        "$$\r\n",
        "C_{As} = \\frac{-F - Vk_1 + \\sqrt{4C_{Af}FVk_3 + F^2 + 2FVk_1 + V^2k_1^2}}{2Vk_3} \r\n",
        "$$\r\n",
        "\r\n",
        "$$\r\n",
        "C_{As} = \\frac{- (k_1 - \\frac{F_s}{V}) + \\sqrt{(k_1 + \\frac{F_s}{V})^2 + 4k_3C_{Afs}(\\frac{F_s}{V})}}{2k_3} \\tag{5}\r\n",
        "$$\r\n",
        "\r\n",
        "\\\\\r\n",
        "$$\r\n",
        "C_{Bs} = \\frac{k_1C_{As}}{\\frac{F_s}{V} +  k_2} \\tag{6}\r\n",
        "$$"
      ]
    },
    {
      "cell_type": "code",
      "metadata": {
        "id": "rgcPKY7X-m9o"
      },
      "source": [
        ""
      ],
      "execution_count": null,
      "outputs": []
    }
  ]
}