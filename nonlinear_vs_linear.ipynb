{
  "nbformat": 4,
  "nbformat_minor": 0,
  "metadata": {
    "colab": {
      "name": "Untitled35.ipynb",
      "provenance": [],
      "authorship_tag": "ABX9TyNCaYzcaGFe8jLHHMbN9k9d",
      "include_colab_link": true
    },
    "kernelspec": {
      "name": "python3",
      "display_name": "Python 3"
    }
  },
  "cells": [
    {
      "cell_type": "markdown",
      "metadata": {
        "id": "view-in-github",
        "colab_type": "text"
      },
      "source": [
        "<a href=\"https://colab.research.google.com/github/JuanM-GG/sistemas-dinamicos-Python/blob/main/nonlinear_vs_linear.ipynb\" target=\"_parent\"><img src=\"https://colab.research.google.com/assets/colab-badge.svg\" alt=\"Open In Colab\"/></a>"
      ]
    },
    {
      "cell_type": "markdown",
      "metadata": {
        "id": "Dy_6yu59Mjzv"
      },
      "source": [
        "Title: Comparison between nonlinear and linear simulation\r\n",
        "\r\n",
        "Name: JM\r\n",
        "\r\n",
        "Date:  December 2020"
      ]
    },
    {
      "cell_type": "code",
      "metadata": {
        "id": "DgZ7SkUTMt41"
      },
      "source": [
        "import numpy as np\r\n",
        "import matplotlib.pyplot as plt\r\n",
        "from scipy.integrate import odeint "
      ],
      "execution_count": 14,
      "outputs": []
    },
    {
      "cell_type": "code",
      "metadata": {
        "id": "7W0WGOHIMy4v"
      },
      "source": [
        "# function that returns dzdt\r\n",
        "def model(z,t,u):\r\n",
        "  x1 = z[0]\r\n",
        "  x2 = z[1]\r\n",
        "\r\n",
        "  dx1dt = - x1**2 + np.sqrt(u)\r\n",
        "  dx2dt = - 4.0*(x2 - 2.0) + (1.0/8.0)*(u - 16.0)\r\n",
        "\r\n",
        "  dzdt = [dx1dt, dx2dt]\r\n",
        "\r\n",
        "  return dzdt"
      ],
      "execution_count": 15,
      "outputs": []
    },
    {
      "cell_type": "code",
      "metadata": {
        "id": "2uXcZ7Z9NNZd"
      },
      "source": [
        "# steady state conditions \r\n",
        "x_ss = 2.0\r\n",
        "u_ss = 16.0"
      ],
      "execution_count": 16,
      "outputs": []
    },
    {
      "cell_type": "code",
      "metadata": {
        "id": "C23KyjUoNTQT"
      },
      "source": [
        "# initial conditions \r\n",
        "z0 = [x_ss, x_ss]"
      ],
      "execution_count": 27,
      "outputs": []
    },
    {
      "cell_type": "code",
      "metadata": {
        "id": "IlKVsf3iNXAC"
      },
      "source": [
        "# time points\r\n",
        "t = np.linspace(0,10,101)"
      ],
      "execution_count": 18,
      "outputs": []
    },
    {
      "cell_type": "code",
      "metadata": {
        "id": "3wVBnHzXNb6W"
      },
      "source": [
        "# step input\r\n",
        "u = np.ones(len(t))*u_ss\r\n",
        "u[11:] = u[11:] + 8.0\r\n",
        "u[41:] = u[41:] - 16.0\r\n",
        "u[71:] = u[71:] + 8.0"
      ],
      "execution_count": 19,
      "outputs": []
    },
    {
      "cell_type": "code",
      "metadata": {
        "id": "R2W5MuEPNuHb"
      },
      "source": [
        "# store solution\r\n",
        "x1 = np.empty_like(t)\r\n",
        "x2 = np.empty_like(t)"
      ],
      "execution_count": 24,
      "outputs": []
    },
    {
      "cell_type": "code",
      "metadata": {
        "id": "S1uV0sBhN0rB"
      },
      "source": [
        "# record initial conditions \r\n",
        "x1[0] = z0[0]\r\n",
        "x2[0] = z0[1]"
      ],
      "execution_count": 28,
      "outputs": []
    },
    {
      "cell_type": "code",
      "metadata": {
        "id": "4DoUPkgRN-XH"
      },
      "source": [
        "# solve ODE\r\n",
        "for i in range(len(t) - 1):\r\n",
        "  tspan = [t[i], t[i+1]]\r\n",
        "  # solve for next step\r\n",
        "  z = odeint(model,z0,tspan, args=(u[i+1],))\r\n",
        "  # store solution for plotting \r\n",
        "  x1[i+1] = z[-1][0]\r\n",
        "  x2[i+1] = z[-1][1]\r\n",
        "  # next initial conditions\r\n",
        "  z0 = z[-1]"
      ],
      "execution_count": 30,
      "outputs": []
    },
    {
      "cell_type": "code",
      "metadata": {
        "colab": {
          "base_uri": "https://localhost:8080/",
          "height": 296
        },
        "id": "jHdk9oxnOi77",
        "outputId": "420389a5-3839-432f-a82a-66566ee44806"
      },
      "source": [
        "# plot results\r\n",
        "plt.subplot(2,1,1)\r\n",
        "plt.plot(t,u,\"g-\",linewidth = 3, label = \"u(t) Doublet Test\")\r\n",
        "plt.grid()\r\n",
        "plt.legend(loc = \"best\")\r\n",
        "plt.subplot(2,1,2)\r\n",
        "plt.plot(t,x1,\"b-\",linewidth = 3, label= \"x(t) Nonlinear\")\r\n",
        "plt.plot(t,x2,\"r--\",linewidth = 3, label = \"x(t) Linear\")\r\n",
        "plt.xlabel(\"time\")\r\n",
        "plt.grid()\r\n",
        "plt.legend(loc = \"best\")"
      ],
      "execution_count": 32,
      "outputs": [
        {
          "output_type": "execute_result",
          "data": {
            "text/plain": [
              "<matplotlib.legend.Legend at 0x7ff31f58a6a0>"
            ]
          },
          "metadata": {
            "tags": []
          },
          "execution_count": 32
        },
        {
          "output_type": "display_data",
          "data": {
            "image/png": "[encoded data removed]",
            "text/plain": [
              "<Figure size 432x288 with 2 Axes>"
            ]
          },
          "metadata": {
            "tags": [],
            "needs_background": "light"
          }
        }
      ]
    },
    {
      "cell_type": "code",
      "metadata": {
        "id": "J43_Juc9PNTE"
      },
      "source": [
        ""
      ],
      "execution_count": null,
      "outputs": []
    }
  ]
}