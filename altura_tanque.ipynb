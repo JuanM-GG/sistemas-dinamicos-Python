{
  "nbformat": 4,
  "nbformat_minor": 0,
  "metadata": {
    "colab": {
      "name": "Untitled22.ipynb",
      "provenance": [],
      "authorship_tag": "ABX9TyPUpJojRWu+W62hJ/7gIPXN",
      "include_colab_link": true
    },
    "kernelspec": {
      "name": "python3",
      "display_name": "Python 3"
    }
  },
  "cells": [
    {
      "cell_type": "markdown",
      "metadata": {
        "id": "view-in-github",
        "colab_type": "text"
      },
      "source": [
        "<a href=\"https://colab.research.google.com/github/JuanM-GG/sistemas-dinamicos-Python/blob/main/altura_tanque.ipynb\" target=\"_parent\"><img src=\"https://colab.research.google.com/assets/colab-badge.svg\" alt=\"Open In Colab\"/></a>"
      ]
    },
    {
      "cell_type": "markdown",
      "metadata": {
        "id": "i7QLdRSqaFh2"
      },
      "source": [
        "Título: Calculo de altura en tanque\r\n",
        "\r\n",
        "Nombre: Juan Manuel\r\n",
        "\r\n",
        "Fecha: 19 de diciembre del 2020"
      ]
    },
    {
      "cell_type": "markdown",
      "metadata": {
        "id": "XCU7Lo4lrFuL"
      },
      "source": [
        "Los modelos dinámicos son esenciales para entender los sistemas dinámicos en un control de ciclo abierto (modo manual) o de ciclo cerrado (modo automático). Estos modelos pueden ser derivados de datos (empíricos) o de relaciones más fundamentales (principos dísicos) que dependen en el conocimiento del proceso. Una combinación de estos dos enfoques es usada a munudo en la práctica, donde la forma de las ecuaciones son desarrolladas de ecuaciones de balances fundamentales y parámetros desconocidos o con incertidumbre son ajustados a datos del proceso. \r\n",
        "\r\n",
        "En ingeniería, hay cuantro comunes ecuaciones de balances de principios de conservación incluyendo masa, momento, energía, y especies. Una alternativa a los modelos con base física es usar datos de entrada y salida para desarrollar modelos dinámicos empíricos tales como sistemas de primer orden o de sugundo orden. "
      ]
    },
    {
      "cell_type": "markdown",
      "metadata": {
        "id": "woh2DcbDs3Tj"
      },
      "source": [
        "# Pasos para modelamiento dinámico"
      ]
    },
    {
      "cell_type": "markdown",
      "metadata": {
        "id": "MVJx26lis_HI"
      },
      "source": [
        "Los siguientes son guías generales para desarrollar un modelo dinámico. \r\n",
        "\r\n",
        "\r\n",
        "\r\n",
        "1.   Identificar el objetivo de la simulación\r\n",
        "2.   Dibujar un diagrama esquemático, etiquetando las variables del proceso\r\n",
        "3.   Enlistar las suposiciones\r\n",
        "4.   Determinar la dependencia espacial \r\n",
        "5.   Escribir los balances dinámicos (masa, especies, energía)\r\n",
        "6.   Otras relaciones (termo, reacciones, geometría, etc.)\r\n",
        "7. Grados de libertad, ¿Es el número de ecuaciones = número de incógnitas?\r\n",
        "8.   Clasificar las entradas\r\n",
        "\r\n",
        "    *   Valores fijos\r\n",
        "    *   Perturbaciones\r\n",
        "    *   Variables manipuladas\r\n",
        "\r\n",
        "9.   Clasificar las salidas\r\n",
        "\r\n",
        "    *  Estados\r\n",
        "    * Variables de control\r\n",
        "\r\n",
        "10.  Simplificar las ecuaciones de balance basado en suposiciones\r\n",
        "11.  Simular las condiciones de estado estable\r\n",
        "12.  Simular las salidas con un paso de entrada\r\n",
        "\r\n",
        "\r\n",
        "\r\n"
      ]
    },
    {
      "cell_type": "markdown",
      "metadata": {
        "id": "dLXqwvgqvNCH"
      },
      "source": [
        "![tank.png](data:image/png;base64,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)"
      ]
    },
    {
      "cell_type": "markdown",
      "metadata": {
        "id": "Xm6KlpK6vUQF"
      },
      "source": [
        "Simule la altura del tanque integrando la ecuación de balance de masa durante un período de 10 segundos. La válvula se abre al 100% en el tiempo = 2 y se cierra en el tiempo = 7. Utilice un valor de 1000 kg / m3 para la densidad y de 1,0 m2 para el área de la sección transversal del tanque. Para la válvula, suponga un coeficiente de válvula de c = 50.0 (kg / s /% abierto)."
      ]
    },
    {
      "cell_type": "markdown",
      "metadata": {
        "id": "SvHZxDktaXdM"
      },
      "source": [
        "Importar liberías"
      ]
    },
    {
      "cell_type": "code",
      "metadata": {
        "id": "cBIaXVGcaMs9"
      },
      "source": [
        "import numpy as np\r\n",
        "import matplotlib.pyplot as plt\r\n",
        "from scipy.integrate import odeint"
      ],
      "execution_count": 1,
      "outputs": []
    },
    {
      "cell_type": "markdown",
      "metadata": {
        "id": "LxLFQo77aZnU"
      },
      "source": [
        "Establecer modelo "
      ]
    },
    {
      "cell_type": "code",
      "metadata": {
        "id": "2qXJftFuaUwO"
      },
      "source": [
        "def tank(s,t,u):\r\n",
        "\r\n",
        "  # Parameters\r\n",
        "  c = 50 # kg/s\r\n",
        "  pho = 1000 # kg/m^3\r\n",
        "  A = 1.0 # m^2\r\n",
        "\r\n",
        "  # Variables\r\n",
        "  h = s[0]\r\n",
        "\r\n",
        "  # Mass balance\r\n",
        "  dhdt = (c/(pho*A))*u\r\n",
        "\r\n",
        "  return dhdt"
      ],
      "execution_count": 26,
      "outputs": []
    },
    {
      "cell_type": "markdown",
      "metadata": {
        "id": "iDoT_wBNbUd4"
      },
      "source": [
        "Establecer condiciones iniciales "
      ]
    },
    {
      "cell_type": "code",
      "metadata": {
        "id": "ki-a5kiybSXx"
      },
      "source": [
        "h0 = 0"
      ],
      "execution_count": 27,
      "outputs": []
    },
    {
      "cell_type": "markdown",
      "metadata": {
        "id": "X07K7bVhbfBn"
      },
      "source": [
        "Establecer tiempo de simulación "
      ]
    },
    {
      "cell_type": "code",
      "metadata": {
        "id": "fXRshuRcbiec"
      },
      "source": [
        "t = np.linspace(0,10,100)"
      ],
      "execution_count": 28,
      "outputs": []
    },
    {
      "cell_type": "markdown",
      "metadata": {
        "id": "vjORNtB6baQA"
      },
      "source": [
        "Establecer entrada"
      ]
    },
    {
      "cell_type": "code",
      "metadata": {
        "id": "jRTTH7G1bYQD"
      },
      "source": [
        "u = np.zeros(len(t))\r\n",
        "u[20:70] = 1"
      ],
      "execution_count": 29,
      "outputs": []
    },
    {
      "cell_type": "markdown",
      "metadata": {
        "id": "fFSbEvbIbxGN"
      },
      "source": [
        "Crear vector para guardar valores de altura "
      ]
    },
    {
      "cell_type": "code",
      "metadata": {
        "id": "2y56loRJcTTX"
      },
      "source": [
        "h = np.zeros(len(t))"
      ],
      "execution_count": 19,
      "outputs": []
    },
    {
      "cell_type": "code",
      "metadata": {
        "id": "7Uqvds3-bony"
      },
      "source": [
        "for i in range(len(t)-1):\r\n",
        "\r\n",
        "  ts = [t[i], t[i+1]]\r\n",
        "  out = odeint(tank, h0,ts,args =(u[i], ))\r\n",
        "  h0 = out[-1,0]\r\n",
        "  h[i+1] = out[-1,0]\r\n"
      ],
      "execution_count": 30,
      "outputs": []
    },
    {
      "cell_type": "code",
      "metadata": {
        "colab": {
          "base_uri": "https://localhost:8080/",
          "height": 296
        },
        "id": "QmGl_xRCcp9S",
        "outputId": "c4583fef-0114-43b0-d332-46cee048fce6"
      },
      "source": [
        "plt.subplot(2,1,1)\r\n",
        "plt.plot(t,h,\"b-\", linewidth = 3)\r\n",
        "plt.ylabel(\"Tank level\")\r\n",
        "plt.subplot(2,1,2)\r\n",
        "plt.plot(t,u,\"r-\", linewidth = 3)\r\n",
        "plt.ylabel(\"Valve\")\r\n",
        "plt.xlabel(\"Time (s)\")"
      ],
      "execution_count": 31,
      "outputs": [
        {
          "output_type": "execute_result",
          "data": {
            "text/plain": [
              "Text(0.5, 0, 'Time (s)')"
            ]
          },
          "metadata": {
            "tags": []
          },
          "execution_count": 31
        },
        {
          "output_type": "display_data",
          "data": {
            "image/png": "[encoded data removed]",
            "text/plain": [
              "<Figure size 432x288 with 2 Axes>"
            ]
          },
          "metadata": {
            "tags": [],
            "needs_background": "light"
          }
        }
      ]
    },
    {
      "cell_type": "code",
      "metadata": {
        "colab": {
          "base_uri": "https://localhost:8080/",
          "height": 282
        },
        "id": "SOTztlRec0uy",
        "outputId": "fbe586e2-e56d-4181-8c06-26054b11da14"
      },
      "source": [
        "plt.plot(t,u,\"b--\")"
      ],
      "execution_count": 24,
      "outputs": [
        {
          "output_type": "execute_result",
          "data": {
            "text/plain": [
              "[<matplotlib.lines.Line2D at 0x7f5da8b00a90>]"
            ]
          },
          "metadata": {
            "tags": []
          },
          "execution_count": 24
        },
        {
          "output_type": "display_data",
          "data": {
            "image/png": "[encoded data removed]",
            "text/plain": [
              "<Figure size 432x288 with 1 Axes>"
            ]
          },
          "metadata": {
            "tags": [],
            "needs_background": "light"
          }
        }
      ]
    }
  ]
}