{
  "nbformat": 4,
  "nbformat_minor": 0,
  "metadata": {
    "colab": {
      "name": "Untitled35.ipynb",
      "provenance": [],
      "authorship_tag": "ABX9TyMB6e64LNIrCYoy9xNGjf41",
      "include_colab_link": true
    },
    "kernelspec": {
      "name": "python3",
      "display_name": "Python 3"
    }
  },
  "cells": [
    {
      "cell_type": "markdown",
      "metadata": {
        "id": "view-in-github",
        "colab_type": "text"
      },
      "source": [
        "<a href=\"https://colab.research.google.com/github/JuanM-GG/sistemas-dinamicos-Python/blob/main/punto_equilibrio_inhibicion_producto.ipynb\" target=\"_parent\"><img src=\"https://colab.research.google.com/assets/colab-badge.svg\" alt=\"Open In Colab\"/></a>"
      ]
    },
    {
      "cell_type": "markdown",
      "metadata": {
        "id": "m_0fyvwQLAUh"
      },
      "source": [
        "Título: Puntos de equilibrio modelo con inhibición por producto \r\n",
        "\r\n",
        "Autor: Juan Manuel Gutiérrez García\r\n",
        "\r\n",
        "Afiliación: Instituto Tecnológico de Morelia\r\n",
        "\r\n",
        "Fecha: enero 2021"
      ]
    },
    {
      "cell_type": "code",
      "metadata": {
        "id": "4YSC7P9K5GZD"
      },
      "source": [
        "import sympy as sp "
      ],
      "execution_count": 1,
      "outputs": []
    },
    {
      "cell_type": "code",
      "metadata": {
        "id": "X6d6_Rfd5H9R"
      },
      "source": [
        "x, p, s = sp.symbols(\"x, p, s\")"
      ],
      "execution_count": 16,
      "outputs": []
    },
    {
      "cell_type": "code",
      "metadata": {
        "id": "_RgysfmJ5O9O"
      },
      "source": [
        "Yxs, sf, Ypx, mu_max, kp, D, ks = sp.symbols(\"Yxs, sf, Ypx, mu_max, kp, D, ks\") "
      ],
      "execution_count": 17,
      "outputs": []
    },
    {
      "cell_type": "code",
      "metadata": {
        "id": "F6a-vu7t5gKt"
      },
      "source": [
        "# dxdt = 0\r\n",
        "eq1 = sp.Eq(-D*x + mu_max*s/(ks + s)*kp/(kp + p)*x,0)\r\n",
        "# dsdt = 0\r\n",
        "eq2 = sp.Eq(D*(sf - s) - (1/Yxs)*(mu_max*s/(ks + s)*kp/(kp + p))*x,0)\r\n",
        "# dpdt = 0\r\n",
        "eq3 = sp.Eq(-D*p + Ypx*(mu_max*s/(ks + s)*kp/(kp + p))*x,0)"
      ],
      "execution_count": 20,
      "outputs": []
    },
    {
      "cell_type": "code",
      "metadata": {
        "colab": {
          "base_uri": "https://localhost:8080/"
        },
        "id": "W-1li2LOJpEf",
        "outputId": "23634fed-a6ee-49e6-adec-40781cf5220c"
      },
      "source": [
        "sp.solve([eq1,eq2,eq3], [x,p,s])"
      ],
      "execution_count": 21,
      "outputs": [
        {
          "output_type": "execute_result",
          "data": {
            "text/plain": [
              "[(0, 0, sf),\n",
              " ((D*Ypx*Yxs*ks + D*Ypx*Yxs*sf - D*kp + kp*mu_max - sqrt(D**2*Ypx**2*Yxs**2*ks**2 + 2*D**2*Ypx**2*Yxs**2*ks*sf + D**2*Ypx**2*Yxs**2*sf**2 + 2*D**2*Ypx*Yxs*kp*ks + 2*D**2*Ypx*Yxs*kp*sf + D**2*kp**2 + 2*D*Ypx*Yxs*kp*ks*mu_max - 2*D*Ypx*Yxs*kp*mu_max*sf - 2*D*kp**2*mu_max + kp**2*mu_max**2))/(2*D*Ypx),\n",
              "  (D*Ypx*Yxs*ks + D*Ypx*Yxs*sf - D*kp + kp*mu_max - sqrt(D**2*Ypx**2*Yxs**2*ks**2 + 2*D**2*Ypx**2*Yxs**2*ks*sf + D**2*Ypx**2*Yxs**2*sf**2 + 2*D**2*Ypx*Yxs*kp*ks + 2*D**2*Ypx*Yxs*kp*sf + D**2*kp**2 + 2*D*Ypx*Yxs*kp*ks*mu_max - 2*D*Ypx*Yxs*kp*mu_max*sf - 2*D*kp**2*mu_max + kp**2*mu_max**2))/(2*D),\n",
              "  ks*(-D*Ypx*Yxs*ks - D*Ypx*Yxs*sf - D*kp - kp*mu_max + sqrt(D**2*Ypx**2*Yxs**2*ks**2 + 2*D**2*Ypx**2*Yxs**2*ks*sf + D**2*Ypx**2*Yxs**2*sf**2 + 2*D**2*Ypx*Yxs*kp*ks + 2*D**2*Ypx*Yxs*kp*sf + D**2*kp**2 + 2*D*Ypx*Yxs*kp*ks*mu_max - 2*D*Ypx*Yxs*kp*mu_max*sf - 2*D*kp**2*mu_max + kp**2*mu_max**2))/(D*Ypx*Yxs*ks + D*Ypx*Yxs*sf + D*kp - kp*mu_max - sqrt(D**2*Ypx**2*Yxs**2*ks**2 + 2*D**2*Ypx**2*Yxs**2*ks*sf + D**2*Ypx**2*Yxs**2*sf**2 + 2*D**2*Ypx*Yxs*kp*ks + 2*D**2*Ypx*Yxs*kp*sf + D**2*kp**2 + 2*D*Ypx*Yxs*kp*ks*mu_max - 2*D*Ypx*Yxs*kp*mu_max*sf - 2*D*kp**2*mu_max + kp**2*mu_max**2))),\n",
              " ((D*Ypx*Yxs*ks + D*Ypx*Yxs*sf - D*kp + kp*mu_max + sqrt(D**2*Ypx**2*Yxs**2*ks**2 + 2*D**2*Ypx**2*Yxs**2*ks*sf + D**2*Ypx**2*Yxs**2*sf**2 + 2*D**2*Ypx*Yxs*kp*ks + 2*D**2*Ypx*Yxs*kp*sf + D**2*kp**2 + 2*D*Ypx*Yxs*kp*ks*mu_max - 2*D*Ypx*Yxs*kp*mu_max*sf - 2*D*kp**2*mu_max + kp**2*mu_max**2))/(2*D*Ypx),\n",
              "  (D*Ypx*Yxs*ks + D*Ypx*Yxs*sf - D*kp + kp*mu_max + sqrt(D**2*Ypx**2*Yxs**2*ks**2 + 2*D**2*Ypx**2*Yxs**2*ks*sf + D**2*Ypx**2*Yxs**2*sf**2 + 2*D**2*Ypx*Yxs*kp*ks + 2*D**2*Ypx*Yxs*kp*sf + D**2*kp**2 + 2*D*Ypx*Yxs*kp*ks*mu_max - 2*D*Ypx*Yxs*kp*mu_max*sf - 2*D*kp**2*mu_max + kp**2*mu_max**2))/(2*D),\n",
              "  -ks*(D*Ypx*Yxs*ks + D*Ypx*Yxs*sf + D*kp + kp*mu_max + sqrt(D**2*Ypx**2*Yxs**2*ks**2 + 2*D**2*Ypx**2*Yxs**2*ks*sf + D**2*Ypx**2*Yxs**2*sf**2 + 2*D**2*Ypx*Yxs*kp*ks + 2*D**2*Ypx*Yxs*kp*sf + D**2*kp**2 + 2*D*Ypx*Yxs*kp*ks*mu_max - 2*D*Ypx*Yxs*kp*mu_max*sf - 2*D*kp**2*mu_max + kp**2*mu_max**2))/(D*Ypx*Yxs*ks + D*Ypx*Yxs*sf + D*kp - kp*mu_max + sqrt(D**2*Ypx**2*Yxs**2*ks**2 + 2*D**2*Ypx**2*Yxs**2*ks*sf + D**2*Ypx**2*Yxs**2*sf**2 + 2*D**2*Ypx*Yxs*kp*ks + 2*D**2*Ypx*Yxs*kp*sf + D**2*kp**2 + 2*D*Ypx*Yxs*kp*ks*mu_max - 2*D*Ypx*Yxs*kp*mu_max*sf - 2*D*kp**2*mu_max + kp**2*mu_max**2)))]"
            ]
          },
          "metadata": {
            "tags": []
          },
          "execution_count": 21
        }
      ]
    }
  ]
}