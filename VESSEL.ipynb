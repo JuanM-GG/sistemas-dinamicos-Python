{
  "nbformat": 4,
  "nbformat_minor": 0,
  "metadata": {
    "colab": {
      "name": "Untitled60.ipynb",
      "provenance": [],
      "toc_visible": true,
      "authorship_tag": "ABX9TyOIJQ7HKntFpgW9hHdLzucD",
      "include_colab_link": true
    },
    "kernelspec": {
      "name": "python3",
      "display_name": "Python 3"
    }
  },
  "cells": [
    {
      "cell_type": "markdown",
      "metadata": {
        "id": "view-in-github",
        "colab_type": "text"
      },
      "source": [
        "<a href=\"https://colab.research.google.com/github/JuanM-GG/sistemas-dinamicos-Python/blob/main/VESSEL.ipynb\" target=\"_parent\"><img src=\"https://colab.research.google.com/assets/colab-badge.svg\" alt=\"Open In Colab\"/></a>"
      ]
    },
    {
      "cell_type": "markdown",
      "metadata": {
        "id": "kX5s11yNKPOf"
      },
      "source": [
        "Title: Well-mixed vessel\r\n",
        "\r\n",
        "Name: Juan Manuel \r\n",
        "\r\n",
        "Date: February 2021"
      ]
    },
    {
      "cell_type": "markdown",
      "metadata": {
        "id": "9qEhZRPJKJzQ"
      },
      "source": [
        "### 1. Process description \r\n",
        "\r\n",
        "Use a mass, species, and energy balance to describe the dynamic response in volume, concentration, and temperature of a well-mixed vessel.\r\n",
        "\r\n",
        "The inlet (qf) and outlet (q) volumetric flowrates, feed concentration (Caf), and inlet temperature (Tf) can be adjusted. Initial conditions for the vessel are V= 1.0 L, Ca = 0.0 mol/L, and T=350 K. There is no reaction and no significant heat added by the mixer. There is a cooling jacket that can be used to adjust the outlet temperature. Show step changes in the process inputs."
      ]
    },
    {
      "cell_type": "markdown",
      "metadata": {
        "id": "8O73vdLhKgCm"
      },
      "source": [
        "### 2. Assumptions \r\n",
        "\r\n",
        "* Homogenious concentration \r\n",
        "\r\n",
        "* Constant density and heat \r\n",
        "\r\n",
        "* Heat capacity of the tank and the jacket are depreciate\r\n",
        "\r\n",
        "* Constant temperature of the coolant "
      ]
    },
    {
      "cell_type": "markdown",
      "metadata": {
        "id": "0Z7HP6d4RvVJ"
      },
      "source": [
        "### 3. Process scheme \r\n",
        "\r\n",
        "![balance_eqn_diagram.png](data:image/png;base64,iVBORw0KGgoAAAANSUhEUgAAAcUAAAErCAYAAAHYiKjgAAAAAXNSR0IArs4c6QAAAARnQU1BAACxjwv8YQUAAAAJcEhZcwAAFxEAABcRAcom8z8AAEJlSURBVHhe7Z0HuNTU1oYvTXqRIghSVYqKICAiIChVioggqNcCUhTkCl7EAkgRsIEXROFSRUSKDS5YQMQCoiBFkCZd6UXpVUHY//8tds6ZMydnzkwmmUky3/s8+5nsncxMkp2VL9llrX+oBCBuB/nFF1/opUv06dNHL9lPxAd54403qooVK+qcNcaNG6e6d++uxo4dK8tITZo0kbwThHWQS5Ys0UupWbt2rV6KDFfV5D/+8Y+QB4n1YPjw4fIZLq6+XO3Cdwf51FNP6aVkEuIg582bp9q0aaPuu+8++SxbtqxeYz9xO0iDN998Uy85Bw/SLgIPEnoYSPBBGndrO4nZQaa182nV5OjRo/VS9MTkIEOR3uW6e/duvWQd1x8k+Oc//6mXrOGJgwTHjh3TS5Hj2EGeO3dOL4Um3IMsWLCgXoocHmQ0nDv3lypav0+6qXjDfqblwSl/1fb6lyOHNRkNPMgAfHOQ5cuX10upYU0G4JmD3LBhg15Kxuwg7777br2UDA7S6sO7Iwc5adIkRw7SKjxIqyT0QYJguwo+yLQamM0O0sxGTcv0p62EOshAFi1apBo2bKhGjhypS9Imkpr8+eef9dIl4nqQkRDp5Xr27Fm95OODDMSRg8yfP79eso+MGTPqpchx5CAN2rVrp5eiA3YbDY4eJJg2bZpeskamTJnk848//pBPKzh+kNFw/Phx+Tx9+rR8WiUmB9m6dWu9pNSaNWv0UtqgU9ZOYlqTwT1ZaIH79NNP1ZYtW3RJMr///rteip64XK6wLzyZLFy4UJ08eVIe90qWLKkmTpyot7AXV9ukXfAgg8GTDEZ/RIsx4iNw9AfSqlWr9Bb2EvIgL168qJeSmTt3rl7yDunWZJYsWVSRIkV0TqnPPvtM5cyZU+eUypEjh3y2bNlSPt0IbdIvxO0gMeIjMDkJa9IvxPwgq1evrpdSgzYfO8YIBOPamsSDh104fpBWm/bBsmXL9FJ0OHqQ999/v16KL44dZDQ1aDfu2RMH4UFGg9kIjmhSNLAm/YLjB4m7bDT9GHbAmvQLjhzk4sWL9ZI78FRNzpgxQy9FBg/SbXjiIM3acYNp3ry5XkpN4EHeddddSS8BxuepU6fUypUrZTmQuNZk165dpb023NaAwIN89tlnUx2k8Wm0BRvE9SAjJfhyNQ4qPTx1kLNmzdJLkeHYQR46dEgv2ceuXbv0UmQ4cpC9e/fWS/Zxzz336KXIcawmDXs5f/68fEbD33//rZes4ahNGgeaO3du+YyEVq1ayeePP/4on9Hg6EGCCxcu6KXkgw5FhQoV9JJSRYsW1UvR4fhBGlx77bV6KZnvv/9ezZ8/X+eSQZ+oncTsIAOpUaOGPLHs2bNHHT58WOZKhqt5VojLQcaTL7/8Uk5oqORFEq4igweFBeOkuwMniboily9fLnJ/5swZXZKaUINiMA4Sg89iBSvShHXr1umlS75sAgf7BGJUZK5cueQzkMAnhdKlS8tnNA+p6cGKTAdU5OWXX65z5mTOnFkvpeb999+Xz3r16qlmzZrJshOwIl1OKP8pAM/8SCVKlEhaNkvosjGW+/Xrp7/tfhKmIg1okS4n3IoMxmziphdhRbIi3UU4FYkJRJUqVZKXfrjB7NWrl8ysGjp0qIyMQ5MS1j333HP6G97BtxUZbgtNuBb50ksvqY4dO+qc+/BNRaLirMwetXprzZAhg15yB56vyHLlyukla9ihkW54TfFsRdasWVMvRYedDzvDhg3TS7HHcxVpt+8Ju59aCxUqpJdiCyvS5oqM12BeT1bk3MXrbUv/6jPMtNxqKlDiBr2nsYUWSYuMD6xIc3xRkbVq1ZJPK2PRWJFxwqwiDVdttWvXls9IYEXGCd5azfFcRX7yySd6KTSBQ0hCEW5FmvkuNaNw4cLqr7/+0rnY4ZmKNCZ1hGuR4Z74cCvSzLmsGYEWaccY9HDxTEUa7jC8VJFW55BZgRXJiowtkVbk+vXr9VJowq3IO+64Qy+FxmpFQjrQFRc8LzBcfFuRweDVpHLlyqkC/phV5JQpU+Sk/vLLL7okfMKpSOM/gzu/08uHImEqMlaEU5HvvvuuTF0OriijYSOQUqVKyRM4OrIfeOABXZoaVqTNBFbkxx9/rJechxVpM3zYCQPjRfurr76ST7eRN29evRSZvtmBpyoSBJ6gUJoRSwK1bevWrXoptniuIg2Cr/iHH35YL8WOK664Qi9dults3rxZ52KPZyvSIDgWMHDqtoanzX/96186d4lQAexiiecrMpD69eur7du361wyKEPkFDj2OXr0qC5Nmw8++EAuhh49euiSlGTNmlUvuQdfVWQwX3/9tVTIvn37dEnk9OzZUxUrVkzn3IuvKzJRSLhKhHWGSm59rQlFwlUiJuGEAm5bvAYrMQhWYhAIwIQeBjsCMUUDXMYggBMSnlQDAzkZyViPJ1Mj2JNXiLoSx48fH7JrJ72QmZMnT9ZLsYGWGAQeBEAo9yqhKtGIXxrLQUmsxCCMysuXL598mhGqEo2LwCAWs5VYiUFgfv1NN90UsqLMvFkZLF26VPzV1KlTR11//fVq27Zteo1zsBLTIJQlhovxfnbixAn5dApWog9gJbqU9Hwnow3UcDUG3TWWzVKg2zKv4ItK/OGHH/RS+tASXQor0QdEUol4Cg6Mgtu2bdsU+fScB7qRhKvEYD766CO95F1YiaxEd8BK9AGsRB8QbiX2799f2mvhghMPNK+88orq0KGDuOJElxnW4cHHyoSbeOLrSkToOlTMN998o0tSE8oSb731VtWoUSOdcy++rMR27dqpIUOG6Fxowr2dBve4uAlfVeKECROSJuWES6Sa6MbK9EUlVq9eXV122WU6FxlWHmwwljVcS48Fnq/EjRs3qtWrV+tc5ETzdOoWq/R0JXbv3l0vWSeaSgTo9Yg3nq3EcL1fpEe0lQjs2hereLIS7dQjOyoRVKlSRS/FHs9VYrCXjGixqxJBvDTSc5WY3jjWSLGzEuOF5yoxvRCDkcJKjAOsxNSwElmJsefy4tebeta3mvoNnWhabjXFA89VYoGbO6qi9fvYlq5q+IJpudWk1MVLOxpDeDvl7TT2sBJTw0pkJcYeVmJqPF+JGCtjYKXZi5UYB8wsccWKFfL53XffyWcksBLjgFklwgInTpyoc5HBSowDZpU4YsQIyz0IrMQ4wAeb1LASWYmxBa5SAv1vh2LLli16KTThVmK4cavmzp2rl2KHZyrR0LxwLTHw1SMU4Vbi3r179VL6xNrJnycqMTBIphcqEcTSwa0nKnHatGl6yTuV+Prrr+sl52ElshJjAysxNKxEVmJsYCWGxreVGO7k0HArcc+ePXopPCKpxHLlykmMRaSiRYvq0vDxbSUCBEFJr2E8vUq02iYbqhLxm4sXL9a5ZIIbFLJnzx7W//u6Eg0QARUnY+rUqbokmeBKRBCUihUrhh3lNC3SqsTrrrtOPv/44w/5DCSwEk+dOqWXLnHy5Em9lJqEqMRgdu3aJT0fmM3UsGFD9cQTT6hFixbptfaQViXefPPN8rlz5075DCSwEv/880+9dIlQziUSshJjQajbaZkyZdShQ4d0Lm3wcGZEq3vyySdVnz4YEpkaVqJDpPdgE0n4o/bt28tnWlP6WIkO8cYbb+glZ6lZsyYr0SnCDRMfLTfccAMr0SnSu53aiScq8ddff9VL/7/DFt/bYsHBgwf1kv2TYUPhiUoEgZUXGBbWTRhDJoPf8ZzGM5UIHnzwQb2kVIsWLfSSO+jcubNeUurFF1/US7HBU5UIAtswGzRooJfiS2CQaiN0UizxXCUeOHBAXbyYPAcwHifN4Pz58ykeuuKl156rRLB27doU426KFCmil2JHcIj4eD5webISwZEjR1L4dMPDBGIjxoI8efLopUvE+4nZs5VogB6HQBATP/AWZydmldWqVSu9FD88X4nA7HY6evRocQkdLcuWLTOtPHQ6B2pzPPFFJRqgZ9yMLl26SEXMmjVLl6QNbtNNmzYVP+FmQzLgH9wN1heIryoR4Ok1Z86cOpc28JOKaDSfffaZWrJkSchOV/D111+7NgiY7yoxkCuvvFJ17dpV5yIHlggLnjdvni5xJ76uxECmTJkiFVK8eHE1dOhQeU3BrfPMmTNSWQsXLlT33HOPbIPorL///rv+pvtJmEokxO3QGH0Ont9effVVnYucF154wZNhJb0IjdHnwBjTi+EaCoyzozHGBhqjz6ExegfPGuPx48fVmjVr1Lp161TevHml8Rt5pERl+fLlavz48SlSjx49pLsuuDzchAlKTz31VKryn376Sf8rsYu4GmP9+vVV7ty51eDBg6X1q1ChQmEHKQ0EowWtuJNZsGCB/O/AgQOlo6J06dJ6jX+gMnqHuBkjmqSDoyDmy5dPOooAJqB169YtrKZpM2NEn8a///1vnTMHhphWV2+/fv3Ut99+q3NK/e9//1P3339/kqNOr0Bj9A5xVUYYgzHbEv1EyMMY8eiJ3l6E6A6HYGOcPHmydNdDcUORIUMGNXv2bJ1TaunSpfK5atUqNX/+fJkliv3DlOKyZcvKhRk49M4L0Bi9Q9zfGTGnfdu2bbIcqIyRjDE1mxMRztANAwzhOH36tM5dGsNTu3ZtVadOHXGKAGI1TNJuaIzewVUNOBghaLgwPXfunHxaxer3zb4HdfSaIhrQGL3DPzp16iRDi5jin0qWLBn12HYE8w1MM2fOlPff4PJw09NPPy3vy8HlxH5cpYyJDlqS0Y1gJ3j3ffnll3Uucvr27SutzsR5aIwuwglj5GOqd6AxuggaY2JDY3QRThgjQJ8uvMOapd69e6vhw4ebrkPCd0lsoDG6CKeMMRTwOhiu03TiLDRGF0FjTGxojC6CxpjY0BhdRCyMEbEDMOLoxx9/lC4LOAbt1auXdIFg9BO8+5hF+iDOQ2N0EdEY4/bt29Vjjz0mg+8xxrdZs2Zqzpw56QbuCEcZDx8+LGN/EUUGv505c2bVrl27sAM+k/CgMbqIcI0RBgSjgPPCQFejVrDjMRWtrnD+hH3673//q0tJpNAYXURaxohHSVzoM2bM0CX24dQ74/Tp02Wfo3HNl2jQGF0CHgVhbHj8wxQyRPo3Yr45SawacO69916ZSH7ixAldQoKhMbqIwoULi6vlWBIrYwzkkUcekWMlKaExxpkJEyaICsaLeBijAaar4VH2ww8/1CWJDY0xTrRp08YVYbPiaYyB3H777akCCCUaNMYYg2CE6CJwC24xRoPGjRsrzLFNRGiMMQKzJ+IRri493GaMBnDBYoSaTRRojDEAjq/S63yPF241RoBzhnOXKNAYHQaNFJdffrnOuQ83GyMoWLCgXvI/NEaHoTFGB42R2AaNMTpojMQ2aIzRQWMktnHu3F+qQLVHVcnG/ZgspPxVHvn/s+iOaPtOQ2N0GFHGgkXUoWOn1B9H3ZdeHfaGemfKDNN18U44ZwULF9Vn0v/QGB2Gj6nRwcdUYhs0xuigMRLboDFGB42R2EY4xoiZCz///LPOJYOIzJ988onOOQON0T3QGB0mHGM8cOCAGGQg48aNU9ddd53OOQeN0T3QGB0m3MfUnj17qqpVq+rcJbWMBTRG90BjdJhI3hlz5cqlFi9eLNvDZWIsoDG6Bxqjw0RijAjICkWEv5hYQWN0DzRGh4nEGOMBjdE90BgdhsYYHTRGEjXXX3+9ypkzp7jOL1SokC6NHjgMtvMx1m5jbNGihdq7d6/ORQ+8IzzzzDMqe/bsqkqVKrrUn9AYbaZixYrq22+/1Tn7lXHDhg2qbdu2Ohc9dhsj/PvYaYzByoj4IIGtzn6CxmgjX331lerXr5/OXYLGGB1mj6mIKYIgPX6Dxmgj06ZNU5MmTdK5S9AYo8PMGF9//XVHQh3EGxqjjdAYaYzRQGO0ERojjTEaaIw2QmOkMUYDjdFGaIzeNkYM2N+1a1eqtG/fPr2Fs9AYbSQWxgjuu+8+GTa3aNEiXWIdu4wRLcnYJ4S0s5N4KWOsBuoHQmO0kVgZYyAXL16UGR+4eG677baIB5hbMUbEj6xZs6b8JzrkncQOY8S2OXLk0DmlihUrlq6xYf2FCxd0LjUI127sw/nz59WoUaNkORpojDYSD2NMC7jGHzx4sCpdurRcWJkyZVJ16tSRflBcRIiSvHnzZjVo0CA1duxYWUbfHdb17dtX1apVS76D71599dXqpZdeUkeOHNG/HjvsMMYCBQpIrBOD/fv3R2WMeGwN9X2ct6lTp+pc+NAYbcRNxugX7DBGTEuD8ezYsUOtXLlSlqMxRoAhjvXq1VNnzpxRU6ZMUU2bNpVyDIMEWIe6jwQao43QGO3HiXfGcJTRCjNnzkzxHh/pf9AYbYTGaD/xasCJBzRGG6Ex2k/RokWTHiv9nLp160ZjtBMao/1QGYkl0IL27rvv6twlYIz58+fXORIpZnNBR4wYoaZPn65z/oHGaDMtW7aUroJAjh49Ko8iJDJwzk6dOqVzlxgzZoy65557dM5f8ApxgJ07d8os/2DQp1e9enWdI2mBGf1vvPGGziWD2f4YnuZXaIwOUq5cOWnuDgauKfx6d4+GVq1aqQcffFDnkvnggw9U2bJldc6/0Bgd5s8//5THrdOnT+uSZJ599ll1zTXX6FziUqZMGfX888/rXDJ4RMW5gwvLRIDGGCO2bt2a5nvjb7/9JuuWLl2qS/zPsmXL5Jh//fVXXZIMxttiHUbMJBI0xhiD90lcaMePH9clKcEYUKzfvXu3LvEPOCYc25AhQ3RJSn7//XdZv2fPHl2SWNAY4wgaedBnlhboKsHF+dZbb+kS7zFy5Eg5BozfTIsBAwaofPny6VziQmN0AbNnz5YLNr3pT506dZLtBg4cqEvcB2Z8YB+7du2qS8xZs2aNbPf555/rEkJjdBnjx4+Xi3TevHm6JG3w2NeoUSPZHl0m3333nV7jPJhMfOONN8p/N2vWLKzZ/Rg1g+2tTC9KBGiMLgbvlaVKlRKv2tu2bdOl4YEGo969eycZDBIeiytUqKBat26tnn76afXKK6/I5GIkvKv26NFDul0wfxF9esb34DS4f//+0tAUCdhnzCVEnMkTJ07oUpIWNEYPcfbsWXX//feLgXTs2FHm0rkF7Fvnzp1l3xB+4K+//tJrSLjQGH0AQo0jrAAMAZ3jGLt58OBBvdY+MKwPDTLly5eX/8J/fvjhh3otiRYaY4KwadMmMRw8bj7wwAOqWrVq0tmOR2DMjMDgA5RB1dC6+d5770mQHRI7aIyEuAAaIiEugIboc/BOF20izsOz7HOiNSQaYmzgWfY5NERvwLPsc2iI3oBn2efQEL0Bz7LPoSF6A8+eZYzuwLhKpMqVKyctw49MogJHV+PGjUtKEyZMEEPCp7EueJu0ypACv2+UGdsSe/GsIa5du1am2GBqUYYMGWQkCPII5pKowEgwo8NIgYYUWB5uSuv7NET7iashIkTWO++8o77//nvJw8VCpGBuX8aMGXUucvDf2Id4RE6KBdE+Wkb7fRIecTvLmPKDSn7sscdkjhtc7mXLlk2vDZ9oDDFv3rzqlltuEdcO2JfDhw/rNf6BhugN4naWEQLr0Ucf1TkljzuBASrDxaohLliwQOXKlUvn/AsN0RvE7SzDf0ngLHO84wUqIia19urVS+fSxswQ4SGsRo0a8j6TFnBHgdDaaYHZ8IFkzpxZdenSRee8Aw3RG8TVEOGCwWDDhg1Jhoj3taFDh8pyepgZIpwYwZtaKDChFS71zRg9erQ8Mge6hMAjrBehIXqDuJ3l+vXrq7vvvlvnlHrooYeS3Np3795d1a1bV33zzTeSD4WZIeKdE+oV6p3v22+/lZDNgRjOgvPkySOfDRo0kE+4mLjyyitTRYnyAjREbxC3s4yLHpWMSakwQDwqwm8KQGTYtHxjBgMlDb5YYDCIMZ8eMC4YozHLHUoMdw/w5QIC31lvvvlmveQtaIjeIO5neePGjeJ6PfDRNBJDBCdPntRLlwjXEAH+C46XDAw1rl27tgwQ+PHHH6WchkicxDVnObCxZt++fVH59EQHNNxDWCHwwoN7+KuuukqWK1WqJJ9eg4boDVxzltEwAiUygBFYJZrvBgdGQbAZ4NWAKTREb8Cz7HNoiN7gHyVKlFDFixdnckG69tprdbVY49ixYymSMXoJzn6D14WTjO/jM3gdsRfe7lxEtOoD36bw7B2Y8JvwvB1cHk7C9/D94HIEa71w4YL+V2IHNEQXEa0hmhHtbzqxTyQ1PMsugoaYuPAsuwgaYuLCs+wiaIiJC8+yi6AhJi48yy7CKUPEdK82bdqYJgSlMStHwvfghoQ4Dw3RRThhiJibieGDZgnjfPGfmMFith4pvelkxB5oiC4iHo+B8fhPkhrWgougISYurAUXQUNMXFgLLoKGmLiwFlwEDTFxYS24CBpi4sJacBE0xMSFteAinDYKOMZCv+Dq1avFpyycLOM/v/jiC7Vo0SK1atUq6Xc8e/as/gaJFTREF2GXIcJD3kcffSQjY+CJDr+LVLBgQXXHHXeIT1f4BHrzzTelHJ8vvviiuKBs2LChKlKkSNJ3smbNqlq1aqWmTZumTp06pf+B2A0N0UXgwrcKDO/qq6+W38DnCy+8oLZs2SKBfkKR3n/CV8+2bdvEUMuXLy/blypVSs2YMUNvQeyAhugiIjVEhGGD4kG1Bg8ebMmFhRXjh/tKOF2G173LLrtMjRkzRq8hVqEhuohwjGL37t0SOQvb9u/fP+r3OSuGGAjeOwcMGCC/g/3as2ePXkMigYboIkIZxfLly8UjepkyZSz7bDUjWkMMBI/CeCzOnTu3NPyQ8KEhuggzo1i3bp3KkiWLqlWrljpz5owutQ87DdEA+1mzZk15dLXzpuFnaIguItAo8MiJRhE0kASHFLATJwzRAG4YS5cuLfFNDEfNxBwaokswgung8a53796yjPmATuOkIRqsWbNG/gctr8QcGqJLgAHiYkV6+umndanzxMIQDbp27SqPq+yPTA0N0SVMnDhR4jwePHhQl8SGWBoiQKsv/vO9997TJQTQEF1AnTp1pHEjHsTaEA1uuukm1aJFC50jNMQ4gy6JkSNH6lzsiZchgkGDBqn8+fPrXGJDQ4wTaEWEERiBUONFPA0RYLA59iG9oXh+h4YYB44ePSoX34EDB3RJ/Ii3IQLM+MB+YLB6okJDjDEYD4qLDn1sbsANhggOHTok+5KoLao0xBiCESe42BCv0C24xRDB4cOHZX/OnTunSxIHGmIMwUX2+++/65w7cJMhAqN7I9GgIcYITFfCwG234caL/ocfflD58uXTucSAhhgD6tatq0aNGqVz7sKt6jN06FB1++2365z/oSE6DCbvYuaEW3HzY2CNGjXU1KlTdc7f0BAdBmqIRgi34mZDhKOrRo0a6Zy/oSE6DB6v3NZAE4ibDfHXX39VjRs31jl/Q0N0GBqidWiIxDZoiNahIRLboCFah4ZIbIOGaB0aIrENGqJ1aIjENmiI1qEhEtuoV6++ev/zpWru4vUuTBtUjsLlTcrdkSbP+lbd2aSJPpP+hoboMA0bN1Ol7hygSjbuxxRhKtVkoGrevLk+k/6GhugwMMSrGvZTRev3cWXCxW5W7oZ0VaP+NERiD7ffcYfatG2n+uPoKdelw8dPq39kzqYOHTttuj7e6ac1v/AdkdgDG2usw8YaYhs0ROvQEIlt0BCtQ0MktkFDtA4NkdgGDdE6NERiGzRE69AQiW3QEK1DQyS2kZ4hIipSnjx5dC6Z7du3x8RIaIjugIboMOEoIowhOKLuXXfdpTp37qxzzkFDdAc0RIcJxxAR3nrgwIE6dwkYCGJkOA0N0R3QEB0mHEOcN2+eypw5s84ptW3bthR5J6EhugMaosOE21gDgzh58qQs33nnnWrw4MGy7DQ0RHdAQ3SYcA2xcuXKqm/fvrIM47hw4YIsOw0N0R3QEB0mXENcuXKlypIli8RMNGtFdQoaojugITpMuIYIYBR4LB03bpwucR4aojugITpMJIYI9/KxfCwFNER3QEN0mEgMMR7QEN0BDdFhaIjWoSES26AhWoeGSGyDhmgdGiKxhR07dqhy5crZaogYhWMndhviggUL9FL0wBBvuOEG9dtvv+kS/0JDdIBPPvlELnDcza+55hpbDTFnzpx6yR7sNkQ7h+bBEMuWLZvUmjx37ly9xn/QEG1myJAhqkKFCjpn/6Nprly59JI92G2Il112mV6KnuBHU9zUhg0bpnP+goZoI5gtkSNHDp27BA3ROmbviNmyZVOnTp3SOf9AQ7SROnXqqI0bN+rcJWiI1jEzxNWrV6tmzZrpnH+gIdqI2UVNQ7SOmSECu/fZDdAQbYSGSEO0Cg3RRmiINESr0BBthIZIQ7QKDdFGaIg0RKvQEG2EhkhDtAoN0UZoiDREq9AQbYSGSEO0Cg3RRmiINESr0BBthIZIQ7QKDdFGaIjeNsSdO3eqXbt2pUgou3jxot7COWiINhILQ8Q0qOA4GdFg50V95swZcQlpF7E0xH379sm5xaD9DBkySMIyUizmQ9IQbSQWhrhmzRr5n7vvvluXRIcdFzUUo3nz5ipjxoxqw4YNujR64vVo2qFDB3XvvffqXGygIdpILAzRADP18X+1atVShw4d0qWRE81FffDgQXXrrbeKenz55Ze61D7sMkQ8YuI7SDfeeKNq3bp1SE8Hjz76qGwTiqeeeirpN2+55RZdah0aoo2YXSBOGaLB2rVrVcmSJWVm/KhRo3Rp+Jjtc3q88cYbKlOmTKpMmTJq/fr1utR+7DJEbD9nzhxZXrx4seSjMcSvv/5aZc2aVeeUGjNmjF6yDg3RRuJhiIGMHDlSGnOwH4ituHnzZr0mbcK5qPE7eFzDtrlz57Zk8FawwxAxWTt4+yJFikRliDVq1FCDBg3SudRYmbhMQ7QRswskloZogHc2OHFq2bKl7BMSLr727dur0aNHy0X4888/S4sg1uETE25RjvWPPPKIKly4cNJ3cVF+8803+tdjhx2GiEaY4O1xbNEY4hVXXKFmzpypcynBzTCS/TOgIdqIWQXEwxDNQIsmGnpmzJghUacefPBB1aRJE1W/fn35fPjhh9ULL7ygPvjgA9nu7Nmz+pvxww5DRKi74O0vv/zyqAwR56xTp046l5Ls2bPLzSycp5FAaIg24mZD9CJ2vSPCzw1UHt0+cLOB1t1oDBHuULAPS5YsUX/88Ye69tprJV4JHkn//e9/y/LNN9+stw4PGqKN0BDtxS5D/Pvvv6V1GV7g0FiT3jsiHi9feeUVnTMHvwNvfdddd5369ttvpeyJJ55Qjz/+uHryyScj3kcaoo3QEO3FLkMMJr13RKtAaQ3eeeediLp0aIg2QkO0F6cMMV++fOrzzz/XOXs4d+6cGjt2rM5dolu3bnopfWiINkJDtBenDNGN0BBthIZoLzBEtOgG4ydDnD59ulwfNEQboSHay/bt2+WcJkTSx0xsACc0GBqidaCITZs21blkzM6zV0G/LmZ30BBthIZoL3xHJJagIdoLDZFYwuwCqVu3rjp8+LDOkUjAGFjERgyGhkhCUrx4cbVu3Tqdu8T48eNlVAeJnGrVqkmrYiAYrF6qVCmd8w80RBtBp67Z3bp27doybIqEz8svv5xm1wWGrPkNGqLNYHSFWfw+zONbsWKFzpFQLFq0SBUoUEDnkmnYsKF6++23dc5f0BAdADPXv/vuO51LBndzNtyEZs+ePaZPFZgPefXVV+uc/6AhOgQupvPnz+vcJTDHD+XHjx/XJSQQ3KRwfv766y9dcom0Hvn9BA3RIXbs2GHq4/PIkSNyUcGFA0nGOC+nT5/WJcnARSNaUP0MDdFBJk2apKpUqaJzyZw4cUIuur179+qSxAb9hTgfZr5eypcvr959912d8y80RIfBbO/77rtP55LB4xcuPkwwTWS+//57OQ/Bj/EAvkUx2TYRoCHGgJo1a6r+/fvrXEowN+7VV1/VucTipZdeUnny5NG5lMDlBHzDJAo0xBhxww03qBdffFHnUnLnnXeK49tEomrVqqbD10Dv3r1lfSJBQ4wh5cqVS1MZMQofj2i7d+/WJf7E6J6YOnWqLklJz549Td+r/Q4NMcZguBtcGZqBFkO444NzYD/SpUsXOT6zllHQqlUr1aBBA51LLGiIceCBBx5QN910k86lZsiQIaIaGFfpB3AcOJ60Hs0BvKHBUBMVGmKcQNcG+hnRWW0GyvEoW7p0aXXs2DFd6i3QV1qiRAlVtmxZ01ZRAF+jCGIzZcoUXZKY0BDjCLxBQylCdWFs2rRJYvQh6lJaj3RuA/2BmDkBx75bt27VpamBu0Ecv98768OBhugCoBqILxgKPN7lzZtXxrFG6s49ViA2Io4FXTJw2x8KzDOEUpJL0BBdwsSJE0Ud0gtzduDAAVW9evWkd660Hm1jBQYmPP/887I/aIjC/oVi+fLlsu3kyZN1CQE0RBeB9yUoCh7rwgGTjhGGDY+ugwcPjpkngP3790sgG7zjQv3Ceb/DHMKKFSuKoqf1vpjI0BBdCKZQQTUQQyFc3n//fbnI8T3EeEBkJ7yfRXvRQ/Hwnvrss8+KBwL8PsZ/zpo1S2+RPvB4je+tWrVKl5BgaIguxoi1169fP10SHphm9eGHH0p8RLxX4jcQ4bdQoULiQ6djx47ym6+//roEHR06dKgoHCImYTgewpahJRPfwwRdjPn89NNPJcRZJPTp00d+I9gVPUkNDdEDGAbZtm3bqFtOMXLnp59+kom2iP8we/Zs+UREIzQIIbBnNCAOY5s2bWR/EeKbhAcN0UPMnTtXYrdDpewOohIt6IqAkmLkjNv2zQvQED0I5jMiYi1UBzH65s+fr9fElq+//loGs2M/EHE40kdXkgwN0eNg9Er37t3FGJAw//Grr76SqLV2gt9DIxLi8Bv/hcakgwcP6i1INNAQfQbe87p27SpRcWEs6NrAuNZ//etf0rK6bNkyaU2FfxgYMd450bgDg0IMBvTzzZw5U/Xq1UtmQWC+IH4HwT3btWunVq9erf+J2AkNMQGAwcFF4VtvvSVdCRjVgkda9FkWLFhQFStWTB4xER4AM+LROLRgwQJ6KI8hNERCCCFEQ1EkxMPg9b5Hjx7qoYcekjnnsU7432eeeUY8YhLiByiKhHiYL774Qtq2IYyYJIcJabFKGIkM5y74fwzrIMQPUBQJ8TCGKMJZbDwwRvhTFIlfoCgS4mEoioTYC0WREA9DUSTEXiiKhHgYiiIh9kJRjDGYdYtJgZh6H07CtvRJSNICDokgSq+99pouiS0IeYb/X7hwoS4hxNtQFGMMogZnyZJFZc6cWT6R4AIRNxYkuDc0yo3k1/BtJG1q166ddE34KbVo0cJ29y6E2AlF0QVs2bJF5c+fX2XMmDFuztqIN4GrWogN/EfHA+NNEV5aCPEDCSuKu3btUq1btxYhCnyShfN5+MquXLmy5OETzWl++eWXJFGEi+FYgf9COJzA40dCKBn4Byfuh32KhNhLQori22+/LYacM2dONWfOHF2qpO9uwoQJ4vfeWL9kyRK91jliLYoI+VujRg05xnvuuUf8MRogvtonn3winkropcT9UBQJsZeEE0VEvTViAc6YMUOXpgSeQRB0BXHig0Xx2LFjasiQIdI3gqi+Z8+e1WusE4ko4s21Q4cO8pZrtakVN1AcP94SrUQlDjXwB6I6depU2T+ECGAMfWehKBJiLwknigghgbAPELwffvhBl6YE4e4RuTpYFPFGVbp0aXGpZSfhiuLHH38sg3JWrFihS6xx3333yY0MohUJ27dvl8hx+C6CRF28eFGvSQa/Wa5cOdN1xH4oioTYS8KJIhwoI0wLDBnNqGasXbtW5c6dO4UoInhZgwYNpGkVoV7uuusuNX36dFkXLeGIIgY03HjjjTJqtX79+iJsVuMAYwQsjh9R8xELOBwwYvCWW26RcDbr1q0TcQ48fzivCBKO+FJ4oGjevLlE/Ee0fuIcFEVC7CUh+xTRvAdDhsBAINDHhps3xKlly5ayDlMjgvsUEdPsyiuvVK+88oousYdw3xSnTJki+/Trr7/qEmvgeG+77TY5zmuuuUbmuv35559yDjZu3Kg6duwox4lRsQYDBw5UpUqVknmTYNiwYfLQgH0PpFWrVqp69eo6R5yGokiIvSSkKALc3J977jlp6subN68E+Kxbt64Yd1p9ivv375fIvehTtBP0u+G/EQkYEX7TYtKkSSKK2D87WLNmjYT/KVOmjJwDNI1WqlRJDRgwIEUIbwy3h2AjwvDw4cNFEJGwPd4eA/sY8VBx88036xxxGooiIfaSsKIYirT6FJ0SxXCxWxTDAW/HiAbepUsXXZIM3iRz5cqlevfurUsoirGGokiIvVAUTUCfWfbs2aUJ9fvvv9elSqYo4KaP5td4gKbVRo0aqb179+oS58GkcDSJnjx5UpekZNasWdIUiwcJ0LdvX1MBJc5AUSTEXiiKhHgYiiIh9iKiiBGIp0+fZmJi0gmDkeyYg+o0ECOI0ssvv6xLYgtaBvD/X331lS4hxNv8o2fPnjLYhImJKTkZDh66d++uTSW2dO3a1XS/AhOmBl111VWyn4UKFZK82XZOJfyfMW8V+5He/2MKEAa3cQ4rcTNsPiXEBDh2wM3+qaee0iWxB9NkQiVMofn0009lPwcNGiR5s+2cSvg/iBz+//PPPw/r/wlxOxRFQkxwgyiGA/sUCbEXiiIhJlAUw4OiSPwGRZEQEyiK4UFRJH6DokiICRTF8KAoEr9BUSTEBK+J4muvvaZLYku/fv0oisRXUBQJMcErorhq1SpxPYioLvDCFEmCy0D4tMVxwjl+jhw5TLcLlfC/CKeGyDKE+AGKIiEmeEUUo2X06NFynHDXRwihKBJiSqKI4ptvvinH+dFHH+kSQhIbiiIhJlAUCUlMKIqEmEBRJCQxoSgSYgJFkZDEhKJIiAkURUISE4oiISZQFAlJTCiKhJiQKKI4ZswYOc7Zs2frEkISG4oiISZ4RRSPHz+udu3apZYvX66mTZumBg8erB599FHVuHFjVb16dXXttdeqwoULy8R8HE+kCRP0EavxmmuuUVWrVlWNGjVSjzzyiOrfv7+aPHmynKcdO3aoo0eP6j0ixNtQFAkxwQ2iiPiDK1asUOPGjVOdOnWSIL2ZMmVKIVplypRRd955p+rSpYu4evvggw/Ujz/+qHbv3i2CeebMGXXu3Lk0A/uOHTtWfgdxGdPi/Pnz6uzZs+rEiRNq7969IsAzZ85U//nPf1S3bt1U06ZNRXwzZMiQtF/wlIN9e/jhh9Vbb72llixZIvtCiNuhKBJiQixFcevWrSJOeAsrWLBgkrCULFlStW7dWtZBHH///Xf9Dftwsk/xyJEjavXq1WrSpEnq/vvvF5E0ju3yyy9XDRo0kP/fuHGjunDhgv4WIfGFokiICU6IIt785s6dK82b+fLlSxKIunXrqmHDhql169apv//+W28dG+I10AYiuH79ejVixAjVsGHDJB+sEMv27durefPmMVI/iQsURUJMsEMUN2zYoHr16iUOu/FbEMIHHnhAzZ8/X5o23YDbRp/ivCxYsEA99NBDKn/+/LJvOH84jzifhDgNRZEQE6yIIvra0Idm9PtVq1ZNTZw4UZoR3YoXpmTg/L399tsycAj7etlll6l27dqplStX6i0IsQ+KIiEmhCOK+/btU88//7yETzJEcPr06er06dN6C/fjBVEMBud36tSpqkqVKrLveKMcMGCAOnDggN6CEOtQFAkxASM4ccPt2bOnLrnEd999p+rVqyfr0P+FKRCHDh3Sa72HF0UxmP3790uw4zx58sixYDQuBiYRYgWKIiEBYM4fRC9r1qxyg8Un+gJz5col+QoVKsh0BL+MlvSDKAaCgUp4W8e8ShxXrVq15K2fkHChKBJiAkQiS5YscmO96aab1BdffKHX+Au/iWIwc+bMkTmUOEZMAVm7dq1eQ4g5FEVCNBjQ0bVrV7mBXnHFFWrKlCl6jX/xuygawHkB5nsWKFBAjhd9wXQmQMygKJKEB1MkSpQoITfLxx9/PKFcliWKKAZy8OBBmRqD40ZzOLztEGJAUSQJCVyXYcQiboyYB/fJJ5/oNYlFIopiIBjFigFTaCqHIwFCKIokoTh16pR4lIEQ1KhRQ23btk2vSUwSXRQN1qxZoypVqiTnAq0F8PVKEhOKIkkIMG2iWbNmctNr2bKlOnz4sF6T2FAUUwL/sk2aNJFzgiZWOEEniQVFkfiakydPqjZt2shN7t577+VNLgiKojnoV27RooWcG3jP4Ztj4kBRJL4E89WeeOIJuakhtBHj/ZlDUQwN3hxvv/12OUfPPPNMmiG4iH+gKBLf8c4778hNDPPTEJaJpA1FMTzgjLx06dIqc+bM4hyA+BeKIvENmzZtkqkViBaPEE0kfSiKkYHzBGFEbMjNmzfrUuInKIrE86CpFJHncXPv3LkzA9ZGAEUxcjCdp0OHDnLeevTooUuJX6AoEk8DQUSfD8IJIco7iQyKonUw6T9btmwyWpX4B4oi8TTnzp0TUcQEbAyKIJFBUbTOr7/+qgoWLKgaN26sS4gfoCgST0NRjA6KonUoiv6Eokg8DUUxOiiK1qEo+hOKIvE0FMXooChah6LoTyiKxNNQFKODomgdiqI/oSgST0NRjA6KonUoiv6Eokg8DUUxOiiK1qEo+hOKIvE0SaKYL486ceyILiXh8t/Rb4kozv7fTF1CwmXvnl2qYIHLKYo+g6JIPM25c3+pho2bqQI3d1RF67+gitzRmyncVK+3KtbwBVWqyYuqWIP/P3f/nzfdjsk0FW3YT+Wv2l41b978/69EOgr3CxRF4mmSRLHao6rUnQNUycb9mJhikko1GajyV3mEougzKIrE00AUGzRqogpUaqPqtB+h7ug4Ut3e4Q11e8cYJSf+y+w3UWblv0J8p17nN1XlVgNV4VsfV9XaDlH1Or1pul1Uyc7zE/xboX7bWGf1/82+F1CG66x2u+Eqf8XWEryaougfKIrE0yT3KeZThw8d0qUkXEa9dWmgzcyPP9YlJFx27vhNFSxYgH2KPoOiSDwNR59GB0efWoejT/0JRZF4GopidFAUrUNR9CcUReJpKIrRQVG0DkXRn1AUiaehKEYHRdE6FEV/QlEknoaiGB0URetQFP0JRZF4GopidFAUrUNR9CcUReJp7BDFTZs2qeHDh6tZs2bpktBcvHhRffrpp2rEiBFq8+bNutSbUBStQ1H0JxRF4mnsEMUdO3aoIkWKiDi8+uqrujRtRo0aJduWLl1aHThwQJd6E4qidSiK/oSiSDyNXc2neEuEOGTNmlX99NNPujQ127ZtU3ny5JFtFyxYoEu9C0XROhRFf0JRJJ7Gzj7FRx99VATi1ltvVadPn9alyfz999+qadOmsk3Pnj11qbehKFqHouhPKIrE09gpiseOHVMVKlQQkejdu7cuTWbixImyrlq1aurs2bO61NtQFK1DUfQnFEXiaewURbBw4UKVOXNmddlll6klS5bo0kvNpgUKFFDZsmVTK1eu1KXeh6JoHYqiP6EoEk9jtyiCQYMGiVBUqlRJ/fnnn1J29913S9nIkSMl7xcoitahKPoTiiLxNE6IIvoOa9asKWIxYMAA9e6778pyo0aN9Bb+gaJoHYqiP6EoEk/jhCiCDRs2qHz58olgZMyYUW5+uAn6DYqidSiK/oSiSDyNU6IIfv75Z5mgj7R+/Xpd6i8oitahKPoTiiLxNE6KYiJAUbQORdGfUBSJp6EoRgdF0ToURX9CUSSehqIYHRRF61AU/QlFkXieevXqURQtQlG0jiGKTZo00SXED1AUiac4cuSIGjNmjLwdZsmSRW7oSFdeeaUrRRGT/vPnzy8u5NyI20XxvvvuE1+zbnS8DlEsVqxY0jWI6xEPaBMmTFDHjx/XWxGvQVEkrufChQvq5ZdfVpkyZVI5cuRQTz/9tIR7MnDzmyKmduTKlUu1bdtWl7gLt4sinCbAu9DevXt1iXswe1PEKOUePXrIPsMz0muvvSahxoh3oCgSVzNnzhy5uZQtW9Y0dqHb+xQpitHhBVFMq09x3bp1qkyZMip79uy+iKiSKFAUiWsZN26c3LDx5J0WFMXooChaJ9yBNp07d5Zz/N577+kS4mYoisSVbN26VTzK1K9fP2TzE0UxOiiK1glXFHGN1q5dW+XOndvzQakTAYoicSW4SeNmPX78eF1iDkUxOiiK1glXFMHgwYNdfZ5JMhRF4kqmTZsmN5FJkybpEnMoitFBUbROJKL4+uuvy3meMWOGLiFuhaJIXAlFMTZQFK1DUfQnFEXiSiiKsYGiaB2Koj+hKBJXQlGMDRRF61AU/QlFkbgSimJsoChah6LoTyiKxJVQFGMDRdE6FEV/QlEkroSiGBsoitahKPoTiiJxJRTF2EBRtA5F0Z9QFIkroSjGBoqidSiK/oSiSFyJ30Tx/vvv1yXuwu2i2LJlS4pijMG5rlKliipatKiExjJS8eLFVYkSJeTzqquuSrEODvt/++03/QvehqJIXIlfRHHfvn3q6quvlmNBiKsvv/xSr3EHbhXFuXPnqjp16si+4fwdPnxYr3EPfn5TRDxInPPA9M9//lOO4a677lKHDh1Kse7YsWP6m96HokhciV9EMZCvvvpKYu/huDJkyKCaNWsmN/+zZ8/qLWKPG0TxzJkz6tNPPxVxwb4gNW/eXH333Xd6C3fiRlHEtTR//nw1aNAg9fzzz0tkDgTmBitXrlQffPCBiJgVECgbx9C6dWuJcRoNCKuFYOEvvPCCxEr94osv1IkTJ/Ta+EJRJK7Ej6IYCG4qEElElkfEdhxr6dKl1XPPPaeWLVsW9U0nXGItijiuJUuWqJ49e0oTHP47a9as6sEHH1QLFy70VEBeN4kiHiyMBy7YAq6jsWPHSti1nDlzyn4itiPWz5s3T38rMqIVRXyna9eu8hvoUnjqqafUhAkT5BrEQxDKO3XqpLeOHxRF4kr8Lopm7N+/X57scZNFmCEcf548eaQZccSIEWrVqlXq5MmTemt7cEoU0fyGNxOIAcIm4SZoHA9u3hCHgwcP6q29iVtEEWLzwAMPyO+3aNFCl6YEDxw5cuSQbeIlio8//rh8P71wcPGGokhcSSKKYlr88ssvEnAZb5W4CeO8GKlixYryloUmqNmzZ6stW7ZIMxTOSziMGjVKfmfmzJm6JDR//fWX/D7+53//+58aMmSI3JCvv/76FPtVpEgR6YNC6K/Nmzfrb/sLt4giHqaM6wLN8WZgm8KFC8s28RBFPABhkA6+H2mw5Z07d8qDVYMGDWIy4IqiSFwJRTE8/vjjD+mfwc0WfUh4U6hataq68sorVcaMGeUcBqZMmTKpbNmyyZsozhmaLlGePXt2CeqMcqzPnDlzqu/i9zAisVq1ajJVok+fPtJHhRG2GHiRaLhFFBG42BC8999/X5emBKKEBxVsEw9RxHVqDDgbPXq0Lk0fPITddttt8t/4DOdcRwtFkbgSiiJxO27qU+zWrZv8PloOjh49qksvcfr0afXQQw/JeqR4NZ/27dtXvo++ZLPpG9u3b1cLFizQuUugb/Taa69Vf/75p7RO4OEN59JJKIrElVAUidtxkyiCAQMGyH8g4Y0f+4ZBXJjn2bt376jfFA1hRWuEFVEE7777blL/MlojsI9ooUAeLRGBb5HoB4UILl26VJcouR/geytWrNAl9kNRJK6EokjcjttE0QCCBVsIbNIObGK1Kop2g8FY2C+zwWNobi1VqpSqXr26euSRR6TfHKl9+/by5njdddc5NoWDokhcCUWRuB23iqIZdgy0iSVwEADxw1STYOAQA9NM4CXKiVGsFEXiSiiKxO14SRTxNoZ+RwyQ2rhxoy4lZlAUiSuhKBK34yVRJGmDKU87duzQOYoicSkUReJ2IIpoksSIzylTpsj8O3wGp+nTpydNrsfbGvJm2zHFPuEh5YknnpC6gVMBNM1SFIkroSgSt2OIIgZ9wF1ZWmnixImqTZs2cj0/9thjptswxSehbjp37ix1U6NGDZkWQlEkroSiSNwOm0/9werVq1P0s1IUiSuhKBK3Q1H0JxRF4kooisTtUBT9CUWRuBLcPHATQVy4UJw/f17dcccd4rUDUSQIiRWI94jrrmnTprokbRAqC9fzhx9+qEuIW6EoEtfyzjvvyI0EE3nh+zAt/v7776SwNF26dPFUTD7iPeCk2ohC/8wzz+hSc7CtESsw0ugQJD5QFImrQdihQoUKid/G9EIQobMcgXrh73HOnDm6lBD7QFQQXF/wtoLm01AgegiuXUQs8Wv4LD9CUSSuB/2GiCWIp+1XX31Vl6YNhllj23LlyqmtW7fqUkKsA4ErXry4hNX6+OOPdWnaDB48WK5BXLe4fol3oCgSz/DZZ59JHw4mS6cXtR1OkXv06CE3pkaNGqljx47pNYSEDxxWYyAXrqNnn3023ab5PXv2yLxFvE3ieiXeg6JIPMWpU6fUnXfeKTcpRH1PD/h8NN4yEQeO4kjC4fDhw6pZs2Zy3SCO4NmzZ/WatBk4cKBs37Jly5B94MTdUBSJJ8HIP8RlQyR4RJ5PD9zkcLPCTQsDH44cOaLXEJIM3gybNGki1wm80JiFNQpm2bJlMjUjT5486vvvv9elxKtQFImn6dOnj9zA4LcwMH5cWiAKeadOneQ71apVk74iQtavX69uvPFGuS7gCzOcN0PE/KtTp458J5xWC+INKIrE86BJ1Bj2jn7EcKOCv/LKKxLtO3/+/Or999/XpSSRwLzBAgUKqEyZMqnXXntNl4YGA2cMf5lokkeTPvEPFEXiG3777TdVuXJluVmhfyfc+Ypo8sJIVXwP0b3RhEb8CzwfPfzww1LfmFqxaNEivSY0eNjCvER8D86jd+/erdcQP0FRJL4D8xUNkXvppZd0afrgid+46eXLl0+NHTuWjgB8Aupx3Lhx0iqA+n366afD6i8EcA7x/PPPy/cqVarEaT4+h6JIfAv6C3ETw83sySefDKufyADfbdiwoXz36quvDmtuGnEfs2fPlrdB1GODBg3U2rVr9Zr0Qf8zRp7iu0ZYIeJ/KIrE9+zfvz9pGgdGFkba7LV06VJ12223yfdxg506dWrY/ZYktuCNEEF88SCD+qpZs6b64Ycf9NrwwJugMYAGI1DDGcBF/ANFkSQMmDtmjFaF6y0rruBWrlyZNKgnZ86c8nsQXRI/9u7dK/WQO3duqRfML0Q9RQrEFM2rGTJkUC+++KI0m5LEg6JIEpKvv/466W0Czp1xY40UDNjAgB6jnwqDfKZMmaLOnDmjtyBOgL7fyZMnJ02hwBxBuFWzEjpsx44dSfNXb7jhBmkVIIkNRZEkNOhn7Nevn0zNwJvfiBEjJLKBFdasWSN9UFmzZpWb7E033aTGjx8v89mIdeDSD4OeDBHMnj276tChg0RMtwIeWvAmmDlzZkl4sLFa58R/UBQJ0WAgRdu2beXGi+gGGK0YjTPnX375RfXu3VuaavGbaN6Dy7m5c+eq48eP661IIPA0hMExrVq1EvHDeStWrJjq27evjCq2CprOR44cmfRW/9BDD1lqHSD+h6JIiAkYfWr0HeJGion+J06c0GutgbfSL7/8UrVv314mjOO3MWm8bt26csOOZGSk18FApRUrVsiEeYzsRD8ezkfhwoVlYjyat6P1HwrXfmhWNfoaMWgmGmEliQFFkZB0QOSD7t27S+QD3FzRB2lnlH+8Uf73v/+VKQPGmwzSNddcIzfyMWPGyP95rRkWA5AgfMOHD5cHjJIlSyYdG8SvRYsWEkh6y5Yt+hvRAz+kiISP/8iRI4fq1auX2rdvn15LSPpQFAmJAPQ9YUqG4TnniiuukLcRCKfdoO9r+fLl6s0335S3ywoVKiSJipFKlSol00wwD/M///mPuC3DYBF498GAFIygjNYBAd7qzp8/L+70ECx34cKFatq0aWro0KGqS5cu4ncWjtkD9wtvwOhTfeyxx6QZGv2tTkSOwPQJTMTPmzev/C/82c6aNUuvJSRyKIqERAHehuA1x3gLwkhI3KTx9hcL0DeJCPAQTwgiHFNjEAocD0CU8LZZpEgRieBgvOmGmzBgCJ590KcHD0EQHEx3gMPsYcOGifjgDRYjOMP1DhMt+D/8v9H8jOPDQwOaSgmxA4oiITaCgSIYKXnLLbckiQsmkKMJlM14kQEnC+hrrV27dtK5RP8r3lKj7d8lJC0oioQ4DAbtYPRkxYoVk27uePPCVJDFixfH7C3LrcCdGuJjIrK94bMWCVMw8OaLJltCYgVFkZA4gGZXNHd27NgxRX/cVVddpe655x71+uuvS1Mh+vH8AJp58XDw1ltvSbglNMkax4wm53bt2qmZM2damoBPiJ1QFAlxEWgWRMDb0aNHy5xG9JkZ4oGEASWYwoB+tVGjRqnPPvtMBrGg2TYeQOw2bdqk5s+fL03E3bp1U7Vq1RKhg0MEY79xHPAcg75ITLpn8ydxKxRFQjzGrl271JIlS+RNE55ZMG0DLsowzSFXrlxJc/4CEzy3YNAM3kQhUBjJev3118so2ipVqqiqVatKc2X58uXF/V3x4sXFgUG2bNlS/RYSpjtg5C22xxSI5557TkblIjblzp076TeUeBSl/g8QoDBe+rX4YQAAAABJRU5ErkJggg==)"
      ]
    },
    {
      "cell_type": "markdown",
      "metadata": {
        "id": "S2MidVSER7G3"
      },
      "source": [
        "### 4. Analysis\r\n",
        "\r\n",
        "#### Establish model \r\n",
        "\r\n",
        "Mass balance\r\n",
        "\r\n",
        "$$\r\n",
        "\\frac{d(\\rho V)}{dt} = \\rho q_f - \\rho q\r\n",
        "$$\r\n",
        "\r\n",
        "$$\r\n",
        "\\frac{dV}{dt} =  q_f -  q \\tag{1}\r\n",
        "$$\r\n",
        "\r\n",
        "Specie balance\r\n",
        "\r\n",
        "$$\r\n",
        "\\frac{d(c_A V)}{dt} = q_f c_{Ai} - q c_A  \r\n",
        "$$\r\n",
        "\r\n",
        "$$\r\n",
        "V \\frac{dc_A}{dt} + c_A \\frac{dV}{dt} = q_f c_{Ai} - q c_A  \r\n",
        "$$\r\n",
        "\r\n",
        "\r\n",
        "$$\r\n",
        "V \\frac{dc_A}{dt} + c_A \\left( q_f -  q \\right) = q_f c_{Ai} - q c_A  \r\n",
        "$$\r\n",
        "\r\n",
        "$$\r\n",
        "V \\frac{dc_A}{dt} = q_f (c_{Ai} - c_A)  \\tag{2} \r\n",
        "$$\r\n",
        "\r\n",
        "Energy balance in the tank\r\n",
        "\r\n",
        "$$\r\n",
        "\\frac{d(U_{tot})}{dt} = \\rho q_f \\hat{U}_{tot,i} - \\rho q \\hat{U}_{tot} \r\n",
        "$$\r\n",
        "\r\n",
        "$$\r\n",
        "\\rho C_p \\frac{d(VT)}{dt} = \\rho q_f C_p T_f - \\rho q C_p T \r\n",
        "$$\r\n",
        "\r\n",
        "$$\r\n",
        "T\\frac{dV}{dt} + V\\frac{dT}{dt} =  q_f T_f - \\ q  T \r\n",
        "$$\r\n",
        "\r\n",
        "$$\r\n",
        "T \\left( q_f - q \\right) + V\\frac{dT}{dt} =  q_f T_f - \\ q  T \r\n",
        "$$\r\n",
        "\r\n",
        "$$\r\n",
        "V\\frac{dT}{dt} =  q_f (T_f - T) \\tag{3}\r\n",
        "$$"
      ]
    },
    {
      "cell_type": "markdown",
      "metadata": {
        "id": "Mf6bFpq2Uo9i"
      },
      "source": [
        "#### Steady state \r\n",
        "\r\n",
        "It's straightforward to show the steady state from this system is \r\n",
        "\r\n",
        "$$c_{Ai} = c_A$$\r\n",
        "\r\n",
        "and\r\n",
        "\r\n",
        "$$T_{f} = T$$"
      ]
    },
    {
      "cell_type": "code",
      "metadata": {
        "id": "uirQkukiKHI8"
      },
      "source": [
        "# import libraries \r\n",
        "import numpy as np\r\n",
        "import matplotlib.pyplot as plt\r\n",
        "from scipy.integrate import odeint"
      ],
      "execution_count": 2,
      "outputs": []
    },
    {
      "cell_type": "code",
      "metadata": {
        "id": "XnzvR6qEVerc"
      },
      "source": [
        "# define mixing model\r\n",
        "def vessel(x,t,q,qf,Caf,Tf):\r\n",
        "    # Inputs (4):\r\n",
        "    # qf  = Inlet Volumetric Flowrate (L/min)\r\n",
        "    # q   = Outlet Volumetric Flowrate (L/min)\r\n",
        "    # Caf = Feed Concentration (mol/L)\r\n",
        "    # Tf  = Feed Temperature (K)\r\n",
        "\r\n",
        "    # States (3):\r\n",
        "    # Volume (L)\r\n",
        "    V = x[0]\r\n",
        "    # Concentration of A (mol/L)\r\n",
        "    Ca = x[1]\r\n",
        "    # Temperature (K)\r\n",
        "    T = x[2]\r\n",
        "\r\n",
        "    # Parameters:\r\n",
        "    # Reaction\r\n",
        "    rA = 0.0\r\n",
        "\r\n",
        "    # Mass balance: volume derivative\r\n",
        "    dVdt = qf - q\r\n",
        "\r\n",
        "    # Species balance: concentration derivative\r\n",
        "    # Chain rule: d(V*Ca)/dt = Ca * dV/dt + V * dCa/dt\r\n",
        "    dCadt = (qf*Caf - q*Ca)/V - rA - (Ca*dVdt/V)\r\n",
        "\r\n",
        "    # Energy balance: temperature derivative\r\n",
        "    # Chain rule: d(V*T)/dt = T * dV/dt + V * dT/dt\r\n",
        "    dTdt = (qf*Tf - q*T)/V - (T*dVdt/V)\r\n",
        "\r\n",
        "    # Return derivatives\r\n",
        "    return [dVdt,dCadt,dTdt]"
      ],
      "execution_count": 3,
      "outputs": []
    },
    {
      "cell_type": "code",
      "metadata": {
        "id": "S7n0HbnYVurn"
      },
      "source": [
        "# Initial Conditions for the States\r\n",
        "V0 = 1.0\r\n",
        "Ca0 = 0.0\r\n",
        "T0 = 350.0\r\n",
        "y0 = [V0,Ca0,T0]"
      ],
      "execution_count": 4,
      "outputs": []
    },
    {
      "cell_type": "code",
      "metadata": {
        "id": "i9DCWxUeVw_e"
      },
      "source": [
        "# Time Interval (min)\r\n",
        "t = np.linspace(0,10,100)\r\n",
        "\r\n",
        "# Inlet Volumetric Flowrate (L/min)\r\n",
        "qf = np.ones(len(t))* 5.2\r\n",
        "qf[50:] = 5.1\r\n",
        "\r\n",
        "# Outlet Volumetric Flowrate (L/min)\r\n",
        "q = np.ones(len(t))*5.0\r\n",
        "\r\n",
        "# Feed Concentration (mol/L)\r\n",
        "Caf = np.ones(len(t))*1.0\r\n",
        "Caf[30:] = 0.5\r\n",
        "\r\n",
        "# Feed Temperature (K)\r\n",
        "Tf = np.ones(len(t))*300.0\r\n",
        "Tf[70:] = 325.0"
      ],
      "execution_count": 13,
      "outputs": []
    },
    {
      "cell_type": "code",
      "metadata": {
        "id": "63e2i1mdV2fo"
      },
      "source": [
        "# Storage for results\r\n",
        "V  = np.ones(len(t))*V0\r\n",
        "Ca = np.ones(len(t))*Ca0\r\n",
        "T  = np.ones(len(t))*T0"
      ],
      "execution_count": 14,
      "outputs": []
    },
    {
      "cell_type": "code",
      "metadata": {
        "id": "5hcIIWYtV43G"
      },
      "source": [
        "y0 = [V0,Ca0,T0] # reset initial conditions \r\n",
        "# Loop through each time step\r\n",
        "for i in range(len(t)-1):\r\n",
        "    # Simulate\r\n",
        "    inputs = (q[i],qf[i],Caf[i],Tf[i]) # this is a tuple\r\n",
        "    ts = [t[i],t[i+1]]\r\n",
        "    y = odeint(vessel,y0,ts,args=inputs)\r\n",
        "    # Store results\r\n",
        "    V[i+1]  = y[-1][0]\r\n",
        "    Ca[i+1] = y[-1][1]\r\n",
        "    T[i+1]  = y[-1][2]\r\n",
        "    # Adjust initial condition for next loop\r\n",
        "    y0 = y[-1]"
      ],
      "execution_count": 15,
      "outputs": []
    },
    {
      "cell_type": "code",
      "metadata": {
        "id": "KPB0Tk17V7N9"
      },
      "source": [
        "# Construct results and save data file\r\n",
        "data = np.vstack((t,qf,q,Tf,Caf,V,Ca,T)) # vertical stack\r\n",
        "data = data.T             # transpose data\r\n",
        "np.savetxt('data.txt',data,delimiter=',')"
      ],
      "execution_count": 16,
      "outputs": []
    },
    {
      "cell_type": "code",
      "metadata": {
        "colab": {
          "base_uri": "https://localhost:8080/",
          "height": 388
        },
        "id": "01b5NkcBV9JP",
        "outputId": "0ccfdbc7-3a2b-4ebd-9ab9-d678933665b1"
      },
      "source": [
        "# Plot the inputs and results\r\n",
        "plt.figure(figsize = (13,6))\r\n",
        "\r\n",
        "plt.subplot(3,2,1)\r\n",
        "plt.plot(t,qf,'b--',linewidth=3)\r\n",
        "plt.plot(t,q,'b:',linewidth=3)\r\n",
        "plt.ylabel('Flow Rates (L/min)')\r\n",
        "plt.legend(['Inlet','Outlet'],loc='best')\r\n",
        "\r\n",
        "plt.subplot(3,2,3)\r\n",
        "plt.plot(t,Caf,'r--',linewidth=3)\r\n",
        "plt.ylabel('Caf (mol/L)')\r\n",
        "plt.legend(['Feed Concentration'],loc='best')\r\n",
        "\r\n",
        "plt.subplot(3,2,5)\r\n",
        "plt.plot(t,Tf,'k--',linewidth=3)\r\n",
        "plt.ylabel('Tf (K)')\r\n",
        "plt.legend(['Feed Temperature'],loc='best')\r\n",
        "plt.xlabel('Time (min)')\r\n",
        "\r\n",
        "plt.subplot(3,2,2)\r\n",
        "plt.plot(t,V,'b-',linewidth=3)\r\n",
        "plt.ylabel('Volume (L)')\r\n",
        "plt.legend(['Volume'],loc='best')\r\n",
        "\r\n",
        "plt.subplot(3,2,4)\r\n",
        "plt.plot(t,Ca,'r-',linewidth=3)\r\n",
        "plt.ylabel('Ca (mol/L)')\r\n",
        "plt.legend(['Concentration'],loc='best')\r\n",
        "\r\n",
        "plt.subplot(3,2,6)\r\n",
        "plt.plot(t,T,'k-',linewidth=3)\r\n",
        "plt.ylabel('T (K)')\r\n",
        "plt.legend(['Temperature'],loc='best')\r\n",
        "plt.xlabel('Time (min)')\r\n",
        "\r\n",
        "plt.show()"
      ],
      "execution_count": 17,
      "outputs": [
        {
          "output_type": "display_data",
          "data": {
            "image/png": "[encoded data removed]",
            "text/plain": [
              "<Figure size 936x432 with 6 Axes>"
            ]
          },
          "metadata": {
            "tags": [],
            "needs_background": "light"
          }
        }
      ]
    },
    {
      "cell_type": "code",
      "metadata": {
        "id": "gz0x-_Q3WCCy"
      },
      "source": [
        ""
      ],
      "execution_count": null,
      "outputs": []
    }
  ]
}