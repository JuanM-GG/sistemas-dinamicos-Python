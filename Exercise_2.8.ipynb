{
  "nbformat": 4,
  "nbformat_minor": 0,
  "metadata": {
    "colab": {
      "name": "Untitled33.ipynb",
      "provenance": [],
      "authorship_tag": "ABX9TyNkVLwJiKX8vx3y7L+5gVjD",
      "include_colab_link": true
    },
    "kernelspec": {
      "name": "python3",
      "display_name": "Python 3"
    }
  },
  "cells": [
    {
      "cell_type": "markdown",
      "metadata": {
        "id": "view-in-github",
        "colab_type": "text"
      },
      "source": [
        "<a href=\"https://colab.research.google.com/github/JuanM-GG/sistemas-dinamicos-Python/blob/main/Exercise_2.8.ipynb\" target=\"_parent\"><img src=\"https://colab.research.google.com/assets/colab-badge.svg\" alt=\"Open In Colab\"/></a>"
      ]
    },
    {
      "cell_type": "markdown",
      "metadata": {
        "id": "FYBV3On6KbSx"
      },
      "source": [
        "Title: Exercise 2.8\r\n",
        "\r\n",
        "Name: JM\r\n",
        "\r\n",
        "Date: December 2020 "
      ]
    },
    {
      "cell_type": "markdown",
      "metadata": {
        "id": "VmXzYqdHKdui"
      },
      "source": [
        "A gas surge drum has two components (hydrogen and methane) in the feedstream. Let $y_{in}$ and $y$ represent the mole fraction of methane in the feedstream and drum, respectively. Find $dP/dt$ and $dy/dt$ if the inlet and outlet flowrates can vary. Also asume that the inlet concentration can vary. Assume the ideal gas law for the effect of pressure and composition on density. "
      ]
    },
    {
      "cell_type": "markdown",
      "metadata": {
        "id": "uVi10SkyKjRL"
      },
      "source": [
        "### Accumulation of gas \r\n",
        "\r\n",
        "$$\\frac{dN}{dt} = q_{in} - q$$\r\n",
        "\r\n",
        "$$\\frac{d(PV/RT)}{dt} = q_{in} - q$$\r\n",
        "\r\n",
        "$$\\frac{V}{RT} \\frac{dP}{dt} = q_{in} - q$$\r\n",
        "\r\n",
        "$$ \\frac{dP}{dt} = \\frac{RT}{V}(q_{in} - q)$$"
      ]
    },
    {
      "cell_type": "markdown",
      "metadata": {
        "id": "Za0VfAaPK_hf"
      },
      "source": [
        "### Accumulation of methane\r\n",
        "\r\n",
        "$$\\frac{d(Ny)}{dt} = q_{in}y_{in} - qy$$\r\n",
        "\r\n",
        "$$\\frac{d((PV/RT)y)}{dt} = q_{in}y_{in} - qy$$\r\n",
        "\r\n",
        "$$\\frac{V}{RT} (y\\frac{dP}{dt} + P\\frac{dy}{dt}) = q_{in}y_{in} - qy$$\r\n",
        "\r\n",
        "$$y \\frac{RT}{V}(q_{in} - q) + P \\frac{dy}{dt} = \\frac{RT}{V}q_{in}y_{in} - \\frac{RT}{V}q y$$\r\n",
        "\r\n",
        "$$\\frac{dy}{dt} = \\frac{RT}{PV}q_{in}(y_{in} - y)$$"
      ]
    },
    {
      "cell_type": "code",
      "metadata": {
        "id": "HpVFDB1jKc-j"
      },
      "source": [
        "# load libraries\r\n",
        "import numpy as np\r\n",
        "import matplotlib.pyplot as plt\r\n",
        "from scipy.integrate import odeint "
      ],
      "execution_count": 52,
      "outputs": []
    },
    {
      "cell_type": "code",
      "metadata": {
        "id": "B9O1bGitOWue"
      },
      "source": [
        "# establish model \r\n",
        "def model(s,t,p,u):\r\n",
        "\r\n",
        "  # state variables\r\n",
        "  V = s[0]\r\n",
        "  P = s[1]\r\n",
        "  y = s[2]\r\n",
        "\r\n",
        "  # parameters\r\n",
        "  T = p[0]\r\n",
        "  R = p[1]\r\n",
        "  \r\n",
        "  # inputs\r\n",
        "  qin = u[0]\r\n",
        "  q = u[1]\r\n",
        "  yin = u[2]\r\n",
        "\r\n",
        "  # material balance\r\n",
        "  dVdt = qin - q\r\n",
        "  # molar balance\r\n",
        "  dPdt = R*T/V*(qin-q)\r\n",
        "  # methane balance\r\n",
        "  dydt = R*T/(P*V)*(yin-y)\r\n",
        "\r\n",
        "  return [dVdt,dPdt,dydt]"
      ],
      "execution_count": 53,
      "outputs": []
    },
    {
      "cell_type": "code",
      "metadata": {
        "id": "f9D3dqy3PUOy"
      },
      "source": [
        "# establish parameters\r\n",
        "T = 298.0 # K\r\n",
        "R = 0.0821 # atm*L/(K*mol)\r\n",
        "p = [T, R]"
      ],
      "execution_count": 208,
      "outputs": []
    },
    {
      "cell_type": "code",
      "metadata": {
        "id": "mC8eaLK0PYW2"
      },
      "source": [
        "# establish initial conditions\r\n",
        "V0 = 200 # L\r\n",
        "P0 = 7 # atm\r\n",
        "y0 = 0.1 \r\n",
        "s = [V0,P0,y0]"
      ],
      "execution_count": 209,
      "outputs": []
    },
    {
      "cell_type": "code",
      "metadata": {
        "id": "B4mLrvEwPkY0"
      },
      "source": [
        "# establish integration time \r\n",
        "t = np.linspace(0,100,1000)"
      ],
      "execution_count": 210,
      "outputs": []
    },
    {
      "cell_type": "code",
      "metadata": {
        "id": "DlCUh8vRPqE5"
      },
      "source": [
        "# establish inputs\r\n",
        "qin = 0.01 # mol/min\r\n",
        "q = 0.005 # mol/min\r\n",
        "yin = 0.5\r\n",
        "u = [qin, q, yin]"
      ],
      "execution_count": 211,
      "outputs": []
    },
    {
      "cell_type": "code",
      "metadata": {
        "id": "qwSOKRHYQIn4"
      },
      "source": [
        "out = odeint(model,s,t,args=(p,u))"
      ],
      "execution_count": 212,
      "outputs": []
    },
    {
      "cell_type": "code",
      "metadata": {
        "id": "RpErQkpvQSHb"
      },
      "source": [
        "# save results\r\n",
        "V = out[:,0]\r\n",
        "P = out[:,1]\r\n",
        "y = out[:,2]"
      ],
      "execution_count": 213,
      "outputs": []
    },
    {
      "cell_type": "code",
      "metadata": {
        "colab": {
          "base_uri": "https://localhost:8080/",
          "height": 296
        },
        "id": "i9P84bmpQyFS",
        "outputId": "02d2b9aa-6179-458c-f774-01ef6c5f0895"
      },
      "source": [
        "# show results\r\n",
        "plt.plot(t,P, label = \"Pressure (atm)\")\r\n",
        "plt.plot(t,V, label = \"Volume (L)\")\r\n",
        "plt.xlabel(\"Time (min)\")\r\n",
        "plt.legend(loc = \"best\")"
      ],
      "execution_count": 214,
      "outputs": [
        {
          "output_type": "execute_result",
          "data": {
            "text/plain": [
              "<matplotlib.legend.Legend at 0x7fc653184978>"
            ]
          },
          "metadata": {
            "tags": []
          },
          "execution_count": 214
        },
        {
          "output_type": "display_data",
          "data": {
            "image/png": "[encoded data removed]",
            "text/plain": [
              "<Figure size 432x288 with 1 Axes>"
            ]
          },
          "metadata": {
            "tags": [],
            "needs_background": "light"
          }
        }
      ]
    },
    {
      "cell_type": "code",
      "metadata": {
        "colab": {
          "base_uri": "https://localhost:8080/",
          "height": 296
        },
        "id": "C76sYmiBQzvB",
        "outputId": "ec460d9e-f7d6-4f8a-947a-d40f477bf5a6"
      },
      "source": [
        "plt.plot(t,y,\"r-\", linewidth = 3)\r\n",
        "plt.xlabel(\"Time (min)\")\r\n",
        "plt.ylabel(\"Methane composition\")"
      ],
      "execution_count": 215,
      "outputs": [
        {
          "output_type": "execute_result",
          "data": {
            "text/plain": [
              "Text(0, 0.5, 'Methane composition')"
            ]
          },
          "metadata": {
            "tags": []
          },
          "execution_count": 215
        },
        {
          "output_type": "display_data",
          "data": {
            "image/png": "[encoded data removed]",
            "text/plain": [
              "<Figure size 432x288 with 1 Axes>"
            ]
          },
          "metadata": {
            "tags": [],
            "needs_background": "light"
          }
        }
      ]
    },
    {
      "cell_type": "markdown",
      "metadata": {
        "id": "wLOCj2WDRhf1"
      },
      "source": [
        "Let's vary the inputs "
      ]
    },
    {
      "cell_type": "code",
      "metadata": {
        "id": "-TPloRxKYP0y"
      },
      "source": [
        "# establish parameters\r\n",
        "T = 298.0 # K\r\n",
        "R = 0.0821 # atm*L/(K*mol)\r\n",
        "p = [T, R]"
      ],
      "execution_count": 216,
      "outputs": []
    },
    {
      "cell_type": "code",
      "metadata": {
        "id": "rYaAXm8OWq7X"
      },
      "source": [
        "# establish initial conditions\r\n",
        "V0 = 200 # L\r\n",
        "P0 = 7 # atm\r\n",
        "y0 = 0.1 \r\n",
        "s = [V0,P0,y0]"
      ],
      "execution_count": 217,
      "outputs": []
    },
    {
      "cell_type": "code",
      "metadata": {
        "id": "NYZ_w1wgZA5K"
      },
      "source": [
        "# establish inputs\r\n",
        "qin = 0.01 # mol/min\r\n",
        "q = 0.005 # mol/min\r\n",
        "yin = 0.5\r\n",
        "u = [qin, q, yin]"
      ],
      "execution_count": 218,
      "outputs": []
    },
    {
      "cell_type": "code",
      "metadata": {
        "id": "-n4nyX2WRe9_"
      },
      "source": [
        "# change inputs \r\n",
        "qin = np.ones(len(t))*qin\r\n",
        "qin[500:750] = 0.02\r\n",
        "q = np.ones(len(t))*q\r\n",
        "yin = np.ones(len(t))*yin\r\n",
        "yin[400:600] = 0"
      ],
      "execution_count": 219,
      "outputs": []
    },
    {
      "cell_type": "code",
      "metadata": {
        "id": "-WbUQuCQSl5l"
      },
      "source": [
        "# vectors to save state\r\n",
        "V = np.ones(len(t))*V0\r\n",
        "P = np.ones(len(t))*P0\r\n",
        "y = np.ones(len(t))*y0"
      ],
      "execution_count": 220,
      "outputs": []
    },
    {
      "cell_type": "code",
      "metadata": {
        "id": "-xeb5C1sS1mO"
      },
      "source": [
        "for i in range(len(t)-1):\r\n",
        "  #update time span\r\n",
        "  ts = [t[i],t[i+1]]\r\n",
        "  # change inputs\r\n",
        "  u = [qin[i+1],q[i+1],yin[i+1]]\r\n",
        "  # solve ODEs\r\n",
        "  out = odeint(model,s,ts,args=(p,u,))\r\n",
        "  # save sate\r\n",
        "  V[i+1] = out[-1][0] \r\n",
        "  P[i+1] = out[-1][1]\r\n",
        "  y[i+1] = out[-1][2]\r\n",
        "  # update initial conditions \r\n",
        "  s = out[-1]"
      ],
      "execution_count": 221,
      "outputs": []
    },
    {
      "cell_type": "code",
      "metadata": {
        "colab": {
          "base_uri": "https://localhost:8080/",
          "height": 282
        },
        "id": "beUtB_EVTexp",
        "outputId": "1c521424-eeed-43a9-cfc9-9660d093e964"
      },
      "source": [
        "plt.plot(t,V)"
      ],
      "execution_count": 222,
      "outputs": [
        {
          "output_type": "execute_result",
          "data": {
            "text/plain": [
              "[<matplotlib.lines.Line2D at 0x7fc653067240>]"
            ]
          },
          "metadata": {
            "tags": []
          },
          "execution_count": 222
        },
        {
          "output_type": "display_data",
          "data": {
            "image/png": "[encoded data removed]",
            "text/plain": [
              "<Figure size 432x288 with 1 Axes>"
            ]
          },
          "metadata": {
            "tags": [],
            "needs_background": "light"
          }
        }
      ]
    },
    {
      "cell_type": "code",
      "metadata": {
        "colab": {
          "base_uri": "https://localhost:8080/",
          "height": 282
        },
        "id": "fRF_4O21Tho0",
        "outputId": "5e9d2fc8-a291-4f0c-dbfc-cf2c90e6f0d6"
      },
      "source": [
        "plt.plot(t,P)"
      ],
      "execution_count": 223,
      "outputs": [
        {
          "output_type": "execute_result",
          "data": {
            "text/plain": [
              "[<matplotlib.lines.Line2D at 0x7fc653044908>]"
            ]
          },
          "metadata": {
            "tags": []
          },
          "execution_count": 223
        },
        {
          "output_type": "display_data",
          "data": {
            "image/png": "[encoded data removed]",
            "text/plain": [
              "<Figure size 432x288 with 1 Axes>"
            ]
          },
          "metadata": {
            "tags": [],
            "needs_background": "light"
          }
        }
      ]
    },
    {
      "cell_type": "code",
      "metadata": {
        "colab": {
          "base_uri": "https://localhost:8080/",
          "height": 282
        },
        "id": "AQsP7pDBToOB",
        "outputId": "9afe25b4-f35b-48fe-f7c8-f1a3f66f0ca4"
      },
      "source": [
        "plt.plot(t,y)"
      ],
      "execution_count": 224,
      "outputs": [
        {
          "output_type": "execute_result",
          "data": {
            "text/plain": [
              "[<matplotlib.lines.Line2D at 0x7fc652fa7240>]"
            ]
          },
          "metadata": {
            "tags": []
          },
          "execution_count": 224
        },
        {
          "output_type": "display_data",
          "data": {
            "image/png": "[encoded data removed]",
            "text/plain": [
              "<Figure size 432x288 with 1 Axes>"
            ]
          },
          "metadata": {
            "tags": [],
            "needs_background": "light"
          }
        }
      ]
    },
    {
      "cell_type": "code",
      "metadata": {
        "id": "H4CyDc-xTqn1"
      },
      "source": [
        ""
      ],
      "execution_count": 67,
      "outputs": []
    }
  ]
}