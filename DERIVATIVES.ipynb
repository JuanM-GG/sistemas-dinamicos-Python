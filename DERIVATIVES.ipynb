{
  "nbformat": 4,
  "nbformat_minor": 0,
  "metadata": {
    "colab": {
      "name": "Untitled61.ipynb",
      "provenance": [],
      "authorship_tag": "ABX9TyOFCYpeUwOfxulkvbqhXWwp",
      "include_colab_link": true
    },
    "kernelspec": {
      "name": "python3",
      "display_name": "Python 3"
    }
  },
  "cells": [
    {
      "cell_type": "markdown",
      "metadata": {
        "id": "view-in-github",
        "colab_type": "text"
      },
      "source": [
        "<a href=\"https://colab.research.google.com/github/JuanM-GG/sistemas-dinamicos-Python/blob/main/DERIVATIVES.ipynb\" target=\"_parent\"><img src=\"https://colab.research.google.com/assets/colab-badge.svg\" alt=\"Open In Colab\"/></a>"
      ]
    },
    {
      "cell_type": "markdown",
      "metadata": {
        "id": "yyQQS4yShBAL"
      },
      "source": [
        "Title: Derivatives with Python \r\n",
        "\r\n",
        "Name: Juan Mauel \r\n",
        "\r\n",
        "Date: February 2021"
      ]
    },
    {
      "cell_type": "code",
      "metadata": {
        "colab": {
          "base_uri": "https://localhost:8080/"
        },
        "id": "JvWYQV_sg_wR",
        "outputId": "b210f1a4-1d02-4cda-d3ce-2da9b8b47aec"
      },
      "source": [
        "# analytic solution with Python\r\n",
        "import sympy as sp\r\n",
        "sp.init_printing()\r\n",
        "# define symbols\r\n",
        "x,u = sp.symbols(['x','u'])\r\n",
        "# define equation\r\n",
        "dxdt = -x**2 + sp.sqrt(u)\r\n",
        "\r\n",
        "print(sp.diff(dxdt,x))\r\n",
        "print(sp.diff(dxdt,u))"
      ],
      "execution_count": 3,
      "outputs": [
        {
          "output_type": "stream",
          "text": [
            "-2*x\n",
            "1/(2*sqrt(u))\n"
          ],
          "name": "stdout"
        }
      ]
    },
    {
      "cell_type": "code",
      "metadata": {
        "id": "rm7oVCtehL2Y"
      },
      "source": [
        "# numeric solution with Python\r\n",
        "import numpy as np\r\n",
        "from scipy.misc import derivative\r\n",
        "u = 16.0\r\n",
        "x = 2.0\r\n",
        "def pd_x(x):\r\n",
        "    dxdt = -x**2 + np.sqrt(u)\r\n",
        "    return dxdt\r\n",
        "def pd_u(u):\r\n",
        "    dxdt = -x**2 + np.sqrt(u)\r\n",
        "    return dxdt"
      ],
      "execution_count": 4,
      "outputs": []
    },
    {
      "cell_type": "code",
      "metadata": {
        "colab": {
          "base_uri": "https://localhost:8080/"
        },
        "id": "8QozaNHjhSfo",
        "outputId": "de8cb445-c6a3-4c38-f606-113f37b2b646"
      },
      "source": [
        "print('Approximate Partial Derivatives')\r\n",
        "print(derivative(pd_x,x,dx=1e-4))\r\n",
        "print(derivative(pd_u,u,dx=1e-4))\r\n",
        "\r\n",
        "print('Exact Partial Derivatives')\r\n",
        "print(-2.0*x) # exact d(f(x,u))/dx\r\n",
        "print(0.5 / np.sqrt(u)) # exact d(f(x,u))/du"
      ],
      "execution_count": 5,
      "outputs": [
        {
          "output_type": "stream",
          "text": [
            "Approximate Partial Derivatives\n",
            "-4.000000000004\n",
            "0.12499999999970868\n",
            "Exact Partial Derivatives\n",
            "-4.0\n",
            "0.125\n"
          ],
          "name": "stdout"
        }
      ]
    },
    {
      "cell_type": "code",
      "metadata": {
        "id": "VcLGhO-HhVaS"
      },
      "source": [
        ""
      ],
      "execution_count": null,
      "outputs": []
    }
  ]
}