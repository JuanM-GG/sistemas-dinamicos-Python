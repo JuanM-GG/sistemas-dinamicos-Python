{
  "nbformat": 4,
  "nbformat_minor": 0,
  "metadata": {
    "colab": {
      "name": "Untitled35.ipynb",
      "provenance": [],
      "authorship_tag": "ABX9TyMCdsxwIf0f8aRGsTr1wap4",
      "include_colab_link": true
    },
    "kernelspec": {
      "name": "python3",
      "display_name": "Python 3"
    }
  },
  "cells": [
    {
      "cell_type": "markdown",
      "metadata": {
        "id": "view-in-github",
        "colab_type": "text"
      },
      "source": [
        "<a href=\"https://colab.research.google.com/github/JuanM-GG/sistemas-dinamicos-Python/blob/main/exercise_2.17.ipynb\" target=\"_parent\"><img src=\"https://colab.research.google.com/assets/colab-badge.svg\" alt=\"Open In Colab\"/></a>"
      ]
    },
    {
      "cell_type": "markdown",
      "metadata": {
        "id": "Dy_6yu59Mjzv"
      },
      "source": [
        "Title: Exercise 2.17\r\n",
        "\r\n",
        "Name: JM\r\n",
        "\r\n",
        "Date:  December 2020"
      ]
    },
    {
      "cell_type": "markdown",
      "metadata": {
        "id": "_RFyTOghQt6h"
      },
      "source": [
        "Consider a perfectly mixed stirred-tank heater, with a single liquid feed stream and a single liquid product stream, as shown below \r\n",
        "\r\n",
        "![Imagen1.png](data:image/png;base64,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)"
      ]
    },
    {
      "cell_type": "markdown",
      "metadata": {
        "id": "TdKBwVHDQ-N_"
      },
      "source": [
        "Develop the material and energy balance equations that describe this process. $F_i$ is the volumetric flowrate into the tank, $F$ is the volumetric flowrate out of the tank, $T_i$ is the temperature of the liquid entering the tank, $T$ is the temperature of the fluid in the tank, $h$ is the height of liquid in the tank, and $Q$ is the rate of energy added to the tank. State assumptions (such as constant density, etc.).\r\n",
        "\r\n",
        "Assume that the volume can vary with time and that $F$ is proportional to $\\sqrt h$. How many differential equationd does it take to model this system? What are the state variables? What are the parameters? What are the inputs? List the information neccesary to solve this problem."
      ]
    },
    {
      "cell_type": "markdown",
      "metadata": {
        "id": "4cgsn-PXSKem"
      },
      "source": [
        "1. Draw a schematic diagram\r\n",
        "\r\n",
        "2. List all assumptions \r\n",
        "\r\n",
        "2.1. constant density \r\n",
        "2.2. constant pressure\r\n",
        "2.3. isolated tank \r\n",
        "2.4. constant area\r\n",
        "\r\n",
        "3. Determine spatial dependence \r\n",
        "there is no spatial depencence --> differential equations \r\n"
      ]
    },
    {
      "cell_type": "markdown",
      "metadata": {
        "id": "1mpiS21dT1Hf"
      },
      "source": [
        "# Write dynamic balances (material, species, energy)"
      ]
    },
    {
      "cell_type": "markdown",
      "metadata": {
        "id": "MStLOwJPT8IZ"
      },
      "source": [
        "### Material balance \r\n",
        "\r\n",
        "$$\\frac{d(V \\rho)}{dt} = F_i \\rho - F \\rho$$\r\n",
        "\r\n",
        "$$\\frac{dV}{dt} = F_i  - F $$\r\n",
        "\r\n",
        "$$\\frac{d(A h)}{dt} = F_i  - F $$\r\n",
        "\r\n",
        "$$\\frac{dh}{dt} = \\frac{F_i  - F}{A} $$\r\n",
        "\r\n",
        "Considering $F = \\sqrt h$\r\n",
        "\r\n",
        "$$\\frac{dh}{dt} = \\frac{F_i  - \\sqrt h}{A} $$\r\n"
      ]
    },
    {
      "cell_type": "markdown",
      "metadata": {
        "id": "tqq1T0l0UoTs"
      },
      "source": [
        "### Energy Balance\r\n",
        "\r\n",
        "$$\\frac{dU}{dt} = F_i \\rho \\bar{U}_i - F \\rho \\bar{U} + Q + W_T$$\r\n",
        "\r\n",
        "$$\\frac{d(H - PV)}{dt} = F_i \\rho (\\bar{H}_i - P_i \\bar{V} + \\frac{P_i}{\\rho}) - F \\rho (\\bar{H} - P \\bar{V} + \\frac{P}{\\rho}) + Q + W_s$$\r\n",
        "\r\n",
        "$$\\frac{dH}{dt} - P\\frac{dV}{dt} - V\\frac{dP}{dt}= F_i \\rho \\bar{H}_i - F \\rho \\bar{H} + Q + W_s$$\r\n",
        "\r\n",
        "\r\n",
        "$$\\frac{d(\\rho V c_p (T - T_{ref}))}{dt} = F_i \\rho c_p (T_i - T_{ref}) - F \\rho c_p (T - T_{ref}) + Q + W_s + P(F_i - F)$$\r\n",
        "\r\n",
        "$$ \\rho c_p \\left[ V\\frac{d(T - T_{ref})}{dt} + (T - T_{ref}) \\frac{dV}{dt} \\right] = F_i \\rho c_p (T_i - T_{ref}) - F \\rho c_p (T - T_{ref}) + Q + W_s + P(F_i - F)$$\r\n",
        "\r\n",
        "$$ \\frac{dT}{dt} = \\frac{F_i (T_i - T)}{V}  +  \\frac{Q + W_s + P(F_i - F)}{\\rho c_p V}$$"
      ]
    },
    {
      "cell_type": "markdown",
      "metadata": {
        "id": "vsGBwHD6Xegm"
      },
      "source": [
        "You need two differential equations to model this process. One to model height and other to model temperature.\r\n",
        "\r\n",
        "State variables\r\n",
        "\r\n",
        "1. Height\r\n",
        "2. Temperature\r\n",
        "\r\n",
        "Inputs\r\n",
        "\r\n",
        "1. $F_i$\r\n",
        "2. $T_i$\r\n",
        "3. $F$\r\n",
        "\r\n",
        "Parameters\r\n",
        "\r\n",
        "$Q, W_s, P, c_p, \\rho, A, k$"
      ]
    },
    {
      "cell_type": "code",
      "metadata": {
        "id": "DgZ7SkUTMt41"
      },
      "source": [
        "import numpy as np\r\n",
        "import matplotlib.pyplot as plt\r\n",
        "from scipy.integrate import odeint "
      ],
      "execution_count": 1,
      "outputs": []
    },
    {
      "cell_type": "code",
      "metadata": {
        "id": "7W0WGOHIMy4v"
      },
      "source": [
        "# establish model \r\n",
        "def model(s,t,p,u):\r\n",
        "\r\n",
        "  # state variables\r\n",
        "  h = s[0]\r\n",
        "  T = s[1]\r\n",
        "\r\n",
        "  # paramters\r\n",
        "  Q = p[0]\r\n",
        "  Ws = p[1]\r\n",
        "  P = p[2]\r\n",
        "  cp = p[3]\r\n",
        "  rho = p[4]\r\n",
        "  A = p[5]\r\n",
        "  k = p[6]\r\n",
        "\r\n",
        "  # inputs\r\n",
        "  Fi = u[0]\r\n",
        "  Ti = u[1]\r\n",
        "  F = u[2]\r\n",
        "\r\n",
        "  # material balance \r\n",
        "  dhdt = Fi/A - k*np.sqrt(h)/A\r\n",
        "  # because it is a cylinder\r\n",
        "  # V = A*h\r\n",
        "  # energy balance\r\n",
        "  dTdt = Fi/(A*h)*(Ti - T) + (Q + Ws + P*(Fi - F))/(rho*cp*(A*h)) \r\n",
        "\r\n",
        "  return [dhdt, dTdt]"
      ],
      "execution_count": 30,
      "outputs": []
    },
    {
      "cell_type": "code",
      "metadata": {
        "id": "Rsfoh2RaZfT8"
      },
      "source": [
        "# set parameter values \r\n",
        "Q = 100\r\n",
        "Ws = 200\r\n",
        "P = 101325\r\n",
        "cp = 4186\r\n",
        "rho = 1000\r\n",
        "A = 2\r\n",
        "k = 0.1\r\n",
        "p = [Q,Ws,P,cp,rho,A,k]"
      ],
      "execution_count": 32,
      "outputs": []
    },
    {
      "cell_type": "code",
      "metadata": {
        "id": "2uXcZ7Z9NNZd"
      },
      "source": [
        "# initial conditions\r\n",
        "h0 = 0.5 # m\r\n",
        "T0 = 298 # K\r\n",
        "s = [h0, T0]"
      ],
      "execution_count": 33,
      "outputs": []
    },
    {
      "cell_type": "code",
      "metadata": {
        "id": "IlKVsf3iNXAC"
      },
      "source": [
        "# time points\r\n",
        "t = np.linspace(0,10,101)"
      ],
      "execution_count": 34,
      "outputs": []
    },
    {
      "cell_type": "code",
      "metadata": {
        "id": "3wVBnHzXNb6W"
      },
      "source": [
        "# step inflow\r\n",
        "Fi = np.ones(len(t))*0.5\r\n",
        "Fi[11:] = Fi[11:] + 0.5\r\n",
        "Fi[41:] = Fi[41:] - 1\r\n",
        "Fi[71:] = Fi[71:] + 0.5\r\n",
        "F = 0.5"
      ],
      "execution_count": 35,
      "outputs": []
    },
    {
      "cell_type": "code",
      "metadata": {
        "id": "d28cYW5Bad8d"
      },
      "source": [
        "# step temperature \r\n",
        "Ti = np.ones(len(t))*T0\r\n",
        "Ti[50:] = Ti[50:] + 10\r\n",
        "Ti[60:] = Ti[60:] - 20\r\n",
        "Ti[90:] = Ti[90:] + 10"
      ],
      "execution_count": 36,
      "outputs": []
    },
    {
      "cell_type": "code",
      "metadata": {
        "id": "R2W5MuEPNuHb"
      },
      "source": [
        "# store solution\r\n",
        "h = np.empty_like(t)\r\n",
        "T = np.empty_like(t)"
      ],
      "execution_count": 37,
      "outputs": []
    },
    {
      "cell_type": "code",
      "metadata": {
        "id": "S1uV0sBhN0rB"
      },
      "source": [
        "# record initial conditions \r\n",
        "h[0] = s[0]\r\n",
        "T[0] = s[1]"
      ],
      "execution_count": 38,
      "outputs": []
    },
    {
      "cell_type": "code",
      "metadata": {
        "id": "4DoUPkgRN-XH"
      },
      "source": [
        "# solve ODE\r\n",
        "for i in range(len(t) - 1):\r\n",
        "  tspan = [t[i], t[i+1]]\r\n",
        "  u = [Fi[i+1], Ti[i+1], F]\r\n",
        "  # solve for next step\r\n",
        "  out = odeint(model,s,tspan, args=(p,u,))\r\n",
        "  # store solution for plotting \r\n",
        "  h[i+1] = out[-1][0]\r\n",
        "  T[i+1] = out[-1][1]\r\n",
        "  # next initial conditions\r\n",
        "  s = out[-1]"
      ],
      "execution_count": 39,
      "outputs": []
    },
    {
      "cell_type": "code",
      "metadata": {
        "colab": {
          "base_uri": "https://localhost:8080/",
          "height": 296
        },
        "id": "jHdk9oxnOi77",
        "outputId": "b0601b18-ea09-45d4-9fb2-96927379179f"
      },
      "source": [
        "# plot results\r\n",
        "plt.subplot(2,1,1)\r\n",
        "plt.plot(t,Fi,\"g-\",linewidth = 3, label = \"Fi(t) Inflow\")\r\n",
        "plt.grid()\r\n",
        "plt.legend(loc = \"best\")\r\n",
        "plt.subplot(2,1,2)\r\n",
        "plt.plot(t,Ti,\"b-\",linewidth = 3, label= \"Ti(t) Temperature\")\r\n",
        "plt.xlabel(\"time\")\r\n",
        "plt.grid()\r\n",
        "plt.legend(loc = \"best\")"
      ],
      "execution_count": 40,
      "outputs": [
        {
          "output_type": "execute_result",
          "data": {
            "text/plain": [
              "<matplotlib.legend.Legend at 0x7f970307fc50>"
            ]
          },
          "metadata": {
            "tags": []
          },
          "execution_count": 40
        },
        {
          "output_type": "display_data",
          "data": {
            "image/png": "[encoded data removed]",
            "text/plain": [
              "<Figure size 432x288 with 2 Axes>"
            ]
          },
          "metadata": {
            "tags": [],
            "needs_background": "light"
          }
        }
      ]
    },
    {
      "cell_type": "code",
      "metadata": {
        "id": "J43_Juc9PNTE",
        "colab": {
          "base_uri": "https://localhost:8080/",
          "height": 296
        },
        "outputId": "e990e9c2-5849-4095-f057-62697deb2561"
      },
      "source": [
        "# plot results\r\n",
        "plt.subplot(2,1,1)\r\n",
        "plt.plot(t,h,\"r-\",linewidth = 3, label = \"h(t) Height\")\r\n",
        "plt.grid()\r\n",
        "plt.legend(loc = \"best\")\r\n",
        "plt.subplot(2,1,2)\r\n",
        "plt.plot(t,T,\"b--\",linewidth = 3, label= \"T(t) Temperature\")\r\n",
        "plt.xlabel(\"time\")\r\n",
        "plt.grid()\r\n",
        "plt.legend(loc = \"best\")"
      ],
      "execution_count": 44,
      "outputs": [
        {
          "output_type": "execute_result",
          "data": {
            "text/plain": [
              "<matplotlib.legend.Legend at 0x7f97027e85c0>"
            ]
          },
          "metadata": {
            "tags": []
          },
          "execution_count": 44
        },
        {
          "output_type": "display_data",
          "data": {
            "image/png": "[encoded data removed]",
            "text/plain": [
              "<Figure size 432x288 with 2 Axes>"
            ]
          },
          "metadata": {
            "tags": [],
            "needs_background": "light"
          }
        }
      ]
    },
    {
      "cell_type": "code",
      "metadata": {
        "id": "frO6o5tJfKMy"
      },
      "source": [
        ""
      ],
      "execution_count": null,
      "outputs": []
    }
  ]
}