{
  "nbformat": 4,
  "nbformat_minor": 0,
  "metadata": {
    "colab": {
      "name": "Untitled36.ipynb",
      "provenance": [],
      "authorship_tag": "ABX9TyODieey1Nt1NlKkN+88F6mh",
      "include_colab_link": true
    },
    "kernelspec": {
      "name": "python3",
      "display_name": "Python 3"
    }
  },
  "cells": [
    {
      "cell_type": "markdown",
      "metadata": {
        "id": "view-in-github",
        "colab_type": "text"
      },
      "source": [
        "<a href=\"https://colab.research.google.com/github/JuanM-GG/sistemas-dinamicos-Python/blob/main/steady_state_inhibition.ipynb\" target=\"_parent\"><img src=\"https://colab.research.google.com/assets/colab-badge.svg\" alt=\"Open In Colab\"/></a>"
      ]
    },
    {
      "cell_type": "code",
      "metadata": {
        "id": "Fp1VU9FwSBP8"
      },
      "source": [
        "import sympy as sp "
      ],
      "execution_count": 5,
      "outputs": []
    },
    {
      "cell_type": "code",
      "metadata": {
        "id": "kAy7EvXZSDoq"
      },
      "source": [
        "mu,  km, ki, D, sf, Y = sp.symbols(\"mu, km, ki, D, sf, Y\")"
      ],
      "execution_count": 11,
      "outputs": []
    },
    {
      "cell_type": "code",
      "metadata": {
        "id": "f1tjruY6SSAH"
      },
      "source": [
        "s, x = sp.symbols(\"s, x\")"
      ],
      "execution_count": 7,
      "outputs": []
    },
    {
      "cell_type": "code",
      "metadata": {
        "id": "loBDoKXnSMrC"
      },
      "source": [
        "eq1 = sp.Eq(ki*s**2 + (1- mu/D)*s + km,0)"
      ],
      "execution_count": 12,
      "outputs": []
    },
    {
      "cell_type": "code",
      "metadata": {
        "colab": {
          "base_uri": "https://localhost:8080/"
        },
        "id": "YWJ4X9ApSqpy",
        "outputId": "136fc43f-540f-4309-973b-c5fa8769b76d"
      },
      "source": [
        "sp.solve(eq1, s)"
      ],
      "execution_count": 13,
      "outputs": [
        {
          "output_type": "execute_result",
          "data": {
            "text/plain": [
              "[(-D + mu - sqrt(-4*D**2*ki*km + D**2 - 2*D*mu + mu**2))/(2*D*ki),\n",
              " (-D + mu + sqrt(-4*D**2*ki*km + D**2 - 2*D*mu + mu**2))/(2*D*ki)]"
            ]
          },
          "metadata": {
            "tags": []
          },
          "execution_count": 13
        }
      ]
    },
    {
      "cell_type": "code",
      "metadata": {
        "id": "kZnQ77POSuCG"
      },
      "source": [
        "y = sp.symbols(\"y\", cls = sp.Function)"
      ],
      "execution_count": 15,
      "outputs": []
    },
    {
      "cell_type": "code",
      "metadata": {
        "colab": {
          "base_uri": "https://localhost:8080/"
        },
        "id": "pz-ldwaIXVM6",
        "outputId": "20e9f249-812a-4936-b955-03b50e8be70c"
      },
      "source": [
        "sp.solve(sp.diff(mu*s/(km + s + ki*s**2),s), s)"
      ],
      "execution_count": 17,
      "outputs": [
        {
          "output_type": "execute_result",
          "data": {
            "text/plain": [
              "[-sqrt(km/ki), sqrt(km/ki)]"
            ]
          },
          "metadata": {
            "tags": []
          },
          "execution_count": 17
        }
      ]
    },
    {
      "cell_type": "code",
      "metadata": {
        "id": "p9NOAW5UXoGq"
      },
      "source": [
        ""
      ],
      "execution_count": null,
      "outputs": []
    }
  ]
}