{
  "nbformat": 4,
  "nbformat_minor": 0,
  "metadata": {
    "colab": {
      "name": "Untitled36.ipynb",
      "provenance": [],
      "authorship_tag": "ABX9TyNBAA9LMeHfaIMzwp4bWY/J",
      "include_colab_link": true
    },
    "kernelspec": {
      "name": "python3",
      "display_name": "Python 3"
    }
  },
  "cells": [
    {
      "cell_type": "markdown",
      "metadata": {
        "id": "view-in-github",
        "colab_type": "text"
      },
      "source": [
        "<a href=\"https://colab.research.google.com/github/JuanM-GG/sistemas-dinamicos-Python/blob/main/steady_state_inhibition.ipynb\" target=\"_parent\"><img src=\"https://colab.research.google.com/assets/colab-badge.svg\" alt=\"Open In Colab\"/></a>"
      ]
    },
    {
      "cell_type": "markdown",
      "metadata": {
        "id": "PqVf5382eCJ1"
      },
      "source": [
        "Título: Puntos de equilibrio Modelo Inhibición por sustrato \r\n",
        "\r\n",
        "Nombre: JM\r\n",
        "\r\n",
        "Fecha: diciembre 2020"
      ]
    },
    {
      "cell_type": "code",
      "metadata": {
        "id": "Fp1VU9FwSBP8"
      },
      "source": [
        "import sympy as sp "
      ],
      "execution_count": 9,
      "outputs": []
    },
    {
      "cell_type": "code",
      "metadata": {
        "id": "kAy7EvXZSDoq"
      },
      "source": [
        "mu,  km, ki, D, sf, Y = sp.symbols(\"mu, km, ki, D, sf, Y\")"
      ],
      "execution_count": 2,
      "outputs": []
    },
    {
      "cell_type": "code",
      "metadata": {
        "id": "f1tjruY6SSAH"
      },
      "source": [
        "s, x = sp.symbols(\"s, x\")"
      ],
      "execution_count": 3,
      "outputs": []
    },
    {
      "cell_type": "markdown",
      "metadata": {
        "id": "pw-qg_swYYin"
      },
      "source": [
        "Obtener $s_{ss}$"
      ]
    },
    {
      "cell_type": "code",
      "metadata": {
        "id": "loBDoKXnSMrC"
      },
      "source": [
        "eq1 = sp.Eq(ki*s**2 + (1- mu/D)*s + km,0)"
      ],
      "execution_count": 4,
      "outputs": []
    },
    {
      "cell_type": "code",
      "metadata": {
        "colab": {
          "base_uri": "https://localhost:8080/"
        },
        "id": "YWJ4X9ApSqpy",
        "outputId": "599b5579-1ab7-400f-e1c6-bbf972077839"
      },
      "source": [
        "sp.solve(eq1, s)"
      ],
      "execution_count": 5,
      "outputs": [
        {
          "output_type": "execute_result",
          "data": {
            "text/plain": [
              "[(-D + mu - sqrt(-4*D**2*ki*km + D**2 - 2*D*mu + mu**2))/(2*D*ki),\n",
              " (-D + mu + sqrt(-4*D**2*ki*km + D**2 - 2*D*mu + mu**2))/(2*D*ki)]"
            ]
          },
          "metadata": {
            "tags": []
          },
          "execution_count": 5
        }
      ]
    },
    {
      "cell_type": "code",
      "metadata": {
        "id": "ZKkUJcZUYGH7"
      },
      "source": [
        "s_ss = sp.symbols(\"s_ss\")"
      ],
      "execution_count": 11,
      "outputs": []
    },
    {
      "cell_type": "markdown",
      "metadata": {
        "id": "46F6jQbFYeB1"
      },
      "source": [
        "Ontener $x_{ss}$"
      ]
    },
    {
      "cell_type": "code",
      "metadata": {
        "id": "WRQMvj9MYWs_"
      },
      "source": [
        "eq2 = sp.Eq(D*(sf - s_ss) - (1/Y)*mu*x,0)"
      ],
      "execution_count": 12,
      "outputs": []
    },
    {
      "cell_type": "code",
      "metadata": {
        "id": "-Sk_SqGHYrpx",
        "outputId": "9a2827d6-eeb6-4e8e-faf3-67bf8b1e750f",
        "colab": {
          "base_uri": "https://localhost:8080/"
        }
      },
      "source": [
        "sp.solve(eq2, x)"
      ],
      "execution_count": 13,
      "outputs": [
        {
          "output_type": "execute_result",
          "data": {
            "text/plain": [
              "[D*Y*(-s_ss + sf)/mu]"
            ]
          },
          "metadata": {
            "tags": []
          },
          "execution_count": 13
        }
      ]
    },
    {
      "cell_type": "code",
      "metadata": {
        "id": "kZnQ77POSuCG"
      },
      "source": [
        "y = sp.symbols(\"y\", cls = sp.Function)"
      ],
      "execution_count": 6,
      "outputs": []
    },
    {
      "cell_type": "code",
      "metadata": {
        "colab": {
          "base_uri": "https://localhost:8080/"
        },
        "id": "pz-ldwaIXVM6",
        "outputId": "367e0597-1a2b-4cc3-a45f-98841610b375"
      },
      "source": [
        "sp.solve(sp.diff(mu*s/(km + s + ki*s**2),s), s)"
      ],
      "execution_count": 7,
      "outputs": [
        {
          "output_type": "execute_result",
          "data": {
            "text/plain": [
              "[-sqrt(km/ki), sqrt(km/ki)]"
            ]
          },
          "metadata": {
            "tags": []
          },
          "execution_count": 7
        }
      ]
    },
    {
      "cell_type": "code",
      "metadata": {
        "id": "p9NOAW5UXoGq"
      },
      "source": [
        ""
      ],
      "execution_count": 7,
      "outputs": []
    }
  ]
}