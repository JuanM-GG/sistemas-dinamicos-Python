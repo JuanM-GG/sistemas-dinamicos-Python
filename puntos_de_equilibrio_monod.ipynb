{
  "nbformat": 4,
  "nbformat_minor": 0,
  "metadata": {
    "colab": {
      "name": "Untitled21.ipynb",
      "provenance": [],
      "authorship_tag": "ABX9TyNBiWLaveRkKhEU5btzTJql",
      "include_colab_link": true
    },
    "kernelspec": {
      "name": "python3",
      "display_name": "Python 3"
    }
  },
  "cells": [
    {
      "cell_type": "markdown",
      "metadata": {
        "id": "view-in-github",
        "colab_type": "text"
      },
      "source": [
        "<a href=\"https://colab.research.google.com/github/JuanM-GG/sistemas-dinamicos-Python/blob/main/puntos_de_equilibrio_monod.ipynb\" target=\"_parent\"><img src=\"https://colab.research.google.com/assets/colab-badge.svg\" alt=\"Open In Colab\"/></a>"
      ]
    },
    {
      "cell_type": "markdown",
      "metadata": {
        "id": "ZC8enva8x33e"
      },
      "source": [
        "Título:  Puntos de equilibrio modelo de Monod \r\n",
        "\r\n",
        "Nombre: Biología de sistemas\r\n",
        "\r\n",
        "Fecha: 20 de diciembre del 2020"
      ]
    },
    {
      "cell_type": "code",
      "metadata": {
        "id": "KF7qdSFUx5mU"
      },
      "source": [
        "import numpy as np\r\n",
        "import sympy as sp"
      ],
      "execution_count": 1,
      "outputs": []
    },
    {
      "cell_type": "code",
      "metadata": {
        "id": "_-VxHD659Cxu"
      },
      "source": [
        "x, s = sp.symbols(\"x, s\")"
      ],
      "execution_count": 3,
      "outputs": []
    },
    {
      "cell_type": "code",
      "metadata": {
        "id": "TpJNsFQVu3Ck"
      },
      "source": [
        "mu, y, k, D, sf = sp.symbols(\"mu, y, k, D, sf\")"
      ],
      "execution_count": 5,
      "outputs": []
    },
    {
      "cell_type": "code",
      "metadata": {
        "id": "MjCvyk0wutHg"
      },
      "source": [
        "eq1 = sp.Eq(-mu/y*(s/(k + s))*x + D*(sf - s), 0)\r\n",
        "eq2 = sp.Eq(mu*(s/(k + s))*x - D*x, 0)"
      ],
      "execution_count": 6,
      "outputs": []
    },
    {
      "cell_type": "code",
      "metadata": {
        "colab": {
          "base_uri": "https://localhost:8080/",
          "height": 51
        },
        "id": "nPcfEevLv15p",
        "outputId": "faa611bf-6358-4cdd-b064-b743788bd391"
      },
      "source": [
        "display(eq1)\r\n",
        "display(eq2)"
      ],
      "execution_count": 7,
      "outputs": [
        {
          "output_type": "display_data",
          "data": {
            "text/plain": [
              "Eq(D*(-s + sf) - mu*s*x/(y*(k + s)), 0)"
            ]
          },
          "metadata": {
            "tags": []
          }
        },
        {
          "output_type": "display_data",
          "data": {
            "text/plain": [
              "Eq(-D*x + mu*s*x/(k + s), 0)"
            ]
          },
          "metadata": {
            "tags": []
          }
        }
      ]
    },
    {
      "cell_type": "code",
      "metadata": {
        "colab": {
          "base_uri": "https://localhost:8080/"
        },
        "id": "oODZEmudwDYw",
        "outputId": "19f3132d-63d3-4606-a8b7-903939129dd0"
      },
      "source": [
        "sol = sp.solve([eq1, eq2], [x, s])\r\n",
        "sol"
      ],
      "execution_count": 9,
      "outputs": [
        {
          "output_type": "execute_result",
          "data": {
            "text/plain": [
              "[(0, sf), (y*(D*k + sf*(D - mu))/(D - mu), -D*k/(D - mu))]"
            ]
          },
          "metadata": {
            "tags": []
          },
          "execution_count": 9
        }
      ]
    },
    {
      "cell_type": "markdown",
      "metadata": {
        "id": "daJnzh0kNb1v"
      },
      "source": [
        "Obtener matriz Jacobiana"
      ]
    },
    {
      "cell_type": "code",
      "metadata": {
        "id": "lju1SxDnNXDz"
      },
      "source": [
        "dfdx = sp.diff(mu*(s/(k + s))*x - D*x,x)\r\n",
        "dfds = sp.diff(mu*(s/(k + s))*x - D*x,s)\r\n",
        "dgdx = sp.diff(-mu/y*(s/(k + s))*x + D*(sf - s),x)\r\n",
        "dgds = sp.diff(-mu/y*(s/(k + s))*x + D*(sf - s),s)"
      ],
      "execution_count": 23,
      "outputs": []
    },
    {
      "cell_type": "code",
      "metadata": {
        "id": "o3sxdKyNN2vd",
        "outputId": "ca8b969e-9a34-4323-bef1-d2a245e6ec05",
        "colab": {
          "base_uri": "https://localhost:8080/"
        }
      },
      "source": [
        "print(\"dfdx = \",dfdx)\r\n",
        "print(\"dfds = \",dfds)\r\n",
        "print(\"dgdx = \",dgdx)\r\n",
        "print(\"dgds = \",dgds)"
      ],
      "execution_count": 24,
      "outputs": [
        {
          "output_type": "stream",
          "text": [
            "dfdx =  -D + mu*s/(k + s)\n",
            "dfds =  -mu*s*x/(k + s)**2 + mu*x/(k + s)\n",
            "dgdx =  -mu*s/(y*(k + s))\n",
            "dgds =  -D + mu*s*x/(y*(k + s)**2) - mu*x/(y*(k + s))\n"
          ],
          "name": "stdout"
        }
      ]
    },
    {
      "cell_type": "code",
      "metadata": {
        "id": "SQ4-IDTIN38v"
      },
      "source": [
        "def my_jacobi(x,s):\r\n",
        "\r\n",
        "  dfdx = mu*s/(k+s) - D*x \r\n",
        "  dfds = mu*k*s/(k+s)**2\r\n",
        "  dgdx = -(1/y)*mu*s/(k+s)\r\n",
        "  dgds = -D - (1/y)*mu*k*x/(k+s)**2\r\n",
        "\r\n",
        "  A = sp.Matrix([[dfdx, dfds],[dgdx, dgds]])\r\n",
        "\r\n",
        "  return A\r\n"
      ],
      "execution_count": 29,
      "outputs": []
    },
    {
      "cell_type": "code",
      "metadata": {
        "id": "msJ4kH4SRprX",
        "outputId": "c476f150-3c18-48c1-8061-6b36858ab083",
        "colab": {
          "base_uri": "https://localhost:8080/"
        }
      },
      "source": [
        "my_jacobi(0,sf)"
      ],
      "execution_count": 31,
      "outputs": [
        {
          "output_type": "execute_result",
          "data": {
            "text/plain": [
              "Matrix([\n",
              "[     mu*sf/(k + sf), k*mu*sf/(k + sf)**2],\n",
              "[-mu*sf/(y*(k + sf)),                  -D]])"
            ]
          },
          "metadata": {
            "tags": []
          },
          "execution_count": 31
        }
      ]
    },
    {
      "cell_type": "code",
      "metadata": {
        "id": "dg8PkWpXR7tS",
        "outputId": "48ff9c4b-6e4e-4808-ab00-6564ead80155",
        "colab": {
          "base_uri": "https://localhost:8080/"
        }
      },
      "source": [
        "my_jacobi(y*(D*k + sf*(D - mu))/(D - mu), -D*k/(D - mu))"
      ],
      "execution_count": 32,
      "outputs": [
        {
          "output_type": "execute_result",
          "data": {
            "text/plain": [
              "Matrix([\n",
              "[-D*k*mu/((D - mu)*(-D*k/(D - mu) + k)) - D*y*(D*k + sf*(D - mu))/(D - mu),                    -D*k**2*mu/((D - mu)*(-D*k/(D - mu) + k)**2)],\n",
              "[                                  D*k*mu/(y*(D - mu)*(-D*k/(D - mu) + k)), -D - k*mu*(D*k + sf*(D - mu))/((D - mu)*(-D*k/(D - mu) + k)**2)]])"
            ]
          },
          "metadata": {
            "tags": []
          },
          "execution_count": 32
        }
      ]
    },
    {
      "cell_type": "code",
      "metadata": {
        "id": "ioXAEaOPScTP"
      },
      "source": [
        ""
      ],
      "execution_count": null,
      "outputs": []
    }
  ]
}