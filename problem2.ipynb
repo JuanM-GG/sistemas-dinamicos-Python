{
  "nbformat": 4,
  "nbformat_minor": 0,
  "metadata": {
    "colab": {
      "name": "Untitled0.ipynb",
      "provenance": [],
      "authorship_tag": "ABX9TyNasZebmZKt4yZPMHehrc6H",
      "include_colab_link": true
    },
    "kernelspec": {
      "name": "python3",
      "display_name": "Python 3"
    }
  },
  "cells": [
    {
      "cell_type": "markdown",
      "metadata": {
        "id": "view-in-github",
        "colab_type": "text"
      },
      "source": [
        "<a href=\"https://colab.research.google.com/github/JuanM-GG/Control-with-python-/blob/main/problem2.ipynb\" target=\"_parent\"><img src=\"https://colab.research.google.com/assets/colab-badge.svg\" alt=\"Open In Colab\"/></a>"
      ]
    },
    {
      "cell_type": "code",
      "metadata": {
        "id": "zV7BI7pjseLt"
      },
      "source": [
        "# import libraries\n",
        "import  numpy as np\n",
        "from scipy.integrate import odeint \n",
        "import matplotlib.pyplot as plt "
      ],
      "execution_count": 3,
      "outputs": []
    },
    {
      "cell_type": "code",
      "metadata": {
        "id": "B3vWit8ptZvp"
      },
      "source": [
        "# define model\n",
        "def model(y, t, k):\n",
        "  if (t <= 10):\n",
        "      u = 0.0\n",
        "  else:\n",
        "      u = 2.0\n",
        "  dydt = (-k*y + u)/5\n",
        "  return dydt"
      ],
      "execution_count": 78,
      "outputs": []
    },
    {
      "cell_type": "code",
      "metadata": {
        "id": "UrObt1nKttd9"
      },
      "source": [
        "# initial conditions\n",
        "y0 = 1"
      ],
      "execution_count": 48,
      "outputs": []
    },
    {
      "cell_type": "code",
      "metadata": {
        "id": "W9PgIaUBuTFi"
      },
      "source": [
        "# time points\n",
        "t = np.linspace(0,20)"
      ],
      "execution_count": 49,
      "outputs": []
    },
    {
      "cell_type": "code",
      "metadata": {
        "id": "NT5WLnjzubfS"
      },
      "source": [
        "# solve ODE\n",
        "k = 1\n",
        "y = odeint(model,y0,t, args=(k,))"
      ],
      "execution_count": 79,
      "outputs": []
    },
    {
      "cell_type": "code",
      "metadata": {
        "colab": {
          "base_uri": "https://localhost:8080/",
          "height": 297
        },
        "id": "XVPIMKG8ucAf",
        "outputId": "b7fbc037-0795-4485-b705-fa88b9743695"
      },
      "source": [
        "# plot results\n",
        "plt.plot(t, y, \"r-\",linewidth = 2, label = \"k=1\")\n",
        "plt.xlabel(\"time\")\n",
        "plt.ylabel(\"y(t)\")\n",
        "plt.legend()\n",
        "plt.show"
      ],
      "execution_count": 80,
      "outputs": [
        {
          "output_type": "execute_result",
          "data": {
            "text/plain": [
              "<function matplotlib.pyplot.show>"
            ]
          },
          "metadata": {
            "tags": []
          },
          "execution_count": 80
        },
        {
          "output_type": "display_data",
          "data": {
            "image/png": "[encoded data removed]",
            "text/plain": [
              "<Figure size 432x288 with 1 Axes>"
            ]
          },
          "metadata": {
            "tags": [],
            "needs_background": "light"
          }
        }
      ]
    },
    {
      "cell_type": "code",
      "metadata": {
        "id": "SwvE1Yp-u98f"
      },
      "source": [
        ""
      ],
      "execution_count": null,
      "outputs": []
    }
  ]
}