{
  "nbformat": 4,
  "nbformat_minor": 0,
  "metadata": {
    "colab": {
      "name": "Untitled49.ipynb",
      "provenance": [],
      "authorship_tag": "ABX9TyOuWeu96HeFjA8/rlWHzMPn",
      "include_colab_link": true
    },
    "kernelspec": {
      "name": "python3",
      "display_name": "Python 3"
    }
  },
  "cells": [
    {
      "cell_type": "markdown",
      "metadata": {
        "id": "view-in-github",
        "colab_type": "text"
      },
      "source": [
        "<a href=\"https://colab.research.google.com/github/JuanM-GG/sistemas-dinamicos-Python/blob/main/EXAMPLE_2_3.ipynb\" target=\"_parent\"><img src=\"https://colab.research.google.com/assets/colab-badge.svg\" alt=\"Open In Colab\"/></a>"
      ]
    },
    {
      "cell_type": "markdown",
      "metadata": {
        "id": "bngQKOw8l88W"
      },
      "source": [
        "Title: Exercise 2.3 \r\n",
        "\r\n",
        "Name: Juan Manuel G.G\r\n",
        "\r\n",
        "Date: February 15"
      ]
    },
    {
      "cell_type": "markdown",
      "metadata": {
        "id": "OJQ7P85vmIKJ"
      },
      "source": [
        "### 1. Process description \r\n",
        "\r\n",
        "Two tanks are connected together and we want to determine the dinamics of the process to find how h1, h2, w2 and w3 change with the inputs "
      ]
    },
    {
      "cell_type": "markdown",
      "metadata": {
        "id": "6JNG91Lnmc7L"
      },
      "source": [
        "### 2. Assumptions \r\n",
        "\r\n",
        "* Constant density \r\n",
        "* Constant temperature \r\n",
        "* Constant resitences "
      ]
    },
    {
      "cell_type": "markdown",
      "metadata": {
        "id": "E3M-ZKkemo4H"
      },
      "source": [
        "### 3. Scheme of the process \r\n",
        "\r\n",
        "![Imagen3.png](data:image/png;base64,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)"
      ]
    },
    {
      "cell_type": "markdown",
      "metadata": {
        "id": "h3nSF-pMm4YQ"
      },
      "source": [
        "### 4. Analysis \r\n",
        "\r\n"
      ]
    },
    {
      "cell_type": "markdown",
      "metadata": {
        "id": "V5XxCTr4m79D"
      },
      "source": [
        "#### Establish the model \r\n",
        "\r\n",
        "Mass balance in tank 1 \r\n",
        "\r\n",
        "$$\r\n",
        "\\frac{d(\\rho V_1)}{dt} = w_1 - w_2 - w_3\r\n",
        "$$\r\n",
        "\r\n",
        "$$\r\n",
        "\\rho A_1 \\frac{dh_1}{dt} = w_1 - \\frac{h_1 - h_2}{R_2} - \\frac{h_1}{R_2}\\tag{1}\r\n",
        "$$\r\n",
        "\r\n",
        "Mass balance tank 2\r\n",
        "\r\n",
        "$$\r\n",
        "\\frac{d(\\rho V_2)}{dt} = w_2 \r\n",
        "$$\r\n",
        "\r\n",
        "$$\r\n",
        "\\rho A_2 \\frac{dh_2}{dt} = \\frac{h_1 - h_2}{R_2} \\tag{2}\r\n",
        "$$"
      ]
    },
    {
      "cell_type": "markdown",
      "metadata": {
        "id": "Oma_xto2nsW9"
      },
      "source": [
        "#### Steady state \r\n",
        "\r\n",
        "Equating (1) and (2) to zero we get \r\n",
        "\r\n",
        "$$\r\n",
        "w_1 - \\frac{h_1 - h_2}{R_2} -  \\frac{h_1}{R_3} = 0 \\tag{3}\r\n",
        "$$\r\n",
        "\r\n",
        "$$\r\n",
        "h_1 - h_2 = 0 \\tag{4}\r\n",
        "$$\r\n",
        "\r\n",
        "Solving (3) and (4) we have \r\n",
        "\r\n",
        "$$\r\n",
        "h_1 = h_2 = R_3 w_1\r\n",
        "$$\r\n",
        "\r\n",
        "Therefore \r\n",
        "\r\n",
        "$$\r\n",
        "w_2 = 0, \\hspace{1cm} w_3 = w_1\r\n",
        "$$"
      ]
    },
    {
      "cell_type": "code",
      "metadata": {
        "id": "JTejZlB-mFz-"
      },
      "source": [
        "import sympy as sp"
      ],
      "execution_count": 1,
      "outputs": []
    },
    {
      "cell_type": "code",
      "metadata": {
        "id": "zg-EqlPLo0_C"
      },
      "source": [
        "w1, h1, h2, R2, R3 = sp.symbols(\"w1, h1, h2, R2, R3\")"
      ],
      "execution_count": 2,
      "outputs": []
    },
    {
      "cell_type": "code",
      "metadata": {
        "id": "Ocyebk9-pCq9"
      },
      "source": [
        "eq1 = sp.Eq(w1 - (h1-h2)/R2 - h1/R3,0)\r\n",
        "eq2 = sp.Eq((h1-h2)/R2, 0)"
      ],
      "execution_count": 3,
      "outputs": []
    },
    {
      "cell_type": "code",
      "metadata": {
        "colab": {
          "base_uri": "https://localhost:8080/"
        },
        "id": "hEW346CBpP7E",
        "outputId": "3f0511f4-6bb7-48b9-bc9e-7913c792f85e"
      },
      "source": [
        "sp.solve([eq1, eq2], [h1, h2])"
      ],
      "execution_count": 4,
      "outputs": [
        {
          "output_type": "execute_result",
          "data": {
            "text/plain": [
              "{h1: R3*w1, h2: R3*w1}"
            ]
          },
          "metadata": {
            "tags": []
          },
          "execution_count": 4
        }
      ]
    },
    {
      "cell_type": "markdown",
      "metadata": {
        "id": "mGKfBKvCpXlw"
      },
      "source": [
        "Degrees of freedom analysis \r\n",
        "\r\n",
        "state variables: h1, h2 (2)\r\n",
        "\r\n",
        "equations: 2 DE (2)\r\n",
        "\r\n",
        "degrees of freedom: 2 - 2 = 0 \r\n",
        "\r\n",
        "inputs: w1\r\n",
        "\r\n",
        "parameters: R2, R3, $\\rho$, A1, A2"
      ]
    },
    {
      "cell_type": "markdown",
      "metadata": {
        "id": "W4ReAXgzpxKr"
      },
      "source": [
        "#### Simulation"
      ]
    },
    {
      "cell_type": "code",
      "metadata": {
        "id": "Ixn-6lIlrnf5"
      },
      "source": [
        "import numpy as np\r\n",
        "import matplotlib.pyplot as plt\r\n",
        "from scipy.integrate import odeint"
      ],
      "execution_count": 8,
      "outputs": []
    },
    {
      "cell_type": "code",
      "metadata": {
        "id": "AiGZhPG8pTum"
      },
      "source": [
        "# write the model \r\n",
        "def height(s,t,p,u):\r\n",
        "\r\n",
        "    # state variables \r\n",
        "    h1 = s[0]\r\n",
        "    h2 = s[1]\r\n",
        "\r\n",
        "    # inputs\r\n",
        "    w1 = u[0]\r\n",
        "\r\n",
        "    # parameters\r\n",
        "    R2 = p[0]\r\n",
        "    R3 = p[1]\r\n",
        "    rho = p[2]\r\n",
        "    A1 = p[3]\r\n",
        "    A2 = p[4]\r\n",
        "\r\n",
        "    # flows\r\n",
        "    w2 = (h1 - h2)/R2\r\n",
        "    w3 = h1/R3\r\n",
        "\r\n",
        "    # mass balance tank 1\r\n",
        "    dh1dt = (1/rho*A1)*(w1 - w2 - w3)\r\n",
        "\r\n",
        "    # mass balance tank 2\r\n",
        "    dh2dt = (1/rho*A2)*w2\r\n",
        "\r\n",
        "    return [dh1dt, dh2dt]"
      ],
      "execution_count": 5,
      "outputs": []
    },
    {
      "cell_type": "code",
      "metadata": {
        "id": "t36D_1bqqmI3"
      },
      "source": [
        "# establish parameters\r\n",
        "p = [0.1, 1, 1000, 0.5, 0.5]\r\n",
        "\r\n",
        "# establish inputs\r\n",
        "u = [5]\r\n",
        "\r\n",
        "# set initial conditions\r\n",
        "s = [10, 1]"
      ],
      "execution_count": 60,
      "outputs": []
    },
    {
      "cell_type": "code",
      "metadata": {
        "id": "b2eTMOLWrfgt"
      },
      "source": [
        "# set integration time \r\n",
        "time = np.linspace(0,750,100)"
      ],
      "execution_count": 65,
      "outputs": []
    },
    {
      "cell_type": "code",
      "metadata": {
        "id": "kN6pB_e5ryy5"
      },
      "source": [
        "# solve ODEs\r\n",
        "out = odeint(height, s, time, args=(p,u))"
      ],
      "execution_count": 66,
      "outputs": []
    },
    {
      "cell_type": "code",
      "metadata": {
        "id": "52tKNIIBr5Zf"
      },
      "source": [
        "# save results\r\n",
        "h1 = out[:,0]\r\n",
        "h2 = out[:,1]"
      ],
      "execution_count": 67,
      "outputs": []
    },
    {
      "cell_type": "code",
      "metadata": {
        "colab": {
          "base_uri": "https://localhost:8080/",
          "height": 296
        },
        "id": "5iwYfwaPsAz4",
        "outputId": "311741bf-543b-431c-ff24-91ed43444ef6"
      },
      "source": [
        "plt.plot(time, h1, time, h2)\r\n",
        "plt.xlabel(\"Time (min)\")\r\n",
        "plt.ylabel(\"Height (m)\")\r\n",
        "plt.legend([\"h1(t)\", \"h2(t)\"])"
      ],
      "execution_count": 70,
      "outputs": [
        {
          "output_type": "execute_result",
          "data": {
            "text/plain": [
              "<matplotlib.legend.Legend at 0x7fa8efb12b70>"
            ]
          },
          "metadata": {
            "tags": []
          },
          "execution_count": 70
        },
        {
          "output_type": "display_data",
          "data": {
            "image/png": "[encoded data removed]",
            "text/plain": [
              "<Figure size 432x288 with 1 Axes>"
            ]
          },
          "metadata": {
            "tags": [],
            "needs_background": "light"
          }
        }
      ]
    },
    {
      "cell_type": "code",
      "metadata": {
        "id": "kEn4OEjHsOF1"
      },
      "source": [
        "def steady_state(p,u):\r\n",
        "\r\n",
        "    # input\r\n",
        "    w1 = u[0]\r\n",
        "    # parameter\r\n",
        "    R3 = p[1]\r\n",
        "\r\n",
        "    # steady state value\r\n",
        "    h = R3*w1\r\n",
        "\r\n",
        "    return h "
      ],
      "execution_count": 71,
      "outputs": []
    },
    {
      "cell_type": "code",
      "metadata": {
        "colab": {
          "base_uri": "https://localhost:8080/"
        },
        "id": "eCyMch-Jt46B",
        "outputId": "e6e6858c-f577-42be-dc3d-38c4c481f1b0"
      },
      "source": [
        "steady_state(p,u)"
      ],
      "execution_count": 72,
      "outputs": [
        {
          "output_type": "execute_result",
          "data": {
            "text/plain": [
              "5"
            ]
          },
          "metadata": {
            "tags": []
          },
          "execution_count": 72
        }
      ]
    },
    {
      "cell_type": "code",
      "metadata": {
        "id": "dKqavQaIt6vs"
      },
      "source": [
        ""
      ],
      "execution_count": null,
      "outputs": []
    }
  ]
}