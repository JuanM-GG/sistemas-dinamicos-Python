{
  "nbformat": 4,
  "nbformat_minor": 0,
  "metadata": {
    "colab": {
      "name": "Untitled53.ipynb",
      "provenance": [],
      "authorship_tag": "ABX9TyOmaub5W9is+tF5A00UX1iQ",
      "include_colab_link": true
    },
    "kernelspec": {
      "name": "python3",
      "display_name": "Python 3"
    }
  },
  "cells": [
    {
      "cell_type": "markdown",
      "metadata": {
        "id": "view-in-github",
        "colab_type": "text"
      },
      "source": [
        "<a href=\"https://colab.research.google.com/github/JuanM-GG/sistemas-dinamicos-Python/blob/main/EXERCISE_2_6.ipynb\" target=\"_parent\"><img src=\"https://colab.research.google.com/assets/colab-badge.svg\" alt=\"Open In Colab\"/></a>"
      ]
    },
    {
      "cell_type": "markdown",
      "metadata": {
        "id": "YNJ0KwXs5mX0"
      },
      "source": [
        "Title: Exercise 2.6\r\n",
        "\r\n",
        "Name: Juan Manuel\r\n",
        "\r\n",
        "Date: February 2021\r\n"
      ]
    },
    {
      "cell_type": "markdown",
      "metadata": {
        "id": "aidaI-7x50zY"
      },
      "source": [
        "### 1. Process description \r\n",
        "\r\n",
        "A closed stirred-tank reactor with two compartments\r\n",
        "is shown in Fig. 1. The basic idea is to feed the reactants\r\n",
        "continuously into the first compartment, where they will be\r\n",
        "preheated by energy liberated in the exothermic reaction,\r\n",
        "which is anticipated to occur primarily in the second compartment. The wall separating the two compartments is\r\n",
        "quite thin, thus allowing heat transfer; the outside of the\r\n",
        "reactor is well insulated; and a cooling coil is built into\r\n",
        "the second compartment to remove excess energy liberated in\r\n",
        "the reaction. Both tanks are completely full at all times.\r\n",
        "Tests are to be conducted initially with a single-component\r\n",
        "feed (i.e., no reaction) to evaluate the reactor’s thermal\r\n",
        "characteristics"
      ]
    },
    {
      "cell_type": "markdown",
      "metadata": {
        "id": "cMrSy8146L7K"
      },
      "source": [
        "### 2. Assumptions \r\n",
        "\r\n",
        "* Constant density \r\n",
        "\r\n",
        "* Constant Cp\r\n",
        "\r\n",
        "* Constant Volume\r\n",
        "\r\n",
        "* Insulated process \r\n",
        "\r\n",
        "* There is no reaction "
      ]
    },
    {
      "cell_type": "markdown",
      "metadata": {
        "id": "-5kbzjHV6cMO"
      },
      "source": [
        "### 3. Process Scheme\r\n",
        "\r\n",
        "![head.png](data:image/png;base64,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)"
      ]
    },
    {
      "cell_type": "markdown",
      "metadata": {
        "id": "h8SGLvw962ld"
      },
      "source": [
        "Figure 1. Scheme of the process with the two compartments "
      ]
    },
    {
      "cell_type": "markdown",
      "metadata": {
        "id": "ap-BrH4R686j"
      },
      "source": [
        "### 4. Analysis "
      ]
    },
    {
      "cell_type": "markdown",
      "metadata": {
        "id": "fv9XhItC6_Ts"
      },
      "source": [
        "#### Establish the model \r\n",
        "\r\n",
        "Mass balance in the first tank \r\n",
        "\r\n",
        "$$\r\n",
        "\\frac{dm_1}{dt} = \\rho q_i - \\rho q_1\r\n",
        "$$\r\n",
        "\r\n",
        "$$\r\n",
        "\\rho\\frac{dV_1}{dt} = \\rho q_i - \\rho q_1 = 0 \\hspace{1cm} \\rightarrow \\hspace{1cm} q_1 = q_i \r\n",
        "$$\r\n",
        "\r\n",
        "Energy balance in the first tank \r\n",
        "\r\n",
        "$$\r\n",
        "\\frac{dH_1}{dt} = \\rho q_i \\hat{H}_i - \\rho q_1 \\hat{H}_1 + U_t A_t (T_2 - T_1)\r\n",
        "$$\r\n",
        "\r\n",
        "$$\r\n",
        "\\rho V_1 C_p\\frac{dT_1}{dt} = \\rho q_i C_p (T_i - T_1) + U_t A_t (T_2 - T_1) \\tag{1}\r\n",
        "$$\r\n",
        "\r\n",
        "Mass balance in the second tank \r\n",
        "\r\n",
        "$$\r\n",
        "\\frac{dm_2}{dt} = \\rho q_1 - \\rho q_2\r\n",
        "$$\r\n",
        "\r\n",
        "$$\r\n",
        "\\rho\\frac{dV}{dt} = \\rho q_1 - \\rho q_2 = 0 \\hspace{1cm} \\rightarrow \\hspace{1cm} q_1 = q_2\r\n",
        "$$\r\n",
        "\r\n",
        "Energy balance tank 2\r\n",
        "\r\n",
        "$$\r\n",
        "\\frac{dH_2}{dt} = \\rho q_1 \\hat{H}_1 - \\rho q_2 \\hat{H}_2 - U_t A_t (T_2 - T_1) - U_c A_c (T_2 - T_c)\r\n",
        "$$\r\n",
        "\r\n",
        "$$\r\n",
        "\\rho V_2 C_p \\frac{dT_2}{dt} = \\rho q_i C_p (T_1 - T_2) - U_t A_t (T_2 - T_1) - U_c A_c (T_2 - T_c) \\tag{2}\r\n",
        "$$"
      ]
    },
    {
      "cell_type": "markdown",
      "metadata": {
        "id": "aPKLzDnH-ZDp"
      },
      "source": [
        "#### Degrees of freedon analysis\r\n",
        "\r\n",
        "state variables: T1, T1 (2)\r\n",
        "\r\n",
        "equation: 2 DE (2)\r\n",
        "\r\n",
        "degrees of freedon: 2- 2 = 0 \r\n",
        "\r\n",
        "inputs: qi, Ti, Tc\r\n",
        "\r\n",
        "parameters: V1, V2, $\\rho$, Cp, Ut, Uc, At, Ac"
      ]
    },
    {
      "cell_type": "markdown",
      "metadata": {
        "id": "F4b8TkNJ-6BO"
      },
      "source": [
        "#### Simulate the model "
      ]
    },
    {
      "cell_type": "code",
      "metadata": {
        "id": "df5hugPYBMqf"
      },
      "source": [
        "# import libraries\r\n",
        "import numpy as np\r\n",
        "import matplotlib.pyplot as plt\r\n",
        "from scipy.integrate import odeint "
      ],
      "execution_count": 7,
      "outputs": []
    },
    {
      "cell_type": "code",
      "metadata": {
        "id": "1LYGsO435kz1"
      },
      "source": [
        "# write the model \r\n",
        "\r\n",
        "def heater(s,t,u,p):\r\n",
        "\r\n",
        "    # state variables\r\n",
        "    T1 = s[0]\r\n",
        "    T2 = s[1]\r\n",
        "\r\n",
        "    # inputs\r\n",
        "    qi = u[0]\r\n",
        "    Ti = u[1]\r\n",
        "    Tc = u[2]\r\n",
        "\r\n",
        "    # parameters\r\n",
        "    V1 = p[0]\r\n",
        "    V2 = p[1] \r\n",
        "    rho = p[2]\r\n",
        "    Cp = p[3] \r\n",
        "    Ut = p[4] \r\n",
        "    Uc = p[5] \r\n",
        "    At = p[6] \r\n",
        "    Ac = p[7]\r\n",
        "\r\n",
        "    # energy balance in tank 1\r\n",
        "\r\n",
        "    dT1dt = qi/V1*(Ti - T1) + Ut*At/(V1*Cp*rho)*(T2 - T1)\r\n",
        "\r\n",
        "    dT2dt = qi/V2*(T1 - T2) - Ut*At/(V2*Cp*rho)*(T2 - T1) - Uc*Ac/(V2*Cp*rho)*(T2 - Tc)\r\n",
        "\r\n",
        "    return [dT1dt, dT2dt]"
      ],
      "execution_count": 10,
      "outputs": []
    },
    {
      "cell_type": "code",
      "metadata": {
        "id": "WO4HQo4-AKXL"
      },
      "source": [
        "# establish parameters\r\n",
        "V1 = 0.5 # m3\r\n",
        "V2 = 0.6 # m3\r\n",
        "rho = 1000 # kg/m3\r\n",
        "Cp = 4186 # J/(K*kg)\r\n",
        "Ut = 100 # J/(m2 K) \r\n",
        "Uc = 120 # J/(m2 K)\r\n",
        "At = 0.2 # m2\r\n",
        "Ac = 0.1 # m2\r\n",
        "p = [V1, V2, rho, Cp, Ut, Uc, At, Ac]"
      ],
      "execution_count": 64,
      "outputs": []
    },
    {
      "cell_type": "code",
      "metadata": {
        "id": "It23ktaoAwMy"
      },
      "source": [
        "# establish inputs \r\n",
        "qi = 0.5 # m3/min\r\n",
        "Ti = 400 # K\r\n",
        "Tc = 180 # k\r\n",
        "\r\n",
        "u = [qi, Ti, Tc]"
      ],
      "execution_count": 71,
      "outputs": []
    },
    {
      "cell_type": "code",
      "metadata": {
        "id": "ve__znIcBBz3"
      },
      "source": [
        "# establish initial conditions \r\n",
        "s = [300, 300] # K, K"
      ],
      "execution_count": 72,
      "outputs": []
    },
    {
      "cell_type": "code",
      "metadata": {
        "id": "krpyUay5BIr_"
      },
      "source": [
        "# integration time \r\n",
        "time = np.linspace(0, 10, 100)"
      ],
      "execution_count": 73,
      "outputs": []
    },
    {
      "cell_type": "code",
      "metadata": {
        "id": "OA269avTBXzB"
      },
      "source": [
        "out = odeint(heater, s, time, args= (u, p))"
      ],
      "execution_count": 74,
      "outputs": []
    },
    {
      "cell_type": "code",
      "metadata": {
        "id": "9gKmM565Bgyn"
      },
      "source": [
        "T1 = out[:,0]\r\n",
        "T2 = out[:,1]"
      ],
      "execution_count": 75,
      "outputs": []
    },
    {
      "cell_type": "code",
      "metadata": {
        "colab": {
          "base_uri": "https://localhost:8080/",
          "height": 282
        },
        "id": "KAchUnpXBqIh",
        "outputId": "6c95ceca-48f1-4c23-f473-b648a4a37cb6"
      },
      "source": [
        "plt.plot(time, T1, time, T2)\r\n",
        "plt.legend([\"T1\", \"T2\"])"
      ],
      "execution_count": 76,
      "outputs": [
        {
          "output_type": "execute_result",
          "data": {
            "text/plain": [
              "<matplotlib.legend.Legend at 0x7f14a5ce16d8>"
            ]
          },
          "metadata": {
            "tags": []
          },
          "execution_count": 76
        },
        {
          "output_type": "display_data",
          "data": {
            "image/png": "[encoded data removed]",
            "text/plain": [
              "<Figure size 432x288 with 1 Axes>"
            ]
          },
          "metadata": {
            "tags": [],
            "needs_background": "light"
          }
        }
      ]
    },
    {
      "cell_type": "code",
      "metadata": {
        "id": "g5JAvXwmBtg9"
      },
      "source": [
        ""
      ],
      "execution_count": null,
      "outputs": []
    }
  ]
}