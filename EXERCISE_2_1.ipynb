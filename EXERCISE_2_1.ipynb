{
  "nbformat": 4,
  "nbformat_minor": 0,
  "metadata": {
    "colab": {
      "name": "Untitled47.ipynb",
      "provenance": [],
      "authorship_tag": "ABX9TyMTi1+GKeNjvdIOCTTI8NH3",
      "include_colab_link": true
    },
    "kernelspec": {
      "name": "python3",
      "display_name": "Python 3"
    }
  },
  "cells": [
    {
      "cell_type": "markdown",
      "metadata": {
        "id": "view-in-github",
        "colab_type": "text"
      },
      "source": [
        "<a href=\"https://colab.research.google.com/github/JuanM-GG/sistemas-dinamicos-Python/blob/main/EXERCISE_2_1.ipynb\" target=\"_parent\"><img src=\"https://colab.research.google.com/assets/colab-badge.svg\" alt=\"Open In Colab\"/></a>"
      ]
    },
    {
      "cell_type": "markdown",
      "metadata": {
        "id": "T7hjeDUUDEvW"
      },
      "source": [
        "Title: EXERCISE 2.1\r\n",
        "\r\n",
        "Name: Juan Manuel G.G\r\n",
        "\r\n",
        "Date: february 2021"
      ]
    },
    {
      "cell_type": "markdown",
      "metadata": {
        "id": "JcHaV27HC-hB"
      },
      "source": [
        "### 1. Process description \r\n",
        "\r\n",
        "A perfectly stirred, constant-volume tank has two input streams, both consisting of the same liquid. The temperature and ﬂow rate of each of the streams can vary with time"
      ]
    },
    {
      "cell_type": "markdown",
      "metadata": {
        "id": "prFH939lDSA3"
      },
      "source": [
        "### 2. Assumptions \r\n",
        "\r\n",
        "* Constant density \r\n",
        "* Insulated tank \r\n",
        "* Calorific capacity constant "
      ]
    },
    {
      "cell_type": "markdown",
      "metadata": {
        "id": "OvfW4R1xDw1Y"
      },
      "source": [
        "### 3. Process' scheme \r\n",
        "\r\n",
        "![Imagen1.png](data:image/png;base64,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)"
      ]
    },
    {
      "cell_type": "markdown",
      "metadata": {
        "id": "UGdFnP7cEJGv"
      },
      "source": [
        "### 4. Analysis"
      ]
    },
    {
      "cell_type": "markdown",
      "metadata": {
        "id": "cfuDI_ibESPm"
      },
      "source": [
        "#### Establish the model \r\n",
        "\r\n",
        "Mas balance \r\n",
        "\r\n",
        "$$\\frac{d(\\rho V)}{dt} = w_1 + w_2 - w = 0$$\r\n",
        "\r\n",
        "$$\r\n",
        "w_1 + w_2 - w = 0 \\tag{1}\r\n",
        "$$\r\n",
        "\r\n",
        "Energy balance\r\n",
        "\r\n",
        "$$\\frac{dH}{dt} = w_1 \\hat{H}_1 + w_2 \\hat{H}_2 - w \\hat{H}$$\r\n",
        "\r\n",
        "\r\n",
        "$$\\rho \\bar{V}c\\frac{dT}{dt} = w_1 c T_1 + w_2 c T_2 - w c T$$\r\n",
        "\r\n",
        "$$\\rho \\bar{V}\\frac{dT}{dt} = w_1  T_1 + w_2  T_2 - (w_1 + w_2) T$$\r\n",
        "\r\n",
        "$$\r\n",
        "\\rho \\bar{V}\\frac{dT}{dt} = w_1  (T_1 - T) + w_2 ( T_2 - T) \\tag{2}\r\n",
        "$$"
      ]
    },
    {
      "cell_type": "markdown",
      "metadata": {
        "id": "bAFs3i6UFmhL"
      },
      "source": [
        "#### Degrees of freedom analysis\r\n",
        "\r\n",
        "state variables: T (1)\r\n",
        "\r\n",
        "equations: 1 DE (1)\r\n",
        "\r\n",
        "degrees of freedom: 1 - 1 = 0\r\n",
        "\r\n",
        "inputs: w1, w2, w3, T1, T2\r\n",
        "\r\n",
        "paramters: $\\rho$, c"
      ]
    },
    {
      "cell_type": "markdown",
      "metadata": {
        "id": "n6fcJICHGSa1"
      },
      "source": [
        "#### Steady state \r\n",
        "\r\n",
        "Equating (2) to zero we get \r\n",
        "\r\n",
        "$$w_1(T_1 - T) + w_2(T2 - T) = 0$$\r\n",
        "\r\n",
        "$$\r\n",
        "T = \\frac{w_1 T_1 + w_2 T_2}{w_1 + w_2} \\tag{3}\r\n",
        "$$"
      ]
    },
    {
      "cell_type": "code",
      "metadata": {
        "id": "_vFv_dR0Cz_O"
      },
      "source": [
        "import sympy as sp"
      ],
      "execution_count": 1,
      "outputs": []
    },
    {
      "cell_type": "code",
      "metadata": {
        "id": "UOMtgw4pDD8Q"
      },
      "source": [
        "w1, T1, T, w2, T2 = sp.symbols(\"w1, T1, T, w2, T2\")"
      ],
      "execution_count": 2,
      "outputs": []
    },
    {
      "cell_type": "code",
      "metadata": {
        "id": "XFjWbrukHSqG"
      },
      "source": [
        "eq = sp.Eq(w1*(T1 - T) + w2*(T2 - T), 0)"
      ],
      "execution_count": 3,
      "outputs": []
    },
    {
      "cell_type": "code",
      "metadata": {
        "colab": {
          "base_uri": "https://localhost:8080/"
        },
        "id": "ASS44NckHZ4e",
        "outputId": "1d35ffcd-0c1d-4d99-f406-03182ea25ee6"
      },
      "source": [
        "sp.solve(eq, T)"
      ],
      "execution_count": 4,
      "outputs": [
        {
          "output_type": "execute_result",
          "data": {
            "text/plain": [
              "[(T1*w1 + T2*w2)/(w1 + w2)]"
            ]
          },
          "metadata": {
            "tags": []
          },
          "execution_count": 4
        }
      ]
    },
    {
      "cell_type": "markdown",
      "metadata": {
        "id": "0O3k6h0iHiCQ"
      },
      "source": [
        "#### Simulation "
      ]
    },
    {
      "cell_type": "code",
      "metadata": {
        "id": "1svDXpjsHcoB"
      },
      "source": [
        "import numpy as np\r\n",
        "import matplotlib.pyplot as plt\r\n",
        "from scipy.integrate import odeint "
      ],
      "execution_count": 5,
      "outputs": []
    },
    {
      "cell_type": "code",
      "metadata": {
        "id": "pfbcnUzlHvlW"
      },
      "source": [
        "# establish the model \r\n",
        "def tank(s,time,p,u):\r\n",
        "\r\n",
        "    # state variables\r\n",
        "    T = s[0]\r\n",
        "\r\n",
        "    # inputs\r\n",
        "    w1 = u[0]\r\n",
        "    T1 = u[1]\r\n",
        "    w2 = u[2]\r\n",
        "    T2 = u[3]\r\n",
        "\r\n",
        "    # parameters\r\n",
        "    rho = p[0]\r\n",
        "    V = p[1]\r\n",
        "\r\n",
        "    # energy balance \r\n",
        "    dTdt = (1/(rho*V))*(w1*(T1-T) + w2*(T2-T))\r\n",
        "\r\n",
        "    return [dTdt]"
      ],
      "execution_count": 6,
      "outputs": []
    },
    {
      "cell_type": "code",
      "metadata": {
        "id": "CBedWf46Ies1"
      },
      "source": [
        "# establish paramters\r\n",
        "p = [1000, 1] # kg/m3, m3\r\n",
        "\r\n",
        "# establish inputs \r\n",
        "u = [10,220,12,300]\r\n",
        "\r\n",
        "# establish initial conditions \r\n",
        "s = [150]\r\n",
        "\r\n",
        "# set integration time\r\n",
        "time = np.linspace(0,500,100)"
      ],
      "execution_count": 10,
      "outputs": []
    },
    {
      "cell_type": "code",
      "metadata": {
        "id": "cc0Ti6aFJbzR"
      },
      "source": [
        "# solve ODEs\r\n",
        "out = odeint(tank,s,time,args=(p,u))"
      ],
      "execution_count": 11,
      "outputs": []
    },
    {
      "cell_type": "code",
      "metadata": {
        "colab": {
          "base_uri": "https://localhost:8080/",
          "height": 296
        },
        "id": "SDb8WI6QJk-N",
        "outputId": "bf0cc221-c212-406f-d41d-f9ac1f5813c0"
      },
      "source": [
        "plt.plot(time, out)\r\n",
        "plt.xlabel(\"Time (min)\")\r\n",
        "plt.ylabel(\"Temperature (K)\")"
      ],
      "execution_count": 13,
      "outputs": [
        {
          "output_type": "execute_result",
          "data": {
            "text/plain": [
              "Text(0, 0.5, 'Temperature (K)')"
            ]
          },
          "metadata": {
            "tags": []
          },
          "execution_count": 13
        },
        {
          "output_type": "display_data",
          "data": {
            "image/png": "[encoded data removed]",
            "text/plain": [
              "<Figure size 432x288 with 1 Axes>"
            ]
          },
          "metadata": {
            "tags": [],
            "needs_background": "light"
          }
        }
      ]
    },
    {
      "cell_type": "code",
      "metadata": {
        "id": "Lu5fBn4dJo8v"
      },
      "source": [
        "def steady_state(u):\r\n",
        "\r\n",
        "    # inputs\r\n",
        "    w1 = u[0]\r\n",
        "    T1 = u[1]\r\n",
        "    w2 = u[2]\r\n",
        "    T2 = u[3]\r\n",
        "\r\n",
        "    T = (w1*T1 + w2*T2)/(w1+w2)\r\n",
        "\r\n",
        "    return T"
      ],
      "execution_count": 14,
      "outputs": []
    },
    {
      "cell_type": "code",
      "metadata": {
        "colab": {
          "base_uri": "https://localhost:8080/"
        },
        "id": "T-G17RznKLVa",
        "outputId": "949f0299-5920-4943-9001-e752b0532711"
      },
      "source": [
        "steady_state(u)"
      ],
      "execution_count": 15,
      "outputs": [
        {
          "output_type": "execute_result",
          "data": {
            "text/plain": [
              "263.6363636363636"
            ]
          },
          "metadata": {
            "tags": []
          },
          "execution_count": 15
        }
      ]
    }
  ]
}