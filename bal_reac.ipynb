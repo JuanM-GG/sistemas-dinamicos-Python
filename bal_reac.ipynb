{
  "nbformat": 4,
  "nbformat_minor": 0,
  "metadata": {
    "colab": {
      "name": "Untitled9.ipynb",
      "provenance": [],
      "authorship_tag": "ABX9TyMb51hVB7r2JW7eOW+EQlCA",
      "include_colab_link": true
    },
    "kernelspec": {
      "name": "python3",
      "display_name": "Python 3"
    }
  },
  "cells": [
    {
      "cell_type": "markdown",
      "metadata": {
        "id": "view-in-github",
        "colab_type": "text"
      },
      "source": [
        "<a href=\"https://colab.research.google.com/github/JuanM-GG/Control-with-python-/blob/main/bal_reac.ipynb\" target=\"_parent\"><img src=\"https://colab.research.google.com/assets/colab-badge.svg\" alt=\"Open In Colab\"/></a>"
      ]
    },
    {
      "cell_type": "markdown",
      "metadata": {
        "id": "rJ8-8TiO-UFU"
      },
      "source": [
        "Título: Balances en reactor\r\n",
        "\r\n",
        "Nombre: Juan Manuel G.G\r\n",
        "\r\n",
        "Fecha: Diciembre 8, 2020"
      ]
    },
    {
      "cell_type": "markdown",
      "metadata": {
        "id": "cDOCmO9GWLpv"
      },
      "source": [
        "#Ecuaciones de balance"
      ]
    },
    {
      "cell_type": "markdown",
      "metadata": {
        "id": "-PFY2jufWQQ1"
      },
      "source": [
        "En ingeniería, hay cuatro tipos comúnes de ecuaciones de balance que se derivan de principios de conservación; Estas son: balance de masa, momento, energía y especies. A continuación, se muestra la forma general de cada una de ellas. "
      ]
    },
    {
      "cell_type": "markdown",
      "metadata": {
        "id": "62ZGHHYkWnXX"
      },
      "source": [
        "### Balance de masa"
      ]
    },
    {
      "cell_type": "markdown",
      "metadata": {
        "id": "tDYICI0BWt7X"
      },
      "source": [
        "$$\\frac{dm}{dt} = \\frac{d(\\rho V)}{dt} = \\sum \\dot{m}_{ent} - \\sum \\dot{m}_{sal} $$"
      ]
    },
    {
      "cell_type": "markdown",
      "metadata": {
        "id": "sIkQZF0VX0_3"
      },
      "source": [
        "En la ecuación anterior consideramos un volumen de control en el que pueden existir varios flujos de entrada y de salida. El lado izquierdo de la ecuación representa el cambio de masa del sistema en el tiempo, mientras que el lado derecho representa los flujos de entrada y de salidad del sistema. "
      ]
    },
    {
      "cell_type": "markdown",
      "metadata": {
        "id": "ci-TUeV5YnLM"
      },
      "source": [
        "### Balance de especies"
      ]
    },
    {
      "cell_type": "markdown",
      "metadata": {
        "id": "VOxxickIYqAd"
      },
      "source": [
        "Un balance de especies nos permite conocer el cambio de los moles de cada especie en el volumen de control. La acumulación de la especie A, $\\frac{dC_{A}}{dt}$, en el volumen de control se calcula a partir de las tasas de entrada, salida, reacciones de generación y reacciones de consumo en el volumen de control. "
      ]
    },
    {
      "cell_type": "markdown",
      "metadata": {
        "id": "RNPejwatZl3d"
      },
      "source": [
        "$$\\frac{dn_{A}}{dt} = \\sum \\dot{n}_{Aent} - \\sum \\dot{n}_{Asal} + \\sum \\dot{n}_{Agen} - \\sum \\dot{n}_{Acons}$$"
      ]
    },
    {
      "cell_type": "markdown",
      "metadata": {
        "id": "7JPib-OFaBWz"
      },
      "source": [
        "La cantidad molar $n_{A}$ es a menudo medida como concentración, $C_{A}$, y las tasas de reacción, $r_{A}$, como tasas molares de generación por volumen.  "
      ]
    },
    {
      "cell_type": "markdown",
      "metadata": {
        "id": "hLOnu2u2aiX-"
      },
      "source": [
        "$$\\frac{d(C_{A}V)}{dt} = \\sum C_{Ain} \\dot{V}_{in} - \\sum C_{Aout} \\dot{V}_{out} + r_{A} V$$"
      ]
    },
    {
      "cell_type": "markdown",
      "metadata": {
        "id": "CXkBReGZbJ9y"
      },
      "source": [
        "### Balance de momento"
      ]
    },
    {
      "cell_type": "markdown",
      "metadata": {
        "id": "PVH6V_hPbNTB"
      },
      "source": [
        "Un balance de momento se expresa como la acumulación de momento para el volumne de control igualado con la suma de fuerzas $\\sum F$ que actuan sobre el volumen de control. "
      ]
    },
    {
      "cell_type": "markdown",
      "metadata": {
        "id": "B7Xnpz9tbjZA"
      },
      "source": [
        "$$ \\frac{d(mv)}{dt} = \\sum F$$"
      ]
    },
    {
      "cell_type": "markdown",
      "metadata": {
        "id": "d7AfOwFrbtG5"
      },
      "source": [
        "Donde $m$ es la masa del volumen de control y $v$ es la velocidad del volumen de control."
      ]
    },
    {
      "cell_type": "markdown",
      "metadata": {
        "id": "9JO8uLU_b4Ge"
      },
      "source": [
        "### Balance de energía"
      ]
    },
    {
      "cell_type": "markdown",
      "metadata": {
        "id": "yS4yGEj9b-qD"
      },
      "source": [
        "$$ \\frac{dE}{dt} = \\frac{d(U + K + P)}{dt} = \\sum \\dot{m}_{ent} ( \\hat{h}_{ent} + \\frac{v_{ent}^{2}}{2g_{c}} + \\frac{z_{ent} g_{ent}}{g_{c}}) - \\sum \\dot{m}_{sal} ( \\hat{h}_{sal} + \\frac{v_{sal}^{2}}{2g_{c}} + \\frac{z_{sal} g_{sal}}{g_{c}}) + Q + W_{s}$$"
      ]
    },
    {
      "cell_type": "markdown",
      "metadata": {
        "id": "6GhHxXScdd_D"
      },
      "source": [
        "Los términos de energía cinética ($K$) y potencial ($P$) se omiten dado que la energía interna (debida a la temperatura) es, normalmente, una contribución mucho mayor que cualquier cambio de elevación ($z$) o velocidad ($v$) en el fluido para la mayoría de los procesos químicos. "
      ]
    },
    {
      "cell_type": "markdown",
      "metadata": {
        "id": "HAz2WEnQeEPO"
      },
      "source": [
        "$$\\frac{dh}{dt} = \\sum \\dot{m}_{ent} \\hat{h}_{ent} - \\sum \\dot{m}_{sal} \\hat{h}_{sal} + Q + W_{s}$$"
      ]
    },
    {
      "cell_type": "markdown",
      "metadata": {
        "id": "DNpRw5cWedeW"
      },
      "source": [
        "La entalpía, $h$, se relaciona con la temperatura mediante $c_{p}(T - T_{ref})$ donde $c_{p}$ es la capacidad calorífica. Con una temperatura de referencia constante ($T_{ref}$), la expresión se reduce a lo siguiente. "
      ]
    },
    {
      "cell_type": "markdown",
      "metadata": {
        "id": "8mKANTzLe5Rg"
      },
      "source": [
        "$$ m c_{p} \\frac{dT}{dt} = \\sum \\dot{m}_{ent} c_{p} (T_{ent} - T_{ref}) - \\sum \\dot{m}_{sal} c_{p} (T_{sal} - T_{ref}) + Q + W_{s} - \\rho c_{p} T \\frac{dV}{dt} $$"
      ]
    },
    {
      "cell_type": "markdown",
      "metadata": {
        "id": "097eJQBYh8M_"
      },
      "source": [
        "![reactor.png](data:image/png;base64,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)"
      ]
    },
    {
      "cell_type": "markdown",
      "metadata": {
        "id": "D_sR3XTyqj70"
      },
      "source": [
        "Importar librerías"
      ]
    },
    {
      "cell_type": "code",
      "metadata": {
        "id": "09dQ2ycwqjNI"
      },
      "source": [
        "import numpy as np\r\n",
        "import matplotlib.pyplot as plt\r\n",
        "from scipy.integrate import odeint"
      ],
      "execution_count": 1,
      "outputs": []
    },
    {
      "cell_type": "markdown",
      "metadata": {
        "id": "9WefKceXqwVo"
      },
      "source": [
        "Definier modelo"
      ]
    },
    {
      "cell_type": "code",
      "metadata": {
        "id": "5apuODfTqzJX"
      },
      "source": [
        "def vessel(s, t, q, qf, Caf, Tf):\r\n",
        "\r\n",
        "  # Entradas (4)\r\n",
        "  # q -> Flujo volumétrico en la salida (L/min)\r\n",
        "  # qt -> Flujo volumétrico en la entrada (L/min)\r\n",
        "  # Caf -> Concentración en la entrada (mol/L)\r\n",
        "  # Tf -> Temperatura de alimentación (K)\r\n",
        "\r\n",
        "  # Estado (3)\r\n",
        "  # Volumen (L)\r\n",
        "  V = s[0]\r\n",
        "  # Concentración\r\n",
        "  Ca = s[1]\r\n",
        "  # Temperatura\r\n",
        "  T = s[2]\r\n",
        "\r\n",
        "  # Parámetros\r\n",
        "  # Reacción \r\n",
        "  rA = 0.0\r\n",
        "\r\n",
        "  # Balance de masa: Derivada de volumen\r\n",
        "  dVdt = qf - q\r\n",
        "\r\n",
        "  # Balance de especies: Derivada de concentración\r\n",
        "  dCadt = (qf*Caf - q*Ca)/V - rA - (Ca*(qf - q)/V)\r\n",
        "\r\n",
        "  # Balance de energía: Derivada de temperatura\r\n",
        "  # Regla de la cadena: d(V*T)/dt = T*dV/dt + V*dT/dt\r\n",
        "  dTdt = (qf*Tf - q*T)/V - (T*(qf - q)/V)\r\n",
        "\r\n",
        "  return [dVdt, dCadt, dTdt]\r\n"
      ],
      "execution_count": 30,
      "outputs": []
    },
    {
      "cell_type": "markdown",
      "metadata": {
        "id": "3k6U19KpqeYv"
      },
      "source": [
        "Establecer condiciones iniciales"
      ]
    },
    {
      "cell_type": "code",
      "metadata": {
        "id": "MmswGPafsya8"
      },
      "source": [
        "V0 = 1.0\r\n",
        "Ca0 = 0.0\r\n",
        "T0 = 350.0\r\n",
        "s = [V0, Ca0, T0]"
      ],
      "execution_count": 33,
      "outputs": []
    },
    {
      "cell_type": "markdown",
      "metadata": {
        "id": "Fy9GIlqcs-Dz"
      },
      "source": [
        "Intervalo de tiempo (min)"
      ]
    },
    {
      "cell_type": "code",
      "metadata": {
        "id": "48QyI2pXtBS3"
      },
      "source": [
        "t = np.linspace(0,10,100)"
      ],
      "execution_count": 34,
      "outputs": []
    },
    {
      "cell_type": "markdown",
      "metadata": {
        "id": "qhKb9bg8tIRk"
      },
      "source": [
        "Flujo volumétrico en la entrada"
      ]
    },
    {
      "cell_type": "code",
      "metadata": {
        "id": "kg7YIETTtML2"
      },
      "source": [
        "qf = np.ones(len(t))*5.2\r\n",
        "qf[50:] = 5.1"
      ],
      "execution_count": 35,
      "outputs": []
    },
    {
      "cell_type": "markdown",
      "metadata": {
        "id": "sR4mEZ6CtUrr"
      },
      "source": [
        "Flujo volumétrico en la salida (L/min) "
      ]
    },
    {
      "cell_type": "code",
      "metadata": {
        "id": "lj0DTzNQteN4"
      },
      "source": [
        "q = np.ones(len(t))*5.0"
      ],
      "execution_count": 36,
      "outputs": []
    },
    {
      "cell_type": "markdown",
      "metadata": {
        "id": "x7sxJo7qtjdj"
      },
      "source": [
        "Concentración en la alimentación (mol/L)"
      ]
    },
    {
      "cell_type": "code",
      "metadata": {
        "id": "lghjowz0tocb"
      },
      "source": [
        "Caf = np.ones(len(t))*1.0\r\n",
        "Caf[30:] = 0.5"
      ],
      "execution_count": 37,
      "outputs": []
    },
    {
      "cell_type": "markdown",
      "metadata": {
        "id": "_m_Sz-yJtwQ2"
      },
      "source": [
        "Temperatura en la alimentación"
      ]
    },
    {
      "cell_type": "code",
      "metadata": {
        "id": "zY9FTXMat0LN"
      },
      "source": [
        "Tf = np.ones(len(t))*300.0\r\n",
        "Tf[70:] = 325.0"
      ],
      "execution_count": 38,
      "outputs": []
    },
    {
      "cell_type": "markdown",
      "metadata": {
        "id": "NFDolPL-vVgT"
      },
      "source": [
        "Parámetros "
      ]
    },
    {
      "cell_type": "code",
      "metadata": {
        "id": "dHnqdDgzvYDt"
      },
      "source": [
        "rA = 0"
      ],
      "execution_count": 39,
      "outputs": []
    },
    {
      "cell_type": "markdown",
      "metadata": {
        "id": "-UyI_WGdt8OQ"
      },
      "source": [
        "Para guardar los resultados"
      ]
    },
    {
      "cell_type": "code",
      "metadata": {
        "id": "ae6y1rEKuAU2"
      },
      "source": [
        "V = np.ones(len(t))*V0\r\n",
        "Ca = np.ones(len(t))*Ca0\r\n",
        "T = np.ones(len(t))*T0"
      ],
      "execution_count": 40,
      "outputs": []
    },
    {
      "cell_type": "markdown",
      "metadata": {
        "id": "X49RBZ1duMxp"
      },
      "source": [
        "Ciclo a través de cada paso de tiempo"
      ]
    },
    {
      "cell_type": "code",
      "metadata": {
        "id": "IvOjcVECuRu9"
      },
      "source": [
        "for i in range(len(t)-1):\r\n",
        "    # Simular\r\n",
        "    inputs = (q[i],qf[i],Caf[i],Tf[i])\r\n",
        "    ts = [t[i],t[i+1]]\r\n",
        "    out = odeint(vessel,s,ts,args=inputs)\r\n",
        "    # Guardar resultados\r\n",
        "    V[i+1]  = out[-1][0]\r\n",
        "    Ca[i+1] = out[-1][1]\r\n",
        "    T[i+1]  = out[-1][2]\r\n",
        "    # Ajustar condiciones iniciales para el siguiente ciclo\r\n",
        "    s = out[-1]"
      ],
      "execution_count": 41,
      "outputs": []
    },
    {
      "cell_type": "markdown",
      "metadata": {
        "id": "Tlkj3h34xzgr"
      },
      "source": [
        "Construir resultados y guardar archivo con datos"
      ]
    },
    {
      "cell_type": "code",
      "metadata": {
        "id": "cABB84plZn4r"
      },
      "source": [
        "data = np.vstack((t, qf, q, Tf, Caf, V, Ca, T))\r\n",
        "data = data.T\r\n",
        "np.savetxt(\"data.txt\", data, delimiter = \",\")"
      ],
      "execution_count": 42,
      "outputs": []
    },
    {
      "cell_type": "markdown",
      "metadata": {
        "id": "r3QqKhZmyYbO"
      },
      "source": [
        "Graficar entradas y resultados"
      ]
    },
    {
      "cell_type": "code",
      "metadata": {
        "colab": {
          "base_uri": "https://localhost:8080/",
          "height": 265
        },
        "id": "MBvvGA7XyXR3",
        "outputId": "a2831602-e43c-4cc3-dcb8-0d07458609f3"
      },
      "source": [
        "plt.plot(t, qf, \"b--\", linewidth = 3)\r\n",
        "plt.plot(t, q, \"b:\", linewidth = 3)\r\n",
        "plt.ylabel(\"Flow Rates (L/min)\")\r\n",
        "plt.legend([\"Inlet\",\"Outlet\"], loc = \"best\")\r\n",
        "plt.show()"
      ],
      "execution_count": 43,
      "outputs": [
        {
          "output_type": "display_data",
          "data": {
            "image/png": "[encoded data removed]",
            "text/plain": [
              "<Figure size 432x288 with 1 Axes>"
            ]
          },
          "metadata": {
            "tags": [],
            "needs_background": "light"
          }
        }
      ]
    },
    {
      "cell_type": "code",
      "metadata": {
        "colab": {
          "base_uri": "https://localhost:8080/",
          "height": 265
        },
        "id": "NFsyj6VZzodl",
        "outputId": "d4d92c12-22bc-426b-f142-d384799ffc70"
      },
      "source": [
        "plt.plot(t, Caf, \"r--\", linewidth = 3)\r\n",
        "plt.ylabel(\"Caf (mol/L)\")\r\n",
        "plt.legend([\"Feed Concentration\"], loc = \"best\")\r\n",
        "plt.show()"
      ],
      "execution_count": 45,
      "outputs": [
        {
          "output_type": "display_data",
          "data": {
            "image/png": "[encoded data removed]",
            "text/plain": [
              "<Figure size 432x288 with 1 Axes>"
            ]
          },
          "metadata": {
            "tags": [],
            "needs_background": "light"
          }
        }
      ]
    },
    {
      "cell_type": "code",
      "metadata": {
        "colab": {
          "base_uri": "https://localhost:8080/",
          "height": 296
        },
        "id": "dkblKwbe0C9R",
        "outputId": "38579ae9-522a-4bd3-86cc-8da03df410a5"
      },
      "source": [
        "plt.plot(t, Tf, \"k--\", linewidth = 3)\r\n",
        "plt.ylabel(\"Tf (K)\")\r\n",
        "plt.legend([\"Feed Temperature\"], loc = \"best\")\r\n",
        "plt.xlabel(\"Time (min)\")"
      ],
      "execution_count": 46,
      "outputs": [
        {
          "output_type": "execute_result",
          "data": {
            "text/plain": [
              "Text(0.5, 0, 'Time (min)')"
            ]
          },
          "metadata": {
            "tags": []
          },
          "execution_count": 46
        },
        {
          "output_type": "display_data",
          "data": {
            "image/png": "[encoded data removed]",
            "text/plain": [
              "<Figure size 432x288 with 1 Axes>"
            ]
          },
          "metadata": {
            "tags": [],
            "needs_background": "light"
          }
        }
      ]
    },
    {
      "cell_type": "code",
      "metadata": {
        "colab": {
          "base_uri": "https://localhost:8080/",
          "height": 282
        },
        "id": "fXkUTT-h0dl0",
        "outputId": "e43a2812-0fc6-4eb1-8aa2-94772174b422"
      },
      "source": [
        "plt.plot(t, V, \"b-\", linewidth = 3)\r\n",
        "plt.ylabel(\"Volume (L)\")\r\n",
        "plt.legend([\"Volume\"], loc = \"best\")"
      ],
      "execution_count": 47,
      "outputs": [
        {
          "output_type": "execute_result",
          "data": {
            "text/plain": [
              "<matplotlib.legend.Legend at 0x7fe040ca19b0>"
            ]
          },
          "metadata": {
            "tags": []
          },
          "execution_count": 47
        },
        {
          "output_type": "display_data",
          "data": {
            "image/png": "[encoded data removed]",
            "text/plain": [
              "<Figure size 432x288 with 1 Axes>"
            ]
          },
          "metadata": {
            "tags": [],
            "needs_background": "light"
          }
        }
      ]
    },
    {
      "cell_type": "code",
      "metadata": {
        "colab": {
          "base_uri": "https://localhost:8080/",
          "height": 282
        },
        "id": "RWK_Ff8G0vg8",
        "outputId": "7105604a-c3e6-4eff-a920-7f204d6d0935"
      },
      "source": [
        "plt.plot(t, Ca, \"r-\", linewidth = 3)\r\n",
        "plt.ylabel(\"Ca (mol/L)\")\r\n",
        "plt.legend([\"Concentration\"], loc = \"best\")"
      ],
      "execution_count": 48,
      "outputs": [
        {
          "output_type": "execute_result",
          "data": {
            "text/plain": [
              "<matplotlib.legend.Legend at 0x7fe040c0a0b8>"
            ]
          },
          "metadata": {
            "tags": []
          },
          "execution_count": 48
        },
        {
          "output_type": "display_data",
          "data": {
            "image/png": "[encoded data removed]",
            "text/plain": [
              "<Figure size 432x288 with 1 Axes>"
            ]
          },
          "metadata": {
            "tags": [],
            "needs_background": "light"
          }
        }
      ]
    },
    {
      "cell_type": "code",
      "metadata": {
        "colab": {
          "base_uri": "https://localhost:8080/",
          "height": 279
        },
        "id": "rphtKby-zLU8",
        "outputId": "498cf28b-e861-40f1-ef7f-034ddc2202d5"
      },
      "source": [
        "plt.plot(t, T, \"k-\", linewidth = 3)\r\n",
        "plt.ylabel(\"T (K)\")\r\n",
        "plt.legend([\"Temperature\"], loc = \"best\")\r\n",
        "plt.xlabel(\"Time (min)\")\r\n",
        "plt.show()"
      ],
      "execution_count": 44,
      "outputs": [
        {
          "output_type": "display_data",
          "data": {
            "image/png": "[encoded data removed]",
            "text/plain": [
              "<Figure size 432x288 with 1 Axes>"
            ]
          },
          "metadata": {
            "tags": [],
            "needs_background": "light"
          }
        }
      ]
    },
    {
      "cell_type": "code",
      "metadata": {
        "id": "VHuybYQxzkmy"
      },
      "source": [
        ""
      ],
      "execution_count": null,
      "outputs": []
    }
  ]
}