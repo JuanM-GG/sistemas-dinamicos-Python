{
  "nbformat": 4,
  "nbformat_minor": 0,
  "metadata": {
    "colab": {
      "name": "Untitled63.ipynb",
      "provenance": [],
      "authorship_tag": "ABX9TyMsfWGPwN582C6qJriik7XT",
      "include_colab_link": true
    },
    "kernelspec": {
      "name": "python3",
      "display_name": "Python 3"
    }
  },
  "cells": [
    {
      "cell_type": "markdown",
      "metadata": {
        "id": "view-in-github",
        "colab_type": "text"
      },
      "source": [
        "<a href=\"https://colab.research.google.com/github/JuanM-GG/sistemas-dinamicos-Python/blob/main/STIRRED_TANK_HEATERS.ipynb\" target=\"_parent\"><img src=\"https://colab.research.google.com/assets/colab-badge.svg\" alt=\"Open In Colab\"/></a>"
      ]
    },
    {
      "cell_type": "markdown",
      "metadata": {
        "id": "otiM23b8TbUq"
      },
      "source": [
        "Tile: STIRRED TANK HEATERS\r\n",
        "\r\n",
        "Name: Juan Manuel G.G\r\n",
        "\r\n",
        "Date: February 2021"
      ]
    },
    {
      "cell_type": "markdown",
      "metadata": {
        "id": "CvDoCP54TwA3"
      },
      "source": [
        "### Objetives\r\n",
        "\r\n",
        "* Develop the nonlinear dynamic model of a perfectly mixed stirred tank heater\r\n",
        "\r\n",
        "* Find the state-space and transfer funcion form of a linearized tank heater \r\n",
        "\r\n",
        "* Compare the dynamic responses of the nonlinear and linear models\r\n",
        "\r\n",
        "* Use Python for linear and nonlinear simulations \r\n",
        "\r\n",
        "* Analyze phaseplane behavior "
      ]
    },
    {
      "cell_type": "markdown",
      "metadata": {
        "id": "z__ytdtFUPdq"
      },
      "source": [
        "### Introduction \r\n",
        "\r\n",
        "Mixing vessels are used in many chemical processes. Often these mixing vessels are heated, either by a coil or a jacket surrounding the vessel. For example, a mixing vessel may serve as a chemical reactor, where two or more components are reacted to produce one or more products. Often this reaction must occur at a certain temperature to achieve a desired yield. The temperature in the vessel is maintained by varying the flowrate of a fluid through the jacket or coil.\r\n",
        "\r\n",
        "Consider a stirred tank heater as shown in Fig.l, where the tank inlet stream is received from another process unit. The objetive is to raise the temperature of the inlet stream to a desired value. A heat transfer fluid is circulated through a jacket to heat the fluid in the tank"
      ]
    },
    {
      "cell_type": "markdown",
      "metadata": {
        "id": "UIYfW6rSVtJm"
      },
      "source": [
        "## Process scheme \r\n",
        "\r\n",
        "![heater.png](data:image/png;base64,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)"
      ]
    },
    {
      "cell_type": "markdown",
      "metadata": {
        "id": "faD_IHbyV1XC"
      },
      "source": [
        "Figure 1. Tank with a heater jacket "
      ]
    },
    {
      "cell_type": "markdown",
      "metadata": {
        "id": "JgPeN5ppWFeW"
      },
      "source": [
        "### Assumptions \r\n",
        "\r\n",
        "* The volume and liquids are constant with constant density and heat capacity \r\n",
        "\r\n",
        "* Perfect mixing is assumed in both the tank and jacket \r\n",
        "\r\n",
        "* The tank inlet flowrate, jacket flowrate, tank inlet temperature, and jacket inlet temperature may change (these are the inputs)\r\n",
        "\r\n",
        "* The rate of heat transfer from the jacket to the tank is governed by the equation $Q = UA(T_i - T)$, where U is the overall heat transfer coefficient and A is the area for heat transfer"
      ]
    },
    {
      "cell_type": "markdown",
      "metadata": {
        "id": "88C3UVpQW-Qk"
      },
      "source": [
        "|Variables| Subscripts|\r\n",
        "|:---:|:---:|\r\n",
        "| $A$ | area for heat transfer|\r\n",
        "| $C_p$ | heat capacity (energy/mass*temp)|\r\n",
        "| $F$ | volumetric flowrate (volume/time)|\r\n",
        "| $\\rho$ | density (mass/volume)|\r\n",
        "| $T$ | temperature|\r\n",
        "| $t$ | time |\r\n",
        "| $Q$ | rate of heat transfer (energy/time) |\r\n",
        "| $U$ | heat transfer coefficient (energy/time*area*temp)|\r\n",
        "| $V$ | volume |\r\n",
        "| $i$ | inlet |\r\n",
        "| $j$ | jacket |\r\n",
        "| $ji$ | jacket inlet |\r\n",
        "| ref | reference state |\r\n",
        "| $s$ | steady-state|\r\n"
      ]
    },
    {
      "cell_type": "markdown",
      "metadata": {
        "id": "Xm18Rt9UV_B-"
      },
      "source": [
        "### Developing the dynamic model \r\n"
      ]
    },
    {
      "cell_type": "markdown",
      "metadata": {
        "id": "gULytZReYBPI"
      },
      "source": [
        "#### Material balance around tank\r\n",
        "\r\n",
        "The first step is to write a material balance around the tank, assuming constant density\r\n",
        "\r\n",
        "$$\r\n",
        "\\frac{d(V\\rho)}{dt} = F_i \\rho - F \\rho\r\n",
        "$$\r\n",
        "\r\n",
        "Also, assuming constant volume ($dVdt = 0$), we find:\r\n",
        "\r\n",
        "$$F = F_i$$\r\n",
        "\r\n",
        "#### Energy balance around tank \r\n",
        "\r\n",
        "The next step is to write an energy balance around the tank \r\n",
        "\r\n",
        "$$\\text{acumulation} = \\text{in by flow} - \\text{out by flow} + \\text{in by heat transfer} + \\text{work done on system}$$\r\n",
        "\r\n",
        "$$\r\n",
        "\\frac{dTE}{dt} = F \\rho \\bar{TE}_i - F \\rho \\bar{TE} + Q + W_T\r\n",
        "$$\r\n",
        "\r\n",
        "The next step is to neglect the kinetic and petential energy and write the total work done on the system as a combination of the shaft work and the energy added to the system to get the fluid into the tank and the energy that the system performs on the surrounding to force the fluid out\r\n",
        "\r\n",
        "$$\r\n",
        "\\frac{dU}{dt} = F \\rho \\left( \\bar{U}_i + \\frac{P_i}{\\rho_i} \\right) -F \\rho \\left( \\bar{U} + \\frac{P}{\\rho} \\right) + Q + W_s\r\n",
        "$$\r\n",
        "\r\n",
        "since $H = U + PV$, we can rewrite the energy balance as: \r\n",
        "\r\n",
        "$$\r\n",
        "\\frac{dH}{dt} - \\frac{d(PV)}{dt} = F \\rho \\bar{H}_i - F \\rho \\bar{H} + Q + W_s\r\n",
        "$$\r\n",
        "\r\n",
        "Note that $d(PV)/dt = VdPdt + PdVdt$, and the volume is constant. Also, the mean pressure change can be neglected since the density is constant:\r\n",
        "\r\n",
        "$$\r\n",
        "\\frac{dH}{dt} = F \\rho \\bar{H}_i - F \\rho \\bar{H} + Q + W_s\r\n",
        "$$\r\n",
        "\r\n",
        "Neglecting the work done by the mixing impeller, and assuming single phase and a constant heat capacity, we find: \r\n",
        "\r\n",
        "$$\r\n",
        "V \\rho C_p \\frac{dT}{dt} = F \\rho C_p (T_i - T) + Q\r\n",
        "$$\r\n",
        "\r\n",
        "We must also perform a material and energy balance around the jacket and use the conecting relationship for heat transfer between the jacket and the tank \r\n",
        "\r\n",
        "#### Materia balance around the jacket\r\n",
        "\r\n",
        "The material balance around the jacket is (assuming constant density):\r\n",
        "\r\n",
        "$$\r\n",
        "\\frac{d(V_j \\rho_j)}{dt} = F_{ji} \\rho_j - F_j \\rho_j\r\n",
        "$$\r\n",
        "\r\n",
        "assuming constant volume ($dV/dt = 0$), we find:\r\n",
        "\r\n",
        "$$F_j = F_{ji}$$\r\n",
        "\r\n",
        "#### Energy balance around the jacket \r\n",
        "\r\n",
        "Next, we write an energy balance around the jacket. Making the same assumptions as around the tank:\r\n",
        "\r\n",
        "$$\r\n",
        "\\frac{dT_j}{dt} = \\frac{F_j}{dt} \\left( T_{ji} - T \\right) + \\frac{Q}{V_j \\rho_j C_{pj}}\r\n",
        "$$\r\n",
        "\r\n",
        "We also have the relationship for heat transfer from the jacket to the tank:\r\n",
        "\r\n",
        "$$Q = UA(T_j - T)$$\r\n",
        "\r\n",
        "The two modeling equations for this system are: \r\n",
        "\r\n",
        "$$\r\n",
        "\\frac{dT}{dt} = \\frac{F}{V} \\left( T_i - T \\right) + \\frac{UA(T_j - T)}{V \\rho C_p} \\tag{1}\r\n",
        "$$\\\\\r\n",
        "\r\n",
        "$$\r\n",
        "\\frac{dT_j}{dt} = \\frac{F_j}{V_j} \\left( T_{ji} - T_j \\right) - \\frac{UA(T_j - T)}{V_j \\rho_j C_{pj}} \\tag{2}\r\n",
        "$$\r\n",
        "\r\n"
      ]
    },
    {
      "cell_type": "markdown",
      "metadata": {
        "id": "VwV14D1Rea-X"
      },
      "source": [
        "### Steady state \r\n",
        "\r\n",
        "Before linearizing the nonlinear model to find the state-space form, we must find the state variable values at steady-slale. The steady-state is obtained by solving the dynamic equations for dxdt = 0. "
      ]
    },
    {
      "cell_type": "code",
      "metadata": {
        "id": "-u3EshUbTaLu"
      },
      "source": [
        "import sympy as sp "
      ],
      "execution_count": 6,
      "outputs": []
    },
    {
      "cell_type": "code",
      "metadata": {
        "id": "SriX8hT6ee39"
      },
      "source": [
        "F, Cprho, Ti, T, UA, Tj, Fj, Cpjrhoj, Tji, Tj = sp.symbols(\"F, Cprho, Ti, T, UA, Tj, Fj, Cpjrhoj, Tji, Tj\") "
      ],
      "execution_count": 7,
      "outputs": []
    },
    {
      "cell_type": "code",
      "metadata": {
        "id": "FxDTOmy6esOh"
      },
      "source": [
        "eq1 = sp.Eq(F*Cprho*(Ti - T) + UA*(Tj - T), 0)\r\n",
        "eq2 = sp.Eq(Fj*Cpjrhoj*(Tji - Tj) - UA*(Tj - T), 0)"
      ],
      "execution_count": 8,
      "outputs": []
    },
    {
      "cell_type": "code",
      "metadata": {
        "colab": {
          "base_uri": "https://localhost:8080/"
        },
        "id": "z6qjRxf3e3EO",
        "outputId": "acef113b-4225-4ce0-8d79-f12d1b707476"
      },
      "source": [
        "sp.solve([eq1,eq2],[T,Tj])"
      ],
      "execution_count": 9,
      "outputs": [
        {
          "output_type": "execute_result",
          "data": {
            "text/plain": [
              "{T: -(Cpjrhoj*Fj*Tji*UA + Cprho*F*Ti*(Cpjrhoj*Fj + UA))/(UA**2 - (Cpjrhoj*Fj + UA)*(Cprho*F + UA)),\n",
              " Tj: -(Cpjrhoj*Fj*Tji*(Cprho*F + UA) + Cprho*F*Ti*UA)/(UA**2 - (Cpjrhoj*Fj + UA)*(Cprho*F + UA))}"
            ]
          },
          "metadata": {
            "tags": []
          },
          "execution_count": 9
        }
      ]
    },
    {
      "cell_type": "markdown",
      "metadata": {
        "id": "eJrVuKnsgAjs"
      },
      "source": [
        "So, the steady state is:\r\n",
        "\r\n",
        "$$\r\n",
        "T_{ss} =  \\frac{C_p F T_i \\rho (C_{pj}F_j \\rho_j + UA) + C_{pj}F_j T_{ji} UA \\rho_j}{(C_p F \\rho + UA)(C_{pj} F_j \\rho_j + UA) - (UA)^2} \\tag{3}\r\n",
        "$$\\\r\n",
        "\r\n",
        "$$\r\n",
        "T_{jss} =  \\frac{C_p F T_i UA \\rho + C_{pj}F_j T_{ji} \\rho_j (C_p F \\rho + UA) }{(C_p F \\rho + UA)(C_{pj} F_j \\rho_j + UA) - (UA)^2} \\tag{4}\r\n",
        "$$"
      ]
    },
    {
      "cell_type": "code",
      "metadata": {
        "id": "QaZu8YAFfBbg"
      },
      "source": [
        "def steady_state():\r\n",
        "\r\n",
        "    Tss = (Cprhoss*Fss*Tiss*(Cpjrhojss*Fjss + UAss) + Cpjrhojss*Fjss*Tjiss*UAss)/((Cprhoss*Fss + UAss)*(Cpjrhojss*Fjss + UAss)-UAss**2)\r\n",
        "\r\n",
        "    Tjss = (Cprhoss*Fss*Tiss*UAss + Cpjrhojss*Fjss*Tjiss*(Cprhoss*Fss + UAss))/((Cprhoss*Fss + UAss)*(Cpjrhojss*Fjss + UAss)-UAss**2)\r\n",
        "    \r\n",
        "    return [Tss, Tjss]"
      ],
      "execution_count": 10,
      "outputs": []
    },
    {
      "cell_type": "code",
      "metadata": {
        "id": "HjEafbffmOU0"
      },
      "source": [
        "# nominal value for inputs\r\n",
        "Fss = 1\r\n",
        "Fjss = 1.5 \r\n",
        "Tiss =50 \r\n",
        "Tjiss = 200 \r\n",
        "\r\n",
        "# nominal value for parameters\r\n",
        "Cprhoss = 61.3 \r\n",
        "Cpjrhojss = 61.3 \r\n",
        "UAss = 183.9\r\n",
        "Vss = 10\r\n",
        "Vjss = 1"
      ],
      "execution_count": 11,
      "outputs": []
    },
    {
      "cell_type": "code",
      "metadata": {
        "colab": {
          "base_uri": "https://localhost:8080/"
        },
        "id": "69kyAxuHmfRz",
        "outputId": "d64b2909-66a8-419d-ea56-7d5c495ca5ce"
      },
      "source": [
        "Tss, Tjss = steady_state()\r\n",
        "print(\"Tss = \", Tss, \"°F\")\r\n",
        "print(\"Tjss = \", Tjss, \"°F\")"
      ],
      "execution_count": 12,
      "outputs": [
        {
          "output_type": "stream",
          "text": [
            "Tss =  125.0 °F\n",
            "Tjss =  149.99999999999997 °F\n"
          ],
          "name": "stdout"
        }
      ]
    },
    {
      "cell_type": "markdown",
      "metadata": {
        "id": "r_0nXwbvnEmi"
      },
      "source": [
        "### State-space model \r\n",
        "\r\n",
        "Here we linearize the nonlinear modeling equations to find the state-space form: \r\n",
        "\r\n",
        "$$\r\n",
        "\\mathbf{\\dot{x} = A x + Bu} \r\n",
        "$$\r\n",
        "\r\n",
        "$$\r\n",
        "\\mathbf{y = Cx}\r\n",
        "$$\r\n"
      ]
    },
    {
      "cell_type": "markdown",
      "metadata": {
        "id": "1GnR_rrEpTkA"
      },
      "source": [
        "$$\r\n",
        "\\frac{dT}{dt} = -0.4(T-T_{ss}) + 0.3(T_j - T_{jss}) -7.5(F - F_{ss}) + 0.1(T_i - T_{iss}) \\tag{5}\r\n",
        "$$\r\n",
        "\r\n",
        "$$\r\n",
        "\\frac{dT_j}{dt} = 3(T-T_{ss}) -4.5(T_j - T_{jss}) + 50(F_j - F_{jss}) + 1.5(T_{ji} - T_{jiss}) \\tag{6}\r\n",
        "$$"
      ]
    },
    {
      "cell_type": "markdown",
      "metadata": {
        "id": "VCxfuB3qqzFf"
      },
      "source": [
        "### Step responses: Linear versus nonlinear models \r\n",
        "\r\n",
        "In this section we will compare the step responses of the nonlinear model with those predicted by the linearized model"
      ]
    },
    {
      "cell_type": "code",
      "metadata": {
        "id": "xFqIrOcXmklt"
      },
      "source": [
        "import numpy as np\r\n",
        "import matplotlib.pyplot as plt\r\n",
        "from scipy.integrate import odeint"
      ],
      "execution_count": 13,
      "outputs": []
    },
    {
      "cell_type": "code",
      "metadata": {
        "id": "ime5pRoOojsL"
      },
      "source": [
        "# write the two model \r\n",
        "def heater(s,t,u):\r\n",
        "\r\n",
        "    # state variables \r\n",
        "    ## nonlinear model \r\n",
        "    T = s[0]\r\n",
        "    Tj = s[1]\r\n",
        "    ## linear model \r\n",
        "    Tl = s[2]\r\n",
        "    Tlj = s[3]\r\n",
        "\r\n",
        "    # inputs \r\n",
        "    F = u[0]\r\n",
        "    Fj = u[1]\r\n",
        "    Ti = u[2]\r\n",
        "    Tji = u[3]\r\n",
        "\r\n",
        "    # nonliar model\r\n",
        "    # heat flow rate\r\n",
        "    Q = UAss*(Tj - T)\r\n",
        "    ## energy balance in the tank\r\n",
        "    dTdt = F/Vss*(Ti - T) + Q/(Cprhoss*Vss)\r\n",
        "    ## energy balance in the jacket \r\n",
        "    dTjdt = Fj/Vjss*(Tji - Tj) - Q/(Cpjrhojss*Vjss)\r\n",
        "\r\n",
        "    # linear model \r\n",
        "    ## energy balance in the tank\r\n",
        "    dTldt = -0.4*(Tl-Tss) + 0.3*(Tlj - Tjss) - 7.5*(F - Fss) + 0.1*(Ti - Tiss)\r\n",
        "    ## energy balance in the jacket\r\n",
        "    dTljdt = 3*(Tl - Tss) -4.5*(Tlj - Tjss) + 50*(Fj - Fjss) + 1.5*(Tji - Tjiss)\r\n",
        "\r\n",
        "    return [dTdt, dTjdt, dTldt, dTljdt]"
      ],
      "execution_count": 19,
      "outputs": []
    },
    {
      "cell_type": "code",
      "metadata": {
        "id": "gTwYqZBpun6O"
      },
      "source": [
        "# integration time \r\n",
        "time = np.linspace(0,0.5,100)"
      ],
      "execution_count": 102,
      "outputs": []
    },
    {
      "cell_type": "code",
      "metadata": {
        "id": "8TZHRHzFu1SP"
      },
      "source": [
        "# inputs \r\n",
        "F = np.ones(len(time))*Fss\r\n",
        "Fj = np.ones(len(time))*Fjss #+ 0.1\r\n",
        "Ti = np.ones(len(time))*Tiss\r\n",
        "Tji = np.ones(len(time))*Tjiss"
      ],
      "execution_count": 103,
      "outputs": []
    },
    {
      "cell_type": "code",
      "metadata": {
        "id": "OCt_fxKwvjCl"
      },
      "source": [
        "# vectors to save states \r\n",
        "T = np.ones(len(time))*Tss\r\n",
        "Tj = np.ones(len(time))*Tjss\r\n",
        "Tl = np.ones(len(time))*Tss\r\n",
        "Tlj = np.ones(len(time))*Tjss"
      ],
      "execution_count": 104,
      "outputs": []
    },
    {
      "cell_type": "code",
      "metadata": {
        "id": "UDSy1IVHuupN"
      },
      "source": [
        "# initial conditions \r\n",
        "s = [Tss, Tjss, Tss, Tjss]\r\n",
        "\r\n",
        "# simulate with different inputs \r\n",
        "for i in range(len(time)-1):\r\n",
        "\r\n",
        "    ts = [time[i], time[i+1]]\r\n",
        "\r\n",
        "    u = [F[i+1], Fj[i+1], Ti[i+1], Tji[i+1]]\r\n",
        "\r\n",
        "    # solve ODEs\r\n",
        "    out = odeint(heater, s, time, args=(u,))\r\n",
        "\r\n",
        "    # save states \r\n",
        "    T[i+1] = out[-1][0]\r\n",
        "    Tj[i+1] = out[-1][1]\r\n",
        "    Tl[i+1] = out[-1][2]\r\n",
        "    Tlj[i+1] = out[-1][3]\r\n",
        "\r\n",
        "    # update initial condition \r\n",
        "    s = out[-1]"
      ],
      "execution_count": 105,
      "outputs": []
    },
    {
      "cell_type": "code",
      "metadata": {
        "colab": {
          "base_uri": "https://localhost:8080/",
          "height": 405
        },
        "id": "T_TDtz_UwBYn",
        "outputId": "ee6c8d31-d0a9-4e49-ccc9-6fdf018069bf"
      },
      "source": [
        "plt.figure(figsize=(13,6))\r\n",
        "plt.subplot(1,2,1)\r\n",
        "plt.plot(time, T, time, Tl)\r\n",
        "plt.xlabel(\"Time (min)\")\r\n",
        "plt.ylabel(\"Tank Temperature (°F)\")\r\n",
        "plt.legend([\"nonlinear\",\"linear\"])\r\n",
        "plt.subplot(1,2,2)\r\n",
        "plt.plot(time, Tj, time, Tlj)\r\n",
        "plt.xlabel(\"Time (min)\")\r\n",
        "plt.ylabel(\"Jacket Temperature (°F)\")\r\n",
        "plt.legend([\"nonlinear\",\"linear\"])"
      ],
      "execution_count": 106,
      "outputs": [
        {
          "output_type": "execute_result",
          "data": {
            "text/plain": [
              "<matplotlib.legend.Legend at 0x7f940760aac8>"
            ]
          },
          "metadata": {
            "tags": []
          },
          "execution_count": 106
        },
        {
          "output_type": "display_data",
          "data": {
            "image/png": "[encoded data removed]",
            "text/plain": [
              "<Figure size 936x432 with 2 Axes>"
            ]
          },
          "metadata": {
            "tags": [],
            "needs_background": "light"
          }
        }
      ]
    },
    {
      "cell_type": "markdown",
      "metadata": {
        "id": "dXqz_sQbW2hd"
      },
      "source": [
        "The gain (change in output/change in input) of the linear model is greater than the gain of the nonlinear model when the step in Fj is positive. But the gain of the linear model is smaller than the gain of the nonlinear model when the step is negative"
      ]
    },
    {
      "cell_type": "markdown",
      "metadata": {
        "id": "wBqY9eh1b1fC"
      },
      "source": [
        "### Unforced system responses: Perturbations in initial conditions \r\n",
        "\r\n",
        "The eigenvalues of the matrix A in the state-space model provide information about stability and the relative speed of response. The eigenvectors provide information about the directional dependence of the speed of response. Recall that a positive eigenvalue is unstable, while a negative eigenvalue is stable. A large magnitud eigenvalue is \"faster\" than a small magnitude eigenvalue. "
      ]
    },
    {
      "cell_type": "code",
      "metadata": {
        "id": "zJi7iXLxwRKK"
      },
      "source": [
        "A = np.matrix([[-0.4, 0.3], [3, -4.5]])"
      ],
      "execution_count": 107,
      "outputs": []
    },
    {
      "cell_type": "code",
      "metadata": {
        "id": "lqLsKdEZcnt7"
      },
      "source": [
        "eigenval, eigenvec = np.linalg.eig(A)"
      ],
      "execution_count": 108,
      "outputs": []
    },
    {
      "cell_type": "code",
      "metadata": {
        "colab": {
          "base_uri": "https://localhost:8080/"
        },
        "id": "JdqlgKLRc9H3",
        "outputId": "9eb76707-b818-422c-9248-929201e53256"
      },
      "source": [
        "print(\"eigenvalues:\", eigenval)"
      ],
      "execution_count": 109,
      "outputs": [
        {
          "output_type": "stream",
          "text": [
            "eigenvalues: [-0.1911286 -4.7088714]\n"
          ],
          "name": "stdout"
        }
      ]
    },
    {
      "cell_type": "code",
      "metadata": {
        "colab": {
          "base_uri": "https://localhost:8080/"
        },
        "id": "yd4QTUbedVaJ",
        "outputId": "bd58f48b-b5f9-49b9-a7b9-a6c7546b8de3"
      },
      "source": [
        "print(\"eigenvectors:\")\r\n",
        "print(eigenvec)"
      ],
      "execution_count": 110,
      "outputs": [
        {
          "output_type": "stream",
          "text": [
            "eigenvectors:\n",
            "[[ 0.82067976 -0.06945566]\n",
            " [ 0.57138843  0.99758504]]\n"
          ],
          "name": "stdout"
        }
      ]
    },
    {
      "cell_type": "code",
      "metadata": {
        "id": "aWzrlCPodXKj"
      },
      "source": [
        "s1 = [129.1035, 152.857, 129.1035, 152.857] # stady state + 5*v1\r\n",
        "s2 = [124.6525, 154.988, 124.6525, 154.988] # stady state + 5*v2"
      ],
      "execution_count": 113,
      "outputs": []
    },
    {
      "cell_type": "code",
      "metadata": {
        "id": "1kwTIcRgfXok"
      },
      "source": [
        "# vectors to save states \r\n",
        "# vectors to s1\r\n",
        "#T = np.ones(len(time))*129.1035\r\n",
        "#Tj = np.ones(len(time))*152.857\r\n",
        "#Tl = np.ones(len(time))*129.1035\r\n",
        "#Tlj = np.ones(len(time))*152.857\r\n",
        "# vectors to s2\r\n",
        "T = np.ones(len(time))*124.6525\r\n",
        "Tj = np.ones(len(time))*154.988\r\n",
        "Tl = np.ones(len(time))*124.6525\r\n",
        "Tlj = np.ones(len(time))*154.988"
      ],
      "execution_count": 119,
      "outputs": []
    },
    {
      "cell_type": "code",
      "metadata": {
        "id": "w9TGVcQ7d-5O"
      },
      "source": [
        "# initial conditions \r\n",
        "s = s2\r\n",
        "# s = s2\r\n",
        "# simulate with different inputs \r\n",
        "for i in range(len(time)-1):\r\n",
        "\r\n",
        "    ts = [time[i], time[i+1]]\r\n",
        "\r\n",
        "    u = [F[i+1], Fj[i+1], Ti[i+1], Tji[i+1]]\r\n",
        "\r\n",
        "    # solve ODEs\r\n",
        "    out = odeint(heater, s, time, args=(u,))\r\n",
        "\r\n",
        "    # save states \r\n",
        "    T[i+1] = out[-1][0]\r\n",
        "    Tj[i+1] = out[-1][1]\r\n",
        "    Tl[i+1] = out[-1][2]\r\n",
        "    Tlj[i+1] = out[-1][3]\r\n",
        "\r\n",
        "    # update initial condition \r\n",
        "    s = out[-1]"
      ],
      "execution_count": 120,
      "outputs": []
    },
    {
      "cell_type": "code",
      "metadata": {
        "colab": {
          "base_uri": "https://localhost:8080/",
          "height": 405
        },
        "cellView": "form",
        "id": "Jp2aD2b5eLcA",
        "outputId": "cc0ca3ed-1255-4628-8b4d-072c3162354f"
      },
      "source": [
        "#@title show results\r\n",
        "plt.figure(figsize=(13,6))\r\n",
        "plt.subplot(1,2,1)\r\n",
        "plt.plot(time, T, time, Tl)\r\n",
        "plt.xlabel(\"Time (min)\")\r\n",
        "plt.ylabel(\"Tank Temperature (°F)\")\r\n",
        "plt.legend([\"nonlinear\",\"linear\"])\r\n",
        "plt.subplot(1,2,2)\r\n",
        "plt.plot(time, Tj, time, Tlj)\r\n",
        "plt.xlabel(\"Time (min)\")\r\n",
        "plt.ylabel(\"Jacket Temperature (°F)\")\r\n",
        "plt.legend([\"nonlinear\",\"linear\"])"
      ],
      "execution_count": 121,
      "outputs": [
        {
          "output_type": "execute_result",
          "data": {
            "text/plain": [
              "<matplotlib.legend.Legend at 0x7f94073229e8>"
            ]
          },
          "metadata": {
            "tags": []
          },
          "execution_count": 121
        },
        {
          "output_type": "display_data",
          "data": {
            "image/png": "[encoded data removed]",
            "text/plain": [
              "<Figure size 936x432 with 2 Axes>"
            ]
          },
          "metadata": {
            "tags": [],
            "needs_background": "light"
          }
        }
      ]
    },
    {
      "cell_type": "markdown",
      "metadata": {
        "id": "v3QzLHV0gEAz"
      },
      "source": [
        "We can see that there is a strong dependence on the initial condition (direction) to determine how fast the steady state is reached"
      ]
    },
    {
      "cell_type": "markdown",
      "metadata": {
        "id": "rlQe2xlBjqEs"
      },
      "source": [
        "### Phase-Plane Behavior\r\n",
        "\r\n",
        "![plane.png](data:image/png;base64,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)"
      ]
    },
    {
      "cell_type": "code",
      "metadata": {
        "id": "RcdgHAl3ey8J"
      },
      "source": [
        ""
      ],
      "execution_count": null,
      "outputs": []
    }
  ]
}