{
  "nbformat": 4,
  "nbformat_minor": 0,
  "metadata": {
    "colab": {
      "name": "Untitled54.ipynb",
      "provenance": [],
      "authorship_tag": "ABX9TyN5Tbyl/TfxUmxXMlZGSleY",
      "include_colab_link": true
    },
    "kernelspec": {
      "name": "python3",
      "display_name": "Python 3"
    }
  },
  "cells": [
    {
      "cell_type": "markdown",
      "metadata": {
        "id": "view-in-github",
        "colab_type": "text"
      },
      "source": [
        "<a href=\"https://colab.research.google.com/github/JuanM-GG/sistemas-dinamicos-Python/blob/main/EXERCISE_2_8.ipynb\" target=\"_parent\"><img src=\"https://colab.research.google.com/assets/colab-badge.svg\" alt=\"Open In Colab\"/></a>"
      ]
    },
    {
      "cell_type": "markdown",
      "metadata": {
        "id": "Zerei6iHoFez"
      },
      "source": [
        "Title: Exercise 2.8\r\n",
        "\r\n",
        "Name: Juan Manuel G.G\r\n",
        "\r\n",
        "Date: February 2021"
      ]
    },
    {
      "cell_type": "markdown",
      "metadata": {
        "id": "Qz6KS9yKoO-0"
      },
      "source": [
        "### 1. Process description \r\n",
        "\r\n",
        "A jacketed vessel is used to cool a process stream as\r\n",
        "shown in Fig. 1. The following information is\r\n",
        "available:"
      ]
    },
    {
      "cell_type": "markdown",
      "metadata": {
        "id": "934i5J-3oXXV"
      },
      "source": [
        "### 2. Assumptions\r\n",
        "\r\n",
        "*(i)* The volume of the liquid in the tank V and the volume of coolant in the jacket $V_J$ remain constant. Volumetric flow rate $q_F$ is constant, but $q_J$ varies with time. \r\n",
        "\r\n",
        "*(ii)* Heat losses from the jacketed vessel are negligible\r\n",
        "\r\n",
        "*(iii)*  Both the tank contents and the jacket contents are well mixed and have significant thermal capacitances\r\n",
        "\r\n",
        "*(iv)* The overall heat transfer coefficient for transfer between the tank liquid and the coolant varies with coolant flow rate:\r\n",
        "\r\n",
        "$$U = K q_J^{0.8}$$\r\n",
        "\r\n",
        "*(v)* Constant liquid and cooler densities\r\n",
        "\r\n",
        "*(vi)* Constant liquid and cooler specific heat coefficient \r\n",
        "\r\n",
        "where \r\n",
        "\r\n",
        "$U[=] Btu/h ft^2 °F$\r\n",
        "\r\n",
        "$q_J [=] ft^3/h$\r\n",
        "\r\n",
        "$K = constant$\r\n"
      ]
    },
    {
      "cell_type": "markdown",
      "metadata": {
        "id": "LbCXIE6nppOf"
      },
      "source": [
        "### 3. Process scheme \r\n",
        "\r\n",
        "![heat2.png](data:image/png;base64,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)"
      ]
    },
    {
      "cell_type": "markdown",
      "metadata": {
        "id": "jG0-eUbLp62O"
      },
      "source": [
        "Figure 1. Scheme of the process "
      ]
    },
    {
      "cell_type": "markdown",
      "metadata": {
        "id": "SDVeYozQp91e"
      },
      "source": [
        "### 4. Analysis \r\n",
        "\r\n"
      ]
    },
    {
      "cell_type": "markdown",
      "metadata": {
        "id": "haZtDYquqEpW"
      },
      "source": [
        "#### Establish the model \r\n",
        "\r\n",
        "Mass balance in the tank\r\n",
        "\r\n",
        "$$\r\n",
        "\\frac{dm}{dt} = \\rho q_F - \\rho q = 0 \\hspace{1cm} \\rightarrow \\hspace{1cm} q_F = q\r\n",
        "$$\r\n",
        "\r\n",
        "Energy balance in the tank \r\n",
        "\r\n",
        "$$\r\n",
        "\\frac{dH}{dt} = \\rho q \\hat{H}_F - \\rho q \\hat{H} - UA(T - T_J)\r\n",
        "$$\r\n",
        "\r\n",
        "$$\r\n",
        "\\rho V C_p \\frac{dT}{dt} = \\rho q C_p (T_F - T) - k q_J^{0.8} A(T - T_J) \\tag{1}\r\n",
        "$$\r\n",
        "\r\n",
        "Energy balance for coolant\r\n",
        "\r\n",
        "$$\r\n",
        "\\frac{dH_J}{dt} = \\rho_c q_J \\hat{H}_i - \\rho_c q_J \\hat{H}_J + UA(T - T_J)  \r\n",
        "$$\r\n",
        "\r\n",
        "$$\r\n",
        "\\rho_c C_c V_c \\frac{dT_J}{dt} = \\rho_c q_J C_c (T_i - T_J) + k q_J ^{0.8}A(T - T_J)  \\tag{2}\r\n",
        "$$\r\n"
      ]
    },
    {
      "cell_type": "markdown",
      "metadata": {
        "id": "jR_JtLaQr0q_"
      },
      "source": [
        "#### Steady state \r\n",
        "\r\n",
        "Equation (1) and (2) to zero we get \r\n",
        "\r\n",
        "$$\r\n",
        "\\rho q C_p (T_F - T) - k q_J^{0.8} A(T - T_J) = 0 \\tag{3}\r\n",
        "$$\r\n",
        "\r\n",
        "$$\r\n",
        "\\rho_c q_J C_c (T_i - T_J) + k q_J ^{0.8}A(T - T_J) = 0 \\tag{4}\r\n",
        "$$"
      ]
    },
    {
      "cell_type": "code",
      "metadata": {
        "id": "Sl1vD-WWDOiG"
      },
      "source": [
        "import sympy as sp "
      ],
      "execution_count": null,
      "outputs": []
    },
    {
      "cell_type": "code",
      "metadata": {
        "id": "xsNHsY5VsSIy"
      },
      "source": [
        "# crear símbolos \r\n",
        "rho, q, Cp, Tf, T, k, qj, A, Tj, rho_c, Cc, Ti, UA = sp.symbols(\"rho, q, Cp, Tf, T, k, qj, A, Tj, rho_c, Cc, Ti, UA\")"
      ],
      "execution_count": null,
      "outputs": []
    },
    {
      "cell_type": "code",
      "metadata": {
        "id": "rDK3hWKVsoMB"
      },
      "source": [
        "# create equations \r\n",
        "eq1 = sp. Eq(rho*q*Cp*(Tf-T) - UA*(T-Tj), 0)\r\n",
        "eq2 = sp. Eq(rho_c*qj*Cc*(Ti-Tj) + UA*(T-Tj), 0)"
      ],
      "execution_count": null,
      "outputs": []
    },
    {
      "cell_type": "code",
      "metadata": {
        "colab": {
          "base_uri": "https://localhost:8080/"
        },
        "id": "wXrfWuACs6pT",
        "outputId": "6791ddc0-8ee0-43ab-a45b-4364f594c517"
      },
      "source": [
        "sp.solve([eq1,eq2],[T, Tj])"
      ],
      "execution_count": null,
      "outputs": [
        {
          "output_type": "execute_result",
          "data": {
            "text/plain": [
              "{T: -(Cc*Ti*UA*qj*rho_c + Cp*Tf*q*rho*(Cc*qj*rho_c + UA))/(UA**2 - (Cc*qj*rho_c + UA)*(Cp*q*rho + UA)),\n",
              " Tj: -(Cc*Ti*qj*rho_c*(Cp*q*rho + UA) + Cp*Tf*UA*q*rho)/(UA**2 - (Cc*qj*rho_c + UA)*(Cp*q*rho + UA))}"
            ]
          },
          "metadata": {
            "tags": []
          },
          "execution_count": 8
        }
      ]
    },
    {
      "cell_type": "markdown",
      "metadata": {
        "id": "p8ln1971t7yd"
      },
      "source": [
        "#### Degrees of freedon analysis \r\n",
        "\r\n",
        "state variables: T, Tj\r\n",
        "\r\n",
        "inputs: q, Ti, Tf, qj\r\n",
        "\r\n",
        "parameters: Vc, V, k, A, $\\rho_c$, $\\rho$ "
      ]
    },
    {
      "cell_type": "markdown",
      "metadata": {
        "id": "9ncWuseltgTj"
      },
      "source": [
        "#### Simulate the model \r\n"
      ]
    },
    {
      "cell_type": "code",
      "metadata": {
        "id": "Mp4rRzWktH9z"
      },
      "source": [
        "# import libraries \r\n",
        "import numpy as np\r\n",
        "import matplotlib.pyplot as plt\r\n",
        "from scipy.integrate import odeint "
      ],
      "execution_count": null,
      "outputs": []
    },
    {
      "cell_type": "code",
      "metadata": {
        "id": "QxfkD3xitrdA"
      },
      "source": [
        "# write model \r\n",
        "def cooler(s,t,u,p):\r\n",
        "\r\n",
        "    # state variables \r\n",
        "    T = s[0]\r\n",
        "    Tj = s[1]\r\n",
        "\r\n",
        "    # input variables \r\n",
        "    q = u[0] \r\n",
        "    Ti = u[1] \r\n",
        "    Tf = u[2] \r\n",
        "    qj = u[3]\r\n",
        "\r\n",
        "    # parameters\r\n",
        "    V = p[0] \r\n",
        "    Vc = p[1] \r\n",
        "    k = p[2] \r\n",
        "    A = p[3] \r\n",
        "    rho = p[4] \r\n",
        "    rho_c = p[5]\r\n",
        "\r\n",
        "    # heat flow\r\n",
        "    Q_dot = k*qj**0.8*A*(T - Tj)\r\n",
        "\r\n",
        "    # energy balance for the tank \r\n",
        "    dTdt = q/V*(Tf - Tj) - Q_dot\r\n",
        "\r\n",
        "    # energy balance in the coolant\r\n",
        "    dTjdt = qj/Vc*(Ti - Tj) + Q_dot\r\n",
        "\r\n",
        "    return [dTdt, dTjdt]"
      ],
      "execution_count": null,
      "outputs": []
    },
    {
      "cell_type": "code",
      "metadata": {
        "id": "ALASV5Cbv6dd"
      },
      "source": [
        "# establish parameters \r\n",
        "V = 0.5 # m3\r\n",
        "Vc = 0.1 # m3\r\n",
        "k = 10 \r\n",
        "A = 0.5 # m2\r\n",
        "rho = 1000 # kg/m3\r\n",
        "rho_c = 850 # kg/m3\r\n",
        "p = [V, Vc, k, A, rho, rho_c]"
      ],
      "execution_count": null,
      "outputs": []
    },
    {
      "cell_type": "code",
      "metadata": {
        "id": "jIxxVBflwSN-"
      },
      "source": [
        "# establish inputs\r\n",
        "q = 0.5 # m3/s\r\n",
        "Ti = 220 # K\r\n",
        "Tf = 330 # K\r\n",
        "qj = 0.01 # m3/s\r\n",
        "u = [q, Ti, Tf, qj]"
      ],
      "execution_count": null,
      "outputs": []
    },
    {
      "cell_type": "code",
      "metadata": {
        "id": "WCL7X76wworc"
      },
      "source": [
        "# set initial conditions \r\n",
        "s = [270, 200]"
      ],
      "execution_count": null,
      "outputs": []
    },
    {
      "cell_type": "code",
      "metadata": {
        "id": "E54tMOnLww2b"
      },
      "source": [
        "# set integration time \r\n",
        "time = np.linspace(0,100,100)"
      ],
      "execution_count": null,
      "outputs": []
    },
    {
      "cell_type": "code",
      "metadata": {
        "id": "371bKVsww55I"
      },
      "source": [
        "out = odeint(cooler, s, time, args= (u, p))"
      ],
      "execution_count": null,
      "outputs": []
    },
    {
      "cell_type": "code",
      "metadata": {
        "id": "eRq0uiC9xE5d"
      },
      "source": [
        "T = out[:,0]\r\n",
        "Tj = out[:,1]"
      ],
      "execution_count": null,
      "outputs": []
    },
    {
      "cell_type": "code",
      "metadata": {
        "colab": {
          "base_uri": "https://localhost:8080/",
          "height": 296
        },
        "id": "n5REFlAlxKV8",
        "outputId": "a6a95cd3-f1d4-43a9-8051-b1bbaa31bff1"
      },
      "source": [
        "plt.plot(time, T, time, Tj)\r\n",
        "plt.legend([\"T\",\"Tj\"])\r\n",
        "plt.xlabel(\"Time (min)\")\r\n",
        "plt.ylabel(\"temperature (K)\")"
      ],
      "execution_count": null,
      "outputs": [
        {
          "output_type": "execute_result",
          "data": {
            "text/plain": [
              "Text(0, 0.5, 'temperature (K)')"
            ]
          },
          "metadata": {
            "tags": []
          },
          "execution_count": 23
        },
        {
          "output_type": "display_data",
          "data": {
            "image/png": "[encoded data removed]",
            "text/plain": [
              "<Figure size 432x288 with 1 Axes>"
            ]
          },
          "metadata": {
            "tags": [],
            "needs_background": "light"
          }
        }
      ]
    },
    {
      "cell_type": "code",
      "metadata": {
        "id": "Cq1Ac813xNHr"
      },
      "source": [
        ""
      ],
      "execution_count": null,
      "outputs": []
    }
  ]
}