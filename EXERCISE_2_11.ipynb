{
  "nbformat": 4,
  "nbformat_minor": 0,
  "metadata": {
    "colab": {
      "name": "Untitled56.ipynb",
      "provenance": [],
      "authorship_tag": "ABX9TyM8Wp40rXKWGmT2JXxBFfTZ",
      "include_colab_link": true
    },
    "kernelspec": {
      "name": "python3",
      "display_name": "Python 3"
    }
  },
  "cells": [
    {
      "cell_type": "markdown",
      "metadata": {
        "id": "view-in-github",
        "colab_type": "text"
      },
      "source": [
        "<a href=\"https://colab.research.google.com/github/JuanM-GG/sistemas-dinamicos-Python/blob/main/EXERCISE_2_11.ipynb\" target=\"_parent\"><img src=\"https://colab.research.google.com/assets/colab-badge.svg\" alt=\"Open In Colab\"/></a>"
      ]
    },
    {
      "cell_type": "markdown",
      "metadata": {
        "id": "juFVw1Q1tbR1"
      },
      "source": [
        "Title: Exercise 2.11\r\n",
        "\r\n",
        "Name: Juan Manuel G.G\r\n",
        "\r\n",
        "Date: February 2021"
      ]
    },
    {
      "cell_type": "markdown",
      "metadata": {
        "id": "NjV65gYdtiM0"
      },
      "source": [
        "### 1. Process description \r\n",
        "\r\n",
        "A process tank has two input streams—Stream 1 at mass\r\n",
        "ﬂow rate $w_1$ and Stream 2 at mass ﬂow rate $w_2$. The tank’s\r\n",
        "efﬂuent stream, at ﬂow rate $w$, discharges through a fixed\r\n",
        "valve to atmospheric pressure. Pressure drop across the valve\r\n",
        "is proportional to the ﬂow rate squared. The cross-sectional\r\n",
        "area of the tank, $A$, is 5 $m^2$, and the mass density of all streams is 940 kg/m3."
      ]
    },
    {
      "cell_type": "markdown",
      "metadata": {
        "id": "sdqN88yGt54Q"
      },
      "source": [
        "#### 2. Assumptions \r\n",
        "\r\n",
        "* Constant density \r\n",
        "* Constant temperature "
      ]
    },
    {
      "cell_type": "markdown",
      "metadata": {
        "id": "fbu4djEjuGZa"
      },
      "source": [
        "### 3. Process scheme \r\n",
        "\r\n",
        "![height.png](data:image/png;base64,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)"
      ]
    },
    {
      "cell_type": "markdown",
      "metadata": {
        "id": "b2dR7LuruqgI"
      },
      "source": [
        "Figure 1. Process scheme "
      ]
    },
    {
      "cell_type": "markdown",
      "metadata": {
        "id": "Ed8PslBcut45"
      },
      "source": [
        "### 4. Analysis "
      ]
    },
    {
      "cell_type": "markdown",
      "metadata": {
        "id": "NKv51B0tuwYq"
      },
      "source": [
        "#### Establish the model \r\n",
        "\r\n",
        "Mass balance \r\n",
        "\r\n",
        "$$\r\n",
        "\\frac{d(V \\rho)}{dt} = w_1 + w_2 - w\r\n",
        "$$\r\n",
        "\r\n",
        "\r\n",
        "$$\r\n",
        "\\frac{d(A h \\rho)}{dt} = w_1 + w_2 - C_v^* \\sqrt{\\Delta P}\r\n",
        "$$\r\n",
        "\r\n",
        "\r\n",
        "we know that\r\n",
        "$$\r\n",
        "\\Delta P = P_a + P_m - P_a = P_m = \\frac{\\rho g h}{g_c}\r\n",
        "$$\r\n",
        "\r\n",
        "so \r\n",
        "\r\n",
        "$$\r\n",
        "\\rho A \\frac{dh}{dt} = w_1 + w_2 - C_v \\sqrt{h} \\tag{1}\r\n",
        "$$\r\n",
        "\r\n",
        "where $C_v = C_v^* \\sqrt{\\rho g / g_c}$"
      ]
    },
    {
      "cell_type": "markdown",
      "metadata": {
        "id": "K624SqWGxVdg"
      },
      "source": [
        "#### Degrees of freedon analysis \r\n",
        "\r\n",
        "state variables: h (1)\r\n",
        "\r\n",
        "equations: 1 DE (1)\r\n",
        "\r\n",
        "degrees of freedom: 1 - 1 = 0\r\n",
        "\r\n",
        "inputs: w1, w2\r\n",
        "\r\n",
        "parameters: $\\rho$, A, Cv"
      ]
    },
    {
      "cell_type": "markdown",
      "metadata": {
        "id": "SUtqfbskvzeN"
      },
      "source": [
        "#### Steady state \r\n",
        "\r\n",
        "$$\r\n",
        "w_1 + w_2 - C_v \\sqrt{h} = 0 \\hspace{1cm} \\rightarrow \\hspace{1cm} h_{sp} = \\left(\\frac{w_1 + w_2}{C_v} \\right)^2\r\n",
        "$$"
      ]
    },
    {
      "cell_type": "markdown",
      "metadata": {
        "id": "y3KoDWR-wXUC"
      },
      "source": [
        "At initial steady-state conditions, with $w_1$ = 2.0 kg/s and\r\n",
        "$w_2$ = 1.2 kg/s, the tank level is 2.25 m. What is the value of the\r\n",
        "valve constant (give units)?\r\n",
        "\r\n",
        "$$\r\n",
        "C_v = \\frac{w_1 + w_2}{\\sqrt{h_{sp}}} = \\frac{3.2\\ kg/s}{2.25\\ m} = 2.133 \\ kg/ms\r\n",
        "$$"
      ]
    },
    {
      "cell_type": "markdown",
      "metadata": {
        "id": "HfSJvyq0xAiL"
      },
      "source": [
        "#### Numerical simulation "
      ]
    },
    {
      "cell_type": "code",
      "metadata": {
        "id": "oUSH4SB0zAs-"
      },
      "source": [
        "# import libraries \r\n",
        "import numpy as np\r\n",
        "import matplotlib.pyplot as plt\r\n",
        "from scipy.integrate import odeint "
      ],
      "execution_count": 7,
      "outputs": []
    },
    {
      "cell_type": "code",
      "metadata": {
        "id": "Io-glMkVtZQ7"
      },
      "source": [
        "# write the model \r\n",
        "def height(s,t,u,p):\r\n",
        "\r\n",
        "    # state variables \r\n",
        "    h = s[0]\r\n",
        "\r\n",
        "    # inputs\r\n",
        "    w1 = u[0]\r\n",
        "    w2 = u[1]\r\n",
        "\r\n",
        "    # parameters\r\n",
        "    rho = p[0]\r\n",
        "    A = p[1]\r\n",
        "    Cv = p[2]\r\n",
        "\r\n",
        "    # mass flow at outlet\r\n",
        "    w = Cv*np.sqrt(h)\r\n",
        "\r\n",
        "    # mass balance\r\n",
        "    dhdt = 1/(rho*A)*(w1 + w2 - w)\r\n",
        "\r\n",
        "    return dhdt"
      ],
      "execution_count": 40,
      "outputs": []
    },
    {
      "cell_type": "code",
      "metadata": {
        "id": "2GpXDKbZyK1w"
      },
      "source": [
        "# set parameters\r\n",
        "rho = 940 # kg/m3\r\n",
        "A = 5 # m2\r\n",
        "Cv = 2.13 # kg/(m*s)\r\n",
        "p = [rho, A, Cv]"
      ],
      "execution_count": 64,
      "outputs": []
    },
    {
      "cell_type": "code",
      "metadata": {
        "id": "JRiLRVr1ylEj"
      },
      "source": [
        "# establish inputs \r\n",
        "w1 = 2 # kg/s\r\n",
        "w2 = 1.2 # kg/s\r\n",
        "u = [w1, w2]"
      ],
      "execution_count": 65,
      "outputs": []
    },
    {
      "cell_type": "code",
      "metadata": {
        "id": "JP_bnyZFyzmt"
      },
      "source": [
        "# set initial conditions \r\n",
        "s = [1.2]"
      ],
      "execution_count": 73,
      "outputs": []
    },
    {
      "cell_type": "code",
      "metadata": {
        "id": "k73_XwjGy44R"
      },
      "source": [
        "# establish integration time \r\n",
        "time = np.linspace(0,10000,100)"
      ],
      "execution_count": 74,
      "outputs": []
    },
    {
      "cell_type": "code",
      "metadata": {
        "id": "1cGaoI70y9tz"
      },
      "source": [
        "# solve ODEs\r\n",
        "out = odeint(height, s, time, args=(u,p))"
      ],
      "execution_count": 75,
      "outputs": []
    },
    {
      "cell_type": "code",
      "metadata": {
        "id": "R79tuRHazSt7"
      },
      "source": [
        "h = out[:,0]"
      ],
      "execution_count": 76,
      "outputs": []
    },
    {
      "cell_type": "code",
      "metadata": {
        "colab": {
          "base_uri": "https://localhost:8080/",
          "height": 296
        },
        "id": "QijsQpHXzZzP",
        "outputId": "23293e37-4f88-45bc-a981-d61d459a5c98"
      },
      "source": [
        "# show results \r\n",
        "plt.plot(time, h)\r\n",
        "plt.xlabel(\"time (s)\")\r\n",
        "plt.ylabel(\"height (m)\")"
      ],
      "execution_count": 77,
      "outputs": [
        {
          "output_type": "execute_result",
          "data": {
            "text/plain": [
              "Text(0, 0.5, 'height (m)')"
            ]
          },
          "metadata": {
            "tags": []
          },
          "execution_count": 77
        },
        {
          "output_type": "display_data",
          "data": {
            "image/png": "[encoded data removed]",
            "text/plain": [
              "<Figure size 432x288 with 1 Axes>"
            ]
          },
          "metadata": {
            "tags": [],
            "needs_background": "light"
          }
        }
      ]
    },
    {
      "cell_type": "code",
      "metadata": {
        "id": "Zb1suwj-zc2z"
      },
      "source": [
        "def steady_state(u,p):\r\n",
        "\r\n",
        "    # inputs\r\n",
        "    w1 = u[0]\r\n",
        "    w2 = u[1]\r\n",
        "\r\n",
        "    # parameter\r\n",
        "    Cv = p[2]\r\n",
        "\r\n",
        "    # steady state height\r\n",
        "    h_sp = ((w1 + w2)/Cv)**2\r\n",
        "\r\n",
        "    return h_sp"
      ],
      "execution_count": 82,
      "outputs": []
    },
    {
      "cell_type": "code",
      "metadata": {
        "colab": {
          "base_uri": "https://localhost:8080/"
        },
        "id": "h5Cz7zgj11Tv",
        "outputId": "7fb9036b-1ff2-4458-aaec-c638d585415a"
      },
      "source": [
        "steady_state(u,p)"
      ],
      "execution_count": 83,
      "outputs": [
        {
          "output_type": "execute_result",
          "data": {
            "text/plain": [
              "2.2570477638916446"
            ]
          },
          "metadata": {
            "tags": []
          },
          "execution_count": 83
        }
      ]
    },
    {
      "cell_type": "markdown",
      "metadata": {
        "id": "MI8hNR-T2Cpz"
      },
      "source": [
        "What happen if we vary the inflow rate w1 10 % from its nominal value \r\n",
        "\r\n",
        "$$\r\n",
        "w_1 = 2 \\pm 0.2 = [1.8, 2.2]\r\n",
        "$$"
      ]
    },
    {
      "cell_type": "code",
      "metadata": {
        "colab": {
          "base_uri": "https://localhost:8080/",
          "height": 282
        },
        "id": "Likl7TBn13hw",
        "outputId": "55227db6-1455-4307-941a-558659a679dd"
      },
      "source": [
        "for w1 in [1.8, 2.2]:\r\n",
        "    u[0] = w1\r\n",
        "    # solve ODEs\r\n",
        "    out = odeint(height, s, time, args=(u,p))\r\n",
        "    h = out[:,0]\r\n",
        "    plt.plot(time, h)\r\n",
        "w1 = 2 # return w1 to its original value \r\n",
        "plt.legend([\"w1 = 1.8\", \"w1 = 2.2\"])"
      ],
      "execution_count": 90,
      "outputs": [
        {
          "output_type": "execute_result",
          "data": {
            "text/plain": [
              "<matplotlib.legend.Legend at 0x7f30ff4d0278>"
            ]
          },
          "metadata": {
            "tags": []
          },
          "execution_count": 90
        },
        {
          "output_type": "display_data",
          "data": {
            "image/png": "[encoded data removed]",
            "text/plain": [
              "<Figure size 432x288 with 1 Axes>"
            ]
          },
          "metadata": {
            "tags": [],
            "needs_background": "light"
          }
        }
      ]
    },
    {
      "cell_type": "markdown",
      "metadata": {
        "id": "bwuVbr6i3gFN"
      },
      "source": [
        "What happed if we vary w1 during the simulation "
      ]
    },
    {
      "cell_type": "code",
      "metadata": {
        "id": "0KDvd21b3Fd5"
      },
      "source": [
        "# variable w1\r\n",
        "w1 = np.ones(len(time))*2\r\n",
        "w1[25:50] = 1\r\n",
        "w1[50:75] = 3\r\n",
        "w1[75:100] = 1\r\n",
        "\r\n",
        "# constant w2\r\n",
        "w2 = np.ones(len(time))*1.2"
      ],
      "execution_count": 120,
      "outputs": []
    },
    {
      "cell_type": "code",
      "metadata": {
        "id": "P3IHNCgr3yU8"
      },
      "source": [
        "# vector to save height\r\n",
        "h = np.ones(len(time))*2.25\r\n",
        "s = [2.25]"
      ],
      "execution_count": 121,
      "outputs": []
    },
    {
      "cell_type": "code",
      "metadata": {
        "id": "TP7rK9Jj4Co7"
      },
      "source": [
        "# for cycle to change w1 during simulation \r\n",
        "for i in range(len(time)-1):\r\n",
        "\r\n",
        "    # update span time\r\n",
        "    ts = [time[i], time[i+1]]\r\n",
        "\r\n",
        "    # update w1\r\n",
        "    u[0] = w1[i+1]\r\n",
        "\r\n",
        "    # solve ODE\r\n",
        "    out = odeint(height, s, ts, args=(u,p))\r\n",
        "\r\n",
        "    # save height\r\n",
        "    h[i+1] = out[-1][0]\r\n",
        "\r\n",
        "    # update initial condition \r\n",
        "    s = out[-1][0]"
      ],
      "execution_count": 122,
      "outputs": []
    },
    {
      "cell_type": "code",
      "metadata": {
        "colab": {
          "base_uri": "https://localhost:8080/",
          "height": 282
        },
        "id": "hEcXCJN44lWv",
        "outputId": "cf66e792-b54c-41ad-b98a-4b36fd7e1a56"
      },
      "source": [
        "plt.plot(time,h, time, w1, time, w2)\r\n",
        "plt.legend([\"h\",\"w1\",\"w2\"])"
      ],
      "execution_count": 126,
      "outputs": [
        {
          "output_type": "execute_result",
          "data": {
            "text/plain": [
              "<matplotlib.legend.Legend at 0x7f30fefb56d8>"
            ]
          },
          "metadata": {
            "tags": []
          },
          "execution_count": 126
        },
        {
          "output_type": "display_data",
          "data": {
            "image/png": "[encoded data removed]",
            "text/plain": [
              "<Figure size 432x288 with 1 Axes>"
            ]
          },
          "metadata": {
            "tags": [],
            "needs_background": "light"
          }
        }
      ]
    },
    {
      "cell_type": "markdown",
      "metadata": {
        "id": "FehGkmms6Rma"
      },
      "source": [
        "Let's to apply a control in order to reduce the effect of change w1 on h"
      ]
    },
    {
      "cell_type": "code",
      "metadata": {
        "id": "PyObe40Y4_Wx"
      },
      "source": [
        "s = [2.25] # set initial condition\r\n",
        "# for cycle to change w1 during simulation \r\n",
        "for i in range(len(time)-1):\r\n",
        "\r\n",
        "    # update span time\r\n",
        "    ts = [time[i], time[i+1]]\r\n",
        "\r\n",
        "    # update w1\r\n",
        "    u[0] = w1[i+1]\r\n",
        "\r\n",
        "    # apply control strategy\r\n",
        "    w2[i+1] = 3.2 - w1[i+1] # from the steady state equation\r\n",
        "\r\n",
        "    # update w2\r\n",
        "    u[1] = w2[i+1] \r\n",
        "\r\n",
        "    # solve ODE\r\n",
        "    out = odeint(height, s, ts, args=(u,p))\r\n",
        "\r\n",
        "    # save height\r\n",
        "    h[i+1] = out[-1][0]\r\n",
        "\r\n",
        "    # update initial condition \r\n",
        "    s = out[-1][0]"
      ],
      "execution_count": 128,
      "outputs": []
    },
    {
      "cell_type": "code",
      "metadata": {
        "colab": {
          "base_uri": "https://localhost:8080/",
          "height": 282
        },
        "id": "EGOufX8u7B5B",
        "outputId": "d1311c37-53a5-45ee-da1e-e9634257d24a"
      },
      "source": [
        "plt.plot(time,h, time, w1, time, w2)\r\n",
        "plt.legend([\"h\",\"w1\",\"w2\"])"
      ],
      "execution_count": 130,
      "outputs": [
        {
          "output_type": "execute_result",
          "data": {
            "text/plain": [
              "<matplotlib.legend.Legend at 0x7f30ff4b3c88>"
            ]
          },
          "metadata": {
            "tags": []
          },
          "execution_count": 130
        },
        {
          "output_type": "display_data",
          "data": {
            "image/png": "[encoded data removed]",
            "text/plain": [
              "<Figure size 432x288 with 1 Axes>"
            ]
          },
          "metadata": {
            "tags": [],
            "needs_background": "light"
          }
        }
      ]
    },
    {
      "cell_type": "markdown",
      "metadata": {
        "id": "LiZo_b4f8LQ5"
      },
      "source": [
        "A feed forward control is able to avoid changes in the controlled variable when the disturbance variables are measured with adecuacy "
      ]
    },
    {
      "cell_type": "code",
      "metadata": {
        "id": "JDBd1Wiw7FkX"
      },
      "source": [
        ""
      ],
      "execution_count": null,
      "outputs": []
    }
  ]
}