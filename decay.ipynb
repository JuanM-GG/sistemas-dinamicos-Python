{
  "nbformat": 4,
  "nbformat_minor": 0,
  "metadata": {
    "colab": {
      "name": "Untitled0.ipynb",
      "provenance": [],
      "authorship_tag": "ABX9TyOttRvU4kYi5+UuYEuD/Fws",
      "include_colab_link": true
    },
    "kernelspec": {
      "name": "python3",
      "display_name": "Python 3"
    }
  },
  "cells": [
    {
      "cell_type": "markdown",
      "metadata": {
        "id": "view-in-github",
        "colab_type": "text"
      },
      "source": [
        "<a href=\"https://colab.research.google.com/github/JuanM-GG/Control-with-python-/blob/main/decay.ipynb\" target=\"_parent\"><img src=\"https://colab.research.google.com/assets/colab-badge.svg\" alt=\"Open In Colab\"/></a>"
      ]
    },
    {
      "cell_type": "code",
      "metadata": {
        "id": "zV7BI7pjseLt"
      },
      "source": [
        "# import libraries\n",
        "import  numpy as np\n",
        "from scipy.integrate import odeint \n",
        "import matplotlib.pyplot as plt "
      ],
      "execution_count": 3,
      "outputs": []
    },
    {
      "cell_type": "code",
      "metadata": {
        "id": "B3vWit8ptZvp"
      },
      "source": [
        "# define model\n",
        "def model(y, t, k):\n",
        "  dydt = -k*y\n",
        "  return dydt"
      ],
      "execution_count": 17,
      "outputs": []
    },
    {
      "cell_type": "code",
      "metadata": {
        "id": "UrObt1nKttd9"
      },
      "source": [
        "# initial conditions\n",
        "y0 = 5"
      ],
      "execution_count": 8,
      "outputs": []
    },
    {
      "cell_type": "code",
      "metadata": {
        "id": "W9PgIaUBuTFi"
      },
      "source": [
        "# time points\n",
        "t = np.linspace(0,20)"
      ],
      "execution_count": 10,
      "outputs": []
    },
    {
      "cell_type": "code",
      "metadata": {
        "id": "NT5WLnjzubfS"
      },
      "source": [
        "# solve ODE\n",
        "k1 = 0.1\n",
        "y1 = odeint(model,y0,t, args=(k1,))\n",
        "k2 = 0.2\n",
        "y2 = odeint(model, y0, t, args=(k2,))\n",
        "k3 = 0.5\n",
        "y3 = odeint(model, y0, t, args = (k3,))\n"
      ],
      "execution_count": 24,
      "outputs": []
    },
    {
      "cell_type": "code",
      "metadata": {
        "colab": {
          "base_uri": "https://localhost:8080/",
          "height": 296
        },
        "id": "XVPIMKG8ucAf",
        "outputId": "47073413-660e-4a01-efcc-870a1a27044a"
      },
      "source": [
        "# plot results\n",
        "plt.plot(t, y1, \"r-\",linewidth = 2, label = \"k=0.1\")\n",
        "plt.plot(t,y2, \"b--\",linewidth=2, label=\"k = 0.2\")\n",
        "plt.plot(t,y3,\"g:\",linewidth=2, label=\"k=0.5\")\n",
        "plt.xlabel(\"time\")\n",
        "plt.ylabel(\"y(t)\")\n",
        "plt.legend()\n",
        "plt.show"
      ],
      "execution_count": 27,
      "outputs": [
        {
          "output_type": "execute_result",
          "data": {
            "text/plain": [
              "<function matplotlib.pyplot.show>"
            ]
          },
          "metadata": {
            "tags": []
          },
          "execution_count": 27
        },
        {
          "output_type": "display_data",
          "data": {
            "image/png": "[encoded data removed]",
            "text/plain": [
              "<Figure size 432x288 with 1 Axes>"
            ]
          },
          "metadata": {
            "tags": [],
            "needs_background": "light"
          }
        }
      ]
    },
    {
      "cell_type": "code",
      "metadata": {
        "id": "SwvE1Yp-u98f"
      },
      "source": [
        ""
      ],
      "execution_count": null,
      "outputs": []
    }
  ]
}