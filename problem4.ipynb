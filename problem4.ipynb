{
  "nbformat": 4,
  "nbformat_minor": 0,
  "metadata": {
    "colab": {
      "name": "Untitled9.ipynb",
      "provenance": [],
      "authorship_tag": "ABX9TyPp8+4ExCYGYbDAzwjCFZhP",
      "include_colab_link": true
    },
    "kernelspec": {
      "name": "python3",
      "display_name": "Python 3"
    }
  },
  "cells": [
    {
      "cell_type": "markdown",
      "metadata": {
        "id": "view-in-github",
        "colab_type": "text"
      },
      "source": [
        "<a href=\"https://colab.research.google.com/github/JuanM-GG/Control-with-python-/blob/main/problem4.ipynb\" target=\"_parent\"><img src=\"https://colab.research.google.com/assets/colab-badge.svg\" alt=\"Open In Colab\"/></a>"
      ]
    },
    {
      "cell_type": "markdown",
      "metadata": {
        "id": "Sg7jmmGzbaun"
      },
      "source": [
        "Título: Problem 4\r\n",
        "\r\n",
        "Nombre: Juan Manuel G.G\r\n",
        "\r\n",
        "Fecha: December 8, 2020"
      ]
    },
    {
      "cell_type": "markdown",
      "metadata": {
        "id": "HKiJvusSbnfe"
      },
      "source": [
        "$$2 dx/dt = -x(t) + u(t)$$\\\r\n",
        "$$5 dy/dt = - y(t) + x(t)$$\\\r\n",
        "$$u(t) = 2S(t-5), x(0) = 0, y(0) = 0$$\\\r\n",
        "Where S(t-5) is a step function that changes from zero to one at t 0 5. When it is multiplied by two, it changes from zero to two at that same time, t = 5."
      ]
    },
    {
      "cell_type": "markdown",
      "metadata": {
        "id": "pTt0cOuPdXDS"
      },
      "source": [
        "Import libraries"
      ]
    },
    {
      "cell_type": "code",
      "metadata": {
        "id": "q0aPSVT8dbT-"
      },
      "source": [
        "import numpy as np\r\n",
        "import matplotlib.pyplot as plt\r\n",
        "from scipy.integrate import odeint"
      ],
      "execution_count": 3,
      "outputs": []
    },
    {
      "cell_type": "markdown",
      "metadata": {
        "id": "igb1hl_jcz96"
      },
      "source": [
        "Establish the model"
      ]
    },
    {
      "cell_type": "code",
      "metadata": {
        "id": "sxAda4jebke2"
      },
      "source": [
        "def model(z, t, u):\r\n",
        "  x = z[0]\r\n",
        "  y = z[1]\r\n",
        "  \r\n",
        "  dxdt = (-x+u)/2.0\r\n",
        "  dydt = (-y+x)/5.0\r\n",
        "\r\n",
        "  return [dxdt, dydt]"
      ],
      "execution_count": 1,
      "outputs": []
    },
    {
      "cell_type": "markdown",
      "metadata": {
        "id": "G_iDmP_LdI51"
      },
      "source": [
        "Initial conditions"
      ]
    },
    {
      "cell_type": "code",
      "metadata": {
        "id": "iB96fVIadHrP"
      },
      "source": [
        "s = [0, 0]"
      ],
      "execution_count": 2,
      "outputs": []
    },
    {
      "cell_type": "markdown",
      "metadata": {
        "id": "EaQuP5UsdPaT"
      },
      "source": [
        "Time points"
      ]
    },
    {
      "cell_type": "code",
      "metadata": {
        "id": "ZyK4wAR9dN8J"
      },
      "source": [
        "n = 150\r\n",
        "t = np.linspace(0,15,n)\r\n",
        "u = np.zeros(n)\r\n",
        "u[51:] = 2.0\r\n",
        "\r\n",
        "x = np.zeros(n)\r\n",
        "y = np.zeros(n)"
      ],
      "execution_count": 4,
      "outputs": []
    },
    {
      "cell_type": "markdown",
      "metadata": {
        "id": "gtuctQ8veFtt"
      },
      "source": [
        "Solve ODE"
      ]
    },
    {
      "cell_type": "code",
      "metadata": {
        "id": "5cfqLzzPeD-L"
      },
      "source": [
        "s = [0, 0]\r\n",
        "for i in range(1,n):\r\n",
        "  tspan = [t[i-1], t[i]]\r\n",
        "  out = odeint(model, s, t, args=(u[i], ))\r\n",
        "  s = out[1]\r\n",
        "  x[i] = s[0]\r\n",
        "  y[i] = s[1]"
      ],
      "execution_count": 21,
      "outputs": []
    },
    {
      "cell_type": "markdown",
      "metadata": {
        "id": "K5c6B1Ebeh7z"
      },
      "source": [
        "Plot results"
      ]
    },
    {
      "cell_type": "code",
      "metadata": {
        "colab": {
          "base_uri": "https://localhost:8080/",
          "height": 279
        },
        "id": "9Nsxmr0zefs6",
        "outputId": "92ffa694-776f-4eb6-bded-104e6bc81521"
      },
      "source": [
        "plt.plot(t,u,\"k-\")\r\n",
        "plt.plot(t,x,\"r-\")\r\n",
        "plt.plot(t,y,\"b--\")\r\n",
        "plt.xlabel(\"time\")\r\n",
        "plt.legend([\"u(t)\",\"x(t)\",\"y(t)\"])\r\n",
        "plt.show()"
      ],
      "execution_count": 7,
      "outputs": [
        {
          "output_type": "display_data",
          "data": {
            "image/png": "[encoded data removed]",
            "text/plain": [
              "<Figure size 432x288 with 1 Axes>"
            ]
          },
          "metadata": {
            "tags": [],
            "needs_background": "light"
          }
        }
      ]
    },
    {
      "cell_type": "code",
      "metadata": {
        "id": "EK0P8OSTe9FO"
      },
      "source": [
        ""
      ],
      "execution_count": null,
      "outputs": []
    }
  ]
}