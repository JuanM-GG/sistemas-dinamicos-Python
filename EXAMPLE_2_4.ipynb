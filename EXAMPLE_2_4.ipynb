{
  "nbformat": 4,
  "nbformat_minor": 0,
  "metadata": {
    "colab": {
      "name": "Untitled44.ipynb",
      "provenance": [],
      "authorship_tag": "ABX9TyO6WE1uQWUVWoOEmwjacLdZ",
      "include_colab_link": true
    },
    "kernelspec": {
      "name": "python3",
      "display_name": "Python 3"
    }
  },
  "cells": [
    {
      "cell_type": "markdown",
      "metadata": {
        "id": "view-in-github",
        "colab_type": "text"
      },
      "source": [
        "<a href=\"https://colab.research.google.com/github/JuanM-GG/sistemas-dinamicos-Python/blob/main/EXAMPLE_2_4.ipynb\" target=\"_parent\"><img src=\"https://colab.research.google.com/assets/colab-badge.svg\" alt=\"Open In Colab\"/></a>"
      ]
    },
    {
      "cell_type": "markdown",
      "metadata": {
        "id": "Am7kXa8Qr3V3"
      },
      "source": [
        "Title: Stirred-Tank Heating Process: Constant Holdup\r\n",
        "\r\n",
        "Name: Juan Manuel G.G\r\n",
        "\r\n",
        "Date: February 2021"
      ]
    },
    {
      "cell_type": "markdown",
      "metadata": {
        "id": "Y31N5O1csNlu"
      },
      "source": [
        "### 1. Process description \r\n",
        "\r\n",
        "The liquid inlet stream consists of a single component with a mass ﬂow rate $w_i$ and an inlet temperature $T_i$. The tank contents are agitated and heated using an electrical heater that provides a heating rate, $Q$"
      ]
    },
    {
      "cell_type": "markdown",
      "metadata": {
        "id": "1b6IceEusfao"
      },
      "source": [
        "### 2. Assumptions \r\n",
        "\r\n",
        "1. Perfect mixing; thus, the exit temperature T is also the temperature of the tank contents\r\n",
        "\r\n",
        "2. The inlet and outlet ﬂow rates are equal; thus, $w_i = w$ and the liquid holdup V is constant\r\n",
        "\r\n",
        "3. The density ρ and heat capacity C of the liquid are assumed to be constant. Thus, their temperature dependence is neglected\r\n",
        "\r\n",
        "4. Heat losses are negligible"
      ]
    },
    {
      "cell_type": "markdown",
      "metadata": {
        "id": "gyMnlZUcsv5V"
      },
      "source": [
        "### 3. Scheme of the process \r\n",
        "\r\n",
        "![heating system.png](data:image/png;base64,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)"
      ]
    },
    {
      "cell_type": "markdown",
      "metadata": {
        "id": "pcDUCR9DtgRb"
      },
      "source": [
        "### Process network "
      ]
    },
    {
      "cell_type": "markdown",
      "metadata": {
        "id": "Nt5k7NOHu3-S"
      },
      "source": [
        "### 4. Data\r\n",
        "\r\n"
      ]
    },
    {
      "cell_type": "markdown",
      "metadata": {
        "id": "nFOkj7-tvC03"
      },
      "source": [
        "### 5. Analysis"
      ]
    },
    {
      "cell_type": "markdown",
      "metadata": {
        "id": "ybf46KDrvI1y"
      },
      "source": [
        "#### 5.1 Establish the model \r\n",
        "\r\n",
        "Energy balance for the system \r\n",
        "\r\n",
        "$$\\frac{dU_{tot}}{dt} = w_i \\hat{H}_i - w \\hat{H} + Q_e$$\r\n",
        "\r\n",
        "$$U_{tot} = U_{int} + U_{KE} + U_{PE}$$\r\n",
        "\r\n",
        "In this case $U_{KE}$ and $U_{PE}$ are negligible\r\n",
        "\r\n",
        "Also, a differential change in temperature, dT, produces a corresponding change in the internal energy per unit mass, $d\\hat{U}_{int}$\r\n",
        "\r\n",
        "$$d\\hat{U}_{int} = d\\hat{H} = C dT$$\r\n",
        "\r\n",
        "$$mC \\frac{ dT}{dt} = w_i \\hat{H}_i - w \\hat{H} + Q_e$$\r\n",
        "\r\n",
        "Integrating $d\\hat{H}$ we get \r\n",
        "\r\n",
        "$$ \\hat{H} - \\hat{H}_{ref}  = \\int_{T}^{T_{ref}} CdT = C(T - T_{ref})$$\r\n",
        "\r\n",
        "So we can write \r\n",
        "\r\n",
        "$$\\hat{H} = C(T-T_{ref}), \\hspace{0.5cm} \\hat{H}_i = C(T_i-T_{ref})$$\r\n",
        "\r\n",
        "Finally we get the differential equation for the system's temperature\r\n",
        "\r\n",
        "$$m C \\frac{ dT}{dt} = wC(T_i - T) + Q_e$$\r\n",
        "\r\n",
        "Energy balance for the heating element \r\n",
        "\r\n",
        "$$m_e C_e \\frac{ dT_e}{dt} = Q - Q_e$$\r\n",
        "\r\n",
        "Where\r\n",
        "\r\n",
        "$$Q_e = h_e A_e (T_e - T)$$ \r\n",
        "\r\n",
        "The term $h_eA_e$ is the product of the heat transfer coeffcient\r\n",
        "and area available for heat transfer (convection)\r\n",
        "\r\n",
        "So the model of the process is \r\n",
        "\r\n",
        "$$\r\n",
        "\\frac{ dT}{dt} = \\frac{1}{mC}[wC(T_i - T) + h_e A_e (T_e - T)] \\tag{1}\r\n",
        "$$\r\n",
        "\r\n",
        "$$\r\n",
        "\\frac{ dT_e}{dt} =\\frac{1}{m_eC_e} [Q - h_e A_e (T_e - T)] \\tag{2}\r\n",
        "$$"
      ]
    },
    {
      "cell_type": "markdown",
      "metadata": {
        "id": "XmLcSnGp3zpr"
      },
      "source": [
        "#### 5.2 Steady state conditions "
      ]
    },
    {
      "cell_type": "code",
      "metadata": {
        "id": "gk3JVpkHrkUs"
      },
      "source": [
        "import numpy as np\r\n",
        "import sympy as sp\r\n",
        "import matplotlib.pyplot as plt\r\n",
        "from scipy.integrate import odeint"
      ],
      "execution_count": 38,
      "outputs": []
    },
    {
      "cell_type": "code",
      "metadata": {
        "id": "WOfZiTjilkqj"
      },
      "source": [
        "# establish symbols\r\n",
        "m,  C, w, Ti, T, he, Ae, Te, me, Ce, Q = sp.symbols(\"m,  C, w, Ti, T, he, Ae, Te, me, Ce, Q\")"
      ],
      "execution_count": 2,
      "outputs": []
    },
    {
      "cell_type": "code",
      "metadata": {
        "id": "KnTrTyXRl3k9"
      },
      "source": [
        "# establish equations \r\n",
        "eq1 = sp.Eq(w*C*(Ti-T) + he*Ae(Te-T),0)\r\n",
        "eq2 = sp.Eq(Q - he*Ae*(Te-T),0)"
      ],
      "execution_count": 7,
      "outputs": []
    },
    {
      "cell_type": "code",
      "metadata": {
        "colab": {
          "base_uri": "https://localhost:8080/"
        },
        "id": "FrrYeimqmTXX",
        "outputId": "877def23-6045-4191-f571-9bb4268f3b34"
      },
      "source": [
        "# solve equations for T and Te\r\n",
        "sp.solve([eq1,eq2], [T,Te])"
      ],
      "execution_count": 13,
      "outputs": [
        {
          "output_type": "execute_result",
          "data": {
            "text/plain": [
              "[(Ti + he*Ae(Q/(Ae*he))/(C*w), Ti + he*Ae(Q/(Ae*he))/(C*w) + Q/(Ae*he))]"
            ]
          },
          "metadata": {
            "tags": []
          },
          "execution_count": 13
        }
      ]
    },
    {
      "cell_type": "markdown",
      "metadata": {
        "id": "JXCBGM4ppeQN"
      },
      "source": [
        "Equating (1) and (2) to zero  \r\n",
        "\r\n",
        "$$\r\n",
        "\\frac{1}{mC}[wC(T_i - T) + h_e A_e (T_e - T)] = 0 \\tag{3}\r\n",
        "$$\r\n",
        "\r\n",
        "$$\r\n",
        "\\frac{1}{m_eC_e} [Q - h_e A_e (T_e - T)] = 0 \\tag{4}\r\n",
        "$$\r\n",
        "\r\n",
        "Solving (3) and (4) for $T$ and $T_e$ we get \r\n",
        "\r\n",
        "$$T = T_i + \\frac{Q}{wC}, \\hspace{1cm} T_e = T_i + Q(\\frac{1}{wC}+ \\frac{1}{h_eA_e})$$"
      ]
    },
    {
      "cell_type": "code",
      "metadata": {
        "id": "8Js-hFCxmcOt"
      },
      "source": [
        "def steady_state(p):\r\n",
        "\r\n",
        "     T = Ti + Q/(w*C)\r\n",
        "     Te = Q/(he*Ae) + T\r\n",
        "\r\n",
        "     return [T, Te]"
      ],
      "execution_count": 14,
      "outputs": []
    },
    {
      "cell_type": "markdown",
      "metadata": {
        "id": "jGOMKwvurUHu"
      },
      "source": [
        "#### 5.4 Simulate the model "
      ]
    },
    {
      "cell_type": "code",
      "metadata": {
        "id": "VoGDMgLRtXhJ"
      },
      "source": [
        "# write the model \r\n",
        "def heating(s, time, parms):\r\n",
        "\r\n",
        "    # parameters \r\n",
        "    m = parms[0]\r\n",
        "    C = parms[1]\r\n",
        "    w = parms[2]\r\n",
        "    Ti = parms[3]\r\n",
        "    he = parms[4]\r\n",
        "    Ae = parms[5]\r\n",
        "    me = parms[6]\r\n",
        "    Ce = parms[7]\r\n",
        "    Q = parms[8]\r\n",
        "\r\n",
        "    # state variables \r\n",
        "    Ts = s[0]\r\n",
        "    Te = s[1]\r\n",
        "\r\n",
        "    # energy balance for the system \r\n",
        "    dTsdt = (w*C*(Ti-Ts) + he*Ae*(Te-Ts))/(m*C)\r\n",
        "\r\n",
        "    # energy balance for the heating element\r\n",
        "    dTedt = (Q - he*Ae*(Te-Ts))/(me*Ce)\r\n",
        "\r\n",
        "    return [dTsdt, dTedt]"
      ],
      "execution_count": 33,
      "outputs": []
    },
    {
      "cell_type": "code",
      "metadata": {
        "id": "ctQ8DmkJrNBX"
      },
      "source": [
        "# establish parameters \r\n",
        "m = 1.0\r\n",
        "C = 200.0\r\n",
        "w = 0.1\r\n",
        "Ti = 100.0 # °C\r\n",
        "he = 200.0\r\n",
        "Ae = 0.1\r\n",
        "me = 0.1\r\n",
        "Ce = 200.0\r\n",
        "Q = 5000.0 # kcal/min\r\n",
        "parms = [m, C, w, Ti, he, Ae, me, Ce, Q] \r\n",
        "\r\n",
        "# initial conditions \r\n",
        "s = [150, 200]\r\n",
        "\r\n",
        "# integration time \r\n",
        "time = np.linspace(0,100,100)"
      ],
      "execution_count": 34,
      "outputs": []
    },
    {
      "cell_type": "code",
      "metadata": {
        "id": "0J_6pVHmtHp5"
      },
      "source": [
        "# simulate the process\r\n",
        "out = odeint(heating, s, time, args= (parms, ))"
      ],
      "execution_count": 35,
      "outputs": []
    },
    {
      "cell_type": "code",
      "metadata": {
        "id": "fBGD9WbOuhBt"
      },
      "source": [
        "# save results\r\n",
        "Ts = out[:,0]\r\n",
        "Te = out[:,1]"
      ],
      "execution_count": 36,
      "outputs": []
    },
    {
      "cell_type": "code",
      "metadata": {
        "colab": {
          "base_uri": "https://localhost:8080/",
          "height": 296
        },
        "id": "M3dG8XjswDYB",
        "outputId": "13da39d5-665d-42fd-e0c0-94b192cbdf6a"
      },
      "source": [
        "# show results \r\n",
        "plt.plot(time, out)\r\n",
        "plt.xlabel(\"time (min)\")\r\n",
        "plt.ylabel(\"Temperature (°C)\")\r\n",
        "plt.legend([\"T\", \"Te\"])"
      ],
      "execution_count": 43,
      "outputs": [
        {
          "output_type": "execute_result",
          "data": {
            "text/plain": [
              "<matplotlib.legend.Legend at 0x7f4f98285668>"
            ]
          },
          "metadata": {
            "tags": []
          },
          "execution_count": 43
        },
        {
          "output_type": "display_data",
          "data": {
            "image/png": "[encoded data removed]",
            "text/plain": [
              "<Figure size 432x288 with 1 Axes>"
            ]
          },
          "metadata": {
            "tags": [],
            "needs_background": "light"
          }
        }
      ]
    },
    {
      "cell_type": "code",
      "metadata": {
        "colab": {
          "base_uri": "https://localhost:8080/"
        },
        "id": "w3iLtXpcwSvN",
        "outputId": "5e15ab63-6033-4ac4-ff8e-ef538fb7f8fe"
      },
      "source": [
        "steady_state(parms)"
      ],
      "execution_count": 44,
      "outputs": [
        {
          "output_type": "execute_result",
          "data": {
            "text/plain": [
              "[350.0, 600.0]"
            ]
          },
          "metadata": {
            "tags": []
          },
          "execution_count": 44
        }
      ]
    },
    {
      "cell_type": "markdown",
      "metadata": {
        "id": "X0r12hdxzLmM"
      },
      "source": [
        "### EXAMPLE 2.4\r\n",
        "\r\n",
        "An electrically heated stirred-tank process can be modeled by (1) and (2) or by the following equation \r\n",
        "\r\n",
        "$$\r\n",
        "\\frac{m m_e C_e}{w h_e A_e} \\frac{d^{2}T}{dt^{2}} + (\\frac{m_eC_e}{h_eA_e} + \\frac{m_e C_e}{w C} + \\frac{m}{w})\\frac{dT}{dt} + T = \\frac{m_e C_e}{h_e A_e} \\frac{dT_i}{dt} + T_i + \\frac{1}{wC}Q \\tag{5}\r\n",
        "$$\r\n",
        "\r\n",
        "Process design and operating conditions are characterized by the following four parameter groups \r\n",
        "\r\n",
        "$$ \r\n",
        "\\frac{m}{w} = 10\\ min, \\hspace{1cm} \\frac{m_eC_e}{h_eA_e} = 1.0\\ min\r\n",
        "$$\r\n",
        "\r\n",
        "$$ \r\n",
        "\\frac{m_e C_e}{w C} = 1.0\\ min, \\hspace{1cm} \\frac{1}{wC} = 0.05°C\\min/kcal\r\n",
        "$$\r\n",
        "\r\n",
        "The nominal values of $Q$ and $T_i$ are:\r\n",
        "\r\n",
        "$$\\bar{Q} = 5000\\ kcal/min, \\hspace{1cm} \\bar{T}_i = 100°C$$"
      ]
    },
    {
      "cell_type": "markdown",
      "metadata": {
        "id": "HQVHob0q1gaW"
      },
      "source": [
        "a) Calculate the nominal steady state temperature \r\n",
        "\r\n",
        "Making $\\frac{d^{2}T}{dt^{2}}$ and $\\frac{dT}{dt}$ to zero in (5) we get \r\n",
        "\r\n",
        "$$T = T_i + \\frac{Q}{cw}$$\r\n",
        "\r\n",
        "The same result that we got with (1) and (2). Substituting the values we get \r\n",
        "\r\n",
        "$$T = 100°C + 5000\\ kcal/min * 0.05°C\\min/kcal = 350°C$$"
      ]
    },
    {
      "cell_type": "code",
      "metadata": {
        "colab": {
          "base_uri": "https://localhost:8080/"
        },
        "id": "7PIYiOKMwzc7",
        "outputId": "bb4269f2-d128-412b-dda3-078955b044cc"
      },
      "source": [
        "steady_state(parms)"
      ],
      "execution_count": 45,
      "outputs": [
        {
          "output_type": "execute_result",
          "data": {
            "text/plain": [
              "[350.0, 600.0]"
            ]
          },
          "metadata": {
            "tags": []
          },
          "execution_count": 45
        }
      ]
    },
    {
      "cell_type": "markdown",
      "metadata": {
        "id": "3arW1LYm2viT"
      },
      "source": [
        "(b) Assume that the process is initially at the steady state determined in part (a). Calculate the response, T(t), to a sudden change in Q from 5000 to 5400 kcal/min using (5). Plot the temperature response \r\n",
        "\r\n",
        "In (5) substituting the parameter groups we get \r\n",
        "\r\n",
        "$$\r\n",
        "10\\frac{d^2T}{dt^2} + 12\\frac{dT}{dt} + T = 370 \\tag{6}\r\n",
        "$$\r\n",
        "\r\n",
        "With the initial conditions from (a) $T(0) = 350°C$ and $\\frac{dT}{dt} = 0$\r\n",
        "\r\n",
        "So \r\n",
        "\r\n",
        "$$m^2 + 12m + 1 = 0 \\hspace{1cm} \\rightarrow m = -0.09,\\ -1.1099 $$\r\n",
        "\r\n",
        "$$T_h(t) = C_1e^{-0.09t} + C_2e^{-1.1099t}$$\r\n",
        "\r\n",
        "Also we have \r\n",
        "\r\n",
        "T_p(t) = A\r\n",
        "\r\n",
        "Substituting in (5) we get\r\n",
        "\r\n",
        "$$A = 370$$\r\n",
        "\r\n",
        "Therefore the general solution is \r\n",
        "$$\r\n",
        "T_g(t) = C_1e^{-0.09t} + C_2e^{-1.1099t} + 370\r\n",
        "$$\r\n",
        "\r\n",
        "Evaluating the initial conditions \r\n",
        "\r\n",
        "$$\r\n",
        "350 = C_1 + C_2 + 370  = 0\\tag{7}\r\n",
        "$$\r\n",
        "\r\n",
        "$$\r\n",
        " -0.09C_1e^{-0.09t} -1.1099C_2e^{-1.1099t} = 0\\tag{8}\r\n",
        "$$\r\n",
        "\r\n",
        "Solving (7) and (8) for $C_1$ and $C_2$\r\n",
        "\r\n",
        "$$C_1 = -25.8015, \\ C_2 = 5.8015$$\r\n",
        "\r\n",
        "So the solution is \r\n",
        "\r\n",
        "$$\r\n",
        "T_g(t) = -25.8015e^{-0.09t} + 5.8015e^{-1.1099t} + 370\r\n",
        "$$"
      ]
    },
    {
      "cell_type": "code",
      "metadata": {
        "id": "3XyCLgO42ssD"
      },
      "source": [
        "def T_b(t):\r\n",
        "    T = -25.8015*np.exp(-0.09*t) + 5.8015*np.exp(-1.1099*t) + 370\r\n",
        "    return T"
      ],
      "execution_count": 46,
      "outputs": []
    },
    {
      "cell_type": "code",
      "metadata": {
        "colab": {
          "base_uri": "https://localhost:8080/",
          "height": 296
        },
        "id": "XvX-vSXd9r4F",
        "outputId": "039d9f18-bcdf-4395-9994-96d66b039007"
      },
      "source": [
        "plt.plot(time, T_b(time))\r\n",
        "plt.xlabel(\"time (min)\")\r\n",
        "plt.ylabel(\"temperature (°C)\")"
      ],
      "execution_count": 48,
      "outputs": [
        {
          "output_type": "execute_result",
          "data": {
            "text/plain": [
              "Text(0, 0.5, 'temperature (°C)')"
            ]
          },
          "metadata": {
            "tags": []
          },
          "execution_count": 48
        },
        {
          "output_type": "display_data",
          "data": {
            "image/png": "[encoded data removed]",
            "text/plain": [
              "<Figure size 432x288 with 1 Axes>"
            ]
          },
          "metadata": {
            "tags": [],
            "needs_background": "light"
          }
        }
      ]
    },
    {
      "cell_type": "markdown",
      "metadata": {
        "id": "EAy8nsM4_hT6"
      },
      "source": [
        "Suppose that it can be assumed that the term $m_eC_e/h_eA_e$ is small relative to other terms in (5). Calculate the reponse $T(t)$ for the conditions of part (b), using a first-oder differential equation approximation to (5). Plot $T(t)$ on the graph for part (b)\r\n",
        "\r\n",
        "$$\r\n",
        "12\\frac{dT}{dt}+ T = 370\r\n",
        "$$\r\n",
        "\r\n",
        "With the initial condition $T(0) = 350°C$\r\n",
        "\r\n",
        "The solution is \r\n",
        "\r\n",
        "$$\r\n",
        "T(t) = -20e^{\\frac{t}{12}} + 370\r\n",
        "$$"
      ]
    },
    {
      "cell_type": "code",
      "metadata": {
        "id": "FZczphxe9w8N"
      },
      "source": [
        "def T_c(t):\r\n",
        "    T = -20*np.exp(-t/12) + 370\r\n",
        "    return T"
      ],
      "execution_count": 49,
      "outputs": []
    },
    {
      "cell_type": "code",
      "metadata": {
        "colab": {
          "base_uri": "https://localhost:8080/",
          "height": 282
        },
        "id": "ltSUXNBVBK1Y",
        "outputId": "c7878ee3-7cfa-4f98-defe-b05b400f0ca1"
      },
      "source": [
        "plt.plot(time,T_b(time),time,T_c(time))\r\n",
        "plt.legend([\"Normal\",\"Simplification\"])"
      ],
      "execution_count": 52,
      "outputs": [
        {
          "output_type": "execute_result",
          "data": {
            "text/plain": [
              "<matplotlib.legend.Legend at 0x7f4f97f5d518>"
            ]
          },
          "metadata": {
            "tags": []
          },
          "execution_count": 52
        },
        {
          "output_type": "display_data",
          "data": {
            "image/png": "[encoded data removed]",
            "text/plain": [
              "<Figure size 432x288 with 1 Axes>"
            ]
          },
          "metadata": {
            "tags": [],
            "needs_background": "light"
          }
        }
      ]
    },
    {
      "cell_type": "markdown",
      "metadata": {
        "id": "c1Z79L1RBq_u"
      },
      "source": [
        "For purposes of process control, this approximate model is likely to be as useful as the more complicated, exact model"
      ]
    },
    {
      "cell_type": "code",
      "metadata": {
        "id": "HTKHFY2WBSbJ"
      },
      "source": [
        ""
      ],
      "execution_count": null,
      "outputs": []
    }
  ]
}