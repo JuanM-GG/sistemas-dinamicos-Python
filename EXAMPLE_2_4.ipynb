{
  "nbformat": 4,
  "nbformat_minor": 0,
  "metadata": {
    "colab": {
      "name": "Untitled50.ipynb",
      "provenance": [],
      "authorship_tag": "ABX9TyNI06tF8t6VnHV7cBkgcgwK",
      "include_colab_link": true
    },
    "kernelspec": {
      "name": "python3",
      "display_name": "Python 3"
    }
  },
  "cells": [
    {
      "cell_type": "markdown",
      "metadata": {
        "id": "view-in-github",
        "colab_type": "text"
      },
      "source": [
        "<a href=\"https://colab.research.google.com/github/JuanM-GG/sistemas-dinamicos-Python/blob/main/EXAMPLE_2_4.ipynb\" target=\"_parent\"><img src=\"https://colab.research.google.com/assets/colab-badge.svg\" alt=\"Open In Colab\"/></a>"
      ]
    },
    {
      "cell_type": "markdown",
      "metadata": {
        "id": "a9Lgj90bz3sM"
      },
      "source": [
        "Title: Exercise 2.4\r\n",
        "\r\n",
        "Name: Juan Manuel G.G\r\n",
        "\r\n",
        "Date: February 2021"
      ]
    },
    {
      "cell_type": "markdown",
      "metadata": {
        "id": "W_WAzvzk0Glx"
      },
      "source": [
        "### 1. Process description \r\n",
        "\r\n",
        "Consider a liquid flow system consisting of a sealed tank with noncondensible gas above the liquid as shown in Fig.1. Derive and unsteady state model relating the liquid level h to the input flow rate qi. Is the opperation of this system independent of the ambient pressure Pa? What about a system open to the atmosphere?"
      ]
    },
    {
      "cell_type": "markdown",
      "metadata": {
        "id": "MiiydJG60rx6"
      },
      "source": [
        "### 2. Assumptions \r\n",
        "\r\n",
        "* The gas obes the ideal gas law. A constant amount of $m_g/M$ model of gas is present in the tank\r\n",
        "\r\n",
        "* The operation is isothermal \r\n",
        "\r\n",
        "* A square root relation holds for flow through the valve \r\n",
        "\r\n",
        "* Constant density "
      ]
    },
    {
      "cell_type": "markdown",
      "metadata": {
        "id": "hQ-MGVTp1E0-"
      },
      "source": [
        "### 3. Scheme of the process\r\n",
        "\r\n",
        "![Imagen4.png](data:image/png;base64,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)"
      ]
    },
    {
      "cell_type": "markdown",
      "metadata": {
        "id": "lqL7uPSz1T_Y"
      },
      "source": [
        "Figure 1. Scheme of the process "
      ]
    },
    {
      "cell_type": "markdown",
      "metadata": {
        "id": "3JrOOhQ_1Xed"
      },
      "source": [
        "### 4. Analysis "
      ]
    },
    {
      "cell_type": "markdown",
      "metadata": {
        "id": "iMPQdFp31awg"
      },
      "source": [
        "#### Establish the model \r\n",
        "\r\n",
        "Mass balance \r\n",
        "\r\n",
        "$$\r\n",
        "\\frac{d(\\rho V)}{dt} = q_i \\rho - q \\rho\r\n",
        "$$\r\n",
        "\r\n",
        "Since \r\n",
        "\r\n",
        "$$\r\n",
        "q = C_v \\sqrt{\\Delta P}\r\n",
        "$$\r\n",
        "\r\n",
        "and \r\n",
        "\r\n",
        "$$\r\n",
        "\\Delta P = P_g + P_l - P_a\r\n",
        "$$\r\n",
        "\r\n",
        "where \r\n",
        "\r\n",
        "$$\r\n",
        "P_g = N_g R T/(V_g) = m_g R T /(M_g V_g) = m_g R T /(M_g A(H-h(t)))\r\n",
        "$$\r\n",
        "\r\n",
        "also \r\n",
        "\r\n",
        "$$\r\n",
        "P_l = \\rho g h\r\n",
        "$$\r\n",
        "\r\n",
        "so we have \r\n",
        "\r\n",
        "$$\r\n",
        "A\\frac{dh}{dt} = q_i - C_v \\sqrt{\\frac{m_g R T}{M_g A (H - h(t))} + \\rho g h(t) - P_a} \\tag{1}\r\n",
        "$$"
      ]
    },
    {
      "cell_type": "markdown",
      "metadata": {
        "id": "r8XCU0GQ2w6U"
      },
      "source": [
        "#### Degrees of freedom analysis \r\n",
        "\r\n",
        "state variables: h (1)\r\n",
        "\r\n",
        "equations: 1 DE (1)\r\n",
        "\r\n",
        "degrees of freedom: 1 - 1 = 0\r\n",
        "\r\n",
        "inputs: qi, Pa, mg\r\n",
        "\r\n",
        "parameters: $\\rho$, A, Cv, Mg, g"
      ]
    },
    {
      "cell_type": "markdown",
      "metadata": {
        "id": "Y-_bBF6C3PVY"
      },
      "source": [
        "#### Steady state\r\n",
        "\r\n",
        "Equating (1) to zero we get \r\n",
        "\r\n",
        "$$\r\n",
        "q_i - C_v \\sqrt{\\frac{m_g R T}{M_g A (H - h(t))} + \\rho g h(t) - P_a} = 0 \\tag{2}\r\n",
        "$$\r\n",
        "\r\n",
        "Solving (2) for h may be challenging so let's use Python "
      ]
    },
    {
      "cell_type": "code",
      "metadata": {
        "id": "JmQy9U8Kz2jm"
      },
      "source": [
        "import sympy as sp "
      ],
      "execution_count": 1,
      "outputs": []
    },
    {
      "cell_type": "code",
      "metadata": {
        "id": "N5Y7h0LE3wln"
      },
      "source": [
        "qi, Cv, mg, R, T, Mg, A, H, h, rho, g, Pa = sp.symbols(\"qi, Cv, mg, R, T, Mg, A, H, h, rho, g, Pa\")"
      ],
      "execution_count": 3,
      "outputs": []
    },
    {
      "cell_type": "code",
      "metadata": {
        "id": "nhzbuFB836VH"
      },
      "source": [
        "eq = sp.Eq(qi - Cv*sp.sqrt(mg*R*T/(Mg*A*(H-h)) + rho*g*h - Pa), 0)"
      ],
      "execution_count": 4,
      "outputs": []
    },
    {
      "cell_type": "code",
      "metadata": {
        "colab": {
          "base_uri": "https://localhost:8080/"
        },
        "id": "iCMqyRTr4MJ6",
        "outputId": "d0d0bc67-349f-4679-a606-6ea526fde667"
      },
      "source": [
        "sp.solve(eq, h)"
      ],
      "execution_count": 5,
      "outputs": [
        {
          "output_type": "execute_result",
          "data": {
            "text/plain": [
              "[(A*Mg*(Cv**2*(H*g*rho + Pa) + qi**2) - Cv**2*sqrt(A*Mg*(2*A*Cv**2*Mg*qi**2*(-H*g*rho + Pa) + A*Mg*qi**4 + Cv**4*(A*H**2*Mg*g**2*rho**2 - 2*A*H*Mg*Pa*g*rho + A*Mg*Pa**2 + 4*R*T*g*mg*rho))/Cv**4))/(2*A*Cv**2*Mg*g*rho),\n",
              " (A*Mg*(Cv**2*(H*g*rho + Pa) + qi**2) + Cv**2*sqrt(A*Mg*(2*A*Cv**2*Mg*qi**2*(-H*g*rho + Pa) + A*Mg*qi**4 + Cv**4*(A*H**2*Mg*g**2*rho**2 - 2*A*H*Mg*Pa*g*rho + A*Mg*Pa**2 + 4*R*T*g*mg*rho))/Cv**4))/(2*A*Cv**2*Mg*g*rho)]"
            ]
          },
          "metadata": {
            "tags": []
          },
          "execution_count": 5
        }
      ]
    },
    {
      "cell_type": "markdown",
      "metadata": {
        "id": "62MxTq6P4SE_"
      },
      "source": [
        "Al menos sabemos que existe una solución :V"
      ]
    },
    {
      "cell_type": "markdown",
      "metadata": {
        "id": "_pC2mrSB4qSF"
      },
      "source": [
        "#### Simulate the model "
      ]
    },
    {
      "cell_type": "code",
      "metadata": {
        "id": "3tzeq2mH50xv"
      },
      "source": [
        "import numpy as np\r\n",
        "import matplotlib.pyplot as plt\r\n",
        "from scipy.integrate import odeint"
      ],
      "execution_count": 9,
      "outputs": []
    },
    {
      "cell_type": "code",
      "metadata": {
        "id": "KQ70F2ld4OYB"
      },
      "source": [
        "def height(s,t,p,u):\r\n",
        "\r\n",
        "    # state variable\r\n",
        "    h = s[0]\r\n",
        "\r\n",
        "    # inputs\r\n",
        "    qi = u[0]\r\n",
        "\r\n",
        "    # parameters\r\n",
        "    Cv = p[0]\r\n",
        "    mg = p[1]\r\n",
        "    R = p[2]\r\n",
        "    T = p[3]\r\n",
        "    Mg = p[4]\r\n",
        "    A = p[5]\r\n",
        "    H = p[6]\r\n",
        "    rho = p[7]\r\n",
        "    g = p[8]\r\n",
        "    Pa = p[9]\r\n",
        "\r\n",
        "    dhdt = (1/A)*(qi - Cv*sp.sqrt(mg*R*T/(Mg*A*(H-h)) + rho*g*h - Pa))\r\n",
        "\r\n",
        "    return dhdt"
      ],
      "execution_count": 43,
      "outputs": []
    },
    {
      "cell_type": "code",
      "metadata": {
        "id": "7r2TFk6P5XK6"
      },
      "source": [
        "# establish parameters\r\n",
        "p = [0.1, 0.1, 8.314, 220, 122, 20, 1.5, 1000, 9.81, 0]"
      ],
      "execution_count": 56,
      "outputs": []
    },
    {
      "cell_type": "code",
      "metadata": {
        "id": "L3uX26Lg5mY1"
      },
      "source": [
        "# establish inputs \r\n",
        "u = [10]\r\n",
        "\r\n",
        "# set inital conditions \r\n",
        "s = [0.8]\r\n",
        "\r\n",
        "# set integration time \r\n",
        "time = np.linspace(0,10,100)"
      ],
      "execution_count": 60,
      "outputs": []
    },
    {
      "cell_type": "code",
      "metadata": {
        "id": "jO574tl46CO5"
      },
      "source": [
        "# solve ODEs\r\n",
        "out = odeint(height, s, time, args=(p,u))"
      ],
      "execution_count": 61,
      "outputs": []
    },
    {
      "cell_type": "code",
      "metadata": {
        "colab": {
          "base_uri": "https://localhost:8080/",
          "height": 282
        },
        "id": "e2bQt8Wm6Im5",
        "outputId": "b85773c0-a237-40fe-e87d-e6644ca8e622"
      },
      "source": [
        "plt.plot(time, out)"
      ],
      "execution_count": 62,
      "outputs": [
        {
          "output_type": "execute_result",
          "data": {
            "text/plain": [
              "[<matplotlib.lines.Line2D at 0x7f5b45844438>]"
            ]
          },
          "metadata": {
            "tags": []
          },
          "execution_count": 62
        },
        {
          "output_type": "display_data",
          "data": {
            "image/png": "[encoded data removed]",
            "text/plain": [
              "<Figure size 432x288 with 1 Axes>"
            ]
          },
          "metadata": {
            "tags": [],
            "needs_background": "light"
          }
        }
      ]
    },
    {
      "cell_type": "code",
      "metadata": {
        "id": "AvIutU7J6LB1"
      },
      "source": [
        ""
      ],
      "execution_count": 62,
      "outputs": []
    }
  ]
}