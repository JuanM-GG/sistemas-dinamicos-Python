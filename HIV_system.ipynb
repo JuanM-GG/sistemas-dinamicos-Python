{
  "nbformat": 4,
  "nbformat_minor": 0,
  "metadata": {
    "colab": {
      "name": "Untitled9.ipynb",
      "provenance": [],
      "authorship_tag": "ABX9TyP3af6jVeJsFMkDrmkd7x7c",
      "include_colab_link": true
    },
    "kernelspec": {
      "name": "python3",
      "display_name": "Python 3"
    }
  },
  "cells": [
    {
      "cell_type": "markdown",
      "metadata": {
        "id": "view-in-github",
        "colab_type": "text"
      },
      "source": [
        "<a href=\"https://colab.research.google.com/github/JuanM-GG/sistemas-dinamicos-Python/blob/main/HIV_system.ipynb\" target=\"_parent\"><img src=\"https://colab.research.google.com/assets/colab-badge.svg\" alt=\"Open In Colab\"/></a>"
      ]
    },
    {
      "cell_type": "markdown",
      "metadata": {
        "id": "Sg7jmmGzbaun"
      },
      "source": [
        "Título: Simulating HIV\r\n",
        "\r\n",
        "Nombre: Juan Manuel G.G\r\n",
        "\r\n",
        "Fecha: December 8, 2020"
      ]
    },
    {
      "cell_type": "markdown",
      "metadata": {
        "id": "j5ScFRoRwP6c"
      },
      "source": [
        "# Simular la infección por VIH\r\n",
        "\r\n",
        "La infección por el virus de la inmunodeficiencia humana (VIH) se propaga y puede convertirse en síndrome de inmunodeficiencia adquirida (SIDA). El SIDA puede provocar fallas en el sistema inmunológico y, finalmente, la incapacidad de defender al cuerpo contra infecciones o cáncer. Sin tratamiento con medicamentos antirretrovirales, el tiempo de supervivencia después de la infección por el VIH es de aproximadamente 9 a 11 años, según varios factores. La Organización Mundial de la Salud recomienda los medicamentos antirretrovirales como TDF (tenofovir), 3TC (lamivudina) o FTC (emtricitabina) y EFV (efavirenz) tan pronto como se diagnostica la infección por VIH. Esta simulación predice la propagación de la infección por VIH en un cuerpo con una infección inicial."
      ]
    },
    {
      "cell_type": "markdown",
      "metadata": {
        "id": "HKiJvusSbnfe"
      },
      "source": [
        "$$ \\frac{dH}{dt} = kr1 - kr2*H(t) - kr3*H(t)*V(t)$$\\\r\n",
        "$$ \\frac{dI}{dt} = kr3*H(t)*V(t) - kr4*I(t)$$\\\r\n",
        "$$ \\frac{dV}{dt} = - kr3*H(t)*V(t) - kr5*V(t) + kr6*I(t)$$\r\n",
        "\r\n",
        "\r\n",
        "---\r\n",
        "kr1 = 1e5, new healthy cells per year\r\n",
        "\r\n",
        "kr2 = 0.1, death rate of healthy cells\r\n",
        "\r\n",
        "kr3 = 2e-7, healthy cells converting to infected cells\r\n",
        "\r\n",
        "kr4 = 0.5, death rate of infected cells \r\n",
        "\r\n",
        "kr5 = 5, death rate of viruses\r\n",
        "\r\n",
        "kr6 = 100, production of viruses by infected cells\r\n",
        "\r\n",
        "\r\n"
      ]
    },
    {
      "cell_type": "markdown",
      "metadata": {
        "id": "pTt0cOuPdXDS"
      },
      "source": [
        "Import libraries"
      ]
    },
    {
      "cell_type": "code",
      "metadata": {
        "id": "q0aPSVT8dbT-"
      },
      "source": [
        "import numpy as np\r\n",
        "import matplotlib.pyplot as plt\r\n",
        "from scipy.integrate import odeint"
      ],
      "execution_count": 1,
      "outputs": []
    },
    {
      "cell_type": "markdown",
      "metadata": {
        "id": "igb1hl_jcz96"
      },
      "source": [
        "Establish the model"
      ]
    },
    {
      "cell_type": "code",
      "metadata": {
        "id": "sxAda4jebke2"
      },
      "source": [
        "def model(s, t, p):\r\n",
        "  H = s[0]\r\n",
        "  I = s[1]\r\n",
        "  V = s[2]\r\n",
        "\r\n",
        "  dHdt = p[0] - p[1]*H - p[2]*H*V\r\n",
        "  dIdt = p[2]*H*V - p[3]*I\r\n",
        "  dVdt = - p[2]*H*V - p[4]*V + p[5]*I\r\n",
        "\r\n",
        "  return [dHdt, dIdt, dVdt]"
      ],
      "execution_count": 2,
      "outputs": []
    },
    {
      "cell_type": "markdown",
      "metadata": {
        "id": "G_iDmP_LdI51"
      },
      "source": [
        "Initial conditions"
      ]
    },
    {
      "cell_type": "code",
      "metadata": {
        "id": "iB96fVIadHrP"
      },
      "source": [
        "s = [1e6, 0, 100]"
      ],
      "execution_count": 3,
      "outputs": []
    },
    {
      "cell_type": "markdown",
      "metadata": {
        "id": "6xdK-P8tmfjh"
      },
      "source": [
        "Establish value of parameters "
      ]
    },
    {
      "cell_type": "code",
      "metadata": {
        "id": "sDaHJB17mjn8"
      },
      "source": [
        "p = [1e5, 0.1, 2e-7, 0.5, 5, 100]"
      ],
      "execution_count": 4,
      "outputs": []
    },
    {
      "cell_type": "markdown",
      "metadata": {
        "id": "vn-vVe4vmwsh"
      },
      "source": [
        "Set integration time"
      ]
    },
    {
      "cell_type": "code",
      "metadata": {
        "id": "pwrlw_67mz-K"
      },
      "source": [
        "t = np.linspace(0,15)"
      ],
      "execution_count": 5,
      "outputs": []
    },
    {
      "cell_type": "markdown",
      "metadata": {
        "id": "Wob5nkDcnKCg"
      },
      "source": [
        "Solve ODE"
      ]
    },
    {
      "cell_type": "code",
      "metadata": {
        "id": "AxC6haU7nMUs"
      },
      "source": [
        "out = odeint(model,s,t, args=(p,))"
      ],
      "execution_count": 6,
      "outputs": []
    },
    {
      "cell_type": "markdown",
      "metadata": {
        "id": "K5c6B1Ebeh7z"
      },
      "source": [
        "Plot results"
      ]
    },
    {
      "cell_type": "code",
      "metadata": {
        "colab": {
          "base_uri": "https://localhost:8080/",
          "height": 279
        },
        "id": "9Nsxmr0zefs6",
        "outputId": "e1627cd4-579e-4645-a81a-272e20ded977"
      },
      "source": [
        "plt.plot(t,out[:,0],\"k-\", )\r\n",
        "plt.plot(t,out[:,1],\"r-\")\r\n",
        "plt.plot(t,out[:,2],\"b--\")\r\n",
        "plt.xlabel(\"time\")\r\n",
        "plt.legend([\"H(t)\",\"I(t)\",\"V(t)\"])\r\n",
        "plt.yscale('log')\r\n",
        "plt.show()"
      ],
      "execution_count": 8,
      "outputs": [
        {
          "output_type": "display_data",
          "data": {
            "image/png": "[encoded data removed]",
            "text/plain": [
              "<Figure size 432x288 with 1 Axes>"
            ]
          },
          "metadata": {
            "tags": [],
            "needs_background": "light"
          }
        }
      ]
    }
  ]
}