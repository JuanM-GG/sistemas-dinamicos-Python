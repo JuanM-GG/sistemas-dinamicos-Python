{
  "nbformat": 4,
  "nbformat_minor": 0,
  "metadata": {
    "colab": {
      "name": "Untitled9.ipynb",
      "provenance": [],
      "authorship_tag": "ABX9TyMBCNNU6A+iFdwZev/qpQb5",
      "include_colab_link": true
    },
    "kernelspec": {
      "name": "python3",
      "display_name": "Python 3"
    }
  },
  "cells": [
    {
      "cell_type": "markdown",
      "metadata": {
        "id": "view-in-github",
        "colab_type": "text"
      },
      "source": [
        "<a href=\"https://colab.research.google.com/github/JuanM-GG/Control-with-python-/blob/main/reactor_continuo.ipynb\" target=\"_parent\"><img src=\"https://colab.research.google.com/assets/colab-badge.svg\" alt=\"Open In Colab\"/></a>"
      ]
    },
    {
      "cell_type": "markdown",
      "metadata": {
        "id": "rJ8-8TiO-UFU"
      },
      "source": [
        "Título: Reactor continuo\r\n",
        "\r\n",
        "Nombre: Juan Manuel G.G\r\n",
        "\r\n",
        "Fecha: Diciembre 8, 2020"
      ]
    },
    {
      "cell_type": "markdown",
      "metadata": {
        "id": "YwObj5b5-vWx"
      },
      "source": [
        "Importar librerías"
      ]
    },
    {
      "cell_type": "code",
      "metadata": {
        "id": "1zhFT-5Y-uwd"
      },
      "source": [
        "import numpy as np\r\n",
        "import matplotlib.pyplot as plt\r\n",
        "from scipy.integrate import odeint"
      ],
      "execution_count": 47,
      "outputs": []
    },
    {
      "cell_type": "markdown",
      "metadata": {
        "id": "Z2tLDjOL-daG"
      },
      "source": [
        "Establecer el modelo"
      ]
    },
    {
      "cell_type": "code",
      "metadata": {
        "id": "y1MEkNND-cbX"
      },
      "source": [
        "def mixer(x, t, p):\r\n",
        "\r\n",
        "  Ca = x[0]\r\n",
        "  T = x[1]\r\n",
        "\r\n",
        "  Caf = p[0]\r\n",
        "  q = p[1]\r\n",
        "  V = p[2]\r\n",
        "  Tf = p[3]\r\n",
        "\r\n",
        "  dCadt = q/V*(Caf - Ca)\r\n",
        "  dTdt = q/V*(Tf- T)\r\n",
        "\r\n",
        "  return [dCadt, dTdt]"
      ],
      "execution_count": 146,
      "outputs": []
    },
    {
      "cell_type": "markdown",
      "metadata": {
        "id": "9ljbX5p3-89s"
      },
      "source": [
        "Fijar tiempo de integración"
      ]
    },
    {
      "cell_type": "code",
      "metadata": {
        "id": "nDN_YmVJ_Ax4"
      },
      "source": [
        "t = np.linspace(0,10,100)"
      ],
      "execution_count": 137,
      "outputs": []
    },
    {
      "cell_type": "markdown",
      "metadata": {
        "id": "YRqygKz4_IVQ"
      },
      "source": [
        "Dar valor a parámetros"
      ]
    },
    {
      "cell_type": "code",
      "metadata": {
        "id": "MnCIQb-X_EOE"
      },
      "source": [
        "Caf = 1\r\n",
        "q = 100\r\n",
        "V = 100\r\n",
        "Tf = 300\r\n",
        "p = [Caf, q, V, Tf]\r\n"
      ],
      "execution_count": 155,
      "outputs": []
    },
    {
      "cell_type": "markdown",
      "metadata": {
        "id": "C0mZrn-K_UUe"
      },
      "source": [
        "Condiciones iniciales"
      ]
    },
    {
      "cell_type": "code",
      "metadata": {
        "id": "zDlY2WSl_Ey9"
      },
      "source": [
        "x = [0.0, 350]"
      ],
      "execution_count": 156,
      "outputs": []
    },
    {
      "cell_type": "markdown",
      "metadata": {
        "id": "qXp-RJED_eXd"
      },
      "source": [
        "Resolver ODE"
      ]
    },
    {
      "cell_type": "code",
      "metadata": {
        "colab": {
          "base_uri": "https://localhost:8080/"
        },
        "id": "w8TlWNwb_YZy",
        "outputId": "ba1b15e1-792d-4097-996c-b56ca4987cdb"
      },
      "source": [
        "out = odeint(mixer, x, t, args= (p,))\r\n",
        "Ca = out[:,0]\r\n",
        "T = out[:,1]"
      ],
      "execution_count": 160,
      "outputs": [
        {
          "output_type": "execute_result",
          "data": {
            "text/plain": [
              "array([0.        , 0.09607608, 0.18292157, 0.26142329, 0.33238284,\n",
              "       0.39652489, 0.45450442, 0.50691351, 0.55428733, 0.59710964,\n",
              "       0.6358178 , 0.67080702, 0.7024346 , 0.73102352, 0.75686574,\n",
              "       0.78022513, 0.80134024, 0.8204267 , 0.83767941, 0.85327454,\n",
              "       0.86737135, 0.8801138 , 0.891632  , 0.90204358, 0.91145485,\n",
              "       0.91996192, 0.92765167, 0.93460262, 0.94088574, 0.94656521,\n",
              "       0.95169902, 0.95633959, 0.9605343 , 0.96432601, 0.96775343,\n",
              "       0.97085155, 0.97365202, 0.97618343, 0.97847163, 0.98054   ,\n",
              "       0.98240964, 0.98409965, 0.98562729, 0.98700817, 0.98825637,\n",
              "       0.98938465, 0.99040453, 0.99132643, 0.99215975, 0.99291301,\n",
              "       0.9935939 , 0.99420937, 0.99476572, 0.9952686 , 0.99572318,\n",
              "       0.99613408, 0.9965055 , 0.99684124, 0.99714472, 0.99741905,\n",
              "       0.99766702, 0.99789116, 0.99809377, 0.99827691, 0.99844246,\n",
              "       0.9985921 , 0.99872737, 0.99884964, 0.99896016, 0.99906007,\n",
              "       0.99915037, 0.999232  , 0.99930579, 0.99937248, 0.99943277,\n",
              "       0.99948727, 0.99953653, 0.99958106, 0.99962131, 0.99965769,\n",
              "       0.99969058, 0.99972031, 0.99974718, 0.99977147, 0.99979343,\n",
              "       0.99981327, 0.99983121, 0.99984743, 0.99986209, 0.99987534,\n",
              "       0.99988731, 0.99989814, 0.99990793, 0.99991677, 0.99992477,\n",
              "       0.999932  , 0.99993853, 0.99994443, 0.99994977, 0.9999546 ])"
            ]
          },
          "metadata": {
            "tags": []
          },
          "execution_count": 160
        }
      ]
    },
    {
      "cell_type": "markdown",
      "metadata": {
        "id": "m5cE-EMcSCcw"
      },
      "source": [
        "Guardar datos"
      ]
    },
    {
      "cell_type": "code",
      "metadata": {
        "colab": {
          "base_uri": "https://localhost:8080/"
        },
        "id": "DdQ-5B9mSFNU",
        "outputId": "2f98f712-cfd8-4e40-f3e6-e0b870945615"
      },
      "source": [
        "data = np.vstack((t, Ca.T, T.T))\r\n",
        "data = data.T\r\n",
        "np.savetxt(\"data.txt\", data, delimiter=\",\")\r\n",
        "data"
      ],
      "execution_count": 162,
      "outputs": [
        {
          "output_type": "execute_result",
          "data": {
            "text/plain": [
              "array([[0.00000000e+00, 0.00000000e+00, 3.50000000e+02],\n",
              "       [1.01010101e-01, 9.60760838e-02, 3.45196196e+02],\n",
              "       [2.02020202e-01, 1.82921569e-01, 3.40853922e+02],\n",
              "       [3.03030303e-01, 2.61423292e-01, 3.36928835e+02],\n",
              "       [4.04040404e-01, 3.32382844e-01, 3.33380858e+02],\n",
              "       [5.05050505e-01, 3.96524893e-01, 3.30173755e+02],\n",
              "       [6.06060606e-01, 4.54504425e-01, 3.27274779e+02],\n",
              "       [7.07070707e-01, 5.06913510e-01, 3.24654325e+02],\n",
              "       [8.08080808e-01, 5.54287331e-01, 3.22285633e+02],\n",
              "       [9.09090909e-01, 5.97109644e-01, 3.20144518e+02],\n",
              "       [1.01010101e+00, 6.35817799e-01, 3.18209110e+02],\n",
              "       [1.11111111e+00, 6.70807016e-01, 3.16459649e+02],\n",
              "       [1.21212121e+00, 7.02434601e-01, 3.14878270e+02],\n",
              "       [1.31313131e+00, 7.31023524e-01, 3.13448824e+02],\n",
              "       [1.41414141e+00, 7.56865737e-01, 3.12156713e+02],\n",
              "       [1.51515152e+00, 7.80225130e-01, 3.10988743e+02],\n",
              "       [1.61616162e+00, 8.01340243e-01, 3.09932988e+02],\n",
              "       [1.71717172e+00, 8.20426699e-01, 3.08978665e+02],\n",
              "       [1.81818182e+00, 8.37679407e-01, 3.08116030e+02],\n",
              "       [1.91919192e+00, 8.53274539e-01, 3.07336273e+02],\n",
              "       [2.02020202e+00, 8.67371352e-01, 3.06631432e+02],\n",
              "       [2.12121212e+00, 8.80113797e-01, 3.05994310e+02],\n",
              "       [2.22222222e+00, 8.91631997e-01, 3.05418400e+02],\n",
              "       [2.32323232e+00, 9.02043575e-01, 3.04897821e+02],\n",
              "       [2.42424242e+00, 9.11454848e-01, 3.04427258e+02],\n",
              "       [2.52525253e+00, 9.19961922e-01, 3.04001904e+02],\n",
              "       [2.62626263e+00, 9.27651670e-01, 3.03617416e+02],\n",
              "       [2.72727273e+00, 9.34602616e-01, 3.03269869e+02],\n",
              "       [2.82828283e+00, 9.40885743e-01, 3.02955713e+02],\n",
              "       [2.92929293e+00, 9.46565214e-01, 3.02671739e+02],\n",
              "       [3.03030303e+00, 9.51699022e-01, 3.02415049e+02],\n",
              "       [3.13131313e+00, 9.56339586e-01, 3.02183021e+02],\n",
              "       [3.23232323e+00, 9.60534303e-01, 3.01973285e+02],\n",
              "       [3.33333333e+00, 9.64326010e-01, 3.01783700e+02],\n",
              "       [3.43434343e+00, 9.67753426e-01, 3.01612329e+02],\n",
              "       [3.53535354e+00, 9.70851552e-01, 3.01457422e+02],\n",
              "       [3.63636364e+00, 9.73652021e-01, 3.01317399e+02],\n",
              "       [3.73737374e+00, 9.76183431e-01, 3.01190828e+02],\n",
              "       [3.83838384e+00, 9.78471634e-01, 3.01076418e+02],\n",
              "       [3.93939394e+00, 9.80539996e-01, 3.00973000e+02],\n",
              "       [4.04040404e+00, 9.82409638e-01, 3.00879518e+02],\n",
              "       [4.14141414e+00, 9.84099650e-01, 3.00795017e+02],\n",
              "       [4.24242424e+00, 9.85627294e-01, 3.00718635e+02],\n",
              "       [4.34343434e+00, 9.87008167e-01, 3.00649592e+02],\n",
              "       [4.44444444e+00, 9.88256371e-01, 3.00587181e+02],\n",
              "       [4.54545455e+00, 9.89384654e-01, 3.00530767e+02],\n",
              "       [4.64646465e+00, 9.90404535e-01, 3.00479773e+02],\n",
              "       [4.74747475e+00, 9.91326429e-01, 3.00433679e+02],\n",
              "       [4.84848485e+00, 9.92159752e-01, 3.00392012e+02],\n",
              "       [4.94949495e+00, 9.92913012e-01, 3.00354349e+02],\n",
              "       [5.05050505e+00, 9.93593902e-01, 3.00320305e+02],\n",
              "       [5.15151515e+00, 9.94209375e-01, 3.00289531e+02],\n",
              "       [5.25252525e+00, 9.94765715e-01, 3.00261714e+02],\n",
              "       [5.35353535e+00, 9.95268605e-01, 3.00236570e+02],\n",
              "       [5.45454545e+00, 9.95723179e-01, 3.00213841e+02],\n",
              "       [5.55555556e+00, 9.96134080e-01, 3.00193296e+02],\n",
              "       [5.65656566e+00, 9.96505504e-01, 3.00174725e+02],\n",
              "       [5.75757576e+00, 9.96841242e-01, 3.00157938e+02],\n",
              "       [5.85858586e+00, 9.97144724e-01, 3.00142764e+02],\n",
              "       [5.95959596e+00, 9.97419047e-01, 3.00129048e+02],\n",
              "       [6.06060606e+00, 9.97667016e-01, 3.00116649e+02],\n",
              "       [6.16161616e+00, 9.97891160e-01, 3.00105442e+02],\n",
              "       [6.26262626e+00, 9.98093769e-01, 3.00095312e+02],\n",
              "       [6.36363636e+00, 9.98276913e-01, 3.00086154e+02],\n",
              "       [6.46464646e+00, 9.98442460e-01, 3.00077877e+02],\n",
              "       [6.56565657e+00, 9.98592103e-01, 3.00070395e+02],\n",
              "       [6.66666667e+00, 9.98727369e-01, 3.00063632e+02],\n",
              "       [6.76767677e+00, 9.98849639e-01, 3.00057518e+02],\n",
              "       [6.86868687e+00, 9.98960161e-01, 3.00051992e+02],\n",
              "       [6.96969697e+00, 9.99060065e-01, 3.00046997e+02],\n",
              "       [7.07070707e+00, 9.99150370e-01, 3.00042481e+02],\n",
              "       [7.17171717e+00, 9.99231999e-01, 3.00038400e+02],\n",
              "       [7.27272727e+00, 9.99305786e-01, 3.00034711e+02],\n",
              "       [7.37373737e+00, 9.99372484e-01, 3.00031376e+02],\n",
              "       [7.47474747e+00, 9.99432773e-01, 3.00028361e+02],\n",
              "       [7.57575758e+00, 9.99487270e-01, 3.00025636e+02],\n",
              "       [7.67676768e+00, 9.99536531e-01, 3.00023173e+02],\n",
              "       [7.77777778e+00, 9.99581060e-01, 3.00020947e+02],\n",
              "       [7.87878788e+00, 9.99621310e-01, 3.00018935e+02],\n",
              "       [7.97979798e+00, 9.99657693e-01, 3.00017115e+02],\n",
              "       [8.08080808e+00, 9.99690581e-01, 3.00015471e+02],\n",
              "       [8.18181818e+00, 9.99720308e-01, 3.00013985e+02],\n",
              "       [8.28282828e+00, 9.99747180e-01, 3.00012641e+02],\n",
              "       [8.38383838e+00, 9.99771470e-01, 3.00011426e+02],\n",
              "       [8.48484848e+00, 9.99793427e-01, 3.00010329e+02],\n",
              "       [8.58585859e+00, 9.99813274e-01, 3.00009336e+02],\n",
              "       [8.68686869e+00, 9.99831214e-01, 3.00008439e+02],\n",
              "       [8.78787879e+00, 9.99847429e-01, 3.00007629e+02],\n",
              "       [8.88888889e+00, 9.99862087e-01, 3.00006896e+02],\n",
              "       [8.98989899e+00, 9.99875337e-01, 3.00006233e+02],\n",
              "       [9.09090909e+00, 9.99887313e-01, 3.00005634e+02],\n",
              "       [9.19191919e+00, 9.99898139e-01, 3.00005093e+02],\n",
              "       [9.29292929e+00, 9.99907925e-01, 3.00004604e+02],\n",
              "       [9.39393939e+00, 9.99916771e-01, 3.00004161e+02],\n",
              "       [9.49494949e+00, 9.99924768e-01, 3.00003762e+02],\n",
              "       [9.59595960e+00, 9.99931996e-01, 3.00003400e+02],\n",
              "       [9.69696970e+00, 9.99938529e-01, 3.00003074e+02],\n",
              "       [9.79797980e+00, 9.99944435e-01, 3.00002778e+02],\n",
              "       [9.89898990e+00, 9.99949774e-01, 3.00002511e+02],\n",
              "       [1.00000000e+01, 9.99954599e-01, 3.00002270e+02]])"
            ]
          },
          "metadata": {
            "tags": []
          },
          "execution_count": 162
        }
      ]
    },
    {
      "cell_type": "markdown",
      "metadata": {
        "id": "YD4X2s3iAKWB"
      },
      "source": [
        "Mostrar resultados"
      ]
    },
    {
      "cell_type": "code",
      "metadata": {
        "colab": {
          "base_uri": "https://localhost:8080/",
          "height": 279
        },
        "id": "gOMP1Fxm__eh",
        "outputId": "f0ce2ddc-ae89-4779-a62b-7dd0d3687908"
      },
      "source": [
        "plt.plot(t, out[:,0], \"r\",linewidth = 3)\r\n",
        "plt.ylabel(\"Ca (mol/L)\")\r\n",
        "plt.legend([\"Concentration\"], loc = \"best\")\r\n",
        "plt.xlabel(\"Time (hr)\")\r\n",
        "plt.show()"
      ],
      "execution_count": 152,
      "outputs": [
        {
          "output_type": "display_data",
          "data": {
            "image/png": "[encoded data removed]",
            "text/plain": [
              "<Figure size 432x288 with 1 Axes>"
            ]
          },
          "metadata": {
            "tags": [],
            "needs_background": "light"
          }
        }
      ]
    },
    {
      "cell_type": "code",
      "metadata": {
        "colab": {
          "base_uri": "https://localhost:8080/",
          "height": 279
        },
        "id": "l-1BZPINZhi5",
        "outputId": "003aaf22-bff6-497f-c853-07a44bf090b0"
      },
      "source": [
        "plt.plot(t, out[:,1], \"b\",linewidth = 3)\r\n",
        "plt.ylabel(\"T (K)\")\r\n",
        "plt.legend([\"Temperature\"], loc = \"best\")\r\n",
        "plt.xlabel(\"Time (hr)\")\r\n",
        "plt.show()"
      ],
      "execution_count": 158,
      "outputs": [
        {
          "output_type": "display_data",
          "data": {
            "image/png": "[encoded data removed]",
            "text/plain": [
              "<Figure size 432x288 with 1 Axes>"
            ]
          },
          "metadata": {
            "tags": [],
            "needs_background": "light"
          }
        }
      ]
    },
    {
      "cell_type": "code",
      "metadata": {
        "id": "cABB84plZn4r"
      },
      "source": [
        ""
      ],
      "execution_count": null,
      "outputs": []
    }
  ]
}