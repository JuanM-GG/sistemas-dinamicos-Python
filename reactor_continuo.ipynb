{
  "nbformat": 4,
  "nbformat_minor": 0,
  "metadata": {
    "colab": {
      "name": "Untitled9.ipynb",
      "provenance": [],
      "authorship_tag": "ABX9TyP38wU5IUw5WPYnHHKOvCbT",
      "include_colab_link": true
    },
    "kernelspec": {
      "name": "python3",
      "display_name": "Python 3"
    }
  },
  "cells": [
    {
      "cell_type": "markdown",
      "metadata": {
        "id": "view-in-github",
        "colab_type": "text"
      },
      "source": [
        "<a href=\"https://colab.research.google.com/github/JuanM-GG/Control-with-python-/blob/main/reactor_continuo.ipynb\" target=\"_parent\"><img src=\"https://colab.research.google.com/assets/colab-badge.svg\" alt=\"Open In Colab\"/></a>"
      ]
    },
    {
      "cell_type": "markdown",
      "metadata": {
        "id": "rJ8-8TiO-UFU"
      },
      "source": [
        "Título: Reactor continuo\r\n",
        "\r\n",
        "Nombre: Juan Manuel G.G\r\n",
        "\r\n",
        "Fecha: Diciembre 8, 2020"
      ]
    },
    {
      "cell_type": "markdown",
      "metadata": {
        "id": "YwObj5b5-vWx"
      },
      "source": [
        "Importar librerías"
      ]
    },
    {
      "cell_type": "code",
      "metadata": {
        "id": "1zhFT-5Y-uwd"
      },
      "source": [
        "import numpy as np\r\n",
        "import matplotlib.pyplot as plt\r\n",
        "from scipy.integrate import odeint"
      ],
      "execution_count": 47,
      "outputs": []
    },
    {
      "cell_type": "markdown",
      "metadata": {
        "id": "Z2tLDjOL-daG"
      },
      "source": [
        "Establecer el modelo"
      ]
    },
    {
      "cell_type": "code",
      "metadata": {
        "id": "y1MEkNND-cbX"
      },
      "source": [
        "def mixer(x, t, p):\r\n",
        "\r\n",
        "  Ca = x[0]\r\n",
        "\r\n",
        "  Caf = p[0]\r\n",
        "  q = p[1]\r\n",
        "  V = p[2]\r\n",
        "  \r\n",
        "  dCadt = q/V*(Caf - Ca)\r\n",
        "\r\n",
        "  return dCadt"
      ],
      "execution_count": 136,
      "outputs": []
    },
    {
      "cell_type": "markdown",
      "metadata": {
        "id": "9ljbX5p3-89s"
      },
      "source": [
        "Fijar tiempo de integración"
      ]
    },
    {
      "cell_type": "code",
      "metadata": {
        "id": "nDN_YmVJ_Ax4"
      },
      "source": [
        "t = np.linspace(0,10,100)"
      ],
      "execution_count": 137,
      "outputs": []
    },
    {
      "cell_type": "markdown",
      "metadata": {
        "id": "YRqygKz4_IVQ"
      },
      "source": [
        "Dar valor a parámetros"
      ]
    },
    {
      "cell_type": "code",
      "metadata": {
        "id": "MnCIQb-X_EOE"
      },
      "source": [
        "Caf = 1\r\n",
        "q = 100\r\n",
        "V = 100\r\n",
        "p = [Caf, q, V]\r\n"
      ],
      "execution_count": 138,
      "outputs": []
    },
    {
      "cell_type": "markdown",
      "metadata": {
        "id": "C0mZrn-K_UUe"
      },
      "source": [
        "Condiciones iniciales"
      ]
    },
    {
      "cell_type": "code",
      "metadata": {
        "id": "zDlY2WSl_Ey9"
      },
      "source": [
        "Ca0 = 0.0"
      ],
      "execution_count": 139,
      "outputs": []
    },
    {
      "cell_type": "markdown",
      "metadata": {
        "id": "qXp-RJED_eXd"
      },
      "source": [
        "Resolver ODE"
      ]
    },
    {
      "cell_type": "code",
      "metadata": {
        "id": "w8TlWNwb_YZy"
      },
      "source": [
        "Ca = odeint(mixer, Ca0, t, args= (p,))"
      ],
      "execution_count": 140,
      "outputs": []
    },
    {
      "cell_type": "markdown",
      "metadata": {
        "id": "m5cE-EMcSCcw"
      },
      "source": [
        "Guardar datos"
      ]
    },
    {
      "cell_type": "code",
      "metadata": {
        "id": "DdQ-5B9mSFNU"
      },
      "source": [
        "data = np.vstack((t, Ca.T))\r\n",
        "data = data.T\r\n",
        "np.savetxt(\"data.txt\", data, delimiter=\",\")"
      ],
      "execution_count": 141,
      "outputs": []
    },
    {
      "cell_type": "markdown",
      "metadata": {
        "id": "YD4X2s3iAKWB"
      },
      "source": [
        "Mostrar resultados"
      ]
    },
    {
      "cell_type": "code",
      "metadata": {
        "colab": {
          "base_uri": "https://localhost:8080/",
          "height": 279
        },
        "id": "gOMP1Fxm__eh",
        "outputId": "226bb609-4e97-4f59-cd7e-5b33149179dd"
      },
      "source": [
        "plt.plot(t, Ca, \"r\",linewidth = 3)\r\n",
        "plt.ylabel(\"Ca (mol/L)\")\r\n",
        "plt.legend([\"Concentration\"], loc = \"best\")\r\n",
        "plt.xlabel(\"Time (hr)\")\r\n",
        "plt.show()"
      ],
      "execution_count": 142,
      "outputs": [
        {
          "output_type": "display_data",
          "data": {
            "image/png": "[encoded data removed]",
            "text/plain": [
              "<Figure size 432x288 with 1 Axes>"
            ]
          },
          "metadata": {
            "tags": [],
            "needs_background": "light"
          }
        }
      ]
    }
  ]
}