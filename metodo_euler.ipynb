{
  "nbformat": 4,
  "nbformat_minor": 0,
  "metadata": {
    "colab": {
      "name": "Untitled9.ipynb",
      "provenance": [],
      "authorship_tag": "ABX9TyMnuOhgBNfN1Byjzcfkb1/i",
      "include_colab_link": true
    },
    "kernelspec": {
      "name": "python3",
      "display_name": "Python 3"
    }
  },
  "cells": [
    {
      "cell_type": "markdown",
      "metadata": {
        "id": "view-in-github",
        "colab_type": "text"
      },
      "source": [
        "<a href=\"https://colab.research.google.com/github/JuanM-GG/sistemas-dinamicos-Python/blob/main/metodo_euler.ipynb\" target=\"_parent\"><img src=\"https://colab.research.google.com/assets/colab-badge.svg\" alt=\"Open In Colab\"/></a>"
      ]
    },
    {
      "cell_type": "markdown",
      "metadata": {
        "id": "eeTd5aea1Mcb"
      },
      "source": [
        "Título: Método de Euler\r\n",
        "\r\n",
        "Autor: Biología de sistemas\r\n",
        "\r\n",
        "Feach: 15 de diciembre del 2020"
      ]
    },
    {
      "cell_type": "markdown",
      "metadata": {
        "id": "L0eQ06W29atO"
      },
      "source": [
        "### Problem #2\r\n",
        "\r\n",
        "We are performing a chemical reaction as follows:\r\n",
        "\r\n",
        "***Reaction 1:*** $A + B \\rightarrow C$\r\n",
        "\r\n",
        "***Reaction 2:*** $B + C \\rightarrow D$\r\n",
        "\r\n",
        "Product $C$ is desired, but as soon as some $C$ is formed, some $B$ reacts with it to form an undesired product $D$.\r\n",
        "\r\n",
        "The rate of change of the concentrations of each of the species is given by\r\n",
        "\r\n",
        "$\\frac{dA}{dt} = -k_1 \\, A \\, B$\r\n",
        "\r\n",
        "$\\frac{dB}{dt} = -k_1 \\, A \\, B - k_2 \\, B \\, C$\r\n",
        "\r\n",
        "$\\frac{dC}{dt} = k_1 \\, A \\, B – k_2 \\, B \\, C$\r\n",
        "\r\n",
        "$\\frac{dD}{dt} = k_2 \\, B \\, C$\r\n",
        "\r\n",
        "The symbols $A$, $B$, $C$, and $D$ are the species concentrations in $mol/L$.  The initial concentrations are $A_0$=1, $B_0$=1, $C_0$=0, $D_0$=0.  Also, $k_1$ = 1 L/mol-s, and $k_2$ = 1.5 L/mol-s.\r\n",
        "\r\n",
        "***Action 2a:*** Solve for the concentrations of $A$, $B$, $C$, and $D$ as functions of time. Use a time step size of $\\Delta t$=0.2 s and solve to a final time of $t$=3 s. Use Euler's equation applied to each species with $dy/dt = f(y,t)$ translated to $y_{n+1} = y_n + \\Delta t \\, f(y_n)$."
      ]
    },
    {
      "cell_type": "markdown",
      "metadata": {
        "id": "b6-ivIl31aQD"
      },
      "source": [
        "Impotar librerías "
      ]
    },
    {
      "cell_type": "code",
      "metadata": {
        "id": "UEA3BR-B1VGN"
      },
      "source": [
        "import numpy as np\r\n",
        "import matplotlib.pyplot as plt\r\n",
        "from scipy.integrate import odeint"
      ],
      "execution_count": 30,
      "outputs": []
    },
    {
      "cell_type": "markdown",
      "metadata": {
        "id": "CrBFWgg31imC"
      },
      "source": [
        "Establecer parámetros "
      ]
    },
    {
      "cell_type": "code",
      "metadata": {
        "id": "_CNPZ16k1hNM"
      },
      "source": [
        "k1 = 1\r\n",
        "k2 = 1.5\r\n",
        "tf = 3.0\r\n",
        "dt = 0.2"
      ],
      "execution_count": 16,
      "outputs": []
    },
    {
      "cell_type": "markdown",
      "metadata": {
        "id": "39_h6lUC1rIX"
      },
      "source": [
        "Tiempo de simulación "
      ]
    },
    {
      "cell_type": "code",
      "metadata": {
        "id": "qAve8p7r1qNy"
      },
      "source": [
        "t = np.arange(0,tf +0.01, dt)\r\n",
        "n = len(t)"
      ],
      "execution_count": 22,
      "outputs": []
    },
    {
      "cell_type": "markdown",
      "metadata": {
        "id": "KnhSxNNB2cPo"
      },
      "source": [
        "Vectores para guardar las concentraciones "
      ]
    },
    {
      "cell_type": "code",
      "metadata": {
        "id": "zNTd2aLF11fa"
      },
      "source": [
        "Ca = np.ones(n)\r\n",
        "Cb = np.ones(n)\r\n",
        "Cc = np.zeros(n)\r\n",
        "Cd = np.zeros(n)"
      ],
      "execution_count": 26,
      "outputs": []
    },
    {
      "cell_type": "markdown",
      "metadata": {
        "id": "KDUb6PyV2qjN"
      },
      "source": [
        "Método de Euler\r\n",
        "\r\n",
        "$$ \\vec{x}_{i+1} = \\vec{x}_{i} + F(\\vec{x}_{i}, \\vec{p}) * \\Delta t $$"
      ]
    },
    {
      "cell_type": "code",
      "metadata": {
        "id": "IJ72Lenq2pur"
      },
      "source": [
        "for i in range(1,n):\r\n",
        "\r\n",
        "  r1 = k1*Ca[i-1]*Cb[i-1]\r\n",
        "  r2 = k2*Cb[i-1]*Cc[i-1]\r\n",
        "\r\n",
        "  Ca[i] = Ca[i-1] - r1*dt \r\n",
        "  Cb[i] = Cb[i-1] - (r1 + r2)*dt\r\n",
        "  Cc[i] = Cc[i-1] + (r1 - r2)*dt\r\n",
        "  Cd[i] = Cd[i-1] + r2*dt\r\n"
      ],
      "execution_count": 27,
      "outputs": []
    },
    {
      "cell_type": "markdown",
      "metadata": {
        "id": "z_bNzh6D4ilD"
      },
      "source": [
        "Graficar resultados "
      ]
    },
    {
      "cell_type": "code",
      "metadata": {
        "id": "mJiiyzFa4c8n",
        "outputId": "0f041cde-8c8c-4c0f-eda6-a2d475e9f85f",
        "colab": {
          "base_uri": "https://localhost:8080/",
          "height": 282
        }
      },
      "source": [
        "plt.plot(t,Ca,\"r-\",label = \"Ca\", linewidth = 2.0)\r\n",
        "plt.plot(t, Cb,\"k.-\",label = \"Cb\", linewidth = 2.0)\r\n",
        "plt.plot(t,Cc,\"b--\",label=\"Cc\", linewidth = 2.0)\r\n",
        "plt.plot(t,Cd,\"y:\",label=\"Cd\", linewidth = 2.0)\r\n",
        "plt.ylabel(\"Concentration (mol/L)\")\r\n",
        "plt.legend(loc = \"best\")"
      ],
      "execution_count": 29,
      "outputs": [
        {
          "output_type": "execute_result",
          "data": {
            "text/plain": [
              "<matplotlib.legend.Legend at 0x7f7fe76658d0>"
            ]
          },
          "metadata": {
            "tags": []
          },
          "execution_count": 29
        },
        {
          "output_type": "display_data",
          "data": {
            "image/png": "[encoded data removed]",
            "text/plain": [
              "<Figure size 432x288 with 1 Axes>"
            ]
          },
          "metadata": {
            "tags": [],
            "needs_background": "light"
          }
        }
      ]
    },
    {
      "cell_type": "markdown",
      "metadata": {
        "id": "AOsS6oRB7u73"
      },
      "source": [
        "Solo para comparar, repitamos el proceso con un integrador "
      ]
    },
    {
      "cell_type": "markdown",
      "metadata": {
        "id": "neKSgPLz8Cis"
      },
      "source": [
        "Establecer modelo "
      ]
    },
    {
      "cell_type": "code",
      "metadata": {
        "id": "zWe1-lvR7uDY"
      },
      "source": [
        "def model(s,t,p):\r\n",
        "\r\n",
        "  # Variables\r\n",
        "  Ca,Cb,Cc,Cd = s\r\n",
        "\r\n",
        "  # Parámetros\r\n",
        "  k1 = p[0]\r\n",
        "  k2 = p[1]\r\n",
        "\r\n",
        "  # Velocidades de reacción\r\n",
        "  r1 = k1*Ca*Cb\r\n",
        "  r2 = k2*Cb*Cc\r\n",
        "\r\n",
        "  # Balances de materia\r\n",
        "  dCa = - r1\r\n",
        "  dCb = - r1 - r2\r\n",
        "  dCc = r1 - r2 \r\n",
        "  dCd = r2\r\n",
        "\r\n",
        "  return [dCa, dCb, dCc, dCd]\r\n"
      ],
      "execution_count": 36,
      "outputs": []
    },
    {
      "cell_type": "markdown",
      "metadata": {
        "id": "Uif6IPyy-nyT"
      },
      "source": [
        "Establecer valor de parámetros "
      ]
    },
    {
      "cell_type": "code",
      "metadata": {
        "id": "H4Z8jgWC-miR"
      },
      "source": [
        "k1 = 1\r\n",
        "k2 = 1.5\r\n",
        "p = [k1, k2]"
      ],
      "execution_count": 33,
      "outputs": []
    },
    {
      "cell_type": "markdown",
      "metadata": {
        "id": "b4T5Swa8_S5l"
      },
      "source": [
        "Condiciones iniciales "
      ]
    },
    {
      "cell_type": "code",
      "metadata": {
        "id": "1TNmzQhH_RJe"
      },
      "source": [
        "s = [1,1,0,0]"
      ],
      "execution_count": 34,
      "outputs": []
    },
    {
      "cell_type": "markdown",
      "metadata": {
        "id": "NJv87MVc_bCc"
      },
      "source": [
        "Resolver EDOs"
      ]
    },
    {
      "cell_type": "code",
      "metadata": {
        "id": "fq2TS59f_Xfc"
      },
      "source": [
        "out = odeint(model, s, t, args=(p,))\r\n",
        "Ca = out[:,0]\r\n",
        "Cb = out[:,1]\r\n",
        "Cc = out[:,2]\r\n",
        "Cd = out[:,3]"
      ],
      "execution_count": 38,
      "outputs": []
    },
    {
      "cell_type": "markdown",
      "metadata": {
        "id": "YGNf4Oce_zFN"
      },
      "source": [
        "Mostrar resultados "
      ]
    },
    {
      "cell_type": "code",
      "metadata": {
        "id": "mHgq0VSt_jlr",
        "outputId": "65370fa2-ceb0-40d2-c321-c42f526a7a18",
        "colab": {
          "base_uri": "https://localhost:8080/",
          "height": 282
        }
      },
      "source": [
        "plt.plot(t,Ca,\"r-\",label = \"Ca\", linewidth = 2.0)\r\n",
        "plt.plot(t, Cb,\"k.-\",label = \"Cb\", linewidth = 2.0)\r\n",
        "plt.plot(t,Cc,\"b--\",label=\"Cc\", linewidth = 2.0)\r\n",
        "plt.plot(t,Cd,\"y:\",label=\"Cd\", linewidth = 2.0)\r\n",
        "plt.ylabel(\"Concentration (mol/L)\")\r\n",
        "plt.legend(loc = \"best\")"
      ],
      "execution_count": 39,
      "outputs": [
        {
          "output_type": "execute_result",
          "data": {
            "text/plain": [
              "<matplotlib.legend.Legend at 0x7f7fe7575710>"
            ]
          },
          "metadata": {
            "tags": []
          },
          "execution_count": 39
        },
        {
          "output_type": "display_data",
          "data": {
            "image/png": "[encoded data removed]",
            "text/plain": [
              "<Figure size 432x288 with 1 Axes>"
            ]
          },
          "metadata": {
            "tags": [],
            "needs_background": "light"
          }
        }
      ]
    },
    {
      "cell_type": "code",
      "metadata": {
        "id": "aQJbYPKB_4rl"
      },
      "source": [
        ""
      ],
      "execution_count": null,
      "outputs": []
    }
  ]
}