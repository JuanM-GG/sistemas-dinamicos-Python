{
  "nbformat": 4,
  "nbformat_minor": 0,
  "metadata": {
    "colab": {
      "name": "Untitled77.ipynb",
      "provenance": [],
      "authorship_tag": "ABX9TyNcEJc3y3Bgn8WYtbWkP6OF",
      "include_colab_link": true
    },
    "kernelspec": {
      "name": "python3",
      "display_name": "Python 3"
    }
  },
  "cells": [
    {
      "cell_type": "markdown",
      "metadata": {
        "id": "view-in-github",
        "colab_type": "text"
      },
      "source": [
        "<a href=\"https://colab.research.google.com/github/JuanM-GG/sistemas-dinamicos-Python/blob/main/CHAPTER_5_DP_2.ipynb\" target=\"_parent\"><img src=\"https://colab.research.google.com/assets/colab-badge.svg\" alt=\"Open In Colab\"/></a>"
      ]
    },
    {
      "cell_type": "code",
      "metadata": {
        "id": "Nk4YxKKyYJST"
      },
      "source": [
        "import numpy as np\r\n",
        "import matplotlib.pyplot as plt\r\n",
        "from scipy.integrate import odeint"
      ],
      "execution_count": 10,
      "outputs": []
    },
    {
      "cell_type": "code",
      "metadata": {
        "id": "f3GP7g7rYLuR"
      },
      "source": [
        "A = np.matrix([[-2.4047, 0], [5/6, -2.2380]])"
      ],
      "execution_count": 6,
      "outputs": []
    },
    {
      "cell_type": "code",
      "metadata": {
        "id": "iZbYX5oeYTYL"
      },
      "source": [
        "eigenval, eigenvec = np.linalg.eig(A)"
      ],
      "execution_count": 7,
      "outputs": []
    },
    {
      "cell_type": "code",
      "metadata": {
        "colab": {
          "base_uri": "https://localhost:8080/"
        },
        "id": "34YtY0pUYW-6",
        "outputId": "8e454b44-a01d-4841-d7a7-e8dfa0346054"
      },
      "source": [
        "print(eigenval)"
      ],
      "execution_count": 8,
      "outputs": [
        {
          "output_type": "stream",
          "text": [
            "[-2.238  -2.4047]\n"
          ],
          "name": "stdout"
        }
      ]
    },
    {
      "cell_type": "code",
      "metadata": {
        "colab": {
          "base_uri": "https://localhost:8080/"
        },
        "id": "sMMTmm5YYbGL",
        "outputId": "e794c841-351a-46f1-a878-e6e210415bd6"
      },
      "source": [
        "print(eigenvec)"
      ],
      "execution_count": 9,
      "outputs": [
        {
          "output_type": "stream",
          "text": [
            "[[ 0.          0.19615385]\n",
            " [ 1.         -0.98057313]]\n"
          ],
          "name": "stdout"
        }
      ]
    },
    {
      "cell_type": "code",
      "metadata": {
        "id": "wBTNsE2HeQE5"
      },
      "source": [
        "def model(s, t):\r\n",
        "\r\n",
        "    x1 = s[0]\r\n",
        "    x2 = s[1]\r\n",
        "\r\n",
        "    dx1 = -x1\r\n",
        "    dx2 = 4*x2\r\n",
        "\r\n",
        "    return [dx1, dx2]"
      ],
      "execution_count": 11,
      "outputs": []
    },
    {
      "cell_type": "code",
      "metadata": {
        "id": "RleO-ODtlJJd"
      },
      "source": [
        "# initial condition \r\n",
        "s1 = [0,1]\r\n",
        "s2 = [100,0.00] # any vector with zero in the second element is stable  "
      ],
      "execution_count": 47,
      "outputs": []
    },
    {
      "cell_type": "code",
      "metadata": {
        "id": "uv0tfvpolPxz"
      },
      "source": [
        "# integration time \r\n",
        "t = np.linspace(0,10,100)"
      ],
      "execution_count": 51,
      "outputs": []
    },
    {
      "cell_type": "code",
      "metadata": {
        "id": "20Ri4q1FlS_O"
      },
      "source": [
        "out = odeint(model, s2, t)"
      ],
      "execution_count": 52,
      "outputs": []
    },
    {
      "cell_type": "code",
      "metadata": {
        "colab": {
          "base_uri": "https://localhost:8080/",
          "height": 299
        },
        "id": "x-3q-H6TlXRz",
        "outputId": "a0132388-be68-400c-ac1b-81ada1d34061"
      },
      "source": [
        "plt.plot(t, out)"
      ],
      "execution_count": 53,
      "outputs": [
        {
          "output_type": "execute_result",
          "data": {
            "text/plain": [
              "[<matplotlib.lines.Line2D at 0x7f4b206b7690>,\n",
              " <matplotlib.lines.Line2D at 0x7f4b206b7890>]"
            ]
          },
          "metadata": {
            "tags": []
          },
          "execution_count": 53
        },
        {
          "output_type": "display_data",
          "data": {
            "image/png": "[encoded data removed]",
            "text/plain": [
              "<Figure size 432x288 with 1 Axes>"
            ]
          },
          "metadata": {
            "tags": [],
            "needs_background": "light"
          }
        }
      ]
    },
    {
      "cell_type": "code",
      "metadata": {
        "id": "SkWNmysDlZ29"
      },
      "source": [
        "def model(s,t, F0):\r\n",
        "\r\n",
        "    h1 = s[0]\r\n",
        "    h2 = s[1]\r\n",
        "\r\n",
        "    dh1 = - (h1 - h1s) + 0.5*(F0 - F0s)\r\n",
        "    dh2 = 0.2*(h1 - h1s) - 0.1*(h2 - h2s) \r\n",
        "\r\n",
        "    return [dh1, dh2]"
      ],
      "execution_count": 129,
      "outputs": []
    },
    {
      "cell_type": "code",
      "metadata": {
        "id": "ceYpKm-9n279"
      },
      "source": [
        "def steady_state(F0):\r\n",
        "\r\n",
        "    h1s = 0.5*F0\r\n",
        "    \r\n",
        "    h2s = F0\r\n",
        "\r\n",
        "    return [h1s, h2s]"
      ],
      "execution_count": 130,
      "outputs": []
    },
    {
      "cell_type": "code",
      "metadata": {
        "id": "MicS2F-zoFFr"
      },
      "source": [
        "A = np.matrix([[-1, 0],[0.2, -0.1]])"
      ],
      "execution_count": 131,
      "outputs": []
    },
    {
      "cell_type": "code",
      "metadata": {
        "id": "xLhCl78moM4v"
      },
      "source": [
        "eigenval, eigenvec = np.linalg.eig(A)"
      ],
      "execution_count": 132,
      "outputs": []
    },
    {
      "cell_type": "code",
      "metadata": {
        "colab": {
          "base_uri": "https://localhost:8080/"
        },
        "id": "Uuzt68DPoSeS",
        "outputId": "264b8687-2d44-435e-cfa0-bd2c057a8a36"
      },
      "source": [
        "print(eigenval)"
      ],
      "execution_count": 133,
      "outputs": [
        {
          "output_type": "stream",
          "text": [
            "[-0.1 -1. ]\n"
          ],
          "name": "stdout"
        }
      ]
    },
    {
      "cell_type": "code",
      "metadata": {
        "colab": {
          "base_uri": "https://localhost:8080/"
        },
        "id": "lanSe4zYoVDR",
        "outputId": "9ee7ed18-ae15-48ee-94cf-ca19c7efeced"
      },
      "source": [
        "print(eigenvec)"
      ],
      "execution_count": 134,
      "outputs": [
        {
          "output_type": "stream",
          "text": [
            "[[ 0.          0.97618706]\n",
            " [ 1.         -0.21693046]]\n"
          ],
          "name": "stdout"
        }
      ]
    },
    {
      "cell_type": "code",
      "metadata": {
        "id": "zdczwwGRoWev"
      },
      "source": [
        "# inflow rate \r\n",
        "F0s = 0.5 \r\n",
        "\r\n",
        "# steady state\r\n",
        "h1s, h2s = steady_state(F0s)\r\n",
        "\r\n",
        "# initial condition \r\n",
        "s = [h1s, h2s]"
      ],
      "execution_count": 136,
      "outputs": []
    },
    {
      "cell_type": "code",
      "metadata": {
        "id": "8fF8bWtgo9iF"
      },
      "source": [
        "# integration time \r\n",
        "t = np.linspace(0,10,100)"
      ],
      "execution_count": 137,
      "outputs": []
    },
    {
      "cell_type": "code",
      "metadata": {
        "id": "R3yE-lBGo-BZ"
      },
      "source": [
        "out = odeint(model, s, t, args=(F0,))"
      ],
      "execution_count": 138,
      "outputs": []
    },
    {
      "cell_type": "code",
      "metadata": {
        "colab": {
          "base_uri": "https://localhost:8080/",
          "height": 299
        },
        "id": "u4G-GV8HpFce",
        "outputId": "ee2549ec-e9a3-49a2-b6c2-8160bc22c858"
      },
      "source": [
        "# show results \r\n",
        "plt.plot(t, out)"
      ],
      "execution_count": 139,
      "outputs": [
        {
          "output_type": "execute_result",
          "data": {
            "text/plain": [
              "[<matplotlib.lines.Line2D at 0x7f4b2009ac10>,\n",
              " <matplotlib.lines.Line2D at 0x7f4b2009ae10>]"
            ]
          },
          "metadata": {
            "tags": []
          },
          "execution_count": 139
        },
        {
          "output_type": "display_data",
          "data": {
            "image/png": "[encoded data removed]",
            "text/plain": [
              "<Figure size 432x288 with 1 Axes>"
            ]
          },
          "metadata": {
            "tags": [],
            "needs_background": "light"
          }
        }
      ]
    },
    {
      "cell_type": "code",
      "metadata": {
        "id": "Gp9A7BVCpNZy"
      },
      "source": [
        "s1 = np.sum([s, [1,0]], axis=0)\r\n",
        "s2 = np.sum([s, [0.9761, -0.2169]], axis=0)"
      ],
      "execution_count": 140,
      "outputs": []
    },
    {
      "cell_type": "code",
      "metadata": {
        "id": "8EUMrYYXpqwr"
      },
      "source": [
        "ss = (s1, s2)"
      ],
      "execution_count": 141,
      "outputs": []
    },
    {
      "cell_type": "code",
      "metadata": {
        "id": "T8Cfv3Ilprkj"
      },
      "source": [
        "out = []"
      ],
      "execution_count": 142,
      "outputs": []
    },
    {
      "cell_type": "code",
      "metadata": {
        "id": "7WDIff5op90Q"
      },
      "source": [
        "for i in range(len(s)):\r\n",
        "    if i == 0:\r\n",
        "        out = odeint(model, ss[i], t, args=(F0,))\r\n",
        "    else:\r\n",
        "        out = np.column_stack((out, odeint(model, ss[i], t, args=(F0,))))"
      ],
      "execution_count": 143,
      "outputs": []
    },
    {
      "cell_type": "code",
      "metadata": {
        "colab": {
          "base_uri": "https://localhost:8080/",
          "height": 312
        },
        "id": "qnqvptzSqMTO",
        "outputId": "4f7463ba-4d8e-4c0b-a616-7e2d483298ee"
      },
      "source": [
        "plt.plot(t, out[:,0], t, out[:,1])\r\n",
        "plt.plot(plt.xlim(), [h1s, h1s], plt.xlim(), [h2s, h2s])\r\n",
        "plt.xlabel(\"time (min)\")\r\n",
        "plt.legend([\"h1(t)\",\"h2(t)\",\"h1s\",\"h2s\"])\r\n",
        "plt.title(\"Slow\")"
      ],
      "execution_count": 149,
      "outputs": [
        {
          "output_type": "execute_result",
          "data": {
            "text/plain": [
              "Text(0.5, 1.0, 'Slow')"
            ]
          },
          "metadata": {
            "tags": []
          },
          "execution_count": 149
        },
        {
          "output_type": "display_data",
          "data": {
            "image/png": "[encoded data removed]",
            "text/plain": [
              "<Figure size 432x288 with 1 Axes>"
            ]
          },
          "metadata": {
            "tags": [],
            "needs_background": "light"
          }
        }
      ]
    },
    {
      "cell_type": "code",
      "metadata": {
        "colab": {
          "base_uri": "https://localhost:8080/",
          "height": 312
        },
        "id": "kodekO0MqTF6",
        "outputId": "6ce62e3c-d9c4-40cf-e390-86d3ea788d99"
      },
      "source": [
        "plt.plot(t, out[:,2], t, out[:,3])\r\n",
        "plt.plot(plt.xlim(), [h1s, h1s], plt.xlim(), [h2s, h2s])\r\n",
        "plt.xlabel(\"time (min)\")\r\n",
        "plt.legend([\"h1(t)\",\"h2(t)\",\"h1s\",\"h2s\"])\r\n",
        "plt.title(\"Fast\")"
      ],
      "execution_count": 150,
      "outputs": [
        {
          "output_type": "execute_result",
          "data": {
            "text/plain": [
              "Text(0.5, 1.0, 'Fast')"
            ]
          },
          "metadata": {
            "tags": []
          },
          "execution_count": 150
        },
        {
          "output_type": "display_data",
          "data": {
            "image/png": "[encoded data removed]",
            "text/plain": [
              "<Figure size 432x288 with 1 Axes>"
            ]
          },
          "metadata": {
            "tags": [],
            "needs_background": "light"
          }
        }
      ]
    },
    {
      "cell_type": "code",
      "metadata": {
        "id": "BI0wtHrlrbJw"
      },
      "source": [
        "def model(s, t):\r\n",
        "\r\n",
        "    w = s[0]\r\n",
        "    z = s[1]\r\n",
        "\r\n",
        "    dw = -1*(z - zs)\r\n",
        "    dz = (w - ws)\r\n",
        "\r\n",
        "    return [dw, dz]"
      ],
      "execution_count": 151,
      "outputs": []
    },
    {
      "cell_type": "code",
      "metadata": {
        "id": "VtQGjCgn19tL"
      },
      "source": [
        "ws = 1.0\r\n",
        "zs = 1.0\r\n",
        "# initial conditions \r\n",
        "s = [1.5-ws, 0.75-zs]"
      ],
      "execution_count": 155,
      "outputs": []
    },
    {
      "cell_type": "code",
      "metadata": {
        "id": "z-4DVCpR2BId"
      },
      "source": [
        "# integration time \r\n",
        "t = np.linspace(0,20,100)"
      ],
      "execution_count": 156,
      "outputs": []
    },
    {
      "cell_type": "code",
      "metadata": {
        "id": "ifeD_irE2EE6"
      },
      "source": [
        "# solve odes \r\n",
        "out = odeint(model, s, t)"
      ],
      "execution_count": 157,
      "outputs": []
    },
    {
      "cell_type": "code",
      "metadata": {
        "colab": {
          "base_uri": "https://localhost:8080/",
          "height": 296
        },
        "id": "ASiEEMuj2G6Z",
        "outputId": "cedee56a-a63b-4c54-8d5b-f745d27d6e34"
      },
      "source": [
        "# show results \r\n",
        "plt.plot(t, out)\r\n",
        "plt.xlabel(\"time\")\r\n",
        "plt.legend([\"w(t)\",\"z(t)\"])"
      ],
      "execution_count": 160,
      "outputs": [
        {
          "output_type": "execute_result",
          "data": {
            "text/plain": [
              "<matplotlib.legend.Legend at 0x7f4b1fc823d0>"
            ]
          },
          "metadata": {
            "tags": []
          },
          "execution_count": 160
        },
        {
          "output_type": "display_data",
          "data": {
            "image/png": "[encoded data removed]",
            "text/plain": [
              "<Figure size 432x288 with 1 Axes>"
            ]
          },
          "metadata": {
            "tags": [],
            "needs_background": "light"
          }
        }
      ]
    },
    {
      "cell_type": "markdown",
      "metadata": {
        "id": "EDGm2Jrd32jp"
      },
      "source": [
        "Period is equal to 2pi"
      ]
    },
    {
      "cell_type": "code",
      "metadata": {
        "colab": {
          "base_uri": "https://localhost:8080/",
          "height": 296
        },
        "id": "i7uHsMnf2R57",
        "outputId": "8843515f-6b67-4a4c-c78c-4840062fbf57"
      },
      "source": [
        "plt.plot(out[:,0],out[:,1])\r\n",
        "plt.xlabel(\"w(t)\")\r\n",
        "plt.ylabel(\"z(t)\")"
      ],
      "execution_count": 162,
      "outputs": [
        {
          "output_type": "execute_result",
          "data": {
            "text/plain": [
              "Text(0, 0.5, 'z(t)')"
            ]
          },
          "metadata": {
            "tags": []
          },
          "execution_count": 162
        },
        {
          "output_type": "display_data",
          "data": {
            "image/png": "[encoded data removed]",
            "text/plain": [
              "<Figure size 432x288 with 1 Axes>"
            ]
          },
          "metadata": {
            "tags": [],
            "needs_background": "light"
          }
        }
      ]
    },
    {
      "cell_type": "code",
      "metadata": {
        "id": "ZuavgI-F2WpN"
      },
      "source": [
        "import sympy as sp "
      ],
      "execution_count": 163,
      "outputs": []
    },
    {
      "cell_type": "code",
      "metadata": {
        "id": "Xsy8PlCy8Ssp"
      },
      "source": [
        "x1, x2 = sp.symbols(\"x1, x2\")"
      ],
      "execution_count": 164,
      "outputs": []
    },
    {
      "cell_type": "code",
      "metadata": {
        "id": "bifDMb6d8V_O"
      },
      "source": [
        "eq1 = sp.Eq(1.25*(1.5-x1)/15 + 1.75*(x2 - x1)/15 - 0.10833*x1,0)\r\n",
        "eq2 = sp.Eq(1.25*(x1 - x2)/9 + 1.75*(x1 - x2)/9 - 0.33333*x2,0)"
      ],
      "execution_count": 165,
      "outputs": []
    },
    {
      "cell_type": "code",
      "metadata": {
        "colab": {
          "base_uri": "https://localhost:8080/"
        },
        "id": "c5jI7jpK8mel",
        "outputId": "c7171316-77f0-45cd-a11c-a620bb4fc5ea"
      },
      "source": [
        "sp.solve([eq1, eq2], [x1, x2])"
      ],
      "execution_count": 166,
      "outputs": [
        {
          "output_type": "execute_result",
          "data": {
            "text/plain": [
              "{x1: 0.500007250108043, x2: 0.250004875078397}"
            ]
          },
          "metadata": {
            "tags": []
          },
          "execution_count": 166
        }
      ]
    },
    {
      "cell_type": "code",
      "metadata": {
        "id": "juoYEaxX8pkM"
      },
      "source": [
        "A = np.matrix([[-0.30833, 0.11666], [1/3, -0.6666]])"
      ],
      "execution_count": 167,
      "outputs": []
    },
    {
      "cell_type": "code",
      "metadata": {
        "id": "8ASqFLpW9P_S"
      },
      "source": [
        "eigenval, eigenvec = np.linalg.eig(A)"
      ],
      "execution_count": 168,
      "outputs": []
    },
    {
      "cell_type": "code",
      "metadata": {
        "colab": {
          "base_uri": "https://localhost:8080/"
        },
        "id": "OEWjb7uo9TGh",
        "outputId": "53aa22a8-dd8e-4cb3-f328-dc6920380be2"
      },
      "source": [
        "print(eigenval)"
      ],
      "execution_count": 172,
      "outputs": [
        {
          "output_type": "stream",
          "text": [
            "[-0.22105176 -0.75387824]\n"
          ],
          "name": "stdout"
        }
      ]
    },
    {
      "cell_type": "code",
      "metadata": {
        "colab": {
          "base_uri": "https://localhost:8080/"
        },
        "id": "t9zAHfZH9UEN",
        "outputId": "024af76f-5a57-4701-c92d-811cd6a82ce2"
      },
      "source": [
        "print(eigenvec)"
      ],
      "execution_count": 173,
      "outputs": [
        {
          "output_type": "stream",
          "text": [
            "[[ 0.80071356 -0.25329599]\n",
            " [ 0.59904741  0.96738883]]\n"
          ],
          "name": "stdout"
        }
      ]
    },
    {
      "cell_type": "code",
      "metadata": {
        "id": "bhU3-o7k9VOK"
      },
      "source": [
        "ss = [0.5, 0.25]\r\n",
        "s1 = np.sum([ss, [0.80, 0.60]], axis= 0) # slow\r\n",
        "s2 = np.sum([ss, [-0.2532, 0.9673]], axis= 0) # fast \r\n",
        "s = (s1, s2)"
      ],
      "execution_count": 178,
      "outputs": []
    },
    {
      "cell_type": "code",
      "metadata": {
        "id": "MFvuFChu901N"
      },
      "source": [
        "def model(s, t, c0):\r\n",
        "\r\n",
        "    # state variable \r\n",
        "    c1 = s[0]\r\n",
        "    c2 = s[1]\r\n",
        "\r\n",
        "    # balances \r\n",
        "    dc1 = -0.30833*(c1 - c1s) + 0.11666*(c2 - c2s) + 0.08333*(c0 - c0s) \r\n",
        "\r\n",
        "    dc2 = 0.333*(c1 - c1s) - 0.6666*(c2 - c2s) \r\n",
        "\r\n",
        "    return [dc1, dc2]"
      ],
      "execution_count": 196,
      "outputs": []
    },
    {
      "cell_type": "code",
      "metadata": {
        "id": "TdqcLm9_-HQl"
      },
      "source": [
        "# nominal values\r\n",
        "c0s = 1.5\r\n",
        "c1s = 0.5\r\n",
        "c2s = 0.25"
      ],
      "execution_count": 197,
      "outputs": []
    },
    {
      "cell_type": "code",
      "metadata": {
        "id": "P3YtNDtK_m8D"
      },
      "source": [
        "# integration time \r\n",
        "t = np.linspace(0,20,100)"
      ],
      "execution_count": 198,
      "outputs": []
    },
    {
      "cell_type": "code",
      "metadata": {
        "id": "FbppoTYB_rPn"
      },
      "source": [
        "# solve ode\r\n",
        "out = odeint(model, [c1s, c2s], t, args=(c0s,))"
      ],
      "execution_count": 199,
      "outputs": []
    },
    {
      "cell_type": "code",
      "metadata": {
        "colab": {
          "base_uri": "https://localhost:8080/",
          "height": 299
        },
        "id": "t70UCQ6R_0OM",
        "outputId": "7462474f-a36b-4620-fb71-8234847de08e"
      },
      "source": [
        "# show results \r\n",
        "plt.plot(t, out)"
      ],
      "execution_count": 200,
      "outputs": [
        {
          "output_type": "execute_result",
          "data": {
            "text/plain": [
              "[<matplotlib.lines.Line2D at 0x7f4b1de1d910>,\n",
              " <matplotlib.lines.Line2D at 0x7f4b1de1db10>]"
            ]
          },
          "metadata": {
            "tags": []
          },
          "execution_count": 200
        },
        {
          "output_type": "display_data",
          "data": {
            "image/png": "[encoded data removed]",
            "text/plain": [
              "<Figure size 432x288 with 1 Axes>"
            ]
          },
          "metadata": {
            "tags": [],
            "needs_background": "light"
          }
        }
      ]
    },
    {
      "cell_type": "code",
      "metadata": {
        "id": "7Ifn_tV2AQnV"
      },
      "source": [
        "out = []"
      ],
      "execution_count": 201,
      "outputs": []
    },
    {
      "cell_type": "code",
      "metadata": {
        "id": "6pCFf-SRBH_E"
      },
      "source": [
        "for i in range(len(s)):\r\n",
        "    if i == 0:\r\n",
        "        out = odeint(model, s[i], t, args= (c0s, ))\r\n",
        "    else: \r\n",
        "        out = np.column_stack((out, odeint(model, s[i], t, args= (c0s, ))))"
      ],
      "execution_count": 204,
      "outputs": []
    },
    {
      "cell_type": "code",
      "metadata": {
        "colab": {
          "base_uri": "https://localhost:8080/",
          "height": 312
        },
        "id": "4P9x8NRbBIbN",
        "outputId": "acc3d50b-0802-4a80-df59-ad963f9240d4"
      },
      "source": [
        "plt.plot(t, out[:,0],t, out[:,1])\r\n",
        "plt.xlabel(\"time\")\r\n",
        "plt.legend([\"x1(t)\", \"x2(t)\"])\r\n",
        "plt.title(\"Slow\")"
      ],
      "execution_count": 206,
      "outputs": [
        {
          "output_type": "execute_result",
          "data": {
            "text/plain": [
              "Text(0.5, 1.0, 'Slow')"
            ]
          },
          "metadata": {
            "tags": []
          },
          "execution_count": 206
        },
        {
          "output_type": "display_data",
          "data": {
            "image/png": "[encoded data removed]",
            "text/plain": [
              "<Figure size 432x288 with 1 Axes>"
            ]
          },
          "metadata": {
            "tags": [],
            "needs_background": "light"
          }
        }
      ]
    },
    {
      "cell_type": "code",
      "metadata": {
        "colab": {
          "base_uri": "https://localhost:8080/",
          "height": 312
        },
        "id": "6KvHyC1TBfLC",
        "outputId": "0425dc06-6b00-4920-f2c0-66d09db58b01"
      },
      "source": [
        "plt.plot(t, out[:,2],t, out[:,3])\r\n",
        "plt.xlabel(\"time\")\r\n",
        "plt.legend([\"x1(t)\", \"x2(t)\"])\r\n",
        "plt.title(\"Fast\")"
      ],
      "execution_count": 207,
      "outputs": [
        {
          "output_type": "execute_result",
          "data": {
            "text/plain": [
              "Text(0.5, 1.0, 'Fast')"
            ]
          },
          "metadata": {
            "tags": []
          },
          "execution_count": 207
        },
        {
          "output_type": "display_data",
          "data": {
            "image/png": "[encoded data removed]",
            "text/plain": [
              "<Figure size 432x288 with 1 Axes>"
            ]
          },
          "metadata": {
            "tags": [],
            "needs_background": "light"
          }
        }
      ]
    },
    {
      "cell_type": "code",
      "metadata": {
        "id": "tt3MekveBwFZ"
      },
      "source": [
        "c02 = 1.75"
      ],
      "execution_count": 208,
      "outputs": []
    },
    {
      "cell_type": "code",
      "metadata": {
        "id": "KSFR66PfB4lm"
      },
      "source": [
        "out = odeint(model, [c1s, c2s], t, args= (c02, ))"
      ],
      "execution_count": 211,
      "outputs": []
    },
    {
      "cell_type": "code",
      "metadata": {
        "colab": {
          "base_uri": "https://localhost:8080/",
          "height": 296
        },
        "id": "8He-XupTB9qS",
        "outputId": "254bfbd1-4bb8-4959-a93a-57e88cf1c6ad"
      },
      "source": [
        "plt.plot(t, out)\r\n",
        "plt.xlabel(\"time\")\r\n",
        "plt.legend([\"x1(t)\", \"x2(t)\"])"
      ],
      "execution_count": 213,
      "outputs": [
        {
          "output_type": "execute_result",
          "data": {
            "text/plain": [
              "<matplotlib.legend.Legend at 0x7f4b1db6a0d0>"
            ]
          },
          "metadata": {
            "tags": []
          },
          "execution_count": 213
        },
        {
          "output_type": "display_data",
          "data": {
            "image/png": "[encoded data removed]",
            "text/plain": [
              "<Figure size 432x288 with 1 Axes>"
            ]
          },
          "metadata": {
            "tags": [],
            "needs_background": "light"
          }
        }
      ]
    },
    {
      "cell_type": "markdown",
      "metadata": {
        "id": "Me5OdfTYCI_9"
      },
      "source": [
        "If you increase the inflow concentration then the concentration in both tanks in the equilibrium will be greater "
      ]
    },
    {
      "cell_type": "code",
      "metadata": {
        "id": "4t4OcrecB_Fa"
      },
      "source": [
        "A = np.matrix([[-0.40, 0.30], [3, -4.50]])"
      ],
      "execution_count": 214,
      "outputs": []
    },
    {
      "cell_type": "code",
      "metadata": {
        "id": "oVARPPTyPI8L"
      },
      "source": [
        "eigenval, eigenvec = np.linalg.eig(A)"
      ],
      "execution_count": 215,
      "outputs": []
    },
    {
      "cell_type": "code",
      "metadata": {
        "colab": {
          "base_uri": "https://localhost:8080/"
        },
        "id": "RpCGax6XPMON",
        "outputId": "08e5d7fa-2f3c-4b05-c8b0-aab2b0247959"
      },
      "source": [
        "print(eigenval)"
      ],
      "execution_count": 216,
      "outputs": [
        {
          "output_type": "stream",
          "text": [
            "[-0.1911286 -4.7088714]\n"
          ],
          "name": "stdout"
        }
      ]
    },
    {
      "cell_type": "code",
      "metadata": {
        "id": "oPzwllAiPOaj"
      },
      "source": [
        "# nominal values \r\n",
        "Fs = 1; Tis = 50; Ts = 125; Vs = 10; Tjins = 200; Tjs = 150; Vjs = 1; Fjs = 1.5 "
      ],
      "execution_count": 218,
      "outputs": []
    },
    {
      "cell_type": "code",
      "metadata": {
        "id": "ts4PDFQDP04u"
      },
      "source": [
        "# parameters\r\n",
        "UA = 183.9; rhocp = 61.3"
      ],
      "execution_count": 219,
      "outputs": []
    },
    {
      "cell_type": "code",
      "metadata": {
        "colab": {
          "base_uri": "https://localhost:8080/"
        },
        "id": "TGtuJDX1P9Jy",
        "outputId": "50e2b7e5-f3e3-4858-effe-f6d0dc692e73"
      },
      "source": [
        "# establish model \r\n",
        "def heater(s,t,u):\r\n",
        "\r\n",
        "    # state variables \r\n",
        "    T = s[0]\r\n",
        "    Tj = s[1]\r\n",
        "\r\n",
        "    # inputs \r\n",
        "    Fj = u[0]\r\n",
        "    F = u[1]\r\n",
        "    Ti = u[2]\r\n",
        "    Tjin = u[3]\r\n",
        "\r\n",
        "    # energy balances \r\n",
        "    dT = -0.40*(T - Ts) + 0.30*(Tj - Tjs) -7.5*(F - Fs) + 0.10*(Ti - Tis)\r\n",
        "    dTj = 3*(T - Ts) - 4.50*(Tj - Tjs) + 50*(Fj - Fjs) + 1.5*(Tjin - Tjins)\r\n",
        "\r\n",
        "    return [dT, dTj]"
      ],
      "execution_count": 226,
      "outputs": [
        {
          "output_type": "execute_result",
          "data": {
            "text/plain": [
              "50"
            ]
          },
          "metadata": {
            "tags": []
          },
          "execution_count": 226
        }
      ]
    },
    {
      "cell_type": "code",
      "metadata": {
        "id": "mNRPuJf8QiuI"
      },
      "source": [
        "# initial conditions \r\n",
        "s = [Ts, Tjs]"
      ],
      "execution_count": 221,
      "outputs": []
    },
    {
      "cell_type": "code",
      "metadata": {
        "id": "J9DnbfeEQmZ9"
      },
      "source": [
        "# inputs \r\n",
        "u = [Fjs, Fs, Tis, Tjins]"
      ],
      "execution_count": 227,
      "outputs": []
    },
    {
      "cell_type": "code",
      "metadata": {
        "id": "uz3tnBXVQq1H"
      },
      "source": [
        "# solve ODEs\r\n",
        "out = odeint(heater, s, t, args= (u, ))"
      ],
      "execution_count": 228,
      "outputs": []
    },
    {
      "cell_type": "code",
      "metadata": {
        "colab": {
          "base_uri": "https://localhost:8080/",
          "height": 301
        },
        "id": "Ai9VCKuWQvvN",
        "outputId": "9dc675b1-f73e-47d0-b3cd-586322b59e81"
      },
      "source": [
        "# show results \r\n",
        "plt.plot(t, out)\r\n",
        "plt.xlabel(\"time (min)\", size = 15)\r\n",
        "plt.ylabel(\"Temperature (°F)\", size = 15)\r\n",
        "plt.legend([\"T\",\"Tj\"], fontsize = \"x-large\")"
      ],
      "execution_count": 232,
      "outputs": [
        {
          "output_type": "execute_result",
          "data": {
            "text/plain": [
              "<matplotlib.legend.Legend at 0x7f4b1d8d9d10>"
            ]
          },
          "metadata": {
            "tags": []
          },
          "execution_count": 232
        },
        {
          "output_type": "display_data",
          "data": {
            "image/png": "[encoded data removed]",
            "text/plain": [
              "<Figure size 432x288 with 1 Axes>"
            ]
          },
          "metadata": {
            "tags": [],
            "needs_background": "light"
          }
        }
      ]
    },
    {
      "cell_type": "code",
      "metadata": {
        "id": "OaHABQmKQzK-"
      },
      "source": [
        "# input vector \r\n",
        "Fj = np.ones(len(t))*Fjs\r\n",
        "Fj[25:50] = 1.75"
      ],
      "execution_count": 237,
      "outputs": []
    },
    {
      "cell_type": "code",
      "metadata": {
        "id": "8l4-3u0iSHNz"
      },
      "source": [
        "# initial conditions \r\n",
        "s = [Ts, Tjs]\r\n",
        "\r\n",
        "# state vectors \r\n",
        "T = np.ones(len(t))*Ts\r\n",
        "Tj = np.ones(len(t))*Tjs\r\n",
        "\r\n",
        "# for cycle to change Fj \r\n",
        "for i in range(len(t)-1):\r\n",
        "\r\n",
        "    # update time span \r\n",
        "    ts = [t[i], t[i+1]]\r\n",
        "\r\n",
        "    # update input\r\n",
        "    u[0] = Fj[i+1]\r\n",
        "\r\n",
        "    # solve ODEs \r\n",
        "    out = odeint(heater, s, ts, args= (u, ))\r\n",
        "\r\n",
        "    # save states \r\n",
        "    T[i+1] = out[-1][0]\r\n",
        "    Tj[i+1] = out[-1][1]\r\n",
        "\r\n",
        "    # update initial conditions \r\n",
        "    s = out[-1]"
      ],
      "execution_count": 242,
      "outputs": []
    },
    {
      "cell_type": "code",
      "metadata": {
        "colab": {
          "base_uri": "https://localhost:8080/",
          "height": 519
        },
        "id": "ZuQvlXJESi4D",
        "outputId": "dea85dd8-81b6-4974-b0fc-8c4165574cff"
      },
      "source": [
        "plt.figure(figsize = (12,8))\r\n",
        "plt.subplot(2,2,1)\r\n",
        "plt.plot(t, T)\r\n",
        "plt.xlabel(\"time (min)\", size = 15)\r\n",
        "plt.ylabel(\"T (°F)\", size = 15)\r\n",
        "plt.subplot(2,2,2)\r\n",
        "plt.plot(t, Tj)\r\n",
        "plt.xlabel(\"time (min)\", size = 15)\r\n",
        "plt.ylabel(\"Tj (°F)\", size = 15)\r\n",
        "plt.subplot(2,2,3)\r\n",
        "plt.plot(t, Fj)\r\n",
        "plt.xlabel(\"time (min)\", size = 15)\r\n",
        "plt.ylabel(\"Fj (L/min)\", size = 15)"
      ],
      "execution_count": 244,
      "outputs": [
        {
          "output_type": "execute_result",
          "data": {
            "text/plain": [
              "Text(0, 0.5, 'Fj (L/min)')"
            ]
          },
          "metadata": {
            "tags": []
          },
          "execution_count": 244
        },
        {
          "output_type": "display_data",
          "data": {
            "image/png": "[encoded data removed]",
            "text/plain": [
              "<Figure size 864x576 with 3 Axes>"
            ]
          },
          "metadata": {
            "tags": [],
            "needs_background": "light"
          }
        }
      ]
    },
    {
      "cell_type": "code",
      "metadata": {
        "id": "UaLeBVXjS1jh"
      },
      "source": [
        ""
      ],
      "execution_count": null,
      "outputs": []
    }
  ]
}