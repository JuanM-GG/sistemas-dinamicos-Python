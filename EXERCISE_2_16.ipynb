{
  "nbformat": 4,
  "nbformat_minor": 0,
  "metadata": {
    "colab": {
      "name": "Untitled57.ipynb",
      "provenance": [],
      "authorship_tag": "ABX9TyOs7dd1HtK6wBKIfAOb/ORy",
      "include_colab_link": true
    },
    "kernelspec": {
      "name": "python3",
      "display_name": "Python 3"
    }
  },
  "cells": [
    {
      "cell_type": "markdown",
      "metadata": {
        "id": "view-in-github",
        "colab_type": "text"
      },
      "source": [
        "<a href=\"https://colab.research.google.com/github/JuanM-GG/sistemas-dinamicos-Python/blob/main/EXERCISE_2_16.ipynb\" target=\"_parent\"><img src=\"https://colab.research.google.com/assets/colab-badge.svg\" alt=\"Open In Colab\"/></a>"
      ]
    },
    {
      "cell_type": "markdown",
      "metadata": {
        "id": "ibfvncEyhXMp"
      },
      "source": [
        "Title: Exercise 2.16\r\n",
        "\r\n",
        "Name: Juan Manuel G.G\r\n",
        "\r\n",
        "Date: February 2021"
      ]
    },
    {
      "cell_type": "markdown",
      "metadata": {
        "id": "pxVAeKYChfhf"
      },
      "source": [
        "### 1. Process description \r\n",
        "\r\n",
        "A batch bioreactor is used to the production of biomass and product under de following conditions \r\n",
        "\r\n",
        "*(i)* Initial conditions \r\n",
        "\r\n",
        "$X(0) = 0.05\\ g/L$, $S(0) = 10\\ g/L$, $P(0) = 0\\ g/L$\r\n",
        "\r\n",
        "*(ii)* Parameter values: \r\n",
        "\r\n",
        "$V = 1\\ L$, $\\mu_{max} = 0.20\\ h^{-1}$, $K_s = 1.0\\ g/L$\r\n",
        "\r\n",
        "$Y_{X/S} = 0.5\\ g/g$, $Y_{P/X} = 0.2\\ g/g$\r\n",
        "\r\n",
        "Using the available information determine how much time is required to achive a 90% convertion of the substrate"
      ]
    },
    {
      "cell_type": "markdown",
      "metadata": {
        "id": "a_7QvtgLio8l"
      },
      "source": [
        "### 2. Assumptions\r\n",
        "\r\n",
        "* Constant volume\r\n",
        "\r\n",
        "* Constant temperature\r\n",
        "\r\n",
        "* Kinetic parameters constant\r\n",
        "\r\n",
        "* Homogenious concentration in the bioreactor "
      ]
    },
    {
      "cell_type": "markdown",
      "metadata": {
        "id": "WLDJATwni2kJ"
      },
      "source": [
        "### 3. Process scheme "
      ]
    },
    {
      "cell_type": "markdown",
      "metadata": {
        "id": "0HUeoNyxjPvS"
      },
      "source": [
        "### 4. Analysis "
      ]
    },
    {
      "cell_type": "markdown",
      "metadata": {
        "id": "0CjG0MVSjSsH"
      },
      "source": [
        "#### Establish the model \r\n",
        "Specie balance for X\r\n",
        "\r\n",
        "$$\r\n",
        "\\frac{d(VX)}{dt} = r_g V\r\n",
        "$$\r\n",
        "\r\n",
        "$$\r\n",
        "\\frac{dX}{dt} = \\mu_{max} \\frac{S}{K_s + S} X \\tag{1}\r\n",
        "$$\r\n",
        "\r\n",
        "Specie balance for S\r\n",
        "\r\n",
        "$$\r\n",
        "\\frac{d(VS)}{dt} = - r_s \r\n",
        "$$\r\n",
        "\r\n",
        "$$\r\n",
        "\\frac{dS}{dt} = - \\frac{1}{Y_{X/S}} \\mu_{max} \\frac{S}{K_s + S} X  \\tag{2}\r\n",
        "$$\r\n",
        "\r\n",
        "Specie balance for P\r\n",
        "\r\n",
        "$$\r\n",
        "\\frac{d(VP)}{dt} = r_p V\r\n",
        "$$\r\n",
        "\r\n",
        "$$\r\n",
        "\\frac{dP}{dt} = Y_{P/X} \\mu_{max}\\frac{S}{K_s + S} X \\tag{3}\r\n",
        "$$"
      ]
    },
    {
      "cell_type": "markdown",
      "metadata": {
        "id": "a7aFPkAZku8w"
      },
      "source": [
        "In this case, there is no steady state conditions different from the trivial ones "
      ]
    },
    {
      "cell_type": "markdown",
      "metadata": {
        "id": "RsBn6Rb7lEBw"
      },
      "source": [
        "#### Degrees of freedon analysis \r\n",
        "\r\n",
        "state variables: X, S, P (3)\r\n",
        "\r\n",
        "equations: 3 DE (3)\r\n",
        "\r\n",
        "degrees of freedon: 3 - 3 = 0\r\n",
        "\r\n",
        "inputs: there are no inputs\r\n",
        "\r\n",
        "parameters: mu_max, Ks, Yxs, Ypx"
      ]
    },
    {
      "cell_type": "markdown",
      "metadata": {
        "id": "_4hW66LZlY_L"
      },
      "source": [
        "#### Simulation "
      ]
    },
    {
      "cell_type": "code",
      "metadata": {
        "id": "eYI-g_q7hVxA"
      },
      "source": [
        "# import libraries \r\n",
        "import numpy as np \r\n",
        "import matplotlib.pyplot as plt \r\n",
        "from scipy.integrate import odeint "
      ],
      "execution_count": 1,
      "outputs": []
    },
    {
      "cell_type": "code",
      "metadata": {
        "id": "b2oQIRl6ljBJ"
      },
      "source": [
        "# write the model \r\n",
        "def bioreactor(state,t,parms):\r\n",
        "\r\n",
        "    # state variables\r\n",
        "    x = state[0]\r\n",
        "    s = state[1]\r\n",
        "    p = state[2]\r\n",
        "\r\n",
        "    # parameters \r\n",
        "    mu_max = parms[0]\r\n",
        "    ks = parms[1]\r\n",
        "    Yxs = parms[2]\r\n",
        "    Ypx = parms[3]\r\n",
        "\r\n",
        "    # growth rate \r\n",
        "    rg = mu_max*s/(ks+s)*x\r\n",
        "\r\n",
        "    # specie balance for X\r\n",
        "    dxdt = rg \r\n",
        "\r\n",
        "    # specie balance for S\r\n",
        "    dsdt = -1/Yxs*rg\r\n",
        "\r\n",
        "    # specie balance for P\r\n",
        "    dpdt = Ypx*rg\r\n",
        "\r\n",
        "    return [dxdt, dsdt, dpdt]"
      ],
      "execution_count": 4,
      "outputs": []
    },
    {
      "cell_type": "code",
      "metadata": {
        "id": "XGuVtOt0mZ8Q"
      },
      "source": [
        "# establish parameters\r\n",
        "# parameters \r\n",
        "mu_max = 0.20\r\n",
        "ks = 1.0\r\n",
        "Yxs = 0.5\r\n",
        "Ypx = 0.2\r\n",
        "parms = [mu_max, ks, Yxs, Ypx]"
      ],
      "execution_count": 5,
      "outputs": []
    },
    {
      "cell_type": "code",
      "metadata": {
        "id": "3pTAFCR-mn5E"
      },
      "source": [
        "# establish initial conditions \r\n",
        "x = 0.05\r\n",
        "s = 10\r\n",
        "p = 0\r\n",
        "state = [x, s, p]"
      ],
      "execution_count": 6,
      "outputs": []
    },
    {
      "cell_type": "code",
      "metadata": {
        "id": "ngcrWmPmm-vZ"
      },
      "source": [
        "# set integration time \r\n",
        "time = np.linspace(0,40,100)"
      ],
      "execution_count": 11,
      "outputs": []
    },
    {
      "cell_type": "code",
      "metadata": {
        "id": "L_bxpORvnEX2"
      },
      "source": [
        "# solve ODEs\r\n",
        "out = odeint(bioreactor,state,time, args=(parms,))"
      ],
      "execution_count": 12,
      "outputs": []
    },
    {
      "cell_type": "code",
      "metadata": {
        "id": "Ra0eItp5nLQG"
      },
      "source": [
        "x = out[:,0]\r\n",
        "s = out[:,1]\r\n",
        "p = out[:,2]\r\n",
        "s_obj = np.ones(len(time))"
      ],
      "execution_count": 16,
      "outputs": []
    },
    {
      "cell_type": "code",
      "metadata": {
        "colab": {
          "base_uri": "https://localhost:8080/",
          "height": 282
        },
        "id": "kYZ-5VtknQvi",
        "outputId": "be99ccfd-cdaa-4338-a73b-be0a5b7db33a"
      },
      "source": [
        "plt.plot(time,x,time,s,time,p,time,s_obj)\r\n",
        "plt.legend([\"X\",\"S\",\"P\"])"
      ],
      "execution_count": 18,
      "outputs": [
        {
          "output_type": "execute_result",
          "data": {
            "text/plain": [
              "<matplotlib.legend.Legend at 0x7f3fd48499b0>"
            ]
          },
          "metadata": {
            "tags": []
          },
          "execution_count": 18
        },
        {
          "output_type": "display_data",
          "data": {
            "image/png": "[encoded data removed]",
            "text/plain": [
              "<Figure size 432x288 with 1 Axes>"
            ]
          },
          "metadata": {
            "tags": [],
            "needs_background": "light"
          }
        }
      ]
    },
    {
      "cell_type": "markdown",
      "metadata": {
        "id": "ZSEocPWPntWI"
      },
      "source": [
        "it takes around 26 hours to consume 90% of the substrate "
      ]
    },
    {
      "cell_type": "code",
      "metadata": {
        "colab": {
          "base_uri": "https://localhost:8080/"
        },
        "id": "el09Ve18nVcM",
        "outputId": "dc4b71f2-0925-49e5-8ae1-1f9f9d4cc40f"
      },
      "source": [
        ""
      ],
      "execution_count": 15,
      "outputs": [
        {
          "output_type": "execute_result",
          "data": {
            "text/plain": [
              "1.0"
            ]
          },
          "metadata": {
            "tags": []
          },
          "execution_count": 15
        }
      ]
    },
    {
      "cell_type": "code",
      "metadata": {
        "id": "y-pg9-oqndsm"
      },
      "source": [
        ""
      ],
      "execution_count": null,
      "outputs": []
    }
  ]
}